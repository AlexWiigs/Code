{
 "cells": [
  {
   "cell_type": "markdown",
   "metadata": {},
   "source": [
    "# Chapter 10"
   ]
  },
  {
   "cell_type": "markdown",
   "metadata": {},
   "source": [
    "**Question 10.15** Use diabetes data of Table 3.5."
   ]
  },
  {
   "cell_type": "code",
   "execution_count": 183,
   "metadata": {
    "vscode": {
     "languageId": "r"
    }
   },
   "outputs": [
    {
     "data": {
      "text/html": [
       "<table class=\"dataframe\">\n",
       "<caption>A matrix: 5 × 46 of type dbl</caption>\n",
       "<tbody>\n",
       "\t<tr><th scope=row>y1</th><td>  0.81</td><td>  0.95</td><td>  0.94</td><td>  1.04</td><td>  1</td><td>  0.76</td><td>  0.91</td><td>  1.1</td><td>  0.99</td><td>  0.78</td><td>⋯</td><td>  1.17</td><td>  0.85</td><td>  0.97</td><td>  1</td><td>  1</td><td>  0.89</td><td>  0.98</td><td>  0.78</td><td>  0.74</td><td>  0.91</td></tr>\n",
       "\t<tr><th scope=row>y2</th><td> 80.00</td><td> 97.00</td><td>105.00</td><td> 90.00</td><td> 90</td><td> 86.00</td><td>100.00</td><td> 85.0</td><td> 97.00</td><td> 97.00</td><td>⋯</td><td>100.00</td><td> 78.00</td><td>106.00</td><td> 98</td><td>102</td><td> 90.00</td><td> 94.00</td><td> 80.00</td><td> 93.00</td><td> 86.00</td></tr>\n",
       "\t<tr><th scope=row>x1</th><td>356.00</td><td>289.00</td><td>319.00</td><td>356.00</td><td>323</td><td>381.00</td><td>350.00</td><td>301.0</td><td>379.00</td><td>296.00</td><td>⋯</td><td>367.00</td><td>335.00</td><td>396.00</td><td>277</td><td>378</td><td>360.00</td><td>291.00</td><td>269.00</td><td>318.00</td><td>328.00</td></tr>\n",
       "\t<tr><th scope=row>x2</th><td>124.00</td><td>117.00</td><td>143.00</td><td>199.00</td><td>240</td><td>157.00</td><td>221.00</td><td>186.0</td><td>142.00</td><td>131.00</td><td>⋯</td><td>182.00</td><td>241.00</td><td>128.00</td><td>222</td><td>165</td><td>282.00</td><td> 94.00</td><td>121.00</td><td> 73.00</td><td>106.00</td></tr>\n",
       "\t<tr><th scope=row>x3</th><td> 55.00</td><td> 76.00</td><td>105.00</td><td>108.00</td><td>143</td><td>165.00</td><td>119.00</td><td>105.0</td><td> 98.00</td><td> 94.00</td><td>⋯</td><td> 54.00</td><td>175.00</td><td> 80.00</td><td>186</td><td>117</td><td>160.00</td><td> 71.00</td><td> 29.00</td><td> 42.00</td><td> 56.00</td></tr>\n",
       "</tbody>\n",
       "</table>\n"
      ],
      "text/latex": [
       "A matrix: 5 × 46 of type dbl\n",
       "\\begin{tabular}{r|lllllllllllllllllllll}\n",
       "\ty1 &   0.81 &   0.95 &   0.94 &   1.04 &   1 &   0.76 &   0.91 &   1.1 &   0.99 &   0.78 & ⋯ &   1.17 &   0.85 &   0.97 &   1 &   1 &   0.89 &   0.98 &   0.78 &   0.74 &   0.91\\\\\n",
       "\ty2 &  80.00 &  97.00 & 105.00 &  90.00 &  90 &  86.00 & 100.00 &  85.0 &  97.00 &  97.00 & ⋯ & 100.00 &  78.00 & 106.00 &  98 & 102 &  90.00 &  94.00 &  80.00 &  93.00 &  86.00\\\\\n",
       "\tx1 & 356.00 & 289.00 & 319.00 & 356.00 & 323 & 381.00 & 350.00 & 301.0 & 379.00 & 296.00 & ⋯ & 367.00 & 335.00 & 396.00 & 277 & 378 & 360.00 & 291.00 & 269.00 & 318.00 & 328.00\\\\\n",
       "\tx2 & 124.00 & 117.00 & 143.00 & 199.00 & 240 & 157.00 & 221.00 & 186.0 & 142.00 & 131.00 & ⋯ & 182.00 & 241.00 & 128.00 & 222 & 165 & 282.00 &  94.00 & 121.00 &  73.00 & 106.00\\\\\n",
       "\tx3 &  55.00 &  76.00 & 105.00 & 108.00 & 143 & 165.00 & 119.00 & 105.0 &  98.00 &  94.00 & ⋯ &  54.00 & 175.00 &  80.00 & 186 & 117 & 160.00 &  71.00 &  29.00 &  42.00 &  56.00\\\\\n",
       "\\end{tabular}\n"
      ],
      "text/markdown": [
       "\n",
       "A matrix: 5 × 46 of type dbl\n",
       "\n",
       "| y1 |   0.81 |   0.95 |   0.94 |   1.04 |   1 |   0.76 |   0.91 |   1.1 |   0.99 |   0.78 | ⋯ |   1.17 |   0.85 |   0.97 |   1 |   1 |   0.89 |   0.98 |   0.78 |   0.74 |   0.91 |\n",
       "| y2 |  80.00 |  97.00 | 105.00 |  90.00 |  90 |  86.00 | 100.00 |  85.0 |  97.00 |  97.00 | ⋯ | 100.00 |  78.00 | 106.00 |  98 | 102 |  90.00 |  94.00 |  80.00 |  93.00 |  86.00 |\n",
       "| x1 | 356.00 | 289.00 | 319.00 | 356.00 | 323 | 381.00 | 350.00 | 301.0 | 379.00 | 296.00 | ⋯ | 367.00 | 335.00 | 396.00 | 277 | 378 | 360.00 | 291.00 | 269.00 | 318.00 | 328.00 |\n",
       "| x2 | 124.00 | 117.00 | 143.00 | 199.00 | 240 | 157.00 | 221.00 | 186.0 | 142.00 | 131.00 | ⋯ | 182.00 | 241.00 | 128.00 | 222 | 165 | 282.00 |  94.00 | 121.00 |  73.00 | 106.00 |\n",
       "| x3 |  55.00 |  76.00 | 105.00 | 108.00 | 143 | 165.00 | 119.00 | 105.0 |  98.00 |  94.00 | ⋯ |  54.00 | 175.00 |  80.00 | 186 | 117 | 160.00 |  71.00 |  29.00 |  42.00 |  56.00 |\n",
       "\n"
      ],
      "text/plain": [
       "   [,1]   [,2]   [,3]   [,4]   [,5] [,6]   [,7]   [,8]  [,9]   [,10]  [,11]\n",
       "y1   0.81   0.95   0.94   1.04   1    0.76   0.91   1.1   0.99   0.78 ⋯    \n",
       "y2  80.00  97.00 105.00  90.00  90   86.00 100.00  85.0  97.00  97.00 ⋯    \n",
       "x1 356.00 289.00 319.00 356.00 323  381.00 350.00 301.0 379.00 296.00 ⋯    \n",
       "x2 124.00 117.00 143.00 199.00 240  157.00 221.00 186.0 142.00 131.00 ⋯    \n",
       "x3  55.00  76.00 105.00 108.00 143  165.00 119.00 105.0  98.00  94.00 ⋯    \n",
       "   [,12]  [,13]  [,14]  [,15] [,16] [,17]  [,18]  [,19]  [,20]  [,21] \n",
       "y1   1.17   0.85   0.97   1     1     0.89   0.98   0.78   0.74   0.91\n",
       "y2 100.00  78.00 106.00  98   102    90.00  94.00  80.00  93.00  86.00\n",
       "x1 367.00 335.00 396.00 277   378   360.00 291.00 269.00 318.00 328.00\n",
       "x2 182.00 241.00 128.00 222   165   282.00  94.00 121.00  73.00 106.00\n",
       "x3  54.00 175.00  80.00 186   117   160.00  71.00  29.00  42.00  56.00"
      ]
     },
     "metadata": {},
     "output_type": "display_data"
    }
   ],
   "source": [
    "library(dplyr)\n",
    "data <- read.table(file = \"/Users/alexwiigs/Documents/Code/STAT 553 Textbook/T3_5_DIABETES.DAT\")\n",
    "data <- data[, -1]\n",
    "colnames(data) <- c(\"y1\",\"y2\",\"x1\",\"x2\",\"x3\")\n",
    "t(data)"
   ]
  },
  {
   "cell_type": "code",
   "execution_count": 39,
   "metadata": {
    "vscode": {
     "languageId": "r"
    }
   },
   "outputs": [
    {
     "data": {
      "text/html": [
       "<table class=\"dataframe\">\n",
       "<caption>A matrix: 1 × 3 of type dbl</caption>\n",
       "<thead>\n",
       "\t<tr><th scope=col>n</th><th scope=col>p</th><th scope=col>q</th></tr>\n",
       "</thead>\n",
       "<tbody>\n",
       "\t<tr><td>46</td><td>2</td><td>3</td></tr>\n",
       "</tbody>\n",
       "</table>\n"
      ],
      "text/latex": [
       "A matrix: 1 × 3 of type dbl\n",
       "\\begin{tabular}{lll}\n",
       " n & p & q\\\\\n",
       "\\hline\n",
       "\t 46 & 2 & 3\\\\\n",
       "\\end{tabular}\n"
      ],
      "text/markdown": [
       "\n",
       "A matrix: 1 × 3 of type dbl\n",
       "\n",
       "| n | p | q |\n",
       "|---|---|---|\n",
       "| 46 | 2 | 3 |\n",
       "\n"
      ],
      "text/plain": [
       "     n  p q\n",
       "[1,] 46 2 3"
      ]
     },
     "metadata": {},
     "output_type": "display_data"
    }
   ],
   "source": [
    "info <- as.matrix(c(46,2,3))\n",
    "rownames(info) <- c(\"n\",\"p\",\"q\")\n",
    "t(info)"
   ]
  },
  {
   "cell_type": "markdown",
   "metadata": {},
   "source": [
    "**a)** Find the least squares estimate $\\hat{\\textbf{B}}$ for the regression of $(y_1,y_2)$ on $(x_1,x_2,x_3)$."
   ]
  },
  {
   "cell_type": "markdown",
   "metadata": {},
   "source": [
    "First we must create the $\\textbf{X}$ matrix and $\\textbf{y}$ vector."
   ]
  },
  {
   "cell_type": "code",
   "execution_count": 192,
   "metadata": {
    "vscode": {
     "languageId": "r"
    }
   },
   "outputs": [
    {
     "data": {
      "text/html": [
       "<style>\n",
       ".list-inline {list-style: none; margin:0; padding: 0}\n",
       ".list-inline>li {display: inline-block}\n",
       ".list-inline>li:not(:last-child)::after {content: \"\\00b7\"; padding: 0 .5ex}\n",
       "</style>\n",
       "<ol class=list-inline><li>92</li><li>8</li></ol>\n"
      ],
      "text/latex": [
       "\\begin{enumerate*}\n",
       "\\item 92\n",
       "\\item 8\n",
       "\\end{enumerate*}\n"
      ],
      "text/markdown": [
       "1. 92\n",
       "2. 8\n",
       "\n",
       "\n"
      ],
      "text/plain": [
       "[1] 92  8"
      ]
     },
     "metadata": {},
     "output_type": "display_data"
    }
   ],
   "source": [
    "# X matrix\n",
    "Xblock <- function(i) {\n",
    "    row1 <- as.list( unname( cbind( matrix(1), data[i, 3:5], matrix(0, ncol = info[\"q\",] + 1) ) ) )\n",
    "    row2 <- as.list( unname(cbind( matrix(0, ncol = (q + 1) ), matrix(1), data[i, 3:5] ) ))\n",
    "    return(rbind(row1,row2))}\n",
    "\n",
    "X <- Xblock(1)\n",
    "for (i in 2:info[\"n\",]) {X <- unname( rbind(X, Xblock(i) ) ) }\n",
    "dim(X)"
   ]
  },
  {
   "cell_type": "code",
   "execution_count": 181,
   "metadata": {
    "vscode": {
     "languageId": "r"
    }
   },
   "outputs": [
    {
     "data": {
      "text/html": [
       "<style>\n",
       ".list-inline {list-style: none; margin:0; padding: 0}\n",
       ".list-inline>li {display: inline-block}\n",
       ".list-inline>li:not(:last-child)::after {content: \"\\00b7\"; padding: 0 .5ex}\n",
       "</style>\n",
       "<ol class=list-inline><li>92</li><li>1</li></ol>\n"
      ],
      "text/latex": [
       "\\begin{enumerate*}\n",
       "\\item 92\n",
       "\\item 1\n",
       "\\end{enumerate*}\n"
      ],
      "text/markdown": [
       "1. 92\n",
       "2. 1\n",
       "\n",
       "\n"
      ],
      "text/plain": [
       "[1] 92  1"
      ]
     },
     "metadata": {},
     "output_type": "display_data"
    }
   ],
   "source": [
    "# y vector\n",
    "yblock <- function(i) {block = rbind(data[i,\"y1\"],data[i,\"y2\"])}\n",
    "\n",
    "y <- yblock(1)\n",
    "for (i in 2:info[\"n\",]) { y <- rbind(y, yblock(i)) }\n",
    "dim(y)\n"
   ]
  },
  {
   "cell_type": "code",
   "execution_count": 191,
   "metadata": {
    "vscode": {
     "languageId": "r"
    }
   },
   "outputs": [
    {
     "ename": "ERROR",
     "evalue": "Error in t(X) %*% X: requires numeric/complex matrix/vector arguments\n",
     "output_type": "error",
     "traceback": [
      "Error in t(X) %*% X: requires numeric/complex matrix/vector arguments\nTraceback:\n",
      "1. solve(t(X) %*% X)"
     ]
    }
   ],
   "source": [
    "B <- solve( t(X) %*% X ) %*% t(X) %*% y\n",
    "B"
   ]
  },
  {
   "cell_type": "code",
   "execution_count": 185,
   "metadata": {
    "vscode": {
     "languageId": "r"
    }
   },
   "outputs": [
    {
     "ename": "ERROR",
     "evalue": "Error in t(X) %*% X: requires numeric/complex matrix/vector arguments\n",
     "output_type": "error",
     "traceback": [
      "Error in t(X) %*% X: requires numeric/complex matrix/vector arguments\nTraceback:\n"
     ]
    }
   ],
   "source": [
    "t(X) %*% X"
   ]
  },
  {
   "cell_type": "code",
   "execution_count": null,
   "metadata": {
    "vscode": {
     "languageId": "r"
    }
   },
   "outputs": [],
   "source": []
  }
 ],
 "metadata": {
  "kernelspec": {
   "display_name": "R",
   "language": "R",
   "name": "ir"
  },
  "language_info": {
   "codemirror_mode": "r",
   "file_extension": ".r",
   "mimetype": "text/x-r-source",
   "name": "R",
   "pygments_lexer": "r",
   "version": "4.3.1"
  }
 },
 "nbformat": 4,
 "nbformat_minor": 2
}
