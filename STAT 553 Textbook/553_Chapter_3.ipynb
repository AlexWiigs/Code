{
 "cells": [
  {
   "cell_type": "markdown",
   "metadata": {},
   "source": [
    "**Question 3.10**"
   ]
  },
  {
   "cell_type": "code",
   "execution_count": 5,
   "metadata": {
    "vscode": {
     "languageId": "r"
    }
   },
   "outputs": [
    {
     "data": {
      "text/html": [
       "<table class=\"dataframe\">\n",
       "<caption>A matrix: 10 × 3 of type dbl</caption>\n",
       "<thead>\n",
       "\t<tr><th scope=col>V2</th><th scope=col>V3</th><th scope=col>V4</th></tr>\n",
       "</thead>\n",
       "<tbody>\n",
       "\t<tr><td>35</td><td> 3.5</td><td>2.80</td></tr>\n",
       "\t<tr><td>35</td><td> 4.9</td><td>2.70</td></tr>\n",
       "\t<tr><td>40</td><td>30.0</td><td>4.38</td></tr>\n",
       "\t<tr><td>10</td><td> 2.8</td><td>3.21</td></tr>\n",
       "\t<tr><td> 6</td><td> 2.7</td><td>2.73</td></tr>\n",
       "\t<tr><td>20</td><td> 2.8</td><td>2.81</td></tr>\n",
       "\t<tr><td>35</td><td> 4.6</td><td>2.88</td></tr>\n",
       "\t<tr><td>35</td><td>10.9</td><td>2.90</td></tr>\n",
       "\t<tr><td>35</td><td> 8.0</td><td>3.28</td></tr>\n",
       "\t<tr><td>30</td><td> 1.6</td><td>3.20</td></tr>\n",
       "</tbody>\n",
       "</table>\n"
      ],
      "text/latex": [
       "A matrix: 10 × 3 of type dbl\n",
       "\\begin{tabular}{lll}\n",
       " V2 & V3 & V4\\\\\n",
       "\\hline\n",
       "\t 35 &  3.5 & 2.80\\\\\n",
       "\t 35 &  4.9 & 2.70\\\\\n",
       "\t 40 & 30.0 & 4.38\\\\\n",
       "\t 10 &  2.8 & 3.21\\\\\n",
       "\t  6 &  2.7 & 2.73\\\\\n",
       "\t 20 &  2.8 & 2.81\\\\\n",
       "\t 35 &  4.6 & 2.88\\\\\n",
       "\t 35 & 10.9 & 2.90\\\\\n",
       "\t 35 &  8.0 & 3.28\\\\\n",
       "\t 30 &  1.6 & 3.20\\\\\n",
       "\\end{tabular}\n"
      ],
      "text/markdown": [
       "\n",
       "A matrix: 10 × 3 of type dbl\n",
       "\n",
       "| V2 | V3 | V4 |\n",
       "|---|---|---|\n",
       "| 35 |  3.5 | 2.80 |\n",
       "| 35 |  4.9 | 2.70 |\n",
       "| 40 | 30.0 | 4.38 |\n",
       "| 10 |  2.8 | 3.21 |\n",
       "|  6 |  2.7 | 2.73 |\n",
       "| 20 |  2.8 | 2.81 |\n",
       "| 35 |  4.6 | 2.88 |\n",
       "| 35 | 10.9 | 2.90 |\n",
       "| 35 |  8.0 | 3.28 |\n",
       "| 30 |  1.6 | 3.20 |\n",
       "\n"
      ],
      "text/plain": [
       "      V2 V3   V4  \n",
       " [1,] 35  3.5 2.80\n",
       " [2,] 35  4.9 2.70\n",
       " [3,] 40 30.0 4.38\n",
       " [4,] 10  2.8 3.21\n",
       " [5,]  6  2.7 2.73\n",
       " [6,] 20  2.8 2.81\n",
       " [7,] 35  4.6 2.88\n",
       " [8,] 35 10.9 2.90\n",
       " [9,] 35  8.0 3.28\n",
       "[10,] 30  1.6 3.20"
      ]
     },
     "metadata": {},
     "output_type": "display_data"
    }
   ],
   "source": [
    "library(tidyverse)\n",
    "data <- read.table(\"/Users/alexwiigs/Documents/Code/STAT 553 Textbook/T3_4_CALCIUM.DAT\")\n",
    "data <- as.matrix(data[,-1])\n",
    "data"
   ]
  },
  {
   "cell_type": "code",
   "execution_count": 6,
   "metadata": {
    "vscode": {
     "languageId": "r"
    }
   },
   "outputs": [
    {
     "ename": "ERROR",
     "evalue": "Error in formula.default(object, env = baseenv()): invalid formula\n",
     "output_type": "error",
     "traceback": [
      "Error in formula.default(object, env = baseenv()): invalid formula\nTraceback:\n",
      "1. lm(data, V2 ~ V3 + V4)",
      "2. eval(mf, parent.frame())",
      "3. eval(mf, parent.frame())",
      "4. stats::model.frame(formula = data, data = V2 ~ V3 + V4, drop.unused.levels = TRUE)",
      "5. model.frame.default(formula = data, data = V2 ~ V3 + V4, drop.unused.levels = TRUE)",
      "6. as.formula(formula)",
      "7. formula(object, env = baseenv())",
      "8. formula.default(object, env = baseenv())",
      "9. stop(\"invalid formula\")"
     ]
    }
   ],
   "source": [
    "linear_model <- lm(data, V2 ~ V3 + V4)\n",
    "linear_model"
   ]
  },
  {
   "cell_type": "markdown",
   "metadata": {},
   "source": [
    "a)"
   ]
  },
  {
   "cell_type": "code",
   "execution_count": 3,
   "metadata": {
    "vscode": {
     "languageId": "r"
    }
   },
   "outputs": [
    {
     "data": {
      "text/html": [
       "<table class=\"dataframe\">\n",
       "<caption>A matrix: 3 × 3 of type dbl</caption>\n",
       "<thead>\n",
       "\t<tr><th></th><th scope=col>V2</th><th scope=col>V3</th><th scope=col>V4</th></tr>\n",
       "</thead>\n",
       "<tbody>\n",
       "\t<tr><th scope=row>V2</th><td>140.544444</td><td>49.680000</td><td>1.9412222</td></tr>\n",
       "\t<tr><th scope=row>V3</th><td> 49.680000</td><td>72.248444</td><td>3.6760889</td></tr>\n",
       "\t<tr><th scope=row>V4</th><td>  1.941222</td><td> 3.676089</td><td>0.2501211</td></tr>\n",
       "</tbody>\n",
       "</table>\n"
      ],
      "text/latex": [
       "A matrix: 3 × 3 of type dbl\n",
       "\\begin{tabular}{r|lll}\n",
       "  & V2 & V3 & V4\\\\\n",
       "\\hline\n",
       "\tV2 & 140.544444 & 49.680000 & 1.9412222\\\\\n",
       "\tV3 &  49.680000 & 72.248444 & 3.6760889\\\\\n",
       "\tV4 &   1.941222 &  3.676089 & 0.2501211\\\\\n",
       "\\end{tabular}\n"
      ],
      "text/markdown": [
       "\n",
       "A matrix: 3 × 3 of type dbl\n",
       "\n",
       "| <!--/--> | V2 | V3 | V4 |\n",
       "|---|---|---|---|\n",
       "| V2 | 140.544444 | 49.680000 | 1.9412222 |\n",
       "| V3 |  49.680000 | 72.248444 | 3.6760889 |\n",
       "| V4 |   1.941222 |  3.676089 | 0.2501211 |\n",
       "\n"
      ],
      "text/plain": [
       "   V2         V3        V4       \n",
       "V2 140.544444 49.680000 1.9412222\n",
       "V3  49.680000 72.248444 3.6760889\n",
       "V4   1.941222  3.676089 0.2501211"
      ]
     },
     "metadata": {},
     "output_type": "display_data"
    }
   ],
   "source": [
    "S_calcium <- (t(data) %*% data - t(data) %*% matrix(1, nrow = 10, ncol = 10) %*% data/ 10) / 9\n",
    "S_calcium"
   ]
  },
  {
   "cell_type": "markdown",
   "metadata": {},
   "source": [
    "b)"
   ]
  },
  {
   "cell_type": "code",
   "execution_count": 4,
   "metadata": {
    "vscode": {
     "languageId": "r"
    }
   },
   "outputs": [
    {
     "ename": "ERROR",
     "evalue": "Error in eval(expr, envir, enclos): object 'S' not found\n",
     "output_type": "error",
     "traceback": [
      "Error in eval(expr, envir, enclos): object 'S' not found\nTraceback:\n"
     ]
    }
   ],
   "source": [
    "# using 3.34 and 3.35\n",
    "R_calcium <- matrix(nrow = 3, ncol = 3)\n",
    "for (i in 1:3) {\n",
    "    for (j in 1:3) {\n",
    "        R_calcium[i,j] = S[i,j] / sqrt( S_calcium[i,i] * S_calcium[j,j] )\n",
    "    }\n",
    "}\n",
    "R_calcium"
   ]
  },
  {
   "cell_type": "code",
   "execution_count": null,
   "metadata": {
    "vscode": {
     "languageId": "r"
    }
   },
   "outputs": [
    {
     "data": {
      "text/html": [
       "<table class=\"dataframe\">\n",
       "<caption>A matrix: 3 × 3 of type dbl</caption>\n",
       "<tbody>\n",
       "\t<tr><td>1.0000000</td><td>0.4930154</td><td>0.327411</td></tr>\n",
       "\t<tr><td>0.4930154</td><td>1.0000000</td><td>0.864762</td></tr>\n",
       "\t<tr><td>0.3274110</td><td>0.8647620</td><td>1.000000</td></tr>\n",
       "</tbody>\n",
       "</table>\n"
      ],
      "text/latex": [
       "A matrix: 3 × 3 of type dbl\n",
       "\\begin{tabular}{lll}\n",
       "\t 1.0000000 & 0.4930154 & 0.327411\\\\\n",
       "\t 0.4930154 & 1.0000000 & 0.864762\\\\\n",
       "\t 0.3274110 & 0.8647620 & 1.000000\\\\\n",
       "\\end{tabular}\n"
      ],
      "text/markdown": [
       "\n",
       "A matrix: 3 × 3 of type dbl\n",
       "\n",
       "| 1.0000000 | 0.4930154 | 0.327411 |\n",
       "| 0.4930154 | 1.0000000 | 0.864762 |\n",
       "| 0.3274110 | 0.8647620 | 1.000000 |\n",
       "\n"
      ],
      "text/plain": [
       "     [,1]      [,2]      [,3]    \n",
       "[1,] 1.0000000 0.4930154 0.327411\n",
       "[2,] 0.4930154 1.0000000 0.864762\n",
       "[3,] 0.3274110 0.8647620 1.000000"
      ]
     },
     "metadata": {},
     "output_type": "display_data"
    }
   ],
   "source": [
    "# Using 3.37\n",
    "D_calcium <- diag(sqrt(diag(S_calcium)))\n",
    "R_calcium <- solve(D_calcium) %*% S_calcium %*% solve(D_calcium)\n",
    "R_calcium"
   ]
  },
  {
   "cell_type": "markdown",
   "metadata": {},
   "source": [
    "**Question 3.11**"
   ]
  },
  {
   "cell_type": "markdown",
   "metadata": {},
   "source": [
    "a)"
   ]
  },
  {
   "cell_type": "code",
   "execution_count": null,
   "metadata": {
    "vscode": {
     "languageId": "r"
    }
   },
   "outputs": [
    {
     "data": {
      "text/html": [
       "459.955545352526"
      ],
      "text/latex": [
       "459.955545352526"
      ],
      "text/markdown": [
       "459.955545352526"
      ],
      "text/plain": [
       "[1] 459.9555"
      ]
     },
     "metadata": {},
     "output_type": "display_data"
    }
   ],
   "source": [
    "det(S_calcium)"
   ]
  },
  {
   "cell_type": "markdown",
   "metadata": {},
   "source": [
    "b)"
   ]
  },
  {
   "cell_type": "code",
   "execution_count": null,
   "metadata": {
    "vscode": {
     "languageId": "r"
    }
   },
   "outputs": [
    {
     "data": {
      "text/html": [
       "213.04301"
      ],
      "text/latex": [
       "213.04301"
      ],
      "text/markdown": [
       "213.04301"
      ],
      "text/plain": [
       "[1] 213.043"
      ]
     },
     "metadata": {},
     "output_type": "display_data"
    }
   ],
   "source": [
    "sum(diag(S_calcium))"
   ]
  },
  {
   "cell_type": "markdown",
   "metadata": {},
   "source": [
    "**3.12**"
   ]
  },
  {
   "cell_type": "code",
   "execution_count": null,
   "metadata": {
    "vscode": {
     "languageId": "r"
    }
   },
   "outputs": [
    {
     "data": {
      "text/html": [
       "<table class=\"dataframe\">\n",
       "<caption>A matrix: 11 × 5 of type int</caption>\n",
       "<thead>\n",
       "\t<tr><th scope=col>V2</th><th scope=col>V3</th><th scope=col>V4</th><th scope=col>V5</th><th scope=col>V6</th></tr>\n",
       "</thead>\n",
       "<tbody>\n",
       "\t<tr><td>51</td><td>36</td><td>50</td><td>35</td><td>42</td></tr>\n",
       "\t<tr><td>27</td><td>20</td><td>26</td><td>17</td><td>27</td></tr>\n",
       "\t<tr><td>37</td><td>22</td><td>41</td><td>37</td><td>30</td></tr>\n",
       "\t<tr><td>42</td><td>36</td><td>32</td><td>34</td><td>27</td></tr>\n",
       "\t<tr><td>27</td><td>18</td><td>33</td><td>14</td><td>29</td></tr>\n",
       "\t<tr><td>43</td><td>32</td><td>43</td><td>35</td><td>40</td></tr>\n",
       "\t<tr><td>41</td><td>22</td><td>36</td><td>25</td><td>38</td></tr>\n",
       "\t<tr><td>38</td><td>21</td><td>31</td><td>20</td><td>16</td></tr>\n",
       "\t<tr><td>36</td><td>23</td><td>27</td><td>25</td><td>28</td></tr>\n",
       "\t<tr><td>26</td><td>31</td><td>31</td><td>32</td><td>36</td></tr>\n",
       "\t<tr><td>29</td><td>20</td><td>25</td><td>26</td><td>25</td></tr>\n",
       "</tbody>\n",
       "</table>\n"
      ],
      "text/latex": [
       "A matrix: 11 × 5 of type int\n",
       "\\begin{tabular}{lllll}\n",
       " V2 & V3 & V4 & V5 & V6\\\\\n",
       "\\hline\n",
       "\t 51 & 36 & 50 & 35 & 42\\\\\n",
       "\t 27 & 20 & 26 & 17 & 27\\\\\n",
       "\t 37 & 22 & 41 & 37 & 30\\\\\n",
       "\t 42 & 36 & 32 & 34 & 27\\\\\n",
       "\t 27 & 18 & 33 & 14 & 29\\\\\n",
       "\t 43 & 32 & 43 & 35 & 40\\\\\n",
       "\t 41 & 22 & 36 & 25 & 38\\\\\n",
       "\t 38 & 21 & 31 & 20 & 16\\\\\n",
       "\t 36 & 23 & 27 & 25 & 28\\\\\n",
       "\t 26 & 31 & 31 & 32 & 36\\\\\n",
       "\t 29 & 20 & 25 & 26 & 25\\\\\n",
       "\\end{tabular}\n"
      ],
      "text/markdown": [
       "\n",
       "A matrix: 11 × 5 of type int\n",
       "\n",
       "| V2 | V3 | V4 | V5 | V6 |\n",
       "|---|---|---|---|---|\n",
       "| 51 | 36 | 50 | 35 | 42 |\n",
       "| 27 | 20 | 26 | 17 | 27 |\n",
       "| 37 | 22 | 41 | 37 | 30 |\n",
       "| 42 | 36 | 32 | 34 | 27 |\n",
       "| 27 | 18 | 33 | 14 | 29 |\n",
       "| 43 | 32 | 43 | 35 | 40 |\n",
       "| 41 | 22 | 36 | 25 | 38 |\n",
       "| 38 | 21 | 31 | 20 | 16 |\n",
       "| 36 | 23 | 27 | 25 | 28 |\n",
       "| 26 | 31 | 31 | 32 | 36 |\n",
       "| 29 | 20 | 25 | 26 | 25 |\n",
       "\n"
      ],
      "text/plain": [
       "      V2 V3 V4 V5 V6\n",
       " [1,] 51 36 50 35 42\n",
       " [2,] 27 20 26 17 27\n",
       " [3,] 37 22 41 37 30\n",
       " [4,] 42 36 32 34 27\n",
       " [5,] 27 18 33 14 29\n",
       " [6,] 43 32 43 35 40\n",
       " [7,] 41 22 36 25 38\n",
       " [8,] 38 21 31 20 16\n",
       " [9,] 36 23 27 25 28\n",
       "[10,] 26 31 31 32 36\n",
       "[11,] 29 20 25 26 25"
      ]
     },
     "metadata": {},
     "output_type": "display_data"
    }
   ],
   "source": [
    "data2 <- read.table(\"/Users/alexwiigs/Documents/Code/STAT 553 Textbook/T3_6_PROBE.DAT\")\n",
    "data2 <- as.matrix(data2[,-1])\n",
    "data2"
   ]
  },
  {
   "cell_type": "code",
   "execution_count": null,
   "metadata": {
    "vscode": {
     "languageId": "r"
    }
   },
   "outputs": [
    {
     "data": {
      "text/html": [
       "<table class=\"dataframe\">\n",
       "<caption>A matrix: 5 × 5 of type dbl</caption>\n",
       "<thead>\n",
       "\t<tr><th></th><th scope=col>V2</th><th scope=col>V3</th><th scope=col>V4</th><th scope=col>V5</th><th scope=col>V6</th></tr>\n",
       "</thead>\n",
       "<tbody>\n",
       "\t<tr><th scope=row>V2</th><td>65.09091</td><td>33.64545</td><td>47.59091</td><td>36.77273</td><td>25.42727</td></tr>\n",
       "\t<tr><th scope=row>V3</th><td>33.64545</td><td>46.07273</td><td>28.94545</td><td>40.33636</td><td>28.36364</td></tr>\n",
       "\t<tr><th scope=row>V4</th><td>47.59091</td><td>28.94545</td><td>60.69091</td><td>37.37273</td><td>41.12727</td></tr>\n",
       "\t<tr><th scope=row>V5</th><td>36.77273</td><td>40.33636</td><td>37.37273</td><td>62.81818</td><td>31.68182</td></tr>\n",
       "\t<tr><th scope=row>V6</th><td>25.42727</td><td>28.36364</td><td>41.12727</td><td>31.68182</td><td>58.21818</td></tr>\n",
       "</tbody>\n",
       "</table>\n"
      ],
      "text/latex": [
       "A matrix: 5 × 5 of type dbl\n",
       "\\begin{tabular}{r|lllll}\n",
       "  & V2 & V3 & V4 & V5 & V6\\\\\n",
       "\\hline\n",
       "\tV2 & 65.09091 & 33.64545 & 47.59091 & 36.77273 & 25.42727\\\\\n",
       "\tV3 & 33.64545 & 46.07273 & 28.94545 & 40.33636 & 28.36364\\\\\n",
       "\tV4 & 47.59091 & 28.94545 & 60.69091 & 37.37273 & 41.12727\\\\\n",
       "\tV5 & 36.77273 & 40.33636 & 37.37273 & 62.81818 & 31.68182\\\\\n",
       "\tV6 & 25.42727 & 28.36364 & 41.12727 & 31.68182 & 58.21818\\\\\n",
       "\\end{tabular}\n"
      ],
      "text/markdown": [
       "\n",
       "A matrix: 5 × 5 of type dbl\n",
       "\n",
       "| <!--/--> | V2 | V3 | V4 | V5 | V6 |\n",
       "|---|---|---|---|---|---|\n",
       "| V2 | 65.09091 | 33.64545 | 47.59091 | 36.77273 | 25.42727 |\n",
       "| V3 | 33.64545 | 46.07273 | 28.94545 | 40.33636 | 28.36364 |\n",
       "| V4 | 47.59091 | 28.94545 | 60.69091 | 37.37273 | 41.12727 |\n",
       "| V5 | 36.77273 | 40.33636 | 37.37273 | 62.81818 | 31.68182 |\n",
       "| V6 | 25.42727 | 28.36364 | 41.12727 | 31.68182 | 58.21818 |\n",
       "\n"
      ],
      "text/plain": [
       "   V2       V3       V4       V5       V6      \n",
       "V2 65.09091 33.64545 47.59091 36.77273 25.42727\n",
       "V3 33.64545 46.07273 28.94545 40.33636 28.36364\n",
       "V4 47.59091 28.94545 60.69091 37.37273 41.12727\n",
       "V5 36.77273 40.33636 37.37273 62.81818 31.68182\n",
       "V6 25.42727 28.36364 41.12727 31.68182 58.21818"
      ]
     },
     "metadata": {},
     "output_type": "display_data"
    },
    {
     "data": {
      "text/html": [
       "27236585.6488727"
      ],
      "text/latex": [
       "27236585.6488727"
      ],
      "text/markdown": [
       "27236585.6488727"
      ],
      "text/plain": [
       "[1] 27236586"
      ]
     },
     "metadata": {},
     "output_type": "display_data"
    }
   ],
   "source": [
    "S_probe <- (t(data2) %*% data2 - t(data2) %*% matrix(1, nrow = 11, ncol = 11) %*% data2 / 11) / 10\n",
    "S_probe\n",
    "det(S_probe)"
   ]
  },
  {
   "cell_type": "markdown",
   "metadata": {},
   "source": [
    "b)"
   ]
  },
  {
   "cell_type": "code",
   "execution_count": null,
   "metadata": {
    "vscode": {
     "languageId": "r"
    }
   },
   "outputs": [
    {
     "data": {
      "text/html": [
       "292.890909090909"
      ],
      "text/latex": [
       "292.890909090909"
      ],
      "text/markdown": [
       "292.890909090909"
      ],
      "text/plain": [
       "[1] 292.8909"
      ]
     },
     "metadata": {},
     "output_type": "display_data"
    }
   ],
   "source": [
    "sum(diag(S_probe))"
   ]
  },
  {
   "cell_type": "markdown",
   "metadata": {},
   "source": [
    "**Question 3.13**"
   ]
  },
  {
   "cell_type": "code",
   "execution_count": null,
   "metadata": {
    "vscode": {
     "languageId": "r"
    }
   },
   "outputs": [
    {
     "data": {
      "text/html": [
       "<table class=\"dataframe\">\n",
       "<caption>A matrix: 5 × 5 of type dbl</caption>\n",
       "<tbody>\n",
       "\t<tr><td>1.0000000</td><td>0.6143902</td><td>0.7571850</td><td>0.5750730</td><td>0.4130573</td></tr>\n",
       "\t<tr><td>0.6143902</td><td>1.0000000</td><td>0.5473897</td><td>0.7497770</td><td>0.5476595</td></tr>\n",
       "\t<tr><td>0.7571850</td><td>0.5473897</td><td>1.0000000</td><td>0.6052716</td><td>0.6918927</td></tr>\n",
       "\t<tr><td>0.5750730</td><td>0.7497770</td><td>0.6052716</td><td>1.0000000</td><td>0.5238876</td></tr>\n",
       "\t<tr><td>0.4130573</td><td>0.5476595</td><td>0.6918927</td><td>0.5238876</td><td>1.0000000</td></tr>\n",
       "</tbody>\n",
       "</table>\n"
      ],
      "text/latex": [
       "A matrix: 5 × 5 of type dbl\n",
       "\\begin{tabular}{lllll}\n",
       "\t 1.0000000 & 0.6143902 & 0.7571850 & 0.5750730 & 0.4130573\\\\\n",
       "\t 0.6143902 & 1.0000000 & 0.5473897 & 0.7497770 & 0.5476595\\\\\n",
       "\t 0.7571850 & 0.5473897 & 1.0000000 & 0.6052716 & 0.6918927\\\\\n",
       "\t 0.5750730 & 0.7497770 & 0.6052716 & 1.0000000 & 0.5238876\\\\\n",
       "\t 0.4130573 & 0.5476595 & 0.6918927 & 0.5238876 & 1.0000000\\\\\n",
       "\\end{tabular}\n"
      ],
      "text/markdown": [
       "\n",
       "A matrix: 5 × 5 of type dbl\n",
       "\n",
       "| 1.0000000 | 0.6143902 | 0.7571850 | 0.5750730 | 0.4130573 |\n",
       "| 0.6143902 | 1.0000000 | 0.5473897 | 0.7497770 | 0.5476595 |\n",
       "| 0.7571850 | 0.5473897 | 1.0000000 | 0.6052716 | 0.6918927 |\n",
       "| 0.5750730 | 0.7497770 | 0.6052716 | 1.0000000 | 0.5238876 |\n",
       "| 0.4130573 | 0.5476595 | 0.6918927 | 0.5238876 | 1.0000000 |\n",
       "\n"
      ],
      "text/plain": [
       "     [,1]      [,2]      [,3]      [,4]      [,5]     \n",
       "[1,] 1.0000000 0.6143902 0.7571850 0.5750730 0.4130573\n",
       "[2,] 0.6143902 1.0000000 0.5473897 0.7497770 0.5476595\n",
       "[3,] 0.7571850 0.5473897 1.0000000 0.6052716 0.6918927\n",
       "[4,] 0.5750730 0.7497770 0.6052716 1.0000000 0.5238876\n",
       "[5,] 0.4130573 0.5476595 0.6918927 0.5238876 1.0000000"
      ]
     },
     "metadata": {},
     "output_type": "display_data"
    }
   ],
   "source": [
    "D_probe <- diag(sqrt(diag(S_probe)))\n",
    "R_probe <- solve(D_probe) %*% S_probe %*% solve(D_probe)\n",
    "R_probe"
   ]
  },
  {
   "cell_type": "markdown",
   "metadata": {},
   "source": [
    "**Question 3.14**"
   ]
  },
  {
   "cell_type": "markdown",
   "metadata": {},
   "source": [
    "a)"
   ]
  },
  {
   "cell_type": "code",
   "execution_count": null,
   "metadata": {
    "vscode": {
     "languageId": "r"
    }
   },
   "outputs": [
    {
     "data": {
      "text/html": [
       "83.298"
      ],
      "text/latex": [
       "83.298"
      ],
      "text/markdown": [
       "83.298"
      ],
      "text/plain": [
       "[1] 83.298"
      ]
     },
     "metadata": {},
     "output_type": "display_data"
    }
   ],
   "source": [
    "a <- matrix(c(3,-1,2), nrow = 3)\n",
    "z <-  t(a) %*% t(data)\n",
    "z_bar <- sum(z) / length(z)\n",
    "z_bar"
   ]
  },
  {
   "cell_type": "code",
   "execution_count": null,
   "metadata": {
    "vscode": {
     "languageId": "r"
    }
   },
   "outputs": [
    {
     "data": {
      "text/html": [
       "1048.65924"
      ],
      "text/latex": [
       "1048.65924"
      ],
      "text/markdown": [
       "1048.65924"
      ],
      "text/plain": [
       "[1] 1048.659"
      ]
     },
     "metadata": {},
     "output_type": "display_data"
    }
   ],
   "source": [
    "S_z = 0\n",
    "for (i in 1:10) { S_z = S_z + (z[i] - z_bar)^2}\n",
    "S_z <- S_z / (length(z) -1)\n",
    "S_z"
   ]
  },
  {
   "cell_type": "markdown",
   "metadata": {},
   "source": [
    "b)"
   ]
  },
  {
   "cell_type": "code",
   "execution_count": null,
   "metadata": {
    "vscode": {
     "languageId": "r"
    }
   },
   "outputs": [
    {
     "data": {
      "text/html": [
       "<table class=\"dataframe\">\n",
       "<caption>A matrix: 1 × 1 of type dbl</caption>\n",
       "<tbody>\n",
       "\t<tr><td>83.298</td></tr>\n",
       "</tbody>\n",
       "</table>\n"
      ],
      "text/latex": [
       "A matrix: 1 × 1 of type dbl\n",
       "\\begin{tabular}{l}\n",
       "\t 83.298\\\\\n",
       "\\end{tabular}\n"
      ],
      "text/markdown": [
       "\n",
       "A matrix: 1 × 1 of type dbl\n",
       "\n",
       "| 83.298 |\n",
       "\n"
      ],
      "text/plain": [
       "     [,1]  \n",
       "[1,] 83.298"
      ]
     },
     "metadata": {},
     "output_type": "display_data"
    }
   ],
   "source": [
    "z_bar <- t(a) %*% (colSums(data) / 10 ) \n",
    "z_bar"
   ]
  },
  {
   "cell_type": "code",
   "execution_count": null,
   "metadata": {
    "vscode": {
     "languageId": "r"
    }
   },
   "outputs": [
    {
     "data": {
      "text/html": [
       "<table class=\"dataframe\">\n",
       "<caption>A matrix: 1 × 1 of type dbl</caption>\n",
       "<tbody>\n",
       "\t<tr><td>1048.659</td></tr>\n",
       "</tbody>\n",
       "</table>\n"
      ],
      "text/latex": [
       "A matrix: 1 × 1 of type dbl\n",
       "\\begin{tabular}{l}\n",
       "\t 1048.659\\\\\n",
       "\\end{tabular}\n"
      ],
      "text/markdown": [
       "\n",
       "A matrix: 1 × 1 of type dbl\n",
       "\n",
       "| 1048.659 |\n",
       "\n"
      ],
      "text/plain": [
       "     [,1]    \n",
       "[1,] 1048.659"
      ]
     },
     "metadata": {},
     "output_type": "display_data"
    }
   ],
   "source": [
    "t(a) %*% S_calcium %*% a "
   ]
  },
  {
   "cell_type": "code",
   "execution_count": null,
   "metadata": {
    "vscode": {
     "languageId": "r"
    }
   },
   "outputs": [
    {
     "data": {
      "text/html": [
       "<table class=\"dataframe\">\n",
       "<caption>A matrix: 10 × 3 of type dbl</caption>\n",
       "<thead>\n",
       "\t<tr><th scope=col>V2</th><th scope=col>V3</th><th scope=col>V4</th></tr>\n",
       "</thead>\n",
       "<tbody>\n",
       "\t<tr><td>35</td><td> 3.5</td><td>2.80</td></tr>\n",
       "\t<tr><td>35</td><td> 4.9</td><td>2.70</td></tr>\n",
       "\t<tr><td>40</td><td>30.0</td><td>4.38</td></tr>\n",
       "\t<tr><td>10</td><td> 2.8</td><td>3.21</td></tr>\n",
       "\t<tr><td> 6</td><td> 2.7</td><td>2.73</td></tr>\n",
       "\t<tr><td>20</td><td> 2.8</td><td>2.81</td></tr>\n",
       "\t<tr><td>35</td><td> 4.6</td><td>2.88</td></tr>\n",
       "\t<tr><td>35</td><td>10.9</td><td>2.90</td></tr>\n",
       "\t<tr><td>35</td><td> 8.0</td><td>3.28</td></tr>\n",
       "\t<tr><td>30</td><td> 1.6</td><td>3.20</td></tr>\n",
       "</tbody>\n",
       "</table>\n"
      ],
      "text/latex": [
       "A matrix: 10 × 3 of type dbl\n",
       "\\begin{tabular}{lll}\n",
       " V2 & V3 & V4\\\\\n",
       "\\hline\n",
       "\t 35 &  3.5 & 2.80\\\\\n",
       "\t 35 &  4.9 & 2.70\\\\\n",
       "\t 40 & 30.0 & 4.38\\\\\n",
       "\t 10 &  2.8 & 3.21\\\\\n",
       "\t  6 &  2.7 & 2.73\\\\\n",
       "\t 20 &  2.8 & 2.81\\\\\n",
       "\t 35 &  4.6 & 2.88\\\\\n",
       "\t 35 & 10.9 & 2.90\\\\\n",
       "\t 35 &  8.0 & 3.28\\\\\n",
       "\t 30 &  1.6 & 3.20\\\\\n",
       "\\end{tabular}\n"
      ],
      "text/markdown": [
       "\n",
       "A matrix: 10 × 3 of type dbl\n",
       "\n",
       "| V2 | V3 | V4 |\n",
       "|---|---|---|\n",
       "| 35 |  3.5 | 2.80 |\n",
       "| 35 |  4.9 | 2.70 |\n",
       "| 40 | 30.0 | 4.38 |\n",
       "| 10 |  2.8 | 3.21 |\n",
       "|  6 |  2.7 | 2.73 |\n",
       "| 20 |  2.8 | 2.81 |\n",
       "| 35 |  4.6 | 2.88 |\n",
       "| 35 | 10.9 | 2.90 |\n",
       "| 35 |  8.0 | 3.28 |\n",
       "| 30 |  1.6 | 3.20 |\n",
       "\n"
      ],
      "text/plain": [
       "      V2 V3   V4  \n",
       " [1,] 35  3.5 2.80\n",
       " [2,] 35  4.9 2.70\n",
       " [3,] 40 30.0 4.38\n",
       " [4,] 10  2.8 3.21\n",
       " [5,]  6  2.7 2.73\n",
       " [6,] 20  2.8 2.81\n",
       " [7,] 35  4.6 2.88\n",
       " [8,] 35 10.9 2.90\n",
       " [9,] 35  8.0 3.28\n",
       "[10,] 30  1.6 3.20"
      ]
     },
     "metadata": {},
     "output_type": "display_data"
    }
   ],
   "source": [
    "data"
   ]
  },
  {
   "cell_type": "code",
   "execution_count": null,
   "metadata": {
    "vscode": {
     "languageId": "r"
    }
   },
   "outputs": [
    {
     "data": {
      "text/html": [
       "<table class=\"dataframe\">\n",
       "<caption>A matrix: 10 × 3 of type dbl</caption>\n",
       "<thead>\n",
       "\t<tr><th scope=col>V2</th><th scope=col>V3</th><th scope=col>V4</th></tr>\n",
       "</thead>\n",
       "<tbody>\n",
       "\t<tr><td> 6.900</td><td> 3.680</td><td> 0.289</td></tr>\n",
       "\t<tr><td>27.820</td><td> 1.811</td><td>25.400</td></tr>\n",
       "\t<tr><td>36.911</td><td> 1.900</td><td> 2.800</td></tr>\n",
       "\t<tr><td>18.100</td><td> 4.380</td><td> 0.121</td></tr>\n",
       "\t<tr><td> 1.180</td><td> 0.389</td><td>25.370</td></tr>\n",
       "\t<tr><td>16.911</td><td>25.300</td><td> 4.370</td></tr>\n",
       "\t<tr><td> 6.900</td><td> 2.580</td><td> 0.209</td></tr>\n",
       "\t<tr><td>27.820</td><td> 7.811</td><td>25.200</td></tr>\n",
       "\t<tr><td>31.911</td><td>20.100</td><td> 3.900</td></tr>\n",
       "\t<tr><td> 1.900</td><td> 5.580</td><td> 0.111</td></tr>\n",
       "</tbody>\n",
       "</table>\n"
      ],
      "text/latex": [
       "A matrix: 10 × 3 of type dbl\n",
       "\\begin{tabular}{lll}\n",
       " V2 & V3 & V4\\\\\n",
       "\\hline\n",
       "\t  6.900 &  3.680 &  0.289\\\\\n",
       "\t 27.820 &  1.811 & 25.400\\\\\n",
       "\t 36.911 &  1.900 &  2.800\\\\\n",
       "\t 18.100 &  4.380 &  0.121\\\\\n",
       "\t  1.180 &  0.389 & 25.370\\\\\n",
       "\t 16.911 & 25.300 &  4.370\\\\\n",
       "\t  6.900 &  2.580 &  0.209\\\\\n",
       "\t 27.820 &  7.811 & 25.200\\\\\n",
       "\t 31.911 & 20.100 &  3.900\\\\\n",
       "\t  1.900 &  5.580 &  0.111\\\\\n",
       "\\end{tabular}\n"
      ],
      "text/markdown": [
       "\n",
       "A matrix: 10 × 3 of type dbl\n",
       "\n",
       "| V2 | V3 | V4 |\n",
       "|---|---|---|\n",
       "|  6.900 |  3.680 |  0.289 |\n",
       "| 27.820 |  1.811 | 25.400 |\n",
       "| 36.911 |  1.900 |  2.800 |\n",
       "| 18.100 |  4.380 |  0.121 |\n",
       "|  1.180 |  0.389 | 25.370 |\n",
       "| 16.911 | 25.300 |  4.370 |\n",
       "|  6.900 |  2.580 |  0.209 |\n",
       "| 27.820 |  7.811 | 25.200 |\n",
       "| 31.911 | 20.100 |  3.900 |\n",
       "|  1.900 |  5.580 |  0.111 |\n",
       "\n"
      ],
      "text/plain": [
       "      V2     V3     V4    \n",
       " [1,]  6.900  3.680  0.289\n",
       " [2,] 27.820  1.811 25.400\n",
       " [3,] 36.911  1.900  2.800\n",
       " [4,] 18.100  4.380  0.121\n",
       " [5,]  1.180  0.389 25.370\n",
       " [6,] 16.911 25.300  4.370\n",
       " [7,]  6.900  2.580  0.209\n",
       " [8,] 27.820  7.811 25.200\n",
       " [9,] 31.911 20.100  3.900\n",
       "[10,]  1.900  5.580  0.111"
      ]
     },
     "metadata": {},
     "output_type": "display_data"
    }
   ],
   "source": [
    "(data - colSums(data) / 10)^2 %>% sqrt "
   ]
  },
  {
   "cell_type": "code",
   "execution_count": null,
   "metadata": {
    "vscode": {
     "languageId": "r"
    }
   },
   "outputs": [],
   "source": [
    "x <- rnorm(100)"
   ]
  },
  {
   "cell_type": "code",
   "execution_count": null,
   "metadata": {
    "vscode": {
     "languageId": "r"
    }
   },
   "outputs": [
    {
     "data": {
      "text/html": [
       "<style>\n",
       ".list-inline {list-style: none; margin:0; padding: 0}\n",
       ".list-inline>li {display: inline-block}\n",
       ".list-inline>li:not(:last-child)::after {content: \"\\00b7\"; padding: 0 .5ex}\n",
       "</style>\n",
       "<ol class=list-inline><li>-1.39772428383735</li><li>0.823604600002335</li><li>-1.14605978127453</li><li>-0.0345251531895005</li><li>-1.48755209693084</li><li>1.07030801542532</li><li>-0.217584736781736</li><li>-0.329032382656652</li><li>-0.878316079488035</li><li>1.83284292329792</li><li>-0.471550860082605</li><li>0.567913993921576</li><li>-0.301282284458594</li><li>1.77729909416189</li><li>-1.58178256199265</li><li>0.0606462229928228</li><li>1.79265675672087</li><li>-0.658160498813421</li><li>0.574543320190094</li><li>-1.01967582611449</li><li>0.909696381670285</li><li>-0.319273131097369</li><li>-0.0445672297520403</li><li>1.43737552877825</li><li>2.00038685033</li><li>-0.257913763953454</li><li>-1.36239363890598</li><li>1.03708218188986</li><li>-1.23560361454314</li><li>-0.281851460745131</li><li>-0.176136307767511</li><li>1.73947928483872</li><li>0.19174747158042</li><li>0.565783057611268</li><li>-0.455342192199649</li><li>-0.592362614772708</li><li>0.531105995204149</li><li>-0.142790279123167</li><li>0.808493227903133</li><li>-1.16069854272304</li><li>1.61331020614434</li><li>-0.016989594801565</li><li>-1.29748481300148</li><li>0.332270656624754</li><li>0.455238840114359</li><li>-0.483370141155139</li><li>0.690950447433474</li><li>0.821218346379705</li><li>1.49457908381867</li><li>1.04920311554223</li><li>-0.746782907013818</li><li>-0.726325846221902</li><li>1.74767301612517</li><li>-1.66896093690095</li><li>1.45693653382407</li><li>-0.067986384553217</li><li>0.175319789778568</li><li>-0.830353456542016</li><li>0.564383507274931</li><li>2.30786763481665</li><li>-0.228100290024572</li><li>-0.222554123350517</li><li>-0.223884017816606</li><li>0.516893281125372</li><li>-0.134239477839873</li><li>0.378841987222202</li><li>0.338654412834535</li><li>-0.698318517533477</li><li>-1.00380903149893</li><li>-0.249463101986861</li><li>0.0614230243926265</li><li>-1.94539417258239</li><li>-0.0298383287150416</li><li>-0.270757615620682</li><li>0.633807486268674</li><li>0.431795908433423</li><li>1.56672108272397</li><li>1.76051274344515</li><li>1.3859251079342</li><li>-0.129230391010205</li><li>-1.01215629559834</li><li>0.684852631831507</li><li>0.443154262430346</li><li>0.958942828610379</li><li>0.504465799850223</li><li>-0.981662352735671</li><li>0.59502765817561</li><li>-0.858393108888305</li><li>-1.08090581840712</li><li>-0.537468332122242</li><li>-0.647525375532045</li><li>-0.535415547542949</li><li>0.219801112275001</li><li>-0.504095157831069</li><li>0.719264582443858</li><li>0.637694676800311</li><li>-0.511645988551967</li><li>0.258242655751482</li><li>-0.10612631530335</li><li>0.103637137624948</li></ol>\n"
      ],
      "text/latex": [
       "\\begin{enumerate*}\n",
       "\\item -1.39772428383735\n",
       "\\item 0.823604600002335\n",
       "\\item -1.14605978127453\n",
       "\\item -0.0345251531895005\n",
       "\\item -1.48755209693084\n",
       "\\item 1.07030801542532\n",
       "\\item -0.217584736781736\n",
       "\\item -0.329032382656652\n",
       "\\item -0.878316079488035\n",
       "\\item 1.83284292329792\n",
       "\\item -0.471550860082605\n",
       "\\item 0.567913993921576\n",
       "\\item -0.301282284458594\n",
       "\\item 1.77729909416189\n",
       "\\item -1.58178256199265\n",
       "\\item 0.0606462229928228\n",
       "\\item 1.79265675672087\n",
       "\\item -0.658160498813421\n",
       "\\item 0.574543320190094\n",
       "\\item -1.01967582611449\n",
       "\\item 0.909696381670285\n",
       "\\item -0.319273131097369\n",
       "\\item -0.0445672297520403\n",
       "\\item 1.43737552877825\n",
       "\\item 2.00038685033\n",
       "\\item -0.257913763953454\n",
       "\\item -1.36239363890598\n",
       "\\item 1.03708218188986\n",
       "\\item -1.23560361454314\n",
       "\\item -0.281851460745131\n",
       "\\item -0.176136307767511\n",
       "\\item 1.73947928483872\n",
       "\\item 0.19174747158042\n",
       "\\item 0.565783057611268\n",
       "\\item -0.455342192199649\n",
       "\\item -0.592362614772708\n",
       "\\item 0.531105995204149\n",
       "\\item -0.142790279123167\n",
       "\\item 0.808493227903133\n",
       "\\item -1.16069854272304\n",
       "\\item 1.61331020614434\n",
       "\\item -0.016989594801565\n",
       "\\item -1.29748481300148\n",
       "\\item 0.332270656624754\n",
       "\\item 0.455238840114359\n",
       "\\item -0.483370141155139\n",
       "\\item 0.690950447433474\n",
       "\\item 0.821218346379705\n",
       "\\item 1.49457908381867\n",
       "\\item 1.04920311554223\n",
       "\\item -0.746782907013818\n",
       "\\item -0.726325846221902\n",
       "\\item 1.74767301612517\n",
       "\\item -1.66896093690095\n",
       "\\item 1.45693653382407\n",
       "\\item -0.067986384553217\n",
       "\\item 0.175319789778568\n",
       "\\item -0.830353456542016\n",
       "\\item 0.564383507274931\n",
       "\\item 2.30786763481665\n",
       "\\item -0.228100290024572\n",
       "\\item -0.222554123350517\n",
       "\\item -0.223884017816606\n",
       "\\item 0.516893281125372\n",
       "\\item -0.134239477839873\n",
       "\\item 0.378841987222202\n",
       "\\item 0.338654412834535\n",
       "\\item -0.698318517533477\n",
       "\\item -1.00380903149893\n",
       "\\item -0.249463101986861\n",
       "\\item 0.0614230243926265\n",
       "\\item -1.94539417258239\n",
       "\\item -0.0298383287150416\n",
       "\\item -0.270757615620682\n",
       "\\item 0.633807486268674\n",
       "\\item 0.431795908433423\n",
       "\\item 1.56672108272397\n",
       "\\item 1.76051274344515\n",
       "\\item 1.3859251079342\n",
       "\\item -0.129230391010205\n",
       "\\item -1.01215629559834\n",
       "\\item 0.684852631831507\n",
       "\\item 0.443154262430346\n",
       "\\item 0.958942828610379\n",
       "\\item 0.504465799850223\n",
       "\\item -0.981662352735671\n",
       "\\item 0.59502765817561\n",
       "\\item -0.858393108888305\n",
       "\\item -1.08090581840712\n",
       "\\item -0.537468332122242\n",
       "\\item -0.647525375532045\n",
       "\\item -0.535415547542949\n",
       "\\item 0.219801112275001\n",
       "\\item -0.504095157831069\n",
       "\\item 0.719264582443858\n",
       "\\item 0.637694676800311\n",
       "\\item -0.511645988551967\n",
       "\\item 0.258242655751482\n",
       "\\item -0.10612631530335\n",
       "\\item 0.103637137624948\n",
       "\\end{enumerate*}\n"
      ],
      "text/markdown": [
       "1. -1.39772428383735\n",
       "2. 0.823604600002335\n",
       "3. -1.14605978127453\n",
       "4. -0.0345251531895005\n",
       "5. -1.48755209693084\n",
       "6. 1.07030801542532\n",
       "7. -0.217584736781736\n",
       "8. -0.329032382656652\n",
       "9. -0.878316079488035\n",
       "10. 1.83284292329792\n",
       "11. -0.471550860082605\n",
       "12. 0.567913993921576\n",
       "13. -0.301282284458594\n",
       "14. 1.77729909416189\n",
       "15. -1.58178256199265\n",
       "16. 0.0606462229928228\n",
       "17. 1.79265675672087\n",
       "18. -0.658160498813421\n",
       "19. 0.574543320190094\n",
       "20. -1.01967582611449\n",
       "21. 0.909696381670285\n",
       "22. -0.319273131097369\n",
       "23. -0.0445672297520403\n",
       "24. 1.43737552877825\n",
       "25. 2.00038685033\n",
       "26. -0.257913763953454\n",
       "27. -1.36239363890598\n",
       "28. 1.03708218188986\n",
       "29. -1.23560361454314\n",
       "30. -0.281851460745131\n",
       "31. -0.176136307767511\n",
       "32. 1.73947928483872\n",
       "33. 0.19174747158042\n",
       "34. 0.565783057611268\n",
       "35. -0.455342192199649\n",
       "36. -0.592362614772708\n",
       "37. 0.531105995204149\n",
       "38. -0.142790279123167\n",
       "39. 0.808493227903133\n",
       "40. -1.16069854272304\n",
       "41. 1.61331020614434\n",
       "42. -0.016989594801565\n",
       "43. -1.29748481300148\n",
       "44. 0.332270656624754\n",
       "45. 0.455238840114359\n",
       "46. -0.483370141155139\n",
       "47. 0.690950447433474\n",
       "48. 0.821218346379705\n",
       "49. 1.49457908381867\n",
       "50. 1.04920311554223\n",
       "51. -0.746782907013818\n",
       "52. -0.726325846221902\n",
       "53. 1.74767301612517\n",
       "54. -1.66896093690095\n",
       "55. 1.45693653382407\n",
       "56. -0.067986384553217\n",
       "57. 0.175319789778568\n",
       "58. -0.830353456542016\n",
       "59. 0.564383507274931\n",
       "60. 2.30786763481665\n",
       "61. -0.228100290024572\n",
       "62. -0.222554123350517\n",
       "63. -0.223884017816606\n",
       "64. 0.516893281125372\n",
       "65. -0.134239477839873\n",
       "66. 0.378841987222202\n",
       "67. 0.338654412834535\n",
       "68. -0.698318517533477\n",
       "69. -1.00380903149893\n",
       "70. -0.249463101986861\n",
       "71. 0.0614230243926265\n",
       "72. -1.94539417258239\n",
       "73. -0.0298383287150416\n",
       "74. -0.270757615620682\n",
       "75. 0.633807486268674\n",
       "76. 0.431795908433423\n",
       "77. 1.56672108272397\n",
       "78. 1.76051274344515\n",
       "79. 1.3859251079342\n",
       "80. -0.129230391010205\n",
       "81. -1.01215629559834\n",
       "82. 0.684852631831507\n",
       "83. 0.443154262430346\n",
       "84. 0.958942828610379\n",
       "85. 0.504465799850223\n",
       "86. -0.981662352735671\n",
       "87. 0.59502765817561\n",
       "88. -0.858393108888305\n",
       "89. -1.08090581840712\n",
       "90. -0.537468332122242\n",
       "91. -0.647525375532045\n",
       "92. -0.535415547542949\n",
       "93. 0.219801112275001\n",
       "94. -0.504095157831069\n",
       "95. 0.719264582443858\n",
       "96. 0.637694676800311\n",
       "97. -0.511645988551967\n",
       "98. 0.258242655751482\n",
       "99. -0.10612631530335\n",
       "100. 0.103637137624948\n",
       "\n",
       "\n"
      ],
      "text/plain": [
       "  [1] -1.39772428  0.82360460 -1.14605978 -0.03452515 -1.48755210  1.07030802\n",
       "  [7] -0.21758474 -0.32903238 -0.87831608  1.83284292 -0.47155086  0.56791399\n",
       " [13] -0.30128228  1.77729909 -1.58178256  0.06064622  1.79265676 -0.65816050\n",
       " [19]  0.57454332 -1.01967583  0.90969638 -0.31927313 -0.04456723  1.43737553\n",
       " [25]  2.00038685 -0.25791376 -1.36239364  1.03708218 -1.23560361 -0.28185146\n",
       " [31] -0.17613631  1.73947928  0.19174747  0.56578306 -0.45534219 -0.59236261\n",
       " [37]  0.53110600 -0.14279028  0.80849323 -1.16069854  1.61331021 -0.01698959\n",
       " [43] -1.29748481  0.33227066  0.45523884 -0.48337014  0.69095045  0.82121835\n",
       " [49]  1.49457908  1.04920312 -0.74678291 -0.72632585  1.74767302 -1.66896094\n",
       " [55]  1.45693653 -0.06798638  0.17531979 -0.83035346  0.56438351  2.30786763\n",
       " [61] -0.22810029 -0.22255412 -0.22388402  0.51689328 -0.13423948  0.37884199\n",
       " [67]  0.33865441 -0.69831852 -1.00380903 -0.24946310  0.06142302 -1.94539417\n",
       " [73] -0.02983833 -0.27075762  0.63380749  0.43179591  1.56672108  1.76051274\n",
       " [79]  1.38592511 -0.12923039 -1.01215630  0.68485263  0.44315426  0.95894283\n",
       " [85]  0.50446580 -0.98166235  0.59502766 -0.85839311 -1.08090582 -0.53746833\n",
       " [91] -0.64752538 -0.53541555  0.21980111 -0.50409516  0.71926458  0.63769468\n",
       " [97] -0.51164599  0.25824266 -0.10612632  0.10363714"
      ]
     },
     "metadata": {},
     "output_type": "display_data"
    }
   ],
   "source": [
    "x"
   ]
  },
  {
   "cell_type": "code",
   "execution_count": null,
   "metadata": {
    "vscode": {
     "languageId": "r"
    }
   },
   "outputs": [],
   "source": [
    "x %<>% abs %>% sort"
   ]
  },
  {
   "cell_type": "code",
   "execution_count": null,
   "metadata": {
    "vscode": {
     "languageId": "r"
    }
   },
   "outputs": [
    {
     "data": {
      "text/html": [
       "<style>\n",
       ".list-inline {list-style: none; margin:0; padding: 0}\n",
       ".list-inline>li {display: inline-block}\n",
       ".list-inline>li:not(:last-child)::after {content: \"\\00b7\"; padding: 0 .5ex}\n",
       "</style>\n",
       "<ol class=list-inline><li>0.016989594801565</li><li>0.0298383287150416</li><li>0.0345251531895005</li><li>0.0445672297520403</li><li>0.0606462229928228</li><li>0.0614230243926265</li><li>0.067986384553217</li><li>0.103637137624948</li><li>0.10612631530335</li><li>0.129230391010205</li><li>0.134239477839873</li><li>0.142790279123167</li><li>0.175319789778568</li><li>0.176136307767511</li><li>0.19174747158042</li><li>0.217584736781736</li><li>0.219801112275001</li><li>0.222554123350517</li><li>0.223884017816606</li><li>0.228100290024572</li><li>0.249463101986861</li><li>0.257913763953454</li><li>0.258242655751482</li><li>0.270757615620682</li><li>0.281851460745131</li><li>0.301282284458594</li><li>0.319273131097369</li><li>0.329032382656652</li><li>0.332270656624754</li><li>0.338654412834535</li><li>0.378841987222202</li><li>0.431795908433423</li><li>0.443154262430346</li><li>0.455238840114359</li><li>0.455342192199649</li><li>0.471550860082605</li><li>0.483370141155139</li><li>0.504095157831069</li><li>0.504465799850223</li><li>0.511645988551967</li><li>0.516893281125372</li><li>0.531105995204149</li><li>0.535415547542949</li><li>0.537468332122242</li><li>0.564383507274931</li><li>0.565783057611268</li><li>0.567913993921576</li><li>0.574543320190094</li><li>0.592362614772708</li><li>0.59502765817561</li><li>0.633807486268674</li><li>0.637694676800311</li><li>0.647525375532045</li><li>0.658160498813421</li><li>0.684852631831507</li><li>0.690950447433474</li><li>0.698318517533477</li><li>0.719264582443858</li><li>0.726325846221902</li><li>0.746782907013818</li><li>0.808493227903133</li><li>0.821218346379705</li><li>0.823604600002335</li><li>0.830353456542016</li><li>0.858393108888305</li><li>0.878316079488035</li><li>0.909696381670285</li><li>0.958942828610379</li><li>0.981662352735671</li><li>1.00380903149893</li><li>1.01215629559834</li><li>1.01967582611449</li><li>1.03708218188986</li><li>1.04920311554223</li><li>1.07030801542532</li><li>1.08090581840712</li><li>1.14605978127453</li><li>1.16069854272304</li><li>1.23560361454314</li><li>1.29748481300148</li><li>1.36239363890598</li><li>1.3859251079342</li><li>1.39772428383735</li><li>1.43737552877825</li><li>1.45693653382407</li><li>1.48755209693084</li><li>1.49457908381867</li><li>1.56672108272397</li><li>1.58178256199265</li><li>1.61331020614434</li><li>1.66896093690095</li><li>1.73947928483872</li><li>1.74767301612517</li><li>1.76051274344515</li><li>1.77729909416189</li><li>1.79265675672087</li><li>1.83284292329792</li><li>1.94539417258239</li><li>2.00038685033</li><li>2.30786763481665</li></ol>\n"
      ],
      "text/latex": [
       "\\begin{enumerate*}\n",
       "\\item 0.016989594801565\n",
       "\\item 0.0298383287150416\n",
       "\\item 0.0345251531895005\n",
       "\\item 0.0445672297520403\n",
       "\\item 0.0606462229928228\n",
       "\\item 0.0614230243926265\n",
       "\\item 0.067986384553217\n",
       "\\item 0.103637137624948\n",
       "\\item 0.10612631530335\n",
       "\\item 0.129230391010205\n",
       "\\item 0.134239477839873\n",
       "\\item 0.142790279123167\n",
       "\\item 0.175319789778568\n",
       "\\item 0.176136307767511\n",
       "\\item 0.19174747158042\n",
       "\\item 0.217584736781736\n",
       "\\item 0.219801112275001\n",
       "\\item 0.222554123350517\n",
       "\\item 0.223884017816606\n",
       "\\item 0.228100290024572\n",
       "\\item 0.249463101986861\n",
       "\\item 0.257913763953454\n",
       "\\item 0.258242655751482\n",
       "\\item 0.270757615620682\n",
       "\\item 0.281851460745131\n",
       "\\item 0.301282284458594\n",
       "\\item 0.319273131097369\n",
       "\\item 0.329032382656652\n",
       "\\item 0.332270656624754\n",
       "\\item 0.338654412834535\n",
       "\\item 0.378841987222202\n",
       "\\item 0.431795908433423\n",
       "\\item 0.443154262430346\n",
       "\\item 0.455238840114359\n",
       "\\item 0.455342192199649\n",
       "\\item 0.471550860082605\n",
       "\\item 0.483370141155139\n",
       "\\item 0.504095157831069\n",
       "\\item 0.504465799850223\n",
       "\\item 0.511645988551967\n",
       "\\item 0.516893281125372\n",
       "\\item 0.531105995204149\n",
       "\\item 0.535415547542949\n",
       "\\item 0.537468332122242\n",
       "\\item 0.564383507274931\n",
       "\\item 0.565783057611268\n",
       "\\item 0.567913993921576\n",
       "\\item 0.574543320190094\n",
       "\\item 0.592362614772708\n",
       "\\item 0.59502765817561\n",
       "\\item 0.633807486268674\n",
       "\\item 0.637694676800311\n",
       "\\item 0.647525375532045\n",
       "\\item 0.658160498813421\n",
       "\\item 0.684852631831507\n",
       "\\item 0.690950447433474\n",
       "\\item 0.698318517533477\n",
       "\\item 0.719264582443858\n",
       "\\item 0.726325846221902\n",
       "\\item 0.746782907013818\n",
       "\\item 0.808493227903133\n",
       "\\item 0.821218346379705\n",
       "\\item 0.823604600002335\n",
       "\\item 0.830353456542016\n",
       "\\item 0.858393108888305\n",
       "\\item 0.878316079488035\n",
       "\\item 0.909696381670285\n",
       "\\item 0.958942828610379\n",
       "\\item 0.981662352735671\n",
       "\\item 1.00380903149893\n",
       "\\item 1.01215629559834\n",
       "\\item 1.01967582611449\n",
       "\\item 1.03708218188986\n",
       "\\item 1.04920311554223\n",
       "\\item 1.07030801542532\n",
       "\\item 1.08090581840712\n",
       "\\item 1.14605978127453\n",
       "\\item 1.16069854272304\n",
       "\\item 1.23560361454314\n",
       "\\item 1.29748481300148\n",
       "\\item 1.36239363890598\n",
       "\\item 1.3859251079342\n",
       "\\item 1.39772428383735\n",
       "\\item 1.43737552877825\n",
       "\\item 1.45693653382407\n",
       "\\item 1.48755209693084\n",
       "\\item 1.49457908381867\n",
       "\\item 1.56672108272397\n",
       "\\item 1.58178256199265\n",
       "\\item 1.61331020614434\n",
       "\\item 1.66896093690095\n",
       "\\item 1.73947928483872\n",
       "\\item 1.74767301612517\n",
       "\\item 1.76051274344515\n",
       "\\item 1.77729909416189\n",
       "\\item 1.79265675672087\n",
       "\\item 1.83284292329792\n",
       "\\item 1.94539417258239\n",
       "\\item 2.00038685033\n",
       "\\item 2.30786763481665\n",
       "\\end{enumerate*}\n"
      ],
      "text/markdown": [
       "1. 0.016989594801565\n",
       "2. 0.0298383287150416\n",
       "3. 0.0345251531895005\n",
       "4. 0.0445672297520403\n",
       "5. 0.0606462229928228\n",
       "6. 0.0614230243926265\n",
       "7. 0.067986384553217\n",
       "8. 0.103637137624948\n",
       "9. 0.10612631530335\n",
       "10. 0.129230391010205\n",
       "11. 0.134239477839873\n",
       "12. 0.142790279123167\n",
       "13. 0.175319789778568\n",
       "14. 0.176136307767511\n",
       "15. 0.19174747158042\n",
       "16. 0.217584736781736\n",
       "17. 0.219801112275001\n",
       "18. 0.222554123350517\n",
       "19. 0.223884017816606\n",
       "20. 0.228100290024572\n",
       "21. 0.249463101986861\n",
       "22. 0.257913763953454\n",
       "23. 0.258242655751482\n",
       "24. 0.270757615620682\n",
       "25. 0.281851460745131\n",
       "26. 0.301282284458594\n",
       "27. 0.319273131097369\n",
       "28. 0.329032382656652\n",
       "29. 0.332270656624754\n",
       "30. 0.338654412834535\n",
       "31. 0.378841987222202\n",
       "32. 0.431795908433423\n",
       "33. 0.443154262430346\n",
       "34. 0.455238840114359\n",
       "35. 0.455342192199649\n",
       "36. 0.471550860082605\n",
       "37. 0.483370141155139\n",
       "38. 0.504095157831069\n",
       "39. 0.504465799850223\n",
       "40. 0.511645988551967\n",
       "41. 0.516893281125372\n",
       "42. 0.531105995204149\n",
       "43. 0.535415547542949\n",
       "44. 0.537468332122242\n",
       "45. 0.564383507274931\n",
       "46. 0.565783057611268\n",
       "47. 0.567913993921576\n",
       "48. 0.574543320190094\n",
       "49. 0.592362614772708\n",
       "50. 0.59502765817561\n",
       "51. 0.633807486268674\n",
       "52. 0.637694676800311\n",
       "53. 0.647525375532045\n",
       "54. 0.658160498813421\n",
       "55. 0.684852631831507\n",
       "56. 0.690950447433474\n",
       "57. 0.698318517533477\n",
       "58. 0.719264582443858\n",
       "59. 0.726325846221902\n",
       "60. 0.746782907013818\n",
       "61. 0.808493227903133\n",
       "62. 0.821218346379705\n",
       "63. 0.823604600002335\n",
       "64. 0.830353456542016\n",
       "65. 0.858393108888305\n",
       "66. 0.878316079488035\n",
       "67. 0.909696381670285\n",
       "68. 0.958942828610379\n",
       "69. 0.981662352735671\n",
       "70. 1.00380903149893\n",
       "71. 1.01215629559834\n",
       "72. 1.01967582611449\n",
       "73. 1.03708218188986\n",
       "74. 1.04920311554223\n",
       "75. 1.07030801542532\n",
       "76. 1.08090581840712\n",
       "77. 1.14605978127453\n",
       "78. 1.16069854272304\n",
       "79. 1.23560361454314\n",
       "80. 1.29748481300148\n",
       "81. 1.36239363890598\n",
       "82. 1.3859251079342\n",
       "83. 1.39772428383735\n",
       "84. 1.43737552877825\n",
       "85. 1.45693653382407\n",
       "86. 1.48755209693084\n",
       "87. 1.49457908381867\n",
       "88. 1.56672108272397\n",
       "89. 1.58178256199265\n",
       "90. 1.61331020614434\n",
       "91. 1.66896093690095\n",
       "92. 1.73947928483872\n",
       "93. 1.74767301612517\n",
       "94. 1.76051274344515\n",
       "95. 1.77729909416189\n",
       "96. 1.79265675672087\n",
       "97. 1.83284292329792\n",
       "98. 1.94539417258239\n",
       "99. 2.00038685033\n",
       "100. 2.30786763481665\n",
       "\n",
       "\n"
      ],
      "text/plain": [
       "  [1] 0.01698959 0.02983833 0.03452515 0.04456723 0.06064622 0.06142302\n",
       "  [7] 0.06798638 0.10363714 0.10612632 0.12923039 0.13423948 0.14279028\n",
       " [13] 0.17531979 0.17613631 0.19174747 0.21758474 0.21980111 0.22255412\n",
       " [19] 0.22388402 0.22810029 0.24946310 0.25791376 0.25824266 0.27075762\n",
       " [25] 0.28185146 0.30128228 0.31927313 0.32903238 0.33227066 0.33865441\n",
       " [31] 0.37884199 0.43179591 0.44315426 0.45523884 0.45534219 0.47155086\n",
       " [37] 0.48337014 0.50409516 0.50446580 0.51164599 0.51689328 0.53110600\n",
       " [43] 0.53541555 0.53746833 0.56438351 0.56578306 0.56791399 0.57454332\n",
       " [49] 0.59236261 0.59502766 0.63380749 0.63769468 0.64752538 0.65816050\n",
       " [55] 0.68485263 0.69095045 0.69831852 0.71926458 0.72632585 0.74678291\n",
       " [61] 0.80849323 0.82121835 0.82360460 0.83035346 0.85839311 0.87831608\n",
       " [67] 0.90969638 0.95894283 0.98166235 1.00380903 1.01215630 1.01967583\n",
       " [73] 1.03708218 1.04920312 1.07030802 1.08090582 1.14605978 1.16069854\n",
       " [79] 1.23560361 1.29748481 1.36239364 1.38592511 1.39772428 1.43737553\n",
       " [85] 1.45693653 1.48755210 1.49457908 1.56672108 1.58178256 1.61331021\n",
       " [91] 1.66896094 1.73947928 1.74767302 1.76051274 1.77729909 1.79265676\n",
       " [97] 1.83284292 1.94539417 2.00038685 2.30786763"
      ]
     },
     "metadata": {},
     "output_type": "display_data"
    }
   ],
   "source": [
    "x"
   ]
  },
  {
   "cell_type": "code",
   "execution_count": null,
   "metadata": {
    "vscode": {
     "languageId": "r"
    }
   },
   "outputs": [
    {
     "data": {
      "text/html": [
       "<style>\n",
       ".list-inline {list-style: none; margin:0; padding: 0}\n",
       ".list-inline>li {display: inline-block}\n",
       ".list-inline>li:not(:last-child)::after {content: \"\\00b7\"; padding: 0 .5ex}\n",
       "</style>\n",
       "<ol class=list-inline><li>-26.1810343397967</li><li>7.07816950047651</li></ol>\n"
      ],
      "text/latex": [
       "\\begin{enumerate*}\n",
       "\\item -26.1810343397967\n",
       "\\item 7.07816950047651\n",
       "\\end{enumerate*}\n"
      ],
      "text/markdown": [
       "1. -26.1810343397967\n",
       "2. 7.07816950047651\n",
       "\n",
       "\n"
      ],
      "text/plain": [
       "[1] -26.18103   7.07817"
      ]
     },
     "metadata": {},
     "output_type": "display_data"
    },
    {
     "data": {
      "image/png": "[encoded data removed]",
      "text/plain": [
       "plot without title"
      ]
     },
     "metadata": {
      "image/png": {
       "height": 420,
       "width": 420
      }
     },
     "output_type": "display_data"
    }
   ],
   "source": [
    "rnorm(200) %>% matrix(ncol = 2) %T>% plot(xlab = \"This\", ylab = \"that\") %>% colSums "
   ]
  },
  {
   "cell_type": "code",
   "execution_count": null,
   "metadata": {
    "vscode": {
     "languageId": "r"
    }
   },
   "outputs": [
    {
     "ename": "ERROR",
     "evalue": "Error in data.frame(z = rnorm(100)) %$% ts.plot(z): could not find function \"%$%\"\n",
     "output_type": "error",
     "traceback": [
      "Error in data.frame(z = rnorm(100)) %$% ts.plot(z): could not find function \"%$%\"\nTraceback:\n"
     ]
    }
   ],
   "source": [
    "data.frame(z = rnorm(100)) %$% ts.plot(z)"
   ]
  },
  {
   "cell_type": "markdown",
   "metadata": {
    "vscode": {
     "languageId": "r"
    }
   },
   "source": [
    "# Chapter 5"
   ]
  }
 ],
 "metadata": {
  "kernelspec": {
   "display_name": "R",
   "language": "R",
   "name": "ir"
  },
  "language_info": {
   "codemirror_mode": "r",
   "file_extension": ".r",
   "mimetype": "text/x-r-source",
   "name": "R",
   "pygments_lexer": "r",
   "version": "4.3.1"
  }
 },
 "nbformat": 4,
 "nbformat_minor": 2
}
