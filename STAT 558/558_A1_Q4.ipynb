{
 "cells": [
  {
   "cell_type": "markdown",
   "metadata": {},
   "source": [
    "# Question 4  \n",
    "An articale in the journal of Neurology (1998, vol. 50, pp.1246-1252) observed that monozygotic twins share numerous phyisical, psychological and pathological traits. The investigators measured an intelligence score of 10 pairs of twins. The data are obtained as follows:"
   ]
  },
  {
   "cell_type": "code",
   "execution_count": 1,
   "metadata": {
    "vscode": {
     "languageId": "r"
    }
   },
   "outputs": [
    {
     "data": {
      "text/html": [
       "<table class=\"dataframe\">\n",
       "<caption>A matrix: 2 × 10 of type dbl</caption>\n",
       "<tbody>\n",
       "\t<tr><th scope=row>Birth Order:1</th><td>5.73</td><td>5.80</td><td>8.42</td><td>6.84</td><td>6.43</td><td>8.76</td><td>6.32</td><td>7.62</td><td>6.59</td><td>7.67</td></tr>\n",
       "\t<tr><th scope=row>Birth Order:2</th><td>6.08</td><td>6.22</td><td>7.99</td><td>7.44</td><td>6.48</td><td>7.99</td><td>6.32</td><td>7.60</td><td>6.03</td><td>7.52</td></tr>\n",
       "</tbody>\n",
       "</table>\n"
      ],
      "text/latex": [
       "A matrix: 2 × 10 of type dbl\n",
       "\\begin{tabular}{r|llllllllll}\n",
       "\tBirth Order:1 & 5.73 & 5.80 & 8.42 & 6.84 & 6.43 & 8.76 & 6.32 & 7.62 & 6.59 & 7.67\\\\\n",
       "\tBirth Order:2 & 6.08 & 6.22 & 7.99 & 7.44 & 6.48 & 7.99 & 6.32 & 7.60 & 6.03 & 7.52\\\\\n",
       "\\end{tabular}\n"
      ],
      "text/markdown": [
       "\n",
       "A matrix: 2 × 10 of type dbl\n",
       "\n",
       "| Birth Order:1 | 5.73 | 5.80 | 8.42 | 6.84 | 6.43 | 8.76 | 6.32 | 7.62 | 6.59 | 7.67 |\n",
       "| Birth Order:2 | 6.08 | 6.22 | 7.99 | 7.44 | 6.48 | 7.99 | 6.32 | 7.60 | 6.03 | 7.52 |\n",
       "\n"
      ],
      "text/plain": [
       "              [,1] [,2] [,3] [,4] [,5] [,6] [,7] [,8] [,9] [,10]\n",
       "Birth Order:1 5.73 5.80 8.42 6.84 6.43 8.76 6.32 7.62 6.59 7.67 \n",
       "Birth Order:2 6.08 6.22 7.99 7.44 6.48 7.99 6.32 7.60 6.03 7.52 "
      ]
     },
     "metadata": {},
     "output_type": "display_data"
    },
    {
     "data": {
      "text/html": [
       "10"
      ],
      "text/latex": [
       "10"
      ],
      "text/markdown": [
       "10"
      ],
      "text/plain": [
       "[1] 10"
      ]
     },
     "metadata": {},
     "output_type": "display_data"
    }
   ],
   "source": [
    "IQ <- matrix(\n",
    "    c(5.73,5.80,8.42,6.84,6.43,8.76,6.32,7.62,6.59,7.67,\n",
    "      6.08,6.22,7.99,7.44,6.48,7.99,6.32,7.60,6.03,7.52),\n",
    "    ncol = 2 )\n",
    "colnames(IQ) <- c(\"Birth Order:1\", \"Birth Order:2\")\n",
    "n <- length(IQ[,1])\n",
    "t(IQ)\n",
    "n"
   ]
  },
  {
   "cell_type": "markdown",
   "metadata": {},
   "source": [
    "**a)** By hand, find a 95% confidence interval on the difference in the mean score. Based on this interval, is there any evidence that mean score depdends on birth order?"
   ]
  },
  {
   "cell_type": "markdown",
   "metadata": {},
   "source": [
    "This is a paired test. We start by calcualting a vector $\\textbf{d}$ which represents the difference between the two samples."
   ]
  },
  {
   "cell_type": "code",
   "execution_count": 8,
   "metadata": {
    "vscode": {
     "languageId": "r"
    }
   },
   "outputs": [],
   "source": [
    "d = as.matrix(IQ[,1] - IQ[,2])"
   ]
  },
  {
   "cell_type": "markdown",
   "metadata": {},
   "source": [
    "We are interested in the difference in intelligence between monozygotic twins based off of their birth order. The samples are related in this case so we will set up a paired t-test hypothesis on the difference between the two samples $d_i = y_{1i} - y_{2i}$. We calculate the difference between the samples as: \n",
    "$$\n",
    "H_0: \\mu_d =0 \\\\\n",
    "H_1: \\mu_d \\neq 0\n",
    "$$\n",
    "where $\\mu_d = \\mu_1 - \\mu_2$. \n",
    "\n",
    "The proper test statistic is \n",
    "$$\n",
    "t_0 = \\bar d / \\sqrt(S_d^2 / n)\n",
    "$$\n",
    "where $\\bar d = \\sum_{i=1}^n (y_{1i}-y_{2i})/n$ and $S_d^2 = \\sum_{i=1}^n \\frac{ (d_i - \\bar d)^2}{n-1}$.  \n",
    "\n",
    "Thus, we can construct out Confidence interval like so \n",
    "$$\n",
    "\\bar y_d - t_{\\alpha/2, n-1} \\cdot \\sqrt{ S^2/n} \\leq \\mu_d \\leq \\bar y_d + t_{\\alpha / 2 , n-1} \\cdot \\sqrt{ S^2/n}\n",
    "$$"
   ]
  },
  {
   "cell_type": "code",
   "execution_count": 29,
   "metadata": {
    "vscode": {
     "languageId": "r"
    }
   },
   "outputs": [
    {
     "data": {
      "text/html": [
       "0.366414804856497"
      ],
      "text/latex": [
       "0.366414804856497"
      ],
      "text/markdown": [
       "0.366414804856497"
      ],
      "text/plain": [
       "[1] 0.3664148"
      ]
     },
     "metadata": {},
     "output_type": "display_data"
    },
    {
     "data": {
      "text/html": [
       "-0.264414804856497"
      ],
      "text/latex": [
       "-0.264414804856497"
      ],
      "text/markdown": [
       "-0.264414804856497"
      ],
      "text/plain": [
       "[1] -0.2644148"
      ]
     },
     "metadata": {},
     "output_type": "display_data"
    }
   ],
   "source": [
    "# Preliminary values\n",
    "dbar <- 0\n",
    "S2d <- 0\n",
    "for (i in 1:n) { dbar = dbar + d[i,1] / n}\n",
    "for (i in 1:n) { S2d = S2d + (d[i,1] - dbar)^2 / (n-1)}\n",
    "# Test Statistic\n",
    "t <- qt(0.025, n-1, lower.tail = TRUE)\n",
    "# Upper and Lower Bounds\n",
    "Lower <- dbar - t * sqrt(S2d / n)\n",
    "Upper <- dbar + t * sqrt(S2d / n) \n",
    "Lower\n",
    "Upper"
   ]
  },
  {
   "cell_type": "markdown",
   "metadata": {},
   "source": [
    "The calculated 95\\% confidence interval is\n",
    "$$\n",
    "(-0.2644 \\leq \\mu_d \\leq 0.3664)\n",
    "$$\n",
    "The confidence interval contains $0$, thus we have not found evidence that $\\mu_d \\neq 0$, we fail to reject the null hypothesis in favour of the alternative."
   ]
  },
  {
   "cell_type": "markdown",
   "metadata": {},
   "source": [
    "**b)** Using R, test the hypothesis that the mean score does not depend on birth order considering $\\alpha = 0.05$. "
   ]
  },
  {
   "cell_type": "markdown",
   "metadata": {},
   "source": [
    "We can calculate the test in R using the following. "
   ]
  },
  {
   "cell_type": "code",
   "execution_count": 30,
   "metadata": {
    "vscode": {
     "languageId": "r"
    }
   },
   "outputs": [
    {
     "data": {
      "text/plain": [
       "\n",
       "\tPaired t-test\n",
       "\n",
       "data:  IQ[, 1] and IQ[, 2]\n",
       "t = 0.36577, df = 9, p-value = 0.723\n",
       "alternative hypothesis: true mean difference is not equal to 0\n",
       "95 percent confidence interval:\n",
       " -0.2644148  0.3664148\n",
       "sample estimates:\n",
       "mean difference \n",
       "          0.051 \n"
      ]
     },
     "metadata": {},
     "output_type": "display_data"
    }
   ],
   "source": [
    "# Paired t-test\n",
    "test <- t.test(IQ[,1], IQ[,2], alternative = \"two.sided\", paired = TRUE, conf.level = 0.95)\n",
    "test"
   ]
  },
  {
   "cell_type": "markdown",
   "metadata": {},
   "source": [
    "The test matches are work above. We have a calcualted p-vlaue of $0.723$ which is greater than $0.05$. Thus, like above, we fail to reject the null hypothesis in favour of the alternative."
   ]
  }
 ],
 "metadata": {
  "kernelspec": {
   "display_name": "R",
   "language": "R",
   "name": "ir"
  },
  "language_info": {
   "codemirror_mode": "r",
   "file_extension": ".r",
   "mimetype": "text/x-r-source",
   "name": "R",
   "pygments_lexer": "r",
   "version": "4.3.1"
  }
 },
 "nbformat": 4,
 "nbformat_minor": 2
}
