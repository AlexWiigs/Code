{
 "cells": [
  {
   "cell_type": "raw",
   "metadata": {},
   "source": [
    "---\n",
    "title: \"Potato Batteries\"\n",
    "format: html\n",
    "  pdf:\n",
    "    documentclass: article\n",
    "    fontsize: 11pt\n",
    "    geometry: \n",
    "      - top=2.54cm\n",
    "      - bottom=2.54cm\n",
    "      - left=2.54cm\n",
    "      - right=2.54cm\n",
    "    mainfont: Arial\n",
    "    linestretch: 1.3\n",
    "---"
   ]
  },
  {
   "cell_type": "markdown",
   "metadata": {},
   "source": [
    "# Introduction\n",
    "\n",
    "Access to electricity remains limited in many parts in the developing word. Furthermore, global challenges like climate change have caused an increased interest in sustainable energy. Among these, the potato battery stands out as a simple yet fascinating demonstration of bio-electrochemical energy. Many readers may be familiar with the common high school experiment of showing how potatoes can act as batteries when exposed to two metals (electrodes). By boiling the potatoes and quartering them to increase the surface area of potato exposed to the electrodes, researchers out of Tel Aviv University have claimed to increase the efficiency of the potato batteries significantly$^{1}$. Hypothetically, potato batteries could be used to supplement low energy needs like LED lighting and the charging of electronic devices. By adopting a $2^3$ factorial design, the research will explore the interaction between these factors and their combined effects on energy production. Furthermore, the study proposes the use of a Response Surface Methodology (RSM) design to examine the influence of boiling time as a continuous variable, providing a deeper understanding of how thermal treatment affects the potato's ability to generate electricity.\n",
    "\n",
    "A potato battery operates on the principle of converting chemical energy into electrical energy through spontaneous redox reactions. When zinc and copper electrodes are inserted into a potato, the zinc electrode undergoes oxidation while the copper electrode serves as the cathode for reduction. To clarify, this means there is no inherent electricity in the potato, it simply contains electrolytes and acts as a salt bridge, facilitating ion flow and completing the circuit. In fact, many other fruits and vegetables would also work as a salt bridge. The focus for these experiments has been placed on the potato because it has many nice properties, not least are it's incredible shelf life and resistance to insects."
   ]
  },
  {
   "cell_type": "code",
   "execution_count": 9,
   "metadata": {
    "vscode": {
     "languageId": "r"
    }
   },
   "outputs": [],
   "source": [
    "library(dplyr)"
   ]
  },
  {
   "cell_type": "code",
   "execution_count": 4,
   "metadata": {
    "vscode": {
     "languageId": "r"
    }
   },
   "outputs": [
    {
     "data": {
      "text/html": [
       "<table class=\"dataframe\">\n",
       "<caption>A data.frame: 8 × 10</caption>\n",
       "<thead>\n",
       "\t<tr><th scope=col>potato</th><th scope=col>boiled</th><th scope=col>state</th><th scope=col>A1</th><th scope=col>V1</th><th scope=col>W1</th><th scope=col>A2</th><th scope=col>V2</th><th scope=col>W2</th><th scope=col>Total</th></tr>\n",
       "\t<tr><th scope=col>&lt;dbl&gt;</th><th scope=col>&lt;dbl&gt;</th><th scope=col>&lt;dbl&gt;</th><th scope=col>&lt;dbl&gt;</th><th scope=col>&lt;dbl&gt;</th><th scope=col>&lt;dbl&gt;</th><th scope=col>&lt;dbl&gt;</th><th scope=col>&lt;dbl&gt;</th><th scope=col>&lt;dbl&gt;</th><th scope=col>&lt;dbl&gt;</th></tr>\n",
       "</thead>\n",
       "<tbody>\n",
       "\t<tr><td>-1</td><td>-1</td><td>-1</td><td>0.29</td><td>0.84</td><td>0.2436</td><td>0.34</td><td>0.84</td><td>0.2856</td><td>0.5292</td></tr>\n",
       "\t<tr><td> 1</td><td>-1</td><td>-1</td><td>0.32</td><td>0.81</td><td>0.2592</td><td>0.41</td><td>0.84</td><td>0.3444</td><td>0.6036</td></tr>\n",
       "\t<tr><td>-1</td><td> 1</td><td>-1</td><td>1.68</td><td>0.79</td><td>1.3272</td><td>1.67</td><td>0.80</td><td>1.3360</td><td>2.6632</td></tr>\n",
       "\t<tr><td> 1</td><td> 1</td><td>-1</td><td>2.15</td><td>0.83</td><td>1.7845</td><td>2.72</td><td>0.81</td><td>2.2032</td><td>3.9877</td></tr>\n",
       "\t<tr><td>-1</td><td>-1</td><td> 1</td><td>0.70</td><td>0.84</td><td>0.5880</td><td>0.68</td><td>0.82</td><td>0.5576</td><td>1.1456</td></tr>\n",
       "\t<tr><td> 1</td><td>-1</td><td> 1</td><td>0.51</td><td>0.82</td><td>0.4182</td><td>0.82</td><td>0.85</td><td>0.6970</td><td>1.1152</td></tr>\n",
       "\t<tr><td>-1</td><td> 1</td><td> 1</td><td>2.88</td><td>0.79</td><td>2.2752</td><td>3.37</td><td>0.83</td><td>2.7971</td><td>5.0723</td></tr>\n",
       "\t<tr><td> 1</td><td> 1</td><td> 1</td><td>3.18</td><td>0.77</td><td>2.4486</td><td>3.67</td><td>0.83</td><td>3.0461</td><td>5.4947</td></tr>\n",
       "</tbody>\n",
       "</table>\n"
      ],
      "text/latex": [
       "A data.frame: 8 × 10\n",
       "\\begin{tabular}{llllllllll}\n",
       " potato & boiled & state & A1 & V1 & W1 & A2 & V2 & W2 & Total\\\\\n",
       " <dbl> & <dbl> & <dbl> & <dbl> & <dbl> & <dbl> & <dbl> & <dbl> & <dbl> & <dbl>\\\\\n",
       "\\hline\n",
       "\t -1 & -1 & -1 & 0.29 & 0.84 & 0.2436 & 0.34 & 0.84 & 0.2856 & 0.5292\\\\\n",
       "\t  1 & -1 & -1 & 0.32 & 0.81 & 0.2592 & 0.41 & 0.84 & 0.3444 & 0.6036\\\\\n",
       "\t -1 &  1 & -1 & 1.68 & 0.79 & 1.3272 & 1.67 & 0.80 & 1.3360 & 2.6632\\\\\n",
       "\t  1 &  1 & -1 & 2.15 & 0.83 & 1.7845 & 2.72 & 0.81 & 2.2032 & 3.9877\\\\\n",
       "\t -1 & -1 &  1 & 0.70 & 0.84 & 0.5880 & 0.68 & 0.82 & 0.5576 & 1.1456\\\\\n",
       "\t  1 & -1 &  1 & 0.51 & 0.82 & 0.4182 & 0.82 & 0.85 & 0.6970 & 1.1152\\\\\n",
       "\t -1 &  1 &  1 & 2.88 & 0.79 & 2.2752 & 3.37 & 0.83 & 2.7971 & 5.0723\\\\\n",
       "\t  1 &  1 &  1 & 3.18 & 0.77 & 2.4486 & 3.67 & 0.83 & 3.0461 & 5.4947\\\\\n",
       "\\end{tabular}\n"
      ],
      "text/markdown": [
       "\n",
       "A data.frame: 8 × 10\n",
       "\n",
       "| potato &lt;dbl&gt; | boiled &lt;dbl&gt; | state &lt;dbl&gt; | A1 &lt;dbl&gt; | V1 &lt;dbl&gt; | W1 &lt;dbl&gt; | A2 &lt;dbl&gt; | V2 &lt;dbl&gt; | W2 &lt;dbl&gt; | Total &lt;dbl&gt; |\n",
       "|---|---|---|---|---|---|---|---|---|---|\n",
       "| -1 | -1 | -1 | 0.29 | 0.84 | 0.2436 | 0.34 | 0.84 | 0.2856 | 0.5292 |\n",
       "|  1 | -1 | -1 | 0.32 | 0.81 | 0.2592 | 0.41 | 0.84 | 0.3444 | 0.6036 |\n",
       "| -1 |  1 | -1 | 1.68 | 0.79 | 1.3272 | 1.67 | 0.80 | 1.3360 | 2.6632 |\n",
       "|  1 |  1 | -1 | 2.15 | 0.83 | 1.7845 | 2.72 | 0.81 | 2.2032 | 3.9877 |\n",
       "| -1 | -1 |  1 | 0.70 | 0.84 | 0.5880 | 0.68 | 0.82 | 0.5576 | 1.1456 |\n",
       "|  1 | -1 |  1 | 0.51 | 0.82 | 0.4182 | 0.82 | 0.85 | 0.6970 | 1.1152 |\n",
       "| -1 |  1 |  1 | 2.88 | 0.79 | 2.2752 | 3.37 | 0.83 | 2.7971 | 5.0723 |\n",
       "|  1 |  1 |  1 | 3.18 | 0.77 | 2.4486 | 3.67 | 0.83 | 3.0461 | 5.4947 |\n",
       "\n"
      ],
      "text/plain": [
       "  potato boiled state A1   V1   W1     A2   V2   W2     Total \n",
       "1 -1     -1     -1    0.29 0.84 0.2436 0.34 0.84 0.2856 0.5292\n",
       "2  1     -1     -1    0.32 0.81 0.2592 0.41 0.84 0.3444 0.6036\n",
       "3 -1      1     -1    1.68 0.79 1.3272 1.67 0.80 1.3360 2.6632\n",
       "4  1      1     -1    2.15 0.83 1.7845 2.72 0.81 2.2032 3.9877\n",
       "5 -1     -1      1    0.70 0.84 0.5880 0.68 0.82 0.5576 1.1456\n",
       "6  1     -1      1    0.51 0.82 0.4182 0.82 0.85 0.6970 1.1152\n",
       "7 -1      1      1    2.88 0.79 2.2752 3.37 0.83 2.7971 5.0723\n",
       "8  1      1      1    3.18 0.77 2.4486 3.67 0.83 3.0461 5.4947"
      ]
     },
     "metadata": {},
     "output_type": "display_data"
    }
   ],
   "source": [
    "# Data from Experiment\n",
    "potato <- rep(c(-1,1), 4)\n",
    "boiled <- rep(c(-1,-1,1,1), 2)\n",
    "state <- c(-1,-1,-1,-1,1,1,1,1)\n",
    "A1 <- c(0.29, 0.32, 1.68, 2.15, 0.70, 0.51, 2.88, 3.18)\n",
    "V1 <- c(0.84, 0.81, 0.79, 0.83, 0.84, 0.82, 0.79, 0.77)\n",
    "A2 <- c(0.34, 0.41, 1.67, 2.72, 0.68, 0.82, 3.37, 3.67)\n",
    "V2 <- c(0.84, 0.84, 0.80, 0.81, 0.82, 0.85, 0.83, 0.83)\n",
    "W1 <- A1 * V1\n",
    "W2 <- A2 * V2\n",
    "Total <- W1 + W2\n",
    "# Display Data\n",
    "data <- data.frame(potato, boiled, state, A1, V1, W1, A2,V2, W2, Total)\n",
    "data\n",
    "\n"
   ]
  },
  {
   "cell_type": "code",
   "execution_count": 15,
   "metadata": {
    "vscode": {
     "languageId": "r"
    }
   },
   "outputs": [
    {
     "data": {
      "text/plain": [
       "                                            Df Sum Sq Mean Sq   F value Pr(>F)\n",
       "rep(potato, 2)                               1   0.80    0.80 4.028e+31 <2e-16\n",
       "rep(boiled, 2)                               1  47.78   47.78 2.400e+33 <2e-16\n",
       "rep(state, 2)                                1   6.36    6.36 3.195e+32 <2e-16\n",
       "rep(potato, 2):rep(boiled, 2)                1   0.72    0.72 3.641e+31 <2e-16\n",
       "rep(potato, 2):rep(state, 2)                 1   0.25    0.25 1.273e+31 <2e-16\n",
       "rep(boiled, 2):rep(state, 2)                 1   1.94    1.94 9.761e+31 <2e-16\n",
       "rep(potato, 2):rep(boiled, 2):rep(state, 2)  1   0.16    0.16 7.982e+30 <2e-16\n",
       "Residuals                                    8   0.00    0.00                 \n",
       "                                               \n",
       "rep(potato, 2)                              ***\n",
       "rep(boiled, 2)                              ***\n",
       "rep(state, 2)                               ***\n",
       "rep(potato, 2):rep(boiled, 2)               ***\n",
       "rep(potato, 2):rep(state, 2)                ***\n",
       "rep(boiled, 2):rep(state, 2)                ***\n",
       "rep(potato, 2):rep(boiled, 2):rep(state, 2) ***\n",
       "Residuals                                      \n",
       "---\n",
       "Signif. codes:  0 '***' 0.001 '**' 0.01 '*' 0.05 '.' 0.1 ' ' 1"
      ]
     },
     "metadata": {},
     "output_type": "display_data"
    }
   ],
   "source": [
    "model <- lm(c(pull(.data = data, name = W1), pull(.data = data, name = W2)) ~ rep(potato,2) * rep(boiled,2) * rep(state,2), data = data)\n",
    "aov <- aov(model)\n",
    "summary(aov)"
   ]
  }
 ],
 "metadata": {
  "kernelspec": {
   "display_name": "R",
   "language": "R",
   "name": "ir"
  },
  "language_info": {
   "codemirror_mode": "r",
   "file_extension": ".r",
   "mimetype": "text/x-r-source",
   "name": "R",
   "pygments_lexer": "r",
   "version": "4.3.1"
  }
 },
 "nbformat": 4,
 "nbformat_minor": 2
}
