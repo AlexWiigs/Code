{
 "cells": [
  {
   "cell_type": "markdown",
   "metadata": {},
   "source": [
    "# Chapter 2"
   ]
  },
  {
   "cell_type": "code",
   "execution_count": 8,
   "metadata": {
    "vscode": {
     "languageId": "r"
    }
   },
   "outputs": [
    {
     "data": {
      "text/html": [
       "0.0357288411256331"
      ],
      "text/latex": [
       "0.0357288411256331"
      ],
      "text/markdown": [
       "0.0357288411256331"
      ],
      "text/plain": [
       "[1] 0.03572884"
      ]
     },
     "metadata": {},
     "output_type": "display_data"
    }
   ],
   "source": [
    "#Question 2.3\n",
    "(1 - pnorm(2.10))*2"
   ]
  },
  {
   "cell_type": "code",
   "execution_count": 9,
   "metadata": {
    "vscode": {
     "languageId": "r"
    }
   },
   "outputs": [
    {
     "data": {
      "text/html": [
       "0.00714281073527145"
      ],
      "text/latex": [
       "0.00714281073527145"
      ],
      "text/markdown": [
       "0.00714281073527145"
      ],
      "text/plain": [
       "[1] 0.007142811"
      ]
     },
     "metadata": {},
     "output_type": "display_data"
    }
   ],
   "source": [
    "# Question 2.4\n",
    "1-pnorm(2.45)"
   ]
  },
  {
   "cell_type": "code",
   "execution_count": 16,
   "metadata": {
    "vscode": {
     "languageId": "r"
    }
   },
   "outputs": [
    {
     "data": {
      "text/html": [
       "6.334248366624e-05"
      ],
      "text/latex": [
       "6.334248366624e-05"
      ],
      "text/markdown": [
       "6.334248366624e-05"
      ],
      "text/plain": [
       "[1] 6.334248e-05"
      ]
     },
     "metadata": {},
     "output_type": "display_data"
    },
    {
     "data": {
      "text/html": [
       "30.4272512089353"
      ],
      "text/latex": [
       "30.4272512089353"
      ],
      "text/markdown": [
       "30.4272512089353"
      ],
      "text/plain": [
       "[1] 30.42725"
      ]
     },
     "metadata": {},
     "output_type": "display_data"
    },
    {
     "data": {
      "text/html": [
       "-31.9727487910647"
      ],
      "text/latex": [
       "-31.9727487910647"
      ],
      "text/markdown": [
       "-31.9727487910647"
      ],
      "text/plain": [
       "[1] -31.97275"
      ]
     },
     "metadata": {},
     "output_type": "display_data"
    },
    {
     "data": {
      "text/html": [
       "3.167124183312e-05"
      ],
      "text/latex": [
       "3.167124183312e-05"
      ],
      "text/markdown": [
       "3.167124183312e-05"
      ],
      "text/plain": [
       "[1] 3.167124e-05"
      ]
     },
     "metadata": {},
     "output_type": "display_data"
    }
   ],
   "source": [
    "# Question 2.5\n",
    "2*(1-pnorm(4))\n",
    "qnorm(.005) * .3 + 31.2\n",
    "qnorm(.005) * .3 - 31.2\n",
    "1 - pnorm(4)"
   ]
  },
  {
   "cell_type": "code",
   "execution_count": 17,
   "metadata": {
    "vscode": {
     "languageId": "r"
    }
   },
   "outputs": [
    {
     "data": {
      "text/html": [
       "0.0313086850197259"
      ],
      "text/latex": [
       "0.0313086850197259"
      ],
      "text/markdown": [
       "0.0313086850197259"
      ],
      "text/plain": [
       "[1] 0.03130869"
      ]
     },
     "metadata": {},
     "output_type": "display_data"
    }
   ],
   "source": [
    "# Question 2.6\n",
    "2*(1- pt(2.3, df = 22))"
   ]
  },
  {
   "cell_type": "code",
   "execution_count": 18,
   "metadata": {
    "vscode": {
     "languageId": "r"
    }
   },
   "outputs": [
    {
     "data": {
      "text/html": [
       "0.0164769494778629"
      ],
      "text/latex": [
       "0.0164769494778629"
      ],
      "text/markdown": [
       "0.0164769494778629"
      ],
      "text/plain": [
       "[1] 0.01647695"
      ]
     },
     "metadata": {},
     "output_type": "display_data"
    }
   ],
   "source": [
    "# Question 2.7\n",
    "1- pt(2.31, 18)"
   ]
  },
  {
   "cell_type": "markdown",
   "metadata": {},
   "source": [
    "# Chapter 3"
   ]
  },
  {
   "cell_type": "code",
   "execution_count": 19,
   "metadata": {
    "vscode": {
     "languageId": "r"
    }
   },
   "outputs": [
    {
     "data": {
      "text/html": [
       "0.0430011586529553"
      ],
      "text/latex": [
       "0.0430011586529553"
      ],
      "text/markdown": [
       "0.0430011586529553"
      ],
      "text/plain": [
       "[1] 0.04300116"
      ]
     },
     "metadata": {},
     "output_type": "display_data"
    }
   ],
   "source": [
    "# question 3.1\n",
    "1- pf(3.26, 3,20)"
   ]
  },
  {
   "cell_type": "code",
   "execution_count": 24,
   "metadata": {
    "vscode": {
     "languageId": "r"
    }
   },
   "outputs": [
    {
     "data": {
      "text/html": [
       "0.00594168786362315"
      ],
      "text/latex": [
       "0.00594168786362315"
      ],
      "text/markdown": [
       "0.00594168786362315"
      ],
      "text/plain": [
       "[1] 0.005941688"
      ]
     },
     "metadata": {},
     "output_type": "display_data"
    }
   ],
   "source": [
    "# Quesiton 3.2\n",
    "1- pf(5.81,df1 = 5, df2 = 12)"
   ]
  },
  {
   "cell_type": "code",
   "execution_count": 25,
   "metadata": {
    "vscode": {
     "languageId": "r"
    }
   },
   "outputs": [
    {
     "data": {
      "text/html": [
       "0.338094018701591"
      ],
      "text/latex": [
       "0.338094018701591"
      ],
      "text/markdown": [
       "0.338094018701591"
      ],
      "text/plain": [
       "[1] 0.338094"
      ]
     },
     "metadata": {},
     "output_type": "display_data"
    }
   ],
   "source": [
    "# Question 3.3 \n",
    "1-pf(1.21, 3, 16)"
   ]
  },
  {
   "cell_type": "code",
   "execution_count": null,
   "metadata": {
    "vscode": {
     "languageId": "r"
    }
   },
   "outputs": [],
   "source": []
  }
 ],
 "metadata": {
  "kernelspec": {
   "display_name": "R",
   "language": "R",
   "name": "ir"
  },
  "language_info": {
   "codemirror_mode": "r",
   "file_extension": ".r",
   "mimetype": "text/x-r-source",
   "name": "R",
   "pygments_lexer": "r",
   "version": "4.3.1"
  }
 },
 "nbformat": 4,
 "nbformat_minor": 2
}
