{
 "cells": [
  {
   "cell_type": "code",
   "execution_count": 8,
   "metadata": {
    "vscode": {
     "languageId": "r"
    }
   },
   "outputs": [
    {
     "data": {
      "text/html": [
       "1501"
      ],
      "text/latex": [
       "1501"
      ],
      "text/markdown": [
       "1501"
      ],
      "text/plain": [
       "[1] 1501"
      ]
     },
     "metadata": {},
     "output_type": "display_data"
    },
    {
     "data": {
      "text/html": [
       "1300"
      ],
      "text/latex": [
       "1300"
      ],
      "text/markdown": [
       "1300"
      ],
      "text/plain": [
       "[1] 1300"
      ]
     },
     "metadata": {},
     "output_type": "display_data"
    },
    {
     "data": {
      "text/html": [
       "998"
      ],
      "text/latex": [
       "998"
      ],
      "text/markdown": [
       "998"
      ],
      "text/plain": [
       "[1] 998"
      ]
     },
     "metadata": {},
     "output_type": "display_data"
    }
   ],
   "source": [
    "y1 <- c(\n",
    "    138, 110, 168, 160,\n",
    "    174, 120, 150, 139,\n",
    "    96, 104, 82, 60\n",
    ")\n",
    "sum(y1)\n",
    "y2 <- c(150, 188, 159, 126,\n",
    "        136, 122, 106, 115,\n",
    "        25, 70, 58, 45)\n",
    "sum(y2)\n",
    "y3 <- c(130, 155, 74, 180,\n",
    "        34, 40, 80, 75,\n",
    "        20,70, 82, 58)\n",
    "sum(y3)\n"
   ]
  },
  {
   "cell_type": "code",
   "execution_count": null,
   "metadata": {
    "vscode": {
     "languageId": "r"
    }
   },
   "outputs": [],
   "source": []
  }
 ],
 "metadata": {
  "kernelspec": {
   "display_name": "R",
   "language": "R",
   "name": "ir"
  },
  "language_info": {
   "codemirror_mode": "r",
   "file_extension": ".r",
   "mimetype": "text/x-r-source",
   "name": "R",
   "pygments_lexer": "r",
   "version": "4.3.1"
  }
 },
 "nbformat": 4,
 "nbformat_minor": 2
}
