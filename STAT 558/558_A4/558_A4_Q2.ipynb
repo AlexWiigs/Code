{
 "cells": [
  {
   "cell_type": "markdown",
   "metadata": {},
   "source": [
    "# Question 2"
   ]
  },
  {
   "cell_type": "markdown",
   "metadata": {},
   "source": [
    "An experimenter has run a Box-Behnken design and has obtained the results as shown in the table below, where the response variable is the viscosity of a polymer."
   ]
  },
  {
   "cell_type": "code",
   "execution_count": 10,
   "metadata": {
    "vscode": {
     "languageId": "r"
    }
   },
   "outputs": [
    {
     "data": {
      "text/html": [
       "<table class=\"dataframe\">\n",
       "<caption>A matrix: 4 × 15 of type dbl</caption>\n",
       "<tbody>\n",
       "\t<tr><th scope=row>x1</th><td> -1</td><td>  1</td><td> -1</td><td>  1</td><td> -1</td><td>  1</td><td> -1</td><td>  1</td><td>  0</td><td>  0</td><td>  0</td><td>  0</td><td>  0</td><td>  0</td><td>  0</td></tr>\n",
       "\t<tr><th scope=row>x2</th><td> -1</td><td> -1</td><td>  1</td><td>  1</td><td>  0</td><td>  0</td><td>  0</td><td>  0</td><td> -1</td><td>  1</td><td> -1</td><td>  1</td><td>  0</td><td>  0</td><td>  0</td></tr>\n",
       "\t<tr><th scope=row>x3</th><td>  0</td><td>  0</td><td>  0</td><td>  0</td><td> -1</td><td> -1</td><td>  1</td><td>  1</td><td> -1</td><td> -1</td><td>  1</td><td>  1</td><td>  0</td><td>  0</td><td>  0</td></tr>\n",
       "\t<tr><th scope=row>y1</th><td>535</td><td>580</td><td>596</td><td>563</td><td>645</td><td>458</td><td>350</td><td>600</td><td>595</td><td>648</td><td>532</td><td>656</td><td>653</td><td>599</td><td>620</td></tr>\n",
       "</tbody>\n",
       "</table>\n"
      ],
      "text/latex": [
       "A matrix: 4 × 15 of type dbl\n",
       "\\begin{tabular}{r|lllllllllllllll}\n",
       "\tx1 &  -1 &   1 &  -1 &   1 &  -1 &   1 &  -1 &   1 &   0 &   0 &   0 &   0 &   0 &   0 &   0\\\\\n",
       "\tx2 &  -1 &  -1 &   1 &   1 &   0 &   0 &   0 &   0 &  -1 &   1 &  -1 &   1 &   0 &   0 &   0\\\\\n",
       "\tx3 &   0 &   0 &   0 &   0 &  -1 &  -1 &   1 &   1 &  -1 &  -1 &   1 &   1 &   0 &   0 &   0\\\\\n",
       "\ty1 & 535 & 580 & 596 & 563 & 645 & 458 & 350 & 600 & 595 & 648 & 532 & 656 & 653 & 599 & 620\\\\\n",
       "\\end{tabular}\n"
      ],
      "text/markdown": [
       "\n",
       "A matrix: 4 × 15 of type dbl\n",
       "\n",
       "| x1 |  -1 |   1 |  -1 |   1 |  -1 |   1 |  -1 |   1 |   0 |   0 |   0 |   0 |   0 |   0 |   0 |\n",
       "| x2 |  -1 |  -1 |   1 |   1 |   0 |   0 |   0 |   0 |  -1 |   1 |  -1 |   1 |   0 |   0 |   0 |\n",
       "| x3 |   0 |   0 |   0 |   0 |  -1 |  -1 |   1 |   1 |  -1 |  -1 |   1 |   1 |   0 |   0 |   0 |\n",
       "| y1 | 535 | 580 | 596 | 563 | 645 | 458 | 350 | 600 | 595 | 648 | 532 | 656 | 653 | 599 | 620 |\n",
       "\n"
      ],
      "text/plain": [
       "   [,1] [,2] [,3] [,4] [,5] [,6] [,7] [,8] [,9] [,10] [,11] [,12] [,13] [,14]\n",
       "x1  -1    1   -1    1   -1    1   -1    1    0    0     0     0     0     0  \n",
       "x2  -1   -1    1    1    0    0    0    0   -1    1    -1     1     0     0  \n",
       "x3   0    0    0    0   -1   -1    1    1   -1   -1     1     1     0     0  \n",
       "y1 535  580  596  563  645  458  350  600  595  648   532   656   653   599  \n",
       "   [,15]\n",
       "x1   0  \n",
       "x2   0  \n",
       "x3   0  \n",
       "y1 620  "
      ]
     },
     "metadata": {},
     "output_type": "display_data"
    }
   ],
   "source": [
    "# libraries\n",
    "library(rsm)\n",
    "\n",
    "x1 <- c(rep(c(-1, 1), 4), rep(0, 7))\n",
    "x2 <- c(-1, -1, 1, 1, rep(0, 4), rep(c(-1, 1), 2), rep(0, 3))\n",
    "x3 <- c(rep(0, 4), rep(c(-1, -1, 1, 1), 2), rep(0, 3))\n",
    "y1 <- c( 535, 580, 596, 563, 645, 458, 350, 600,\n",
    "         595, 648, 532, 656, 653, 599, 620)\n",
    "data <- data.frame(x1, x2, x3, y1)\n",
    "t(data)"
   ]
  },
  {
   "cell_type": "markdown",
   "metadata": {},
   "source": [
    "**(a)** Fit the second-order model."
   ]
  },
  {
   "cell_type": "markdown",
   "metadata": {},
   "source": [
    "We fit a second-order model like so:"
   ]
  },
  {
   "cell_type": "code",
   "execution_count": 14,
   "metadata": {
    "vscode": {
     "languageId": "r"
    }
   },
   "outputs": [
    {
     "data": {
      "text/plain": [
       "\n",
       "Call:\n",
       "rsm(formula = y1 ~ SO(x1, x2, x3), data = data)\n",
       "\n",
       "            Estimate Std. Error t value  Pr(>|t|)    \n",
       "(Intercept)  624.000     18.652 33.4539 4.487e-07 ***\n",
       "x1             9.375     11.422  0.8208  0.449128    \n",
       "x2            27.625     11.422  2.4185  0.060228 .  \n",
       "x3           -26.000     11.422 -2.2763  0.071874 .  \n",
       "x1:x2        -19.500     16.154 -1.2072  0.281356    \n",
       "x1:x3        109.250     16.154  6.7632  0.001074 ** \n",
       "x2:x3         17.750     16.154  1.0988  0.321915    \n",
       "x1^2         -75.000     16.813 -4.4608  0.006636 ** \n",
       "x2^2          19.500     16.813  1.1598  0.298496    \n",
       "x3^2         -35.750     16.813 -2.1263  0.086809 .  \n",
       "---\n",
       "Signif. codes:  0 '***' 0.001 '**' 0.01 '*' 0.05 '.' 0.1 ' ' 1\n",
       "\n",
       "Multiple R-squared:  0.945,\tAdjusted R-squared:  0.846 \n",
       "F-statistic: 9.544 on 9 and 5 DF,  p-value: 0.0115\n",
       "\n",
       "Analysis of Variance Table\n",
       "\n",
       "Response: y1\n",
       "                Df Sum Sq Mean Sq F value   Pr(>F)\n",
       "FO(x1, x2, x3)   3  12216  4072.1  3.9014 0.088473\n",
       "TWI(x1, x2, x3)  3  50524 16841.2 16.1352 0.005278\n",
       "PQ(x1, x2, x3)   3  26913  8970.9  8.5949 0.020359\n",
       "Residuals        5   5219  1043.7                 \n",
       "Lack of fit      3   3737  1245.6  1.6809 0.394113\n",
       "Pure error       2   1482   741.0                 \n",
       "\n",
       "Stationary point of response surface:\n",
       "        x1         x2         x3 \n",
       " 2.1849596 -0.8713709  2.7586015 \n",
       "\n",
       "Eigenanalysis:\n",
       "eigen() decomposition\n",
       "$values\n",
       "[1]   20.922869    2.520763 -114.693632\n",
       "\n",
       "$vectors\n",
       "          [,1]       [,2]       [,3]\n",
       "x1 -0.02739155  0.5811826  0.8133121\n",
       "x2  0.99128775 -0.0890686  0.0970329\n",
       "x3  0.12883440  0.8088842 -0.5736794\n",
       "\n"
      ]
     },
     "metadata": {},
     "output_type": "display_data"
    }
   ],
   "source": [
    "polymer.quad <- rsm(y1 ~ SO(x1,x2,x3), data = data)\n",
    "summary(polymer.quad)\n"
   ]
  },
  {
   "cell_type": "markdown",
   "metadata": {},
   "source": [
    "**(b)** Perform the canonical analysis. What type of surface has been found?"
   ]
  },
  {
   "cell_type": "code",
   "execution_count": 16,
   "metadata": {
    "vscode": {
     "languageId": "r"
    }
   },
   "outputs": [
    {
     "name": "stderr",
     "output_type": "stream",
     "text": [
      "Near-stationary-ridge situation detected -- stationary point altered\n",
      " Change 'threshold' if this is not what you intend\n",
      "\n"
     ]
    },
    {
     "data": {
      "text/plain": [
       "$xs\n",
       "        x1         x2         x3 \n",
       " 0.1049878 -0.5526067 -0.1362828 \n",
       "\n",
       "$eigen\n",
       "eigen() decomposition\n",
       "$values\n",
       "[1]   20.92287    0.00000 -114.69363\n",
       "\n",
       "$vectors\n",
       "          [,1]       [,2]       [,3]\n",
       "x1 -0.02739155  0.5811826  0.8133121\n",
       "x2  0.99128775 -0.0890686  0.0970329\n",
       "x3  0.12883440  0.8088842 -0.5736794\n",
       "\n"
      ]
     },
     "metadata": {},
     "output_type": "display_data"
    }
   ],
   "source": [
    "canonical(polymer.quad)"
   ]
  },
  {
   "cell_type": "markdown",
   "metadata": {},
   "source": [
    "Since there is both positive and negative eigenvalues, the surface is a saddlepoint."
   ]
  },
  {
   "cell_type": "markdown",
   "metadata": {},
   "source": [
    "**(c)** What operating conditions on $x_1,x_2,$ and $x_3$ maximize viscosity?"
   ]
  },
  {
   "cell_type": "code",
   "execution_count": 18,
   "metadata": {
    "vscode": {
     "languageId": "r"
    }
   },
   "outputs": [
    {
     "name": "stdout",
     "output_type": "stream",
     "text": [
      "Path of steepest ascent from ridge analysis:\n"
     ]
    },
    {
     "data": {
      "text/html": [
       "<table class=\"dataframe\">\n",
       "<caption>A data.frame: 15 × 6</caption>\n",
       "<thead>\n",
       "\t<tr><th></th><th scope=col>dist</th><th scope=col>x1</th><th scope=col>x2</th><th scope=col>x3</th><th scope=col>|</th><th scope=col>yhat</th></tr>\n",
       "\t<tr><th></th><th scope=col>&lt;dbl&gt;</th><th scope=col>&lt;dbl&gt;</th><th scope=col>&lt;dbl&gt;</th><th scope=col>&lt;dbl&gt;</th><th scope=col>&lt;fct&gt;</th><th scope=col>&lt;dbl&gt;</th></tr>\n",
       "</thead>\n",
       "<tbody>\n",
       "\t<tr><th scope=row>1</th><td>0.0</td><td> 0.000</td><td>0.000</td><td> 0.000</td><td>|</td><td>624.000</td></tr>\n",
       "\t<tr><th scope=row>2</th><td>0.1</td><td> 0.003</td><td>0.083</td><td>-0.056</td><td>|</td><td>627.693</td></tr>\n",
       "\t<tr><th scope=row>3</th><td>0.2</td><td>-0.013</td><td>0.176</td><td>-0.094</td><td>|</td><td>631.344</td></tr>\n",
       "\t<tr><th scope=row>4</th><td>0.3</td><td>-0.032</td><td>0.273</td><td>-0.119</td><td>|</td><td>635.216</td></tr>\n",
       "\t<tr><th scope=row>5</th><td>0.4</td><td>-0.050</td><td>0.372</td><td>-0.137</td><td>|</td><td>639.416</td></tr>\n",
       "\t<tr><th scope=row>6</th><td>0.5</td><td>-0.066</td><td>0.472</td><td>-0.150</td><td>|</td><td>643.966</td></tr>\n",
       "\t<tr><th scope=row>7</th><td>0.6</td><td>-0.081</td><td>0.573</td><td>-0.158</td><td>|</td><td>648.892</td></tr>\n",
       "\t<tr><th scope=row>8</th><td>0.7</td><td>-0.094</td><td>0.674</td><td>-0.162</td><td>|</td><td>654.168</td></tr>\n",
       "\t<tr><th scope=row>9</th><td>0.8</td><td>-0.106</td><td>0.776</td><td>-0.164</td><td>|</td><td>659.890</td></tr>\n",
       "\t<tr><th scope=row>10</th><td>0.9</td><td>-0.117</td><td>0.877</td><td>-0.164</td><td>|</td><td>665.948</td></tr>\n",
       "\t<tr><th scope=row>11</th><td>1.0</td><td>-0.127</td><td>0.979</td><td>-0.162</td><td>|</td><td>672.465</td></tr>\n",
       "\t<tr><th scope=row>12</th><td>1.1</td><td>-0.136</td><td>1.080</td><td>-0.159</td><td>|</td><td>679.326</td></tr>\n",
       "\t<tr><th scope=row>13</th><td>1.2</td><td>-0.144</td><td>1.181</td><td>-0.155</td><td>|</td><td>686.594</td></tr>\n",
       "\t<tr><th scope=row>14</th><td>1.3</td><td>-0.152</td><td>1.282</td><td>-0.150</td><td>|</td><td>694.279</td></tr>\n",
       "\t<tr><th scope=row>15</th><td>1.4</td><td>-0.159</td><td>1.383</td><td>-0.144</td><td>|</td><td>702.373</td></tr>\n",
       "</tbody>\n",
       "</table>\n"
      ],
      "text/latex": [
       "A data.frame: 15 × 6\n",
       "\\begin{tabular}{r|llllll}\n",
       "  & dist & x1 & x2 & x3 & \\textbar{} & yhat\\\\\n",
       "  & <dbl> & <dbl> & <dbl> & <dbl> & <fct> & <dbl>\\\\\n",
       "\\hline\n",
       "\t1 & 0.0 &  0.000 & 0.000 &  0.000 & \\textbar{} & 624.000\\\\\n",
       "\t2 & 0.1 &  0.003 & 0.083 & -0.056 & \\textbar{} & 627.693\\\\\n",
       "\t3 & 0.2 & -0.013 & 0.176 & -0.094 & \\textbar{} & 631.344\\\\\n",
       "\t4 & 0.3 & -0.032 & 0.273 & -0.119 & \\textbar{} & 635.216\\\\\n",
       "\t5 & 0.4 & -0.050 & 0.372 & -0.137 & \\textbar{} & 639.416\\\\\n",
       "\t6 & 0.5 & -0.066 & 0.472 & -0.150 & \\textbar{} & 643.966\\\\\n",
       "\t7 & 0.6 & -0.081 & 0.573 & -0.158 & \\textbar{} & 648.892\\\\\n",
       "\t8 & 0.7 & -0.094 & 0.674 & -0.162 & \\textbar{} & 654.168\\\\\n",
       "\t9 & 0.8 & -0.106 & 0.776 & -0.164 & \\textbar{} & 659.890\\\\\n",
       "\t10 & 0.9 & -0.117 & 0.877 & -0.164 & \\textbar{} & 665.948\\\\\n",
       "\t11 & 1.0 & -0.127 & 0.979 & -0.162 & \\textbar{} & 672.465\\\\\n",
       "\t12 & 1.1 & -0.136 & 1.080 & -0.159 & \\textbar{} & 679.326\\\\\n",
       "\t13 & 1.2 & -0.144 & 1.181 & -0.155 & \\textbar{} & 686.594\\\\\n",
       "\t14 & 1.3 & -0.152 & 1.282 & -0.150 & \\textbar{} & 694.279\\\\\n",
       "\t15 & 1.4 & -0.159 & 1.383 & -0.144 & \\textbar{} & 702.373\\\\\n",
       "\\end{tabular}\n"
      ],
      "text/markdown": [
       "\n",
       "A data.frame: 15 × 6\n",
       "\n",
       "| <!--/--> | dist &lt;dbl&gt; | x1 &lt;dbl&gt; | x2 &lt;dbl&gt; | x3 &lt;dbl&gt; | | &lt;fct&gt; | yhat &lt;dbl&gt; |\n",
       "|---|---|---|---|---|---|---|\n",
       "| 1 | 0.0 |  0.000 | 0.000 |  0.000 | | | 624.000 |\n",
       "| 2 | 0.1 |  0.003 | 0.083 | -0.056 | | | 627.693 |\n",
       "| 3 | 0.2 | -0.013 | 0.176 | -0.094 | | | 631.344 |\n",
       "| 4 | 0.3 | -0.032 | 0.273 | -0.119 | | | 635.216 |\n",
       "| 5 | 0.4 | -0.050 | 0.372 | -0.137 | | | 639.416 |\n",
       "| 6 | 0.5 | -0.066 | 0.472 | -0.150 | | | 643.966 |\n",
       "| 7 | 0.6 | -0.081 | 0.573 | -0.158 | | | 648.892 |\n",
       "| 8 | 0.7 | -0.094 | 0.674 | -0.162 | | | 654.168 |\n",
       "| 9 | 0.8 | -0.106 | 0.776 | -0.164 | | | 659.890 |\n",
       "| 10 | 0.9 | -0.117 | 0.877 | -0.164 | | | 665.948 |\n",
       "| 11 | 1.0 | -0.127 | 0.979 | -0.162 | | | 672.465 |\n",
       "| 12 | 1.1 | -0.136 | 1.080 | -0.159 | | | 679.326 |\n",
       "| 13 | 1.2 | -0.144 | 1.181 | -0.155 | | | 686.594 |\n",
       "| 14 | 1.3 | -0.152 | 1.282 | -0.150 | | | 694.279 |\n",
       "| 15 | 1.4 | -0.159 | 1.383 | -0.144 | | | 702.373 |\n",
       "\n"
      ],
      "text/plain": [
       "   dist x1     x2    x3     | yhat   \n",
       "1  0.0   0.000 0.000  0.000 | 624.000\n",
       "2  0.1   0.003 0.083 -0.056 | 627.693\n",
       "3  0.2  -0.013 0.176 -0.094 | 631.344\n",
       "4  0.3  -0.032 0.273 -0.119 | 635.216\n",
       "5  0.4  -0.050 0.372 -0.137 | 639.416\n",
       "6  0.5  -0.066 0.472 -0.150 | 643.966\n",
       "7  0.6  -0.081 0.573 -0.158 | 648.892\n",
       "8  0.7  -0.094 0.674 -0.162 | 654.168\n",
       "9  0.8  -0.106 0.776 -0.164 | 659.890\n",
       "10 0.9  -0.117 0.877 -0.164 | 665.948\n",
       "11 1.0  -0.127 0.979 -0.162 | 672.465\n",
       "12 1.1  -0.136 1.080 -0.159 | 679.326\n",
       "13 1.2  -0.144 1.181 -0.155 | 686.594\n",
       "14 1.3  -0.152 1.282 -0.150 | 694.279\n",
       "15 1.4  -0.159 1.383 -0.144 | 702.373"
      ]
     },
     "metadata": {},
     "output_type": "display_data"
    }
   ],
   "source": [
    "ridge <- steepest(polymer.quad, dist = seq(0, 1.412, by = 0.1), descent = FALSE)\n",
    "ridge"
   ]
  },
  {
   "cell_type": "markdown",
   "metadata": {},
   "source": [
    "The predicted values reach a maximum viscocity of 702.373. The occurs when:  \n",
    "$$\n",
    "\\begin{align}\n",
    "x_1 = -0.159 \\\\\n",
    "x_2 = 1.383 \\\\\n",
    "x_3 = -0.144\n",
    "\\end{align}\n",
    "$$"
   ]
  }
 ],
 "metadata": {
  "kernelspec": {
   "display_name": "R",
   "language": "R",
   "name": "ir"
  },
  "language_info": {
   "codemirror_mode": "r",
   "file_extension": ".r",
   "mimetype": "text/x-r-source",
   "name": "R",
   "pygments_lexer": "r",
   "version": "4.3.1"
  }
 },
 "nbformat": 4,
 "nbformat_minor": 2
}
