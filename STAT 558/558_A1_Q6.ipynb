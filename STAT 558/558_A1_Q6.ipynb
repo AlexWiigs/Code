{
 "cells": [
  {
   "cell_type": "markdown",
   "metadata": {},
   "source": [
    "# Question 6  \n",
    "\n",
    "The following are the burning times (in minutes) of chemical flares of two different formulations. The design engineers are interested in both the means and variance of the burning times."
   ]
  },
  {
   "cell_type": "code",
   "execution_count": 2,
   "metadata": {
    "vscode": {
     "languageId": "r"
    }
   },
   "outputs": [
    {
     "data": {
      "text/html": [
       "<table class=\"dataframe\">\n",
       "<caption>A matrix: 2 × 10 of type dbl</caption>\n",
       "<tbody>\n",
       "\t<tr><th scope=row>Type 1</th><td>65</td><td>81</td><td>57</td><td>66</td><td>82</td><td>82</td><td>67</td><td>59</td><td>75</td><td>70</td></tr>\n",
       "\t<tr><th scope=row>Type 2</th><td>64</td><td>71</td><td>83</td><td>59</td><td>65</td><td>56</td><td>69</td><td>74</td><td>82</td><td>79</td></tr>\n",
       "</tbody>\n",
       "</table>\n"
      ],
      "text/latex": [
       "A matrix: 2 × 10 of type dbl\n",
       "\\begin{tabular}{r|llllllllll}\n",
       "\tType 1 & 65 & 81 & 57 & 66 & 82 & 82 & 67 & 59 & 75 & 70\\\\\n",
       "\tType 2 & 64 & 71 & 83 & 59 & 65 & 56 & 69 & 74 & 82 & 79\\\\\n",
       "\\end{tabular}\n"
      ],
      "text/markdown": [
       "\n",
       "A matrix: 2 × 10 of type dbl\n",
       "\n",
       "| Type 1 | 65 | 81 | 57 | 66 | 82 | 82 | 67 | 59 | 75 | 70 |\n",
       "| Type 2 | 64 | 71 | 83 | 59 | 65 | 56 | 69 | 74 | 82 | 79 |\n",
       "\n"
      ],
      "text/plain": [
       "       [,1] [,2] [,3] [,4] [,5] [,6] [,7] [,8] [,9] [,10]\n",
       "Type 1 65   81   57   66   82   82   67   59   75   70   \n",
       "Type 2 64   71   83   59   65   56   69   74   82   79   "
      ]
     },
     "metadata": {},
     "output_type": "display_data"
    }
   ],
   "source": [
    "times <- matrix(c(\n",
    "    65, 81, 57, 66, 82, 82, 67, 59, 75, 70,\n",
    "    64, 71, 83, 59, 65, 56, 69, 74, 82, 79\n",
    "), ncol = 2)\n",
    "colnames(times) <- c(\"Type 1\", \"Type 2\")\n",
    "t(times)"
   ]
  },
  {
   "cell_type": "markdown",
   "metadata": {},
   "source": [
    "**(a)** Test the hypotheses that the two variances are equal. Use $\\alpha = 0.05$."
   ]
  },
  {
   "cell_type": "markdown",
   "metadata": {},
   "source": [
    "Test for normalicy. "
   ]
  },
  {
   "cell_type": "markdown",
   "metadata": {},
   "source": [
    "Setting up the null and alternative hypothesis we have\n",
    "$$\n",
    "H_0: \\sigma^2_1 = \\sigma_2^2 \\\\\n",
    "H_1: \\sigma^2_2 \\neq \\sigma_2^2\n",
    "$$\n",
    "\n",
    "The test statistic we can use is\n",
    "$$\n",
    "\\frac{s_1^2}{s_2^2} \\sim F_{n_1-1,n_2-1}\n",
    "$$\n",
    "where $s_1^2$ and $s_2^2$ are the two sample variances. We will reject $H_0$ in favour of the alterative if...\n",
    "$$\n",
    "F_0 \\geq F_{\\alpha = 0.05, n_1-1, n_2-1}\n",
    "$$"
   ]
  },
  {
   "cell_type": "code",
   "execution_count": 7,
   "metadata": {
    "vscode": {
     "languageId": "r"
    }
   },
   "outputs": [
    {
     "data": {
      "text/html": [
       "3.17889310445827"
      ],
      "text/latex": [
       "3.17889310445827"
      ],
      "text/markdown": [
       "3.17889310445827"
      ],
      "text/plain": [
       "[1] 3.178893"
      ]
     },
     "metadata": {},
     "output_type": "display_data"
    },
    {
     "data": {
      "text/html": [
       "0.97822"
      ],
      "text/latex": [
       "0.97822"
      ],
      "text/markdown": [
       "0.97822"
      ],
      "text/plain": [
       "[1] 0.97822"
      ]
     },
     "metadata": {},
     "output_type": "display_data"
    }
   ],
   "source": [
    "# Critical Value\n",
    "qf(0.95,9,9)\n",
    "# Calculate the test statistic\n",
    "s2_1 <- var(times[,1])\n",
    "s2_2 <- var(times[,2])\n",
    "F_0 <- s2_1 / s2_2\n",
    "round(F_0, 5)"
   ]
  },
  {
   "cell_type": "markdown",
   "metadata": {},
   "source": [
    "The calculated test statistic is not in the rejection region. Therefore we fail to reject the null hypothesis in favour of the alternative. "
   ]
  },
  {
   "cell_type": "code",
   "execution_count": 3,
   "metadata": {
    "vscode": {
     "languageId": "r"
    }
   },
   "outputs": [
    {
     "data": {
      "text/plain": [
       "\n",
       "\tF test to compare two variances\n",
       "\n",
       "data:  times[, 1] and times[, 2]\n",
       "F = 0.97822, num df = 9, denom df = 9, p-value = 0.9744\n",
       "alternative hypothesis: true ratio of variances is not equal to 1\n",
       "95 percent confidence interval:\n",
       " 0.2429752 3.9382952\n",
       "sample estimates:\n",
       "ratio of variances \n",
       "         0.9782168 \n"
      ]
     },
     "metadata": {},
     "output_type": "display_data"
    }
   ],
   "source": [
    "var.test(times[,1], times[,2])"
   ]
  },
  {
   "cell_type": "markdown",
   "metadata": {},
   "source": [
    "**(b)** Using the results of (a), test the hypotheses that the mean burning times are equal. Use $\\alpha = 0.01$. What is the p-value for this test?"
   ]
  },
  {
   "cell_type": "markdown",
   "metadata": {},
   "source": []
  }
 ],
 "metadata": {
  "kernelspec": {
   "display_name": "R",
   "language": "R",
   "name": "ir"
  },
  "language_info": {
   "codemirror_mode": "r",
   "file_extension": ".r",
   "mimetype": "text/x-r-source",
   "name": "R",
   "pygments_lexer": "r",
   "version": "4.3.1"
  }
 },
 "nbformat": 4,
 "nbformat_minor": 2
}
