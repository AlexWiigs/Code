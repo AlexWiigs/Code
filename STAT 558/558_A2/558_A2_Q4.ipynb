{
 "cells": [
  {
   "cell_type": "markdown",
   "metadata": {},
   "source": [
    "# Question 4  \n",
    "\n",
    "Consider the ratio control algorithm experiment described in Section 3.8 of you textbook. The experiment was actually conducted as a randomized block design, where siz time periods were selected as the blocks, and all four ratio control algorithms were tested in each time period. The aveage cell voltage and the standard deviation of voltage (shown in parentheses) for each cell are as follows:"
   ]
  },
  {
   "cell_type": "code",
   "execution_count": null,
   "metadata": {},
   "outputs": [],
   "source": []
  }
 ],
 "metadata": {
  "language_info": {
   "name": "python"
  }
 },
 "nbformat": 4,
 "nbformat_minor": 2
}
