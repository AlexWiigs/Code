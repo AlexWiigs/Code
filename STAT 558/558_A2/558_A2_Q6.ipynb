{
 "cells": [
  {
   "cell_type": "markdown",
   "metadata": {},
   "source": [
    "# Question 6  \n",
    "\n",
    "The yield of a chemical process was measured using five batches of raw material, five acid concentrations, five standing times, $(A,B,C,D,E)$ and five catalyst concentrations $(\\alpha, \\beta, \\gamma, \\delta, \\epsilon)$. The Graeco-Latin square that follows was used. Analyze the data from this ecperiment (use $\\alpha = 0.05$) and draw conclusions."
   ]
  },
  {
   "cell_type": "code",
   "execution_count": null,
   "metadata": {
    "vscode": {
     "languageId": "r"
    }
   },
   "outputs": [],
   "source": []
  }
 ],
 "metadata": {
  "kernelspec": {
   "display_name": "R",
   "language": "R",
   "name": "ir"
  },
  "language_info": {
   "name": "R"
  }
 },
 "nbformat": 4,
 "nbformat_minor": 2
}
