{
 "cells": [
  {
   "cell_type": "markdown",
   "metadata": {},
   "source": [
    "# Question 3."
   ]
  },
  {
   "cell_type": "markdown",
   "metadata": {},
   "source": [
    "The effect of three different lubracating oils on fuel economy in diesel truck engines is being studied. Fuel economy is measured using brake-specific fuel consumption after the engine has been running for 15 minutes. Five different truck engines are available for the study, and the experimenters conduct the following randomized complete block design."
   ]
  },
  {
   "cell_type": "code",
   "execution_count": 9,
   "metadata": {
    "vscode": {
     "languageId": "r"
    }
   },
   "outputs": [
    {
     "data": {
      "text/html": [
       "<table class=\"dataframe\">\n",
       "<caption>A matrix: 3 × 5 of type dbl</caption>\n",
       "<thead>\n",
       "\t<tr><th></th><th scope=col>1</th><th scope=col>2</th><th scope=col>3</th><th scope=col>4</th><th scope=col>5</th></tr>\n",
       "</thead>\n",
       "<tbody>\n",
       "\t<tr><th scope=row>1</th><td>0.500</td><td>0.634</td><td>0.487</td><td>0.329</td><td>0.512</td></tr>\n",
       "\t<tr><th scope=row>2</th><td>0.535</td><td>0.675</td><td>0.520</td><td>0.435</td><td>0.540</td></tr>\n",
       "\t<tr><th scope=row>3</th><td>0.513</td><td>0.595</td><td>0.488</td><td>0.400</td><td>0.510</td></tr>\n",
       "</tbody>\n",
       "</table>\n"
      ],
      "text/latex": [
       "A matrix: 3 × 5 of type dbl\n",
       "\\begin{tabular}{r|lllll}\n",
       "  & 1 & 2 & 3 & 4 & 5\\\\\n",
       "\\hline\n",
       "\t1 & 0.500 & 0.634 & 0.487 & 0.329 & 0.512\\\\\n",
       "\t2 & 0.535 & 0.675 & 0.520 & 0.435 & 0.540\\\\\n",
       "\t3 & 0.513 & 0.595 & 0.488 & 0.400 & 0.510\\\\\n",
       "\\end{tabular}\n"
      ],
      "text/markdown": [
       "\n",
       "A matrix: 3 × 5 of type dbl\n",
       "\n",
       "| <!--/--> | 1 | 2 | 3 | 4 | 5 |\n",
       "|---|---|---|---|---|---|\n",
       "| 1 | 0.500 | 0.634 | 0.487 | 0.329 | 0.512 |\n",
       "| 2 | 0.535 | 0.675 | 0.520 | 0.435 | 0.540 |\n",
       "| 3 | 0.513 | 0.595 | 0.488 | 0.400 | 0.510 |\n",
       "\n"
      ],
      "text/plain": [
       "  1     2     3     4     5    \n",
       "1 0.500 0.634 0.487 0.329 0.512\n",
       "2 0.535 0.675 0.520 0.435 0.540\n",
       "3 0.513 0.595 0.488 0.400 0.510"
      ]
     },
     "metadata": {},
     "output_type": "display_data"
    }
   ],
   "source": [
    "fuel_con <- matrix(c(0.500, 0.535, 0.513, 0.634, 0.675, 0.595, 0.487, 0.520, 0.488,\n",
    "              0.329, 0.435, 0.400, 0.512, 0.540, 0.510), ncol = 5)\n",
    "colnames(fuel_con) <- c(\"1\",\"2\",\"3\",\"4\",\"5\")\n",
    "rownames(fuel_con) <- c(\"1\",\"2\",\"3\")\n",
    "fuel_con"
   ]
  },
  {
   "cell_type": "markdown",
   "metadata": {},
   "source": [
    "**(a)** Analyze the data from this experiment."
   ]
  },
  {
   "cell_type": "markdown",
   "metadata": {},
   "source": [
    "**(b)** Use the Tukey method to make comparisons among the three lubraicating oil to determine specifically which oils differ in break-specific fuel consumption."
   ]
  },
  {
   "cell_type": "markdown",
   "metadata": {},
   "source": [
    "**(c)** Analyze the residuals from this experiment and comment on model adequacy."
   ]
  },
  {
   "cell_type": "markdown",
   "metadata": {},
   "source": []
  }
 ],
 "metadata": {
  "kernelspec": {
   "display_name": "R",
   "language": "R",
   "name": "ir"
  },
  "language_info": {
   "codemirror_mode": "r",
   "file_extension": ".r",
   "mimetype": "text/x-r-source",
   "name": "R",
   "pygments_lexer": "r",
   "version": "4.3.1"
  }
 },
 "nbformat": 4,
 "nbformat_minor": 2
}
