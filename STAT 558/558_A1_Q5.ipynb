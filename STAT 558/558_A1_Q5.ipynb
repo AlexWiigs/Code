{
 "cells": [
  {
   "cell_type": "markdown",
   "metadata": {},
   "source": [
    "# Question 5  \n",
    "\n",
    "Photoresist is a light-sensitive material applied to semiconductor wafers so that the circuit patter can be imaged on to the wafer. After application, the coated wafers are baked to remove the solvent in the photoresist mixture and to harden the resist. Here are measurements of photoresist thinkness (in $K \\dot{A}$) for eight wafers baked at two different temperatures. Assume that all of the 16 runs were made in random order. Note: a wafer cannot be baked twice."
   ]
  },
  {
   "cell_type": "code",
   "execution_count": 3,
   "metadata": {
    "vscode": {
     "languageId": "r"
    }
   },
   "outputs": [
    {
     "data": {
      "text/html": [
       "<table class=\"dataframe\">\n",
       "<caption>A matrix: 2 × 8 of type dbl</caption>\n",
       "<tbody>\n",
       "\t<tr><th scope=row>95 degrees</th><td>11.176</td><td>7.089</td><td>8.097</td><td>11.739</td><td>11.291</td><td>10.759</td><td>6.467</td><td>8.315</td></tr>\n",
       "\t<tr><th scope=row>100 degrees</th><td> 5.623</td><td>6.748</td><td>7.461</td><td> 7.015</td><td> 8.133</td><td> 7.418</td><td>3.772</td><td>8.963</td></tr>\n",
       "</tbody>\n",
       "</table>\n"
      ],
      "text/latex": [
       "A matrix: 2 × 8 of type dbl\n",
       "\\begin{tabular}{r|llllllll}\n",
       "\t95 degrees & 11.176 & 7.089 & 8.097 & 11.739 & 11.291 & 10.759 & 6.467 & 8.315\\\\\n",
       "\t100 degrees &  5.623 & 6.748 & 7.461 &  7.015 &  8.133 &  7.418 & 3.772 & 8.963\\\\\n",
       "\\end{tabular}\n"
      ],
      "text/markdown": [
       "\n",
       "A matrix: 2 × 8 of type dbl\n",
       "\n",
       "| 95 degrees | 11.176 | 7.089 | 8.097 | 11.739 | 11.291 | 10.759 | 6.467 | 8.315 |\n",
       "| 100 degrees |  5.623 | 6.748 | 7.461 |  7.015 |  8.133 |  7.418 | 3.772 | 8.963 |\n",
       "\n"
      ],
      "text/plain": [
       "            [,1]   [,2]  [,3]  [,4]   [,5]   [,6]   [,7]  [,8] \n",
       "95 degrees  11.176 7.089 8.097 11.739 11.291 10.759 6.467 8.315\n",
       "100 degrees  5.623 6.748 7.461  7.015  8.133  7.418 3.772 8.963"
      ]
     },
     "metadata": {},
     "output_type": "display_data"
    }
   ],
   "source": [
    "temps <- matrix(c(\n",
    "    11.176, 07.089, 08.097, 11.739, 11.291, 10.759, 06.467, 08.315,\n",
    "    05.623, 06.748, 07.461, 07.015, 08.133, 07.418, 03.772, 08.963\n",
    "), ncol = 2)\n",
    "colnames(temps) <- (c(\"95 degrees\", \"100 degrees\"))\n",
    "t(temps)"
   ]
  },
  {
   "cell_type": "markdown",
   "metadata": {},
   "source": [
    "**(a)** Is there evidence to support the claim that the higher baking temperature results in wafers with a lower mean photoresis thickness? Use $\\alpha = 0.05$ and justify your answer"
   ]
  },
  {
   "cell_type": "markdown",
   "metadata": {},
   "source": [
    "We can test this with a "
   ]
  },
  {
   "cell_type": "markdown",
   "metadata": {},
   "source": [
    "**(b)** Find a 95\\% confidence interval on the difference in means. Provide a practical interpretation of this interval."
   ]
  }
 ],
 "metadata": {
  "kernelspec": {
   "display_name": "R",
   "language": "R",
   "name": "ir"
  },
  "language_info": {
   "codemirror_mode": "r",
   "file_extension": ".r",
   "mimetype": "text/x-r-source",
   "name": "R",
   "pygments_lexer": "r",
   "version": "4.3.1"
  }
 },
 "nbformat": 4,
 "nbformat_minor": 2
}
