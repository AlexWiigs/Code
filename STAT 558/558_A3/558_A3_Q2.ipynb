{
 "cells": [
  {
   "cell_type": "markdown",
   "metadata": {},
   "source": [
    "# Question 2  \n",
    "\n",
    "An experiment was performed to improve the yield of a chemical process. Four factors were selected, an two replicates of a completely randomized experiment were run. The results are shown in the following table:"
   ]
  },
  {
   "cell_type": "code",
   "execution_count": 8,
   "metadata": {
    "vscode": {
     "languageId": "r"
    }
   },
   "outputs": [],
   "source": [
    "A <- rep(c(-1, 1), 16)\n",
    "B <- rep(c(-1, -1, 1, 1), 8)\n",
    "C <- rep(c(-1, -1, -1, -1, 1, 1, 1, 1), 4)\n",
    "D <- rep(c(-1,-1,-1,-1,-1,-1,-1,-1,1,1,1,1,1,1,1,1), 2)\n",
    "y <- c(\n",
    "    90, 74, 81, 83, 77, 81, 88, 73,\n",
    "    98, 72, 87, 85, 99, 79, 87, 80,\n",
    "    93, 78, 85, 80, 78, 80, 82, 70,\n",
    "    95, 76, 83, 86, 90, 75, 84, 80\n",
    ")\n",
    "data <- data.frame(A,B,C,D, y)"
   ]
  },
  {
   "cell_type": "code",
   "execution_count": 13,
   "metadata": {
    "vscode": {
     "languageId": "r"
    }
   },
   "outputs": [
    {
     "data": {
      "text/html": [
       "<table class=\"dataframe\">\n",
       "<caption>A matrix: 1 × 16 of type dbl</caption>\n",
       "<thead>\n",
       "\t<tr><th scope=col>(Intercept)</th><th scope=col>A</th><th scope=col>B</th><th scope=col>C</th><th scope=col>D</th><th scope=col>A:B</th><th scope=col>A:C</th><th scope=col>B:C</th><th scope=col>A:D</th><th scope=col>B:D</th><th scope=col>C:D</th><th scope=col>A:B:C</th><th scope=col>A:B:D</th><th scope=col>A:C:D</th><th scope=col>B:C:D</th><th scope=col>A:B:C:D</th></tr>\n",
       "</thead>\n",
       "<tbody>\n",
       "\t<tr><td>165.5625</td><td>-9.0625</td><td>-1.3125</td><td>-2.6875</td><td>3.9375</td><td>4.0625</td><td>0.6875</td><td>-0.5625</td><td>-2.1875</td><td>-0.1875</td><td>1.6875</td><td>-5.1875</td><td>4.6875</td><td>-0.9375</td><td>-0.9375</td><td>2.4375</td></tr>\n",
       "</tbody>\n",
       "</table>\n"
      ],
      "text/latex": [
       "A matrix: 1 × 16 of type dbl\n",
       "\\begin{tabular}{llllllllllllllll}\n",
       " (Intercept) & A & B & C & D & A:B & A:C & B:C & A:D & B:D & C:D & A:B:C & A:B:D & A:C:D & B:C:D & A:B:C:D\\\\\n",
       "\\hline\n",
       "\t 165.5625 & -9.0625 & -1.3125 & -2.6875 & 3.9375 & 4.0625 & 0.6875 & -0.5625 & -2.1875 & -0.1875 & 1.6875 & -5.1875 & 4.6875 & -0.9375 & -0.9375 & 2.4375\\\\\n",
       "\\end{tabular}\n"
      ],
      "text/markdown": [
       "\n",
       "A matrix: 1 × 16 of type dbl\n",
       "\n",
       "| (Intercept) | A | B | C | D | A:B | A:C | B:C | A:D | B:D | C:D | A:B:C | A:B:D | A:C:D | B:C:D | A:B:C:D |\n",
       "|---|---|---|---|---|---|---|---|---|---|---|---|---|---|---|---|\n",
       "| 165.5625 | -9.0625 | -1.3125 | -2.6875 | 3.9375 | 4.0625 | 0.6875 | -0.5625 | -2.1875 | -0.1875 | 1.6875 | -5.1875 | 4.6875 | -0.9375 | -0.9375 | 2.4375 |\n",
       "\n"
      ],
      "text/plain": [
       "     (Intercept) A       B       C       D      A:B    A:C    B:C     A:D    \n",
       "[1,] 165.5625    -9.0625 -1.3125 -2.6875 3.9375 4.0625 0.6875 -0.5625 -2.1875\n",
       "     B:D     C:D    A:B:C   A:B:D  A:C:D   B:C:D   A:B:C:D\n",
       "[1,] -0.1875 1.6875 -5.1875 4.6875 -0.9375 -0.9375 2.4375 "
      ]
     },
     "metadata": {},
     "output_type": "display_data"
    }
   ],
   "source": [
    "model <- lm(y ~ A*B*C*D, data = data)\n",
    "Effects <- as.matrix(2 * model$coefficients)\n",
    "t(Effects)"
   ]
  },
  {
   "cell_type": "code",
   "execution_count": null,
   "metadata": {
    "vscode": {
     "languageId": "r"
    }
   },
   "outputs": [],
   "source": []
  }
 ],
 "metadata": {
  "kernelspec": {
   "display_name": "R",
   "language": "R",
   "name": "ir"
  },
  "language_info": {
   "codemirror_mode": "r",
   "file_extension": ".r",
   "mimetype": "text/x-r-source",
   "name": "R",
   "pygments_lexer": "r",
   "version": "4.3.1"
  }
 },
 "nbformat": 4,
 "nbformat_minor": 2
}
