{
 "cells": [
  {
   "cell_type": "markdown",
   "metadata": {},
   "source": [
    "# Question 1  \n",
    "\n",
    "An article i nthe International Journal of Research in Marketing describes an experiment to test new ideas to increase credit card division of a financial servies compant. They want to improve the response rate to its credit card offers. They know from experience that the interest rates are an important factor in attracting potential customers, so they havedecided to focus on factors involving both interest rates and fees. They want to test changes in both introductory and long-term rates, as well as the effects of adding an account-opening fee and lower the annual fee. The factors tested in the experiment are as follows:"
   ]
  },
  {
   "cell_type": "code",
   "execution_count": 52,
   "metadata": {
    "vscode": {
     "languageId": "r"
    }
   },
   "outputs": [],
   "source": [
    "run <- 1:16\n",
    "A <- factor(c(-1, 1, -1, 1, -1, 1, -1, 1, -1, 1, -1, 1, -1, 1, -1, 1))\n",
    "B <- factor(c(-1, -1, 1, 1, -1, -1, 1, 1, -1, -1, 1, 1, -1, -1, 1, 1))\n",
    "C <- factor(c(-1, -1, -1, -1, 1, 1, 1, 1, -1, -1, -1, -1, 1, 1, 1, 1))\n",
    "D <- factor(c(-1, -1, -1, -1, -1, -1, -1, -1, 1, 1, 1, 1, 1, 1, 1, 1))\n",
    "y <- c(2.45, 3.36, 2.16, 2.29, 2.49, 3.39, 2.32, 2.44, 1.84, 2.24, 1.69, 1.87, 2.29, 2.92, 2.04, 2.03)\n",
    "label <- c(\"(1)\", \"a\", \"b\", \"ab\", \"c\", \"ac\", \"bc\", \"abc\", \"d\", \"ad\", \"bd\", \"abd\", \"cd\", \"acd\", \"bcd\", \"abcd\")\n",
    "data <- data.frame(run, A, B, C, D, y, label)"
   ]
  },
  {
   "cell_type": "markdown",
   "metadata": {},
   "source": [
    "where, \n",
    "\n",
    "| Factor | (-1) Control | (+1) New Idea |\n",
    "| --- | --- | --- |\n",
    "| A: Annual Fee | Current | Lower |\n",
    "| B: Account-opening fee | No | Yes |\n",
    "|C: Initial interest rate | Current | Lower |\n",
    "|D: Long-term interest rate | Low | High |"
   ]
  },
  {
   "cell_type": "markdown",
   "metadata": {},
   "source": [
    "**a)** Analyze the data and determine which factor is not significant.\n"
   ]
  },
  {
   "cell_type": "code",
   "execution_count": 53,
   "metadata": {
    "vscode": {
     "languageId": "r"
    }
   },
   "outputs": [
    {
     "data": {
      "text/plain": [
       "            Df Sum Sq Mean Sq F value  Pr(>F)   \n",
       "A            1 0.6642  0.6642   11.04 0.00679 **\n",
       "B            1 1.0712  1.0712   17.81 0.00144 **\n",
       "C            1 0.2550  0.2550    4.24 0.06397 . \n",
       "D            1 0.9900  0.9900   16.46 0.00189 **\n",
       "Residuals   11 0.6617  0.0602                   \n",
       "---\n",
       "Signif. codes:  0 '***' 0.001 '**' 0.01 '*' 0.05 '.' 0.1 ' ' 1"
      ]
     },
     "metadata": {},
     "output_type": "display_data"
    }
   ],
   "source": [
    "model <- lm(y ~ A+B+C+D, data = data)\n",
    "model.aov <- aov(model)\n",
    "summary(model.aov)\n"
   ]
  },
  {
   "cell_type": "markdown",
   "metadata": {},
   "source": [
    "**b)** Project the $2^4$ design into two replicates of a $2^3$ on the significant factors. The new design table should include the runs, factors, responses, and labels."
   ]
  },
  {
   "cell_type": "code",
   "execution_count": 54,
   "metadata": {
    "vscode": {
     "languageId": "r"
    }
   },
   "outputs": [
    {
     "data": {
      "text/html": [
       "<table class=\"dataframe\">\n",
       "<caption>A data.frame: 16 × 6</caption>\n",
       "<thead>\n",
       "\t<tr><th></th><th scope=col>run</th><th scope=col>A</th><th scope=col>B</th><th scope=col>D</th><th scope=col>y</th><th scope=col>label</th></tr>\n",
       "\t<tr><th></th><th scope=col>&lt;int&gt;</th><th scope=col>&lt;fct&gt;</th><th scope=col>&lt;fct&gt;</th><th scope=col>&lt;fct&gt;</th><th scope=col>&lt;dbl&gt;</th><th scope=col>&lt;chr&gt;</th></tr>\n",
       "</thead>\n",
       "<tbody>\n",
       "\t<tr><th scope=row>1</th><td> 1</td><td>-1</td><td>-1</td><td>-1</td><td>2.45</td><td>(1)</td></tr>\n",
       "\t<tr><th scope=row>2</th><td> 2</td><td>1 </td><td>-1</td><td>-1</td><td>3.36</td><td>a  </td></tr>\n",
       "\t<tr><th scope=row>3</th><td> 3</td><td>-1</td><td>1 </td><td>-1</td><td>2.16</td><td>b  </td></tr>\n",
       "\t<tr><th scope=row>4</th><td> 4</td><td>1 </td><td>1 </td><td>-1</td><td>2.29</td><td>ab </td></tr>\n",
       "\t<tr><th scope=row>5</th><td> 5</td><td>-1</td><td>-1</td><td>-1</td><td>2.49</td><td>(1)</td></tr>\n",
       "\t<tr><th scope=row>6</th><td> 6</td><td>1 </td><td>-1</td><td>-1</td><td>3.39</td><td>a  </td></tr>\n",
       "\t<tr><th scope=row>7</th><td> 7</td><td>-1</td><td>1 </td><td>-1</td><td>2.32</td><td>b  </td></tr>\n",
       "\t<tr><th scope=row>8</th><td> 8</td><td>1 </td><td>1 </td><td>-1</td><td>2.44</td><td>ab </td></tr>\n",
       "\t<tr><th scope=row>9</th><td> 9</td><td>-1</td><td>-1</td><td>1 </td><td>1.84</td><td>d  </td></tr>\n",
       "\t<tr><th scope=row>10</th><td>10</td><td>1 </td><td>-1</td><td>1 </td><td>2.24</td><td>ad </td></tr>\n",
       "\t<tr><th scope=row>11</th><td>11</td><td>-1</td><td>1 </td><td>1 </td><td>1.69</td><td>bd </td></tr>\n",
       "\t<tr><th scope=row>12</th><td>12</td><td>1 </td><td>1 </td><td>1 </td><td>1.87</td><td>abd</td></tr>\n",
       "\t<tr><th scope=row>13</th><td>13</td><td>-1</td><td>-1</td><td>1 </td><td>2.29</td><td>d  </td></tr>\n",
       "\t<tr><th scope=row>14</th><td>14</td><td>1 </td><td>-1</td><td>1 </td><td>2.92</td><td>ad </td></tr>\n",
       "\t<tr><th scope=row>15</th><td>15</td><td>-1</td><td>1 </td><td>1 </td><td>2.04</td><td>bd </td></tr>\n",
       "\t<tr><th scope=row>16</th><td>16</td><td>1 </td><td>1 </td><td>1 </td><td>2.03</td><td>abd</td></tr>\n",
       "</tbody>\n",
       "</table>\n"
      ],
      "text/latex": [
       "A data.frame: 16 × 6\n",
       "\\begin{tabular}{r|llllll}\n",
       "  & run & A & B & D & y & label\\\\\n",
       "  & <int> & <fct> & <fct> & <fct> & <dbl> & <chr>\\\\\n",
       "\\hline\n",
       "\t1 &  1 & -1 & -1 & -1 & 2.45 & (1)\\\\\n",
       "\t2 &  2 & 1  & -1 & -1 & 3.36 & a  \\\\\n",
       "\t3 &  3 & -1 & 1  & -1 & 2.16 & b  \\\\\n",
       "\t4 &  4 & 1  & 1  & -1 & 2.29 & ab \\\\\n",
       "\t5 &  5 & -1 & -1 & -1 & 2.49 & (1)\\\\\n",
       "\t6 &  6 & 1  & -1 & -1 & 3.39 & a  \\\\\n",
       "\t7 &  7 & -1 & 1  & -1 & 2.32 & b  \\\\\n",
       "\t8 &  8 & 1  & 1  & -1 & 2.44 & ab \\\\\n",
       "\t9 &  9 & -1 & -1 & 1  & 1.84 & d  \\\\\n",
       "\t10 & 10 & 1  & -1 & 1  & 2.24 & ad \\\\\n",
       "\t11 & 11 & -1 & 1  & 1  & 1.69 & bd \\\\\n",
       "\t12 & 12 & 1  & 1  & 1  & 1.87 & abd\\\\\n",
       "\t13 & 13 & -1 & -1 & 1  & 2.29 & d  \\\\\n",
       "\t14 & 14 & 1  & -1 & 1  & 2.92 & ad \\\\\n",
       "\t15 & 15 & -1 & 1  & 1  & 2.04 & bd \\\\\n",
       "\t16 & 16 & 1  & 1  & 1  & 2.03 & abd\\\\\n",
       "\\end{tabular}\n"
      ],
      "text/markdown": [
       "\n",
       "A data.frame: 16 × 6\n",
       "\n",
       "| <!--/--> | run &lt;int&gt; | A &lt;fct&gt; | B &lt;fct&gt; | D &lt;fct&gt; | y &lt;dbl&gt; | label &lt;chr&gt; |\n",
       "|---|---|---|---|---|---|---|\n",
       "| 1 |  1 | -1 | -1 | -1 | 2.45 | (1) |\n",
       "| 2 |  2 | 1  | -1 | -1 | 3.36 | a   |\n",
       "| 3 |  3 | -1 | 1  | -1 | 2.16 | b   |\n",
       "| 4 |  4 | 1  | 1  | -1 | 2.29 | ab  |\n",
       "| 5 |  5 | -1 | -1 | -1 | 2.49 | (1) |\n",
       "| 6 |  6 | 1  | -1 | -1 | 3.39 | a   |\n",
       "| 7 |  7 | -1 | 1  | -1 | 2.32 | b   |\n",
       "| 8 |  8 | 1  | 1  | -1 | 2.44 | ab  |\n",
       "| 9 |  9 | -1 | -1 | 1  | 1.84 | d   |\n",
       "| 10 | 10 | 1  | -1 | 1  | 2.24 | ad  |\n",
       "| 11 | 11 | -1 | 1  | 1  | 1.69 | bd  |\n",
       "| 12 | 12 | 1  | 1  | 1  | 1.87 | abd |\n",
       "| 13 | 13 | -1 | -1 | 1  | 2.29 | d   |\n",
       "| 14 | 14 | 1  | -1 | 1  | 2.92 | ad  |\n",
       "| 15 | 15 | -1 | 1  | 1  | 2.04 | bd  |\n",
       "| 16 | 16 | 1  | 1  | 1  | 2.03 | abd |\n",
       "\n"
      ],
      "text/plain": [
       "   run A  B  D  y    label\n",
       "1   1  -1 -1 -1 2.45 (1)  \n",
       "2   2  1  -1 -1 3.36 a    \n",
       "3   3  -1 1  -1 2.16 b    \n",
       "4   4  1  1  -1 2.29 ab   \n",
       "5   5  -1 -1 -1 2.49 (1)  \n",
       "6   6  1  -1 -1 3.39 a    \n",
       "7   7  -1 1  -1 2.32 b    \n",
       "8   8  1  1  -1 2.44 ab   \n",
       "9   9  -1 -1 1  1.84 d    \n",
       "10 10  1  -1 1  2.24 ad   \n",
       "11 11  -1 1  1  1.69 bd   \n",
       "12 12  1  1  1  1.87 abd  \n",
       "13 13  -1 -1 1  2.29 d    \n",
       "14 14  1  -1 1  2.92 ad   \n",
       "15 15  -1 1  1  2.04 bd   \n",
       "16 16  1  1  1  2.03 abd  "
      ]
     },
     "metadata": {},
     "output_type": "display_data"
    }
   ],
   "source": [
    "projection <- subset(data, select = -C)\n",
    "projection$label <- gsub(\"c\", \"\", projection$label)\n",
    "projection$label[5] <- \"(1)\"\n",
    "projection"
   ]
  },
  {
   "cell_type": "markdown",
   "metadata": {},
   "source": [
    "**c)** In the projected design, what is the estimated effect of the account-opening fee in the response rate? "
   ]
  },
  {
   "cell_type": "code",
   "execution_count": 55,
   "metadata": {
    "vscode": {
     "languageId": "r"
    }
   },
   "outputs": [
    {
     "data": {
      "text/plain": [
       "\n",
       "Call:\n",
       "lm(formula = y ~ A * B * D, data = projection)\n",
       "\n",
       "Residuals:\n",
       "   Min     1Q Median     3Q    Max \n",
       " -0.34  -0.08   0.00   0.08   0.34 \n",
       "\n",
       "Coefficients:\n",
       "            Estimate Std. Error t value Pr(>|t|)    \n",
       "(Intercept)   2.4700     0.1643  15.035 3.78e-07 ***\n",
       "A1            0.9050     0.2323   3.895  0.00457 ** \n",
       "B1           -0.2300     0.2323  -0.990  0.35117    \n",
       "D1           -0.4050     0.2323  -1.743  0.11945    \n",
       "A1:B1        -0.7800     0.3286  -2.374  0.04496 *  \n",
       "A1:D1        -0.3900     0.3286  -1.187  0.26927    \n",
       "B1:D1         0.0300     0.3286   0.091  0.92949    \n",
       "A1:B1:D1      0.3500     0.4647   0.753  0.47288    \n",
       "---\n",
       "Signif. codes:  0 '***' 0.001 '**' 0.01 '*' 0.05 '.' 0.1 ' ' 1\n",
       "\n",
       "Residual standard error: 0.2323 on 8 degrees of freedom\n",
       "Multiple R-squared:  0.8814,\tAdjusted R-squared:  0.7777 \n",
       "F-statistic: 8.497 on 7 and 8 DF,  p-value: 0.003616\n"
      ]
     },
     "metadata": {},
     "output_type": "display_data"
    }
   ],
   "source": [
    "model2 <- lm(y ~ A*B*D, data = projection)\n",
    "summary(model2)"
   ]
  },
  {
   "cell_type": "markdown",
   "metadata": {},
   "source": [
    "The estimated effect from the account-opening fee on the response rate from the projected data is: $-0.23$."
   ]
  },
  {
   "cell_type": "markdown",
   "metadata": {},
   "source": [
    "**d)** Using the projected design, is the account-opening fee significant?"
   ]
  },
  {
   "cell_type": "code",
   "execution_count": 56,
   "metadata": {
    "vscode": {
     "languageId": "r"
    }
   },
   "outputs": [
    {
     "data": {
      "text/plain": [
       "            Df Sum Sq Mean Sq F value  Pr(>F)   \n",
       "A            1 0.6642  0.6642  12.306 0.00798 **\n",
       "B            1 1.0712  1.0712  19.847 0.00213 **\n",
       "D            1 0.9900  0.9900  18.342 0.00268 **\n",
       "A:B          1 0.3660  0.3660   6.781 0.03142 * \n",
       "A:D          1 0.0462  0.0462   0.856 0.38181   \n",
       "B:D          1 0.0420  0.0420   0.779 0.40330   \n",
       "A:B:D        1 0.0306  0.0306   0.567 0.47288   \n",
       "Residuals    8 0.4318  0.0540                   \n",
       "---\n",
       "Signif. codes:  0 '***' 0.001 '**' 0.01 '*' 0.05 '.' 0.1 ' ' 1"
      ]
     },
     "metadata": {},
     "output_type": "display_data"
    }
   ],
   "source": [
    "model2.aov <- aov(model2)\n",
    "summary(model2.aov)"
   ]
  },
  {
   "cell_type": "markdown",
   "metadata": {},
   "source": [
    "The value $F = 19.847$ has a p-value of $0.00213 < 0.05$. Therefore we conclude there is strong evidence that the account-opening fee is significant."
   ]
  },
  {
   "cell_type": "markdown",
   "metadata": {},
   "source": [
    "**e)** Confound the projected design with blocks using the highest order interaction as a counfounding. Write down the runs for both blocks and estimate the block effect. What is the block effect really estimating in this Case?"
   ]
  },
  {
   "cell_type": "code",
   "execution_count": 57,
   "metadata": {
    "vscode": {
     "languageId": "r"
    }
   },
   "outputs": [
    {
     "data": {
      "text/plain": [
       "            Df Sum Sq Mean Sq F value  Pr(>F)   \n",
       "A            1 0.6642  0.6642  11.050 0.01269 * \n",
       "B            1 1.0712  1.0712  17.821 0.00393 **\n",
       "D            1 0.9900  0.9900  16.470 0.00482 **\n",
       "Block        1 0.0110  0.0110   0.183 0.68133   \n",
       "A:B          1 0.3660  0.3660   6.089 0.04298 * \n",
       "A:D          1 0.0462  0.0462   0.769 0.40961   \n",
       "B:D          1 0.0420  0.0420   0.699 0.43069   \n",
       "A:B:D        1 0.0306  0.0306   0.509 0.49847   \n",
       "Residuals    7 0.4208  0.0601                   \n",
       "---\n",
       "Signif. codes:  0 '***' 0.001 '**' 0.01 '*' 0.05 '.' 0.1 ' ' 1"
      ]
     },
     "metadata": {},
     "output_type": "display_data"
    }
   ],
   "source": [
    "Block=c(1,2,2,1,2,1,1,2,2,1,1,2,1,2,2,1)\n",
    "model3.aov<-aov(y~A*B*D + Block ,data= projection)\n",
    "summary(model3.aov)"
   ]
  },
  {
   "cell_type": "markdown",
   "metadata": {},
   "source": [
    "# Other Stuff"
   ]
  },
  {
   "cell_type": "code",
   "execution_count": 43,
   "metadata": {
    "vscode": {
     "languageId": "r"
    }
   },
   "outputs": [],
   "source": [
    "rm(list = ls())\n",
    "#install.packages(\"conf.design\")\n",
    "require(\"conf.design\")\n",
    "A=rep(c(-1,1),8)\n",
    "B=rep(c(rep(-1,2),rep(1,2)),4)\n",
    "C=rep(c(rep(-1,4),rep(1,4)),2)\n",
    "D=c(rep(-1,8),rep(1,8))\n",
    "X=matrix(c(rep(1,16),A,B,C,D),nrow=16,ncol=5)\n",
    "#Beta_hat1=solve(t(X)%*%X)%*%t(X)%*%FiltrationRate\n",
    "FiltrationRate=c(45,71,48,65,68,60,80,65,43,100,45,104,75,86,70,96)\n",
    "FiltrationRate_Data <- data.frame(FiltrationRate, A,B,C,D)\n",
    "\n"
   ]
  },
  {
   "cell_type": "code",
   "execution_count": 48,
   "metadata": {
    "vscode": {
     "languageId": "r"
    }
   },
   "outputs": [
    {
     "data": {
      "text/html": [
       "<table class=\"dataframe\">\n",
       "<caption>A data.frame: 16 × 5</caption>\n",
       "<thead>\n",
       "\t<tr><th scope=col>FiltrationRate</th><th scope=col>A</th><th scope=col>B</th><th scope=col>C</th><th scope=col>D</th></tr>\n",
       "\t<tr><th scope=col>&lt;dbl&gt;</th><th scope=col>&lt;dbl&gt;</th><th scope=col>&lt;dbl&gt;</th><th scope=col>&lt;dbl&gt;</th><th scope=col>&lt;dbl&gt;</th></tr>\n",
       "</thead>\n",
       "<tbody>\n",
       "\t<tr><td> 45</td><td>-1</td><td>-1</td><td>-1</td><td>-1</td></tr>\n",
       "\t<tr><td> 71</td><td> 1</td><td>-1</td><td>-1</td><td>-1</td></tr>\n",
       "\t<tr><td> 48</td><td>-1</td><td> 1</td><td>-1</td><td>-1</td></tr>\n",
       "\t<tr><td> 65</td><td> 1</td><td> 1</td><td>-1</td><td>-1</td></tr>\n",
       "\t<tr><td> 68</td><td>-1</td><td>-1</td><td> 1</td><td>-1</td></tr>\n",
       "\t<tr><td> 60</td><td> 1</td><td>-1</td><td> 1</td><td>-1</td></tr>\n",
       "\t<tr><td> 80</td><td>-1</td><td> 1</td><td> 1</td><td>-1</td></tr>\n",
       "\t<tr><td> 65</td><td> 1</td><td> 1</td><td> 1</td><td>-1</td></tr>\n",
       "\t<tr><td> 43</td><td>-1</td><td>-1</td><td>-1</td><td> 1</td></tr>\n",
       "\t<tr><td>100</td><td> 1</td><td>-1</td><td>-1</td><td> 1</td></tr>\n",
       "\t<tr><td> 45</td><td>-1</td><td> 1</td><td>-1</td><td> 1</td></tr>\n",
       "\t<tr><td>104</td><td> 1</td><td> 1</td><td>-1</td><td> 1</td></tr>\n",
       "\t<tr><td> 75</td><td>-1</td><td>-1</td><td> 1</td><td> 1</td></tr>\n",
       "\t<tr><td> 86</td><td> 1</td><td>-1</td><td> 1</td><td> 1</td></tr>\n",
       "\t<tr><td> 70</td><td>-1</td><td> 1</td><td> 1</td><td> 1</td></tr>\n",
       "\t<tr><td> 96</td><td> 1</td><td> 1</td><td> 1</td><td> 1</td></tr>\n",
       "</tbody>\n",
       "</table>\n"
      ],
      "text/latex": [
       "A data.frame: 16 × 5\n",
       "\\begin{tabular}{lllll}\n",
       " FiltrationRate & A & B & C & D\\\\\n",
       " <dbl> & <dbl> & <dbl> & <dbl> & <dbl>\\\\\n",
       "\\hline\n",
       "\t  45 & -1 & -1 & -1 & -1\\\\\n",
       "\t  71 &  1 & -1 & -1 & -1\\\\\n",
       "\t  48 & -1 &  1 & -1 & -1\\\\\n",
       "\t  65 &  1 &  1 & -1 & -1\\\\\n",
       "\t  68 & -1 & -1 &  1 & -1\\\\\n",
       "\t  60 &  1 & -1 &  1 & -1\\\\\n",
       "\t  80 & -1 &  1 &  1 & -1\\\\\n",
       "\t  65 &  1 &  1 &  1 & -1\\\\\n",
       "\t  43 & -1 & -1 & -1 &  1\\\\\n",
       "\t 100 &  1 & -1 & -1 &  1\\\\\n",
       "\t  45 & -1 &  1 & -1 &  1\\\\\n",
       "\t 104 &  1 &  1 & -1 &  1\\\\\n",
       "\t  75 & -1 & -1 &  1 &  1\\\\\n",
       "\t  86 &  1 & -1 &  1 &  1\\\\\n",
       "\t  70 & -1 &  1 &  1 &  1\\\\\n",
       "\t  96 &  1 &  1 &  1 &  1\\\\\n",
       "\\end{tabular}\n"
      ],
      "text/markdown": [
       "\n",
       "A data.frame: 16 × 5\n",
       "\n",
       "| FiltrationRate &lt;dbl&gt; | A &lt;dbl&gt; | B &lt;dbl&gt; | C &lt;dbl&gt; | D &lt;dbl&gt; |\n",
       "|---|---|---|---|---|\n",
       "|  45 | -1 | -1 | -1 | -1 |\n",
       "|  71 |  1 | -1 | -1 | -1 |\n",
       "|  48 | -1 |  1 | -1 | -1 |\n",
       "|  65 |  1 |  1 | -1 | -1 |\n",
       "|  68 | -1 | -1 |  1 | -1 |\n",
       "|  60 |  1 | -1 |  1 | -1 |\n",
       "|  80 | -1 |  1 |  1 | -1 |\n",
       "|  65 |  1 |  1 |  1 | -1 |\n",
       "|  43 | -1 | -1 | -1 |  1 |\n",
       "| 100 |  1 | -1 | -1 |  1 |\n",
       "|  45 | -1 |  1 | -1 |  1 |\n",
       "| 104 |  1 |  1 | -1 |  1 |\n",
       "|  75 | -1 | -1 |  1 |  1 |\n",
       "|  86 |  1 | -1 |  1 |  1 |\n",
       "|  70 | -1 |  1 |  1 |  1 |\n",
       "|  96 |  1 |  1 |  1 |  1 |\n",
       "\n"
      ],
      "text/plain": [
       "   FiltrationRate A  B  C  D \n",
       "1   45            -1 -1 -1 -1\n",
       "2   71             1 -1 -1 -1\n",
       "3   48            -1  1 -1 -1\n",
       "4   65             1  1 -1 -1\n",
       "5   68            -1 -1  1 -1\n",
       "6   60             1 -1  1 -1\n",
       "7   80            -1  1  1 -1\n",
       "8   65             1  1  1 -1\n",
       "9   43            -1 -1 -1  1\n",
       "10 100             1 -1 -1  1\n",
       "11  45            -1  1 -1  1\n",
       "12 104             1  1 -1  1\n",
       "13  75            -1 -1  1  1\n",
       "14  86             1 -1  1  1\n",
       "15  70            -1  1  1  1\n",
       "16  96             1  1  1  1"
      ]
     },
     "metadata": {},
     "output_type": "display_data"
    }
   ],
   "source": [
    "FiltrationRate_Data"
   ]
  },
  {
   "cell_type": "code",
   "execution_count": 44,
   "metadata": {
    "vscode": {
     "languageId": "r"
    }
   },
   "outputs": [
    {
     "data": {
      "text/html": [
       "<style>\n",
       ".list-inline {list-style: none; margin:0; padding: 0}\n",
       ".list-inline>li {display: inline-block}\n",
       ".list-inline>li:not(:last-child)::after {content: \"\\00b7\"; padding: 0 .5ex}\n",
       "</style>\n",
       "<ol class=list-inline><li>-1</li><li>1</li><li>-1</li><li>1</li><li>-1</li><li>1</li><li>-1</li><li>1</li><li>-1</li><li>1</li><li>-1</li><li>1</li><li>-1</li><li>1</li><li>-1</li><li>1</li></ol>\n",
       "\n",
       "<details>\n",
       "\t<summary style=display:list-item;cursor:pointer>\n",
       "\t\t<strong>Levels</strong>:\n",
       "\t</summary>\n",
       "\t<style>\n",
       "\t.list-inline {list-style: none; margin:0; padding: 0}\n",
       "\t.list-inline>li {display: inline-block}\n",
       "\t.list-inline>li:not(:last-child)::after {content: \"\\00b7\"; padding: 0 .5ex}\n",
       "\t</style>\n",
       "\t<ol class=list-inline><li>'-1'</li><li>'1'</li></ol>\n",
       "</details>"
      ],
      "text/latex": [
       "\\begin{enumerate*}\n",
       "\\item -1\n",
       "\\item 1\n",
       "\\item -1\n",
       "\\item 1\n",
       "\\item -1\n",
       "\\item 1\n",
       "\\item -1\n",
       "\\item 1\n",
       "\\item -1\n",
       "\\item 1\n",
       "\\item -1\n",
       "\\item 1\n",
       "\\item -1\n",
       "\\item 1\n",
       "\\item -1\n",
       "\\item 1\n",
       "\\end{enumerate*}\n",
       "\n",
       "\\emph{Levels}: \\begin{enumerate*}\n",
       "\\item '-1'\n",
       "\\item '1'\n",
       "\\end{enumerate*}\n"
      ],
      "text/markdown": [
       "1. -1\n",
       "2. 1\n",
       "3. -1\n",
       "4. 1\n",
       "5. -1\n",
       "6. 1\n",
       "7. -1\n",
       "8. 1\n",
       "9. -1\n",
       "10. 1\n",
       "11. -1\n",
       "12. 1\n",
       "13. -1\n",
       "14. 1\n",
       "15. -1\n",
       "16. 1\n",
       "\n",
       "\n",
       "\n",
       "**Levels**: 1. '-1'\n",
       "2. '1'\n",
       "\n",
       "\n"
      ],
      "text/plain": [
       " [1] -1 1  -1 1  -1 1  -1 1  -1 1  -1 1  -1 1  -1 1 \n",
       "Levels: -1 1"
      ]
     },
     "metadata": {},
     "output_type": "display_data"
    },
    {
     "data": {
      "text/plain": [
       "\n",
       "Call:\n",
       "lm(formula = FiltrationRate ~ A * B * C * D, data = FiltrationRate_Data)\n",
       "\n",
       "Residuals:\n",
       "ALL 16 residuals are 0: no residual degrees of freedom!\n",
       "\n",
       "Coefficients:\n",
       "            Estimate Std. Error t value Pr(>|t|)\n",
       "(Intercept)  70.0625        NaN     NaN      NaN\n",
       "A            10.8125        NaN     NaN      NaN\n",
       "B             1.5625        NaN     NaN      NaN\n",
       "C             4.9375        NaN     NaN      NaN\n",
       "D             7.3125        NaN     NaN      NaN\n",
       "A:B           0.0625        NaN     NaN      NaN\n",
       "A:C          -9.0625        NaN     NaN      NaN\n",
       "B:C           1.1875        NaN     NaN      NaN\n",
       "A:D           8.3125        NaN     NaN      NaN\n",
       "B:D          -0.1875        NaN     NaN      NaN\n",
       "C:D          -0.5625        NaN     NaN      NaN\n",
       "A:B:C         0.9375        NaN     NaN      NaN\n",
       "A:B:D         2.0625        NaN     NaN      NaN\n",
       "A:C:D        -0.8125        NaN     NaN      NaN\n",
       "B:C:D        -1.3125        NaN     NaN      NaN\n",
       "A:B:C:D       0.6875        NaN     NaN      NaN\n",
       "\n",
       "Residual standard error: NaN on 0 degrees of freedom\n",
       "Multiple R-squared:      1,\tAdjusted R-squared:    NaN \n",
       "F-statistic:   NaN on 15 and 0 DF,  p-value: NA\n"
      ]
     },
     "metadata": {},
     "output_type": "display_data"
    }
   ],
   "source": [
    "factor(A)\n",
    "res.lm<-lm(FiltrationRate~A+B, data=FiltrationRate_Data)\n",
    "res.lm<-lm(FiltrationRate~A*B*C*D, data=FiltrationRate_Data)\n",
    "summary(res.lm)\n"
   ]
  },
  {
   "cell_type": "code",
   "execution_count": 49,
   "metadata": {
    "vscode": {
     "languageId": "r"
    }
   },
   "outputs": [
    {
     "data": {
      "text/html": [
       "<table class=\"dataframe\">\n",
       "<caption>A matrix: 16 × 3 of type dbl</caption>\n",
       "<tbody>\n",
       "\t<tr><td>1</td><td>0</td><td>0</td></tr>\n",
       "\t<tr><td>1</td><td>1</td><td>0</td></tr>\n",
       "\t<tr><td>1</td><td>0</td><td>1</td></tr>\n",
       "\t<tr><td>1</td><td>1</td><td>1</td></tr>\n",
       "\t<tr><td>1</td><td>0</td><td>0</td></tr>\n",
       "\t<tr><td>1</td><td>1</td><td>0</td></tr>\n",
       "\t<tr><td>1</td><td>0</td><td>1</td></tr>\n",
       "\t<tr><td>1</td><td>1</td><td>1</td></tr>\n",
       "\t<tr><td>1</td><td>0</td><td>0</td></tr>\n",
       "\t<tr><td>1</td><td>1</td><td>0</td></tr>\n",
       "\t<tr><td>1</td><td>0</td><td>1</td></tr>\n",
       "\t<tr><td>1</td><td>1</td><td>1</td></tr>\n",
       "\t<tr><td>1</td><td>0</td><td>0</td></tr>\n",
       "\t<tr><td>1</td><td>1</td><td>0</td></tr>\n",
       "\t<tr><td>1</td><td>0</td><td>1</td></tr>\n",
       "\t<tr><td>1</td><td>1</td><td>1</td></tr>\n",
       "</tbody>\n",
       "</table>\n"
      ],
      "text/latex": [
       "A matrix: 16 × 3 of type dbl\n",
       "\\begin{tabular}{lll}\n",
       "\t 1 & 0 & 0\\\\\n",
       "\t 1 & 1 & 0\\\\\n",
       "\t 1 & 0 & 1\\\\\n",
       "\t 1 & 1 & 1\\\\\n",
       "\t 1 & 0 & 0\\\\\n",
       "\t 1 & 1 & 0\\\\\n",
       "\t 1 & 0 & 1\\\\\n",
       "\t 1 & 1 & 1\\\\\n",
       "\t 1 & 0 & 0\\\\\n",
       "\t 1 & 1 & 0\\\\\n",
       "\t 1 & 0 & 1\\\\\n",
       "\t 1 & 1 & 1\\\\\n",
       "\t 1 & 0 & 0\\\\\n",
       "\t 1 & 1 & 0\\\\\n",
       "\t 1 & 0 & 1\\\\\n",
       "\t 1 & 1 & 1\\\\\n",
       "\\end{tabular}\n"
      ],
      "text/markdown": [
       "\n",
       "A matrix: 16 × 3 of type dbl\n",
       "\n",
       "| 1 | 0 | 0 |\n",
       "| 1 | 1 | 0 |\n",
       "| 1 | 0 | 1 |\n",
       "| 1 | 1 | 1 |\n",
       "| 1 | 0 | 0 |\n",
       "| 1 | 1 | 0 |\n",
       "| 1 | 0 | 1 |\n",
       "| 1 | 1 | 1 |\n",
       "| 1 | 0 | 0 |\n",
       "| 1 | 1 | 0 |\n",
       "| 1 | 0 | 1 |\n",
       "| 1 | 1 | 1 |\n",
       "| 1 | 0 | 0 |\n",
       "| 1 | 1 | 0 |\n",
       "| 1 | 0 | 1 |\n",
       "| 1 | 1 | 1 |\n",
       "\n"
      ],
      "text/plain": [
       "      [,1] [,2] [,3]\n",
       " [1,] 1    0    0   \n",
       " [2,] 1    1    0   \n",
       " [3,] 1    0    1   \n",
       " [4,] 1    1    1   \n",
       " [5,] 1    0    0   \n",
       " [6,] 1    1    0   \n",
       " [7,] 1    0    1   \n",
       " [8,] 1    1    1   \n",
       " [9,] 1    0    0   \n",
       "[10,] 1    1    0   \n",
       "[11,] 1    0    1   \n",
       "[12,] 1    1    1   \n",
       "[13,] 1    0    0   \n",
       "[14,] 1    1    0   \n",
       "[15,] 1    0    1   \n",
       "[16,] 1    1    1   "
      ]
     },
     "metadata": {},
     "output_type": "display_data"
    }
   ],
   "source": [
    "X"
   ]
  },
  {
   "cell_type": "code",
   "execution_count": 45,
   "metadata": {
    "vscode": {
     "languageId": "r"
    }
   },
   "outputs": [
    {
     "data": {
      "text/plain": [
       "            Df Sum Sq Mean Sq\n",
       "A            1 1870.6  1870.6\n",
       "B            1   39.1    39.1\n",
       "C            1  390.1   390.1\n",
       "D            1  855.6   855.6\n",
       "A:B          1    0.1     0.1\n",
       "A:C          1 1314.1  1314.1\n",
       "B:C          1   22.6    22.6\n",
       "A:D          1 1105.6  1105.6\n",
       "B:D          1    0.6     0.6\n",
       "C:D          1    5.1     5.1\n",
       "A:B:C        1   14.1    14.1\n",
       "A:B:D        1   68.1    68.1\n",
       "A:C:D        1   10.6    10.6\n",
       "B:C:D        1   27.6    27.6\n",
       "A:B:C:D      1    7.6     7.6"
      ]
     },
     "metadata": {},
     "output_type": "display_data"
    },
    {
     "data": {
      "text/plain": [
       "\n",
       "Call:\n",
       "lm(formula = FiltrationRate ~ A * B * C * D, data = FiltrationRate_Data)\n",
       "\n",
       "Residuals:\n",
       "ALL 16 residuals are 0: no residual degrees of freedom!\n",
       "\n",
       "Coefficients:\n",
       "            Estimate Std. Error t value Pr(>|t|)\n",
       "(Intercept)  70.0625        NaN     NaN      NaN\n",
       "A            10.8125        NaN     NaN      NaN\n",
       "B             1.5625        NaN     NaN      NaN\n",
       "C             4.9375        NaN     NaN      NaN\n",
       "D             7.3125        NaN     NaN      NaN\n",
       "A:B           0.0625        NaN     NaN      NaN\n",
       "A:C          -9.0625        NaN     NaN      NaN\n",
       "B:C           1.1875        NaN     NaN      NaN\n",
       "A:D           8.3125        NaN     NaN      NaN\n",
       "B:D          -0.1875        NaN     NaN      NaN\n",
       "C:D          -0.5625        NaN     NaN      NaN\n",
       "A:B:C         0.9375        NaN     NaN      NaN\n",
       "A:B:D         2.0625        NaN     NaN      NaN\n",
       "A:C:D        -0.8125        NaN     NaN      NaN\n",
       "B:C:D        -1.3125        NaN     NaN      NaN\n",
       "A:B:C:D       0.6875        NaN     NaN      NaN\n",
       "\n",
       "Residual standard error: NaN on 0 degrees of freedom\n",
       "Multiple R-squared:      1,\tAdjusted R-squared:    NaN \n",
       "F-statistic:   NaN on 15 and 0 DF,  p-value: NA\n"
      ]
     },
     "metadata": {},
     "output_type": "display_data"
    }
   ],
   "source": [
    "A1=rep(c(0,1),8)\n",
    "B1=rep(c(rep(0,2),rep(1,2)),4)\n",
    "X=matrix(c(rep(1,16),A1,B1),nrow=16,ncol=3)\n",
    "Beta_hat2=solve(t(X)%*%X)%*%t(X)%*%FiltrationRate\n",
    "\n",
    "res.aov<-aov(FiltrationRate~A*B*C*D,data=FiltrationRate_Data)\n",
    "summary(res.aov)\n",
    "summary(res.lm)\n",
    "\n"
   ]
  },
  {
   "cell_type": "code",
   "execution_count": 46,
   "metadata": {
    "vscode": {
     "languageId": "r"
    }
   },
   "outputs": [
    {
     "data": {
      "text/plain": [
       "                                        Df Sum Sq Mean Sq\n",
       "factor(A)                                1 1870.6  1870.6\n",
       "factor(B)                                1   39.1    39.1\n",
       "factor(C)                                1  390.1   390.1\n",
       "factor(D)                                1  855.6   855.6\n",
       "factor(A):factor(B)                      1    0.1     0.1\n",
       "factor(A):factor(C)                      1 1314.1  1314.1\n",
       "factor(B):factor(C)                      1   22.6    22.6\n",
       "factor(A):factor(D)                      1 1105.6  1105.6\n",
       "factor(B):factor(D)                      1    0.6     0.6\n",
       "factor(C):factor(D)                      1    5.1     5.1\n",
       "factor(A):factor(B):factor(C)            1   14.1    14.1\n",
       "factor(A):factor(B):factor(D)            1   68.1    68.1\n",
       "factor(A):factor(C):factor(D)            1   10.6    10.6\n",
       "factor(B):factor(C):factor(D)            1   27.6    27.6\n",
       "factor(A):factor(B):factor(C):factor(D)  1    7.6     7.6"
      ]
     },
     "metadata": {},
     "output_type": "display_data"
    }
   ],
   "source": [
    "res.aov3<-aov(FiltrationRate~factor(A)*factor(B)*factor(C)*factor(D),data=FiltrationRate_Data)\n",
    "summary(res.aov3)\n",
    "#Which factors are important? \n",
    "#We only have one obs so we need the normal prob. plot\n",
    "\n"
   ]
  },
  {
   "cell_type": "code",
   "execution_count": 47,
   "metadata": {
    "vscode": {
     "languageId": "r"
    }
   },
   "outputs": [
    {
     "data": {
      "text/plain": [
       "            Df Sum Sq Mean Sq F value   Pr(>F)    \n",
       "A            1 1870.6  1870.6  83.368 1.67e-05 ***\n",
       "C            1  390.1   390.1  17.384 0.003124 ** \n",
       "D            1  855.6   855.6  38.131 0.000267 ***\n",
       "A:C          1 1314.1  1314.1  58.565 6.00e-05 ***\n",
       "A:D          1 1105.6  1105.6  49.273 0.000110 ***\n",
       "C:D          1    5.1     5.1   0.226 0.647483    \n",
       "A:C:D        1   10.6    10.6   0.471 0.512032    \n",
       "Residuals    8  179.5    22.4                     \n",
       "---\n",
       "Signif. codes:  0 '***' 0.001 '**' 0.01 '*' 0.05 '.' 0.1 ' ' 1"
      ]
     },
     "metadata": {},
     "output_type": "display_data"
    },
    {
     "data": {
      "text/plain": [
       "\n",
       "Call:\n",
       "lm(formula = FiltrationRate ~ A * C * D, data = FiltrationRate_Data)\n",
       "\n",
       "Residuals:\n",
       "   Min     1Q Median     3Q    Max \n",
       "  -6.0   -2.5    0.0    2.5    6.0 \n",
       "\n",
       "Coefficients:\n",
       "            Estimate Std. Error t value Pr(>|t|)    \n",
       "(Intercept)  70.0625     1.1842  59.164 7.40e-12 ***\n",
       "A            10.8125     1.1842   9.131 1.67e-05 ***\n",
       "C             4.9375     1.1842   4.169 0.003124 ** \n",
       "D             7.3125     1.1842   6.175 0.000267 ***\n",
       "A:C          -9.0625     1.1842  -7.653 6.00e-05 ***\n",
       "A:D           8.3125     1.1842   7.019 0.000110 ***\n",
       "C:D          -0.5625     1.1842  -0.475 0.647483    \n",
       "A:C:D        -0.8125     1.1842  -0.686 0.512032    \n",
       "---\n",
       "Signif. codes:  0 '***' 0.001 '**' 0.01 '*' 0.05 '.' 0.1 ' ' 1\n",
       "\n",
       "Residual standard error: 4.737 on 8 degrees of freedom\n",
       "Multiple R-squared:  0.9687,\tAdjusted R-squared:  0.9413 \n",
       "F-statistic: 35.35 on 7 and 8 DF,  p-value: 2.119e-05\n"
      ]
     },
     "metadata": {},
     "output_type": "display_data"
    },
    {
     "data": {
      "text/plain": [
       "            Df Sum Sq Mean Sq F value   Pr(>F)    \n",
       "A            1 1870.6  1870.6   95.86 1.93e-06 ***\n",
       "C            1  390.1   390.1   19.99   0.0012 ** \n",
       "D            1  855.6   855.6   43.85 5.92e-05 ***\n",
       "A:C          1 1314.1  1314.1   67.34 9.41e-06 ***\n",
       "A:D          1 1105.6  1105.6   56.66 2.00e-05 ***\n",
       "Residuals   10  195.1    19.5                     \n",
       "---\n",
       "Signif. codes:  0 '***' 0.001 '**' 0.01 '*' 0.05 '.' 0.1 ' ' 1"
      ]
     },
     "metadata": {},
     "output_type": "display_data"
    },
    {
     "data": {
      "image/png": "[encoded data removed]",
      "text/plain": [
       "Plot with title \"Normal Q-Q Plot\""
      ]
     },
     "metadata": {
      "image/png": {
       "height": 420,
       "width": 420
      }
     },
     "output_type": "display_data"
    }
   ],
   "source": [
    "#install.packages(\"daewr\")\n",
    "library(daewr)\n",
    "fullnormal(coef(res.lm)[-1],alpha=.025)\n",
    "\n",
    "#Projected model\n",
    "res.aov<-aov(FiltrationRate~A*C*D,data=FiltrationRate_Data)\n",
    "summary(res.aov)\n",
    "res.lm<-lm(FiltrationRate~A*C*D, data=FiltrationRate_Data)\n",
    "summary(res.lm)\n",
    "\n",
    "#Final model - remove non-significant terms\n",
    "res.aov<-aov(FiltrationRate~A*C*D-A:C:D-C:D,data=FiltrationRate_Data)\n",
    "summary(res.aov)"
   ]
  }
 ],
 "metadata": {
  "kernelspec": {
   "display_name": "R",
   "language": "R",
   "name": "ir"
  },
  "language_info": {
   "codemirror_mode": "r",
   "file_extension": ".r",
   "mimetype": "text/x-r-source",
   "name": "R",
   "pygments_lexer": "r",
   "version": "4.3.1"
  }
 },
 "nbformat": 4,
 "nbformat_minor": 2
}
