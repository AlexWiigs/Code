{
 "cells": [
  {
   "cell_type": "markdown",
   "metadata": {},
   "source": [
    "# Question 1 - Alex Wiigs Stat 553 Final"
   ]
  },
  {
   "cell_type": "markdown",
   "metadata": {},
   "source": [
    "**[10 marks] A data set in \"DataSet1.csv\" has observations for six variable $y_1,...,y_6$ from several groups (populations). Use this data set to perform hypothesis tests and discriminant analysis.**"
   ]
  },
  {
   "cell_type": "markdown",
   "metadata": {},
   "source": [
    "First we should load in the data and do some exploratory analysis. We have several different groups, so it will be important to find how many there are so we can test their poroperties."
   ]
  },
  {
   "cell_type": "code",
   "execution_count": 17,
   "metadata": {
    "vscode": {
     "languageId": "r"
    }
   },
   "outputs": [],
   "source": [
    "library(tidyverse)"
   ]
  },
  {
   "cell_type": "code",
   "execution_count": 25,
   "metadata": {
    "vscode": {
     "languageId": "r"
    }
   },
   "outputs": [
    {
     "data": {
      "text/html": [
       "<table class=\"dataframe\">\n",
       "<caption>A data.frame: 6 × 7</caption>\n",
       "<thead>\n",
       "\t<tr><th></th><th scope=col>group</th><th scope=col>y1</th><th scope=col>y2</th><th scope=col>y3</th><th scope=col>y4</th><th scope=col>y5</th><th scope=col>y6</th></tr>\n",
       "\t<tr><th></th><th scope=col>&lt;dbl&gt;</th><th scope=col>&lt;dbl&gt;</th><th scope=col>&lt;dbl&gt;</th><th scope=col>&lt;dbl&gt;</th><th scope=col>&lt;dbl&gt;</th><th scope=col>&lt;dbl&gt;</th><th scope=col>&lt;dbl&gt;</th></tr>\n",
       "</thead>\n",
       "<tbody>\n",
       "\t<tr><th scope=row>1</th><td>1</td><td>4.71</td><td>4.28</td><td> 2.12</td><td> 1.60</td><td>-0.31</td><td>-0.72</td></tr>\n",
       "\t<tr><th scope=row>2</th><td>1</td><td>4.81</td><td>3.94</td><td> 2.23</td><td>-1.37</td><td>-2.02</td><td>-0.55</td></tr>\n",
       "\t<tr><th scope=row>3</th><td>1</td><td>7.60</td><td>7.49</td><td> 0.72</td><td> 0.12</td><td>-0.35</td><td>-0.93</td></tr>\n",
       "\t<tr><th scope=row>4</th><td>1</td><td>7.71</td><td>7.52</td><td>-0.05</td><td> 0.38</td><td>-0.78</td><td>-0.29</td></tr>\n",
       "\t<tr><th scope=row>5</th><td>1</td><td>6.74</td><td>5.07</td><td> 1.71</td><td> 1.60</td><td> 1.06</td><td>-0.14</td></tr>\n",
       "\t<tr><th scope=row>6</th><td>1</td><td>4.93</td><td>5.83</td><td>-2.62</td><td> 0.74</td><td> 0.25</td><td>-0.65</td></tr>\n",
       "</tbody>\n",
       "</table>\n"
      ],
      "text/latex": [
       "A data.frame: 6 × 7\n",
       "\\begin{tabular}{r|lllllll}\n",
       "  & group & y1 & y2 & y3 & y4 & y5 & y6\\\\\n",
       "  & <dbl> & <dbl> & <dbl> & <dbl> & <dbl> & <dbl> & <dbl>\\\\\n",
       "\\hline\n",
       "\t1 & 1 & 4.71 & 4.28 &  2.12 &  1.60 & -0.31 & -0.72\\\\\n",
       "\t2 & 1 & 4.81 & 3.94 &  2.23 & -1.37 & -2.02 & -0.55\\\\\n",
       "\t3 & 1 & 7.60 & 7.49 &  0.72 &  0.12 & -0.35 & -0.93\\\\\n",
       "\t4 & 1 & 7.71 & 7.52 & -0.05 &  0.38 & -0.78 & -0.29\\\\\n",
       "\t5 & 1 & 6.74 & 5.07 &  1.71 &  1.60 &  1.06 & -0.14\\\\\n",
       "\t6 & 1 & 4.93 & 5.83 & -2.62 &  0.74 &  0.25 & -0.65\\\\\n",
       "\\end{tabular}\n"
      ],
      "text/markdown": [
       "\n",
       "A data.frame: 6 × 7\n",
       "\n",
       "| <!--/--> | group &lt;dbl&gt; | y1 &lt;dbl&gt; | y2 &lt;dbl&gt; | y3 &lt;dbl&gt; | y4 &lt;dbl&gt; | y5 &lt;dbl&gt; | y6 &lt;dbl&gt; |\n",
       "|---|---|---|---|---|---|---|---|\n",
       "| 1 | 1 | 4.71 | 4.28 |  2.12 |  1.60 | -0.31 | -0.72 |\n",
       "| 2 | 1 | 4.81 | 3.94 |  2.23 | -1.37 | -2.02 | -0.55 |\n",
       "| 3 | 1 | 7.60 | 7.49 |  0.72 |  0.12 | -0.35 | -0.93 |\n",
       "| 4 | 1 | 7.71 | 7.52 | -0.05 |  0.38 | -0.78 | -0.29 |\n",
       "| 5 | 1 | 6.74 | 5.07 |  1.71 |  1.60 |  1.06 | -0.14 |\n",
       "| 6 | 1 | 4.93 | 5.83 | -2.62 |  0.74 |  0.25 | -0.65 |\n",
       "\n"
      ],
      "text/plain": [
       "  group y1   y2   y3    y4    y5    y6   \n",
       "1 1     4.71 4.28  2.12  1.60 -0.31 -0.72\n",
       "2 1     4.81 3.94  2.23 -1.37 -2.02 -0.55\n",
       "3 1     7.60 7.49  0.72  0.12 -0.35 -0.93\n",
       "4 1     7.71 7.52 -0.05  0.38 -0.78 -0.29\n",
       "5 1     6.74 5.07  1.71  1.60  1.06 -0.14\n",
       "6 1     4.93 5.83 -2.62  0.74  0.25 -0.65"
      ]
     },
     "metadata": {},
     "output_type": "display_data"
    },
    {
     "name": "stdout",
     "output_type": "stream",
     "text": [
      "[1] \"Number of groups in the data set: 5\"\n"
     ]
    },
    {
     "data": {
      "text/html": [
       "'There are 650.000000 entries in the entire dataset.'"
      ],
      "text/latex": [
       "'There are 650.000000 entries in the entire dataset.'"
      ],
      "text/markdown": [
       "'There are 650.000000 entries in the entire dataset.'"
      ],
      "text/plain": [
       "[1] \"There are 650.000000 entries in the entire dataset.\""
      ]
     },
     "metadata": {},
     "output_type": "display_data"
    },
    {
     "data": {
      "text/html": [
       "'There are 130.000000 entries in each group.'"
      ],
      "text/latex": [
       "'There are 130.000000 entries in each group.'"
      ],
      "text/markdown": [
       "'There are 130.000000 entries in each group.'"
      ],
      "text/plain": [
       "[1] \"There are 130.000000 entries in each group.\""
      ]
     },
     "metadata": {},
     "output_type": "display_data"
    }
   ],
   "source": [
    "# Load data \n",
    "data <- read.csv(\"/Users/alexwiigs/Documents/Code/STAT 553 Final/DataSet1.csv\")\n",
    "head(round(data,2))\n",
    "\n",
    "# shows the number of groups\n",
    "num_groups <- max(data[,1])\n",
    "print(paste(\"Number of groups in the data set:\", num_groups))\n",
    "\n",
    "# total number of entries in each group and in the whole data set\n",
    "n <- nrow(data)\n",
    "ni <- n / num_groups\n",
    "num_groups <- 5\n",
    "num_variables <- 6\n",
    "sprintf(\"There are %f entries in the entire dataset.\", n)\n",
    "sprintf(\"There are %f entries in each group.\", ni)"
   ]
  },
  {
   "cell_type": "markdown",
   "metadata": {},
   "source": [
    "**(a)** Are the population covariance and matrices the same?"
   ]
  },
  {
   "cell_type": "code",
   "execution_count": 19,
   "metadata": {
    "vscode": {
     "languageId": "r"
    }
   },
   "outputs": [
    {
     "data": {
      "text/html": [
       "116.684767339739"
      ],
      "text/latex": [
       "116.684767339739"
      ],
      "text/markdown": [
       "116.684767339739"
      ],
      "text/plain": [
       "[1] 116.6848"
      ]
     },
     "metadata": {},
     "output_type": "display_data"
    }
   ],
   "source": [
    "# Preliminary functions\n",
    "ni <- function(i) { data |> filter(group == i) |> select(-group) |> nrow() }\n",
    "Si <- function(i) { data |> filter(group == i) |> select(-group) |> cov() }\n",
    "Spl <- function(data) {\n",
    "    numerator = matrix(0, nrow = ncol(data[,-1]), ncol = ncol(data[,-1]))\n",
    "    for (i in 1:num_groups) { numerator = numerator + ni(i) * Si(i) }\n",
    "    denominator = nrow(data) - num_groups\n",
    "    return(numerator / denominator)}\n",
    "M <- function(data) {\n",
    "    numerator = 1\n",
    "    exponent = 0\n",
    "    for (i in 1:num_groups) {numerator = numerator * det(Si(i))^( (ni(i) - 1) / 2 ) }\n",
    "    for (i in 1:num_groups) {exponent = exponent + (ni(i) - 1) / 2}\n",
    "    return( numerator / ( det(Spl(data))^exponent ) )}\n",
    "c1 <- function(data) {\n",
    "    term1 = 0\n",
    "    term2 = 0\n",
    "    for (i in 1:num_groups) {\n",
    "        term1 = term1 + 1/ (ni(i) -1)\n",
    "        term2 = term2 + (ni(i) -1)}\n",
    "    value <- (term1 - 1 / term2) *\n",
    "    (2 * num_variables^2 + 3 * num_variables - 1) / (6 * (num_variables + 1) * (num_groups - 1))\n",
    "    return(value)}\n",
    "# Test Statistic\n",
    "u <- -2 * (1 - c1(data)) * log(M(data))\n",
    "u"
   ]
  },
  {
   "cell_type": "markdown",
   "metadata": {},
   "source": [
    "**(b)** Are the population mean vectors the same?"
   ]
  },
  {
   "cell_type": "markdown",
   "metadata": {},
   "source": [
    "In order to preform analysis on the different groups, it is important to first check whether the difference in the groups is statistically significant. We create a MANOVA model for this."
   ]
  },
  {
   "cell_type": "markdown",
   "metadata": {},
   "source": [
    "$$\\textbf{y}_{ij} = \\mu_i + \\epsilon_{ij}$$\n",
    "$i = 1, ..., 5$, $j = 1,..., 130$\n",
    "$$\\epsilon_{ij} \\sim^{\\text{i.i.d}} N_p(0, \\Sigma )$$"
   ]
  },
  {
   "cell_type": "markdown",
   "metadata": {},
   "source": [
    "By writing $\\mu_i = \\mu + \\alpha_i$, where $\\mu$ is the overall mean vector, and $\\sum_{i=1}^5 \\alpha_i =0$ we can state our null and alternative hypothesis as follows:  \n",
    "  \n",
    "$H_0: \\alpha_1 = ... = \\alpha_5 = 0$.     \n",
    "$H_1:$ at least one $\\alpha_i$ is not zero."
   ]
  },
  {
   "cell_type": "markdown",
   "metadata": {},
   "source": [
    "The Wilks' test statistic can preform this hypothesis test. The test statstic is \n",
    "$$\\Lambda = \\frac{|E|}{|E+H|} $$\n",
    "where we will reject $H_0$ if $\\Lambda \\leq \\Lambda_{\\alpha, p, v_H, v_E}$. The matrix $E$ is a covariance matrix that represents the variance \"within\" the differnt groups and the matrix $H$ is a covariance matrix that repesents the variance \"between\" the each group and the overall average for all the groups. If $H$ is small relative to $E$, we will have little reason to reject the null hypothesis."
   ]
  },
  {
   "cell_type": "markdown",
   "metadata": {},
   "source": [
    "We calculate the \"between\" Matrix $H$ with the following theorem:\n",
    "$$H = n \\sum_{i=1}^k (\\bar{\\textbf{y}}_{i\\cdot} - \\bar{\\textbf{y}}_{\\cdot \\cdot} )(\\bar{\\textbf{y}}_{i\\cdot} - \\bar{\\textbf{y}}_{\\cdot \\cdot} )'$$"
   ]
  },
  {
   "cell_type": "code",
   "execution_count": 20,
   "metadata": {
    "vscode": {
     "languageId": "r"
    }
   },
   "outputs": [],
   "source": [
    "# Overall mean vector\n",
    "overall_mean <- data |> select(-group) |> colSums() / ( n )\n",
    "overall_mean <- overall_mean |> as.matrix()\n",
    "# Calculate matrix where the rows are mean vectors for each of the five groups.\n",
    "group_means <- data.frame()\n",
    "for (i in 1:5) {\n",
    "    temp_value <- data |> filter(group ==i) |> nrow()\n",
    "    calculation <- data |> filter(group == i) |> select(-group) |> colSums() / temp_value\n",
    "    group_means <- bind_rows(group_means, calculation)\n",
    "    } \n",
    "group_means <- group_means |> as.matrix()\n",
    "rownames(group_means) <- c(\"group1\", \"group2\", \"group3\", \"group4\", \"group5\")"
   ]
  },
  {
   "cell_type": "code",
   "execution_count": 21,
   "metadata": {
    "vscode": {
     "languageId": "r"
    }
   },
   "outputs": [
    {
     "data": {
      "text/html": [
       "<table class=\"dataframe\">\n",
       "<caption>A matrix: 6 × 6 of type dbl</caption>\n",
       "<thead>\n",
       "\t<tr><th></th><th scope=col>y1</th><th scope=col>y2</th><th scope=col>y3</th><th scope=col>y4</th><th scope=col>y5</th><th scope=col>y6</th></tr>\n",
       "</thead>\n",
       "<tbody>\n",
       "\t<tr><th scope=row>y1</th><td>25943.40</td><td>5165.60</td><td>29282.66</td><td>115.18</td><td> 14.79</td><td>-3.07</td></tr>\n",
       "\t<tr><th scope=row>y2</th><td> 5165.60</td><td>9957.73</td><td> 1464.52</td><td>-63.65</td><td>-44.85</td><td>67.41</td></tr>\n",
       "\t<tr><th scope=row>y3</th><td>29282.66</td><td>1464.52</td><td>39234.27</td><td>214.80</td><td>118.35</td><td> 4.02</td></tr>\n",
       "\t<tr><th scope=row>y4</th><td>  115.18</td><td> -63.65</td><td>  214.80</td><td>  8.62</td><td>  0.77</td><td>-2.39</td></tr>\n",
       "\t<tr><th scope=row>y5</th><td>   14.79</td><td> -44.85</td><td>  118.35</td><td>  0.77</td><td>  1.83</td><td> 0.60</td></tr>\n",
       "\t<tr><th scope=row>y6</th><td>   -3.07</td><td>  67.41</td><td>    4.02</td><td> -2.39</td><td>  0.60</td><td> 1.60</td></tr>\n",
       "</tbody>\n",
       "</table>\n"
      ],
      "text/latex": [
       "A matrix: 6 × 6 of type dbl\n",
       "\\begin{tabular}{r|llllll}\n",
       "  & y1 & y2 & y3 & y4 & y5 & y6\\\\\n",
       "\\hline\n",
       "\ty1 & 25943.40 & 5165.60 & 29282.66 & 115.18 &  14.79 & -3.07\\\\\n",
       "\ty2 &  5165.60 & 9957.73 &  1464.52 & -63.65 & -44.85 & 67.41\\\\\n",
       "\ty3 & 29282.66 & 1464.52 & 39234.27 & 214.80 & 118.35 &  4.02\\\\\n",
       "\ty4 &   115.18 &  -63.65 &   214.80 &   8.62 &   0.77 & -2.39\\\\\n",
       "\ty5 &    14.79 &  -44.85 &   118.35 &   0.77 &   1.83 &  0.60\\\\\n",
       "\ty6 &    -3.07 &   67.41 &     4.02 &  -2.39 &   0.60 &  1.60\\\\\n",
       "\\end{tabular}\n"
      ],
      "text/markdown": [
       "\n",
       "A matrix: 6 × 6 of type dbl\n",
       "\n",
       "| <!--/--> | y1 | y2 | y3 | y4 | y5 | y6 |\n",
       "|---|---|---|---|---|---|---|\n",
       "| y1 | 25943.40 | 5165.60 | 29282.66 | 115.18 |  14.79 | -3.07 |\n",
       "| y2 |  5165.60 | 9957.73 |  1464.52 | -63.65 | -44.85 | 67.41 |\n",
       "| y3 | 29282.66 | 1464.52 | 39234.27 | 214.80 | 118.35 |  4.02 |\n",
       "| y4 |   115.18 |  -63.65 |   214.80 |   8.62 |   0.77 | -2.39 |\n",
       "| y5 |    14.79 |  -44.85 |   118.35 |   0.77 |   1.83 |  0.60 |\n",
       "| y6 |    -3.07 |   67.41 |     4.02 |  -2.39 |   0.60 |  1.60 |\n",
       "\n"
      ],
      "text/plain": [
       "   y1       y2      y3       y4     y5     y6   \n",
       "y1 25943.40 5165.60 29282.66 115.18  14.79 -3.07\n",
       "y2  5165.60 9957.73  1464.52 -63.65 -44.85 67.41\n",
       "y3 29282.66 1464.52 39234.27 214.80 118.35  4.02\n",
       "y4   115.18  -63.65   214.80   8.62   0.77 -2.39\n",
       "y5    14.79  -44.85   118.35   0.77   1.83  0.60\n",
       "y6    -3.07   67.41     4.02  -2.39   0.60  1.60"
      ]
     },
     "metadata": {},
     "output_type": "display_data"
    }
   ],
   "source": [
    "# Calculate the H matrix\n",
    "H <- matrix(0, nrow = 6, ncol = 6)\n",
    "for (i in 1:5) {\n",
    "    ni <- data |> filter(group == i) |> select(-group) |> nrow()\n",
    "    H <- H + ni * ( as.matrix(group_means[i,]) - overall_mean ) %*% \n",
    "    t( as.matrix(group_means[i,]) - overall_mean )  }\n",
    "round(H,2)"
   ]
  },
  {
   "cell_type": "markdown",
   "metadata": {},
   "source": [
    "Our formula for the \"within\" matrix $E$ is:\n",
    "$$ E = \\sum_{i=1}^k \\sum_{j=1}^{n_i} (\\textbf{y}_{ij} - \\bar{ \\textbf{y} }_{i \\cdot} ) (\\textbf{y}_{ij} - \\bar{ \\textbf{y} }_{i\\cdot} )'$$ "
   ]
  },
  {
   "cell_type": "code",
   "execution_count": 22,
   "metadata": {
    "vscode": {
     "languageId": "r"
    }
   },
   "outputs": [
    {
     "data": {
      "text/html": [
       "<table class=\"dataframe\">\n",
       "<caption>A matrix: 6 × 6 of type dbl</caption>\n",
       "<thead>\n",
       "\t<tr><th></th><th scope=col>y1</th><th scope=col>y2</th><th scope=col>y3</th><th scope=col>y4</th><th scope=col>y5</th><th scope=col>y6</th></tr>\n",
       "</thead>\n",
       "<tbody>\n",
       "\t<tr><th scope=row>y1</th><td>1203.34</td><td> 563.79</td><td> 691.20</td><td> 14.37</td><td> -6.19</td><td> -4.71</td></tr>\n",
       "\t<tr><th scope=row>y2</th><td> 563.79</td><td>1304.08</td><td>-691.18</td><td> 27.51</td><td> -5.94</td><td>-29.81</td></tr>\n",
       "\t<tr><th scope=row>y3</th><td> 691.20</td><td>-691.18</td><td>2020.05</td><td>-61.92</td><td>-15.48</td><td> 11.81</td></tr>\n",
       "\t<tr><th scope=row>y4</th><td>  14.37</td><td>  27.51</td><td> -61.92</td><td>585.53</td><td> 32.29</td><td>-12.27</td></tr>\n",
       "\t<tr><th scope=row>y5</th><td>  -6.19</td><td>  -5.94</td><td> -15.48</td><td> 32.29</td><td>570.52</td><td> 22.14</td></tr>\n",
       "\t<tr><th scope=row>y6</th><td>  -4.71</td><td> -29.81</td><td>  11.81</td><td>-12.27</td><td> 22.14</td><td>315.86</td></tr>\n",
       "</tbody>\n",
       "</table>\n"
      ],
      "text/latex": [
       "A matrix: 6 × 6 of type dbl\n",
       "\\begin{tabular}{r|llllll}\n",
       "  & y1 & y2 & y3 & y4 & y5 & y6\\\\\n",
       "\\hline\n",
       "\ty1 & 1203.34 &  563.79 &  691.20 &  14.37 &  -6.19 &  -4.71\\\\\n",
       "\ty2 &  563.79 & 1304.08 & -691.18 &  27.51 &  -5.94 & -29.81\\\\\n",
       "\ty3 &  691.20 & -691.18 & 2020.05 & -61.92 & -15.48 &  11.81\\\\\n",
       "\ty4 &   14.37 &   27.51 &  -61.92 & 585.53 &  32.29 & -12.27\\\\\n",
       "\ty5 &   -6.19 &   -5.94 &  -15.48 &  32.29 & 570.52 &  22.14\\\\\n",
       "\ty6 &   -4.71 &  -29.81 &   11.81 & -12.27 &  22.14 & 315.86\\\\\n",
       "\\end{tabular}\n"
      ],
      "text/markdown": [
       "\n",
       "A matrix: 6 × 6 of type dbl\n",
       "\n",
       "| <!--/--> | y1 | y2 | y3 | y4 | y5 | y6 |\n",
       "|---|---|---|---|---|---|---|\n",
       "| y1 | 1203.34 |  563.79 |  691.20 |  14.37 |  -6.19 |  -4.71 |\n",
       "| y2 |  563.79 | 1304.08 | -691.18 |  27.51 |  -5.94 | -29.81 |\n",
       "| y3 |  691.20 | -691.18 | 2020.05 | -61.92 | -15.48 |  11.81 |\n",
       "| y4 |   14.37 |   27.51 |  -61.92 | 585.53 |  32.29 | -12.27 |\n",
       "| y5 |   -6.19 |   -5.94 |  -15.48 |  32.29 | 570.52 |  22.14 |\n",
       "| y6 |   -4.71 |  -29.81 |   11.81 | -12.27 |  22.14 | 315.86 |\n",
       "\n"
      ],
      "text/plain": [
       "   y1      y2      y3      y4     y5     y6    \n",
       "y1 1203.34  563.79  691.20  14.37  -6.19  -4.71\n",
       "y2  563.79 1304.08 -691.18  27.51  -5.94 -29.81\n",
       "y3  691.20 -691.18 2020.05 -61.92 -15.48  11.81\n",
       "y4   14.37   27.51  -61.92 585.53  32.29 -12.27\n",
       "y5   -6.19   -5.94  -15.48  32.29 570.52  22.14\n",
       "y6   -4.71  -29.81   11.81 -12.27  22.14 315.86"
      ]
     },
     "metadata": {},
     "output_type": "display_data"
    }
   ],
   "source": [
    "# Calcualte the E matrix\n",
    "E <- matrix(0, nrow = 6, ncol = 6)\n",
    "for (i in 1:5) {\n",
    "    for ( j in 1:nrow(filter(data, group == i))) {\n",
    "        y_ij <- data |> filter(group == i) |> select(-group) |> slice(j)\n",
    "        E <- E + (t(y_ij) - group_means[i,] ) %*% t(t(y_ij) - group_means[i,] ) }}\n",
    "round(E,2)"
   ]
  },
  {
   "cell_type": "markdown",
   "metadata": {},
   "source": [
    "Now that we have calculated the matrices we can caulate the test statistic."
   ]
  },
  {
   "cell_type": "code",
   "execution_count": 23,
   "metadata": {
    "vscode": {
     "languageId": "r"
    }
   },
   "outputs": [
    {
     "data": {
      "text/html": [
       "0.00055361287165637"
      ],
      "text/latex": [
       "0.00055361287165637"
      ],
      "text/markdown": [
       "0.00055361287165637"
      ],
      "text/plain": [
       "[1] 0.0005536129"
      ]
     },
     "metadata": {},
     "output_type": "display_data"
    }
   ],
   "source": [
    "Lambda <- det(E) / det( E + H)\n",
    "Lambda"
   ]
  },
  {
   "cell_type": "markdown",
   "metadata": {},
   "source": [
    "**(c)** Find discriminant functions and use the first two discriminant functions to show the data set."
   ]
  },
  {
   "cell_type": "code",
   "execution_count": 24,
   "metadata": {
    "vscode": {
     "languageId": "r"
    }
   },
   "outputs": [],
   "source": [
    "vectors <- eigen(solve(E) %*% H)$vectors\n",
    "values <- eigen(solve(E) %*% H )$values\n"
   ]
  }
 ],
 "metadata": {
  "kernelspec": {
   "display_name": "R",
   "language": "R",
   "name": "ir"
  },
  "language_info": {
   "codemirror_mode": "r",
   "file_extension": ".r",
   "mimetype": "text/x-r-source",
   "name": "R",
   "pygments_lexer": "r",
   "version": "4.3.1"
  }
 },
 "nbformat": 4,
 "nbformat_minor": 2
}
