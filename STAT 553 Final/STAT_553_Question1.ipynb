{
 "cells": [
  {
   "cell_type": "markdown",
   "metadata": {},
   "source": [
    "# Question 1 - Alex Wiigs Stat 553 Final"
   ]
  },
  {
   "cell_type": "markdown",
   "metadata": {},
   "source": [
    "**[10 marks] A data set in \"DataSet1.csv\" has observations for six variable $y_1,...,y_6$ from several groups (populations). Use this data set to perform hypothesis tests and discriminant analysis.**"
   ]
  },
  {
   "cell_type": "code",
   "execution_count": 109,
   "metadata": {
    "vscode": {
     "languageId": "r"
    }
   },
   "outputs": [],
   "source": [
    "library(tidyverse)"
   ]
  },
  {
   "cell_type": "markdown",
   "metadata": {},
   "source": [
    "First we should load in the data and do some exploratory analysis. In particular, we should look at how many groups the data contains, how many variables they have and the total number of samples in the data set."
   ]
  },
  {
   "cell_type": "code",
   "execution_count": 110,
   "metadata": {
    "vscode": {
     "languageId": "r"
    }
   },
   "outputs": [
    {
     "data": {
      "text/html": [
       "<table class=\"dataframe\">\n",
       "<caption>A data.frame: 6 × 7</caption>\n",
       "<thead>\n",
       "\t<tr><th></th><th scope=col>group</th><th scope=col>y1</th><th scope=col>y2</th><th scope=col>y3</th><th scope=col>y4</th><th scope=col>y5</th><th scope=col>y6</th></tr>\n",
       "\t<tr><th></th><th scope=col>&lt;int&gt;</th><th scope=col>&lt;dbl&gt;</th><th scope=col>&lt;dbl&gt;</th><th scope=col>&lt;dbl&gt;</th><th scope=col>&lt;dbl&gt;</th><th scope=col>&lt;dbl&gt;</th><th scope=col>&lt;dbl&gt;</th></tr>\n",
       "</thead>\n",
       "<tbody>\n",
       "\t<tr><th scope=row>1</th><td>1</td><td>4.707869</td><td>4.278837</td><td> 2.11668049</td><td> 1.5988311</td><td>-0.3116434</td><td>-0.7212232</td></tr>\n",
       "\t<tr><th scope=row>2</th><td>1</td><td>4.813089</td><td>3.943643</td><td> 2.22508152</td><td>-1.3731751</td><td>-2.0235093</td><td>-0.5527398</td></tr>\n",
       "\t<tr><th scope=row>3</th><td>1</td><td>7.598728</td><td>7.490672</td><td> 0.72267853</td><td> 0.1228908</td><td>-0.3456590</td><td>-0.9274571</td></tr>\n",
       "\t<tr><th scope=row>4</th><td>1</td><td>7.707268</td><td>7.524177</td><td>-0.05352098</td><td> 0.3776550</td><td>-0.7763228</td><td>-0.2856730</td></tr>\n",
       "\t<tr><th scope=row>5</th><td>1</td><td>6.736214</td><td>5.065981</td><td> 1.70665593</td><td> 1.5999088</td><td> 1.0570660</td><td>-0.1410927</td></tr>\n",
       "\t<tr><th scope=row>6</th><td>1</td><td>4.928420</td><td>5.834367</td><td>-2.62305054</td><td> 0.7447885</td><td> 0.2523461</td><td>-0.6458310</td></tr>\n",
       "</tbody>\n",
       "</table>\n"
      ],
      "text/latex": [
       "A data.frame: 6 × 7\n",
       "\\begin{tabular}{r|lllllll}\n",
       "  & group & y1 & y2 & y3 & y4 & y5 & y6\\\\\n",
       "  & <int> & <dbl> & <dbl> & <dbl> & <dbl> & <dbl> & <dbl>\\\\\n",
       "\\hline\n",
       "\t1 & 1 & 4.707869 & 4.278837 &  2.11668049 &  1.5988311 & -0.3116434 & -0.7212232\\\\\n",
       "\t2 & 1 & 4.813089 & 3.943643 &  2.22508152 & -1.3731751 & -2.0235093 & -0.5527398\\\\\n",
       "\t3 & 1 & 7.598728 & 7.490672 &  0.72267853 &  0.1228908 & -0.3456590 & -0.9274571\\\\\n",
       "\t4 & 1 & 7.707268 & 7.524177 & -0.05352098 &  0.3776550 & -0.7763228 & -0.2856730\\\\\n",
       "\t5 & 1 & 6.736214 & 5.065981 &  1.70665593 &  1.5999088 &  1.0570660 & -0.1410927\\\\\n",
       "\t6 & 1 & 4.928420 & 5.834367 & -2.62305054 &  0.7447885 &  0.2523461 & -0.6458310\\\\\n",
       "\\end{tabular}\n"
      ],
      "text/markdown": [
       "\n",
       "A data.frame: 6 × 7\n",
       "\n",
       "| <!--/--> | group &lt;int&gt; | y1 &lt;dbl&gt; | y2 &lt;dbl&gt; | y3 &lt;dbl&gt; | y4 &lt;dbl&gt; | y5 &lt;dbl&gt; | y6 &lt;dbl&gt; |\n",
       "|---|---|---|---|---|---|---|---|\n",
       "| 1 | 1 | 4.707869 | 4.278837 |  2.11668049 |  1.5988311 | -0.3116434 | -0.7212232 |\n",
       "| 2 | 1 | 4.813089 | 3.943643 |  2.22508152 | -1.3731751 | -2.0235093 | -0.5527398 |\n",
       "| 3 | 1 | 7.598728 | 7.490672 |  0.72267853 |  0.1228908 | -0.3456590 | -0.9274571 |\n",
       "| 4 | 1 | 7.707268 | 7.524177 | -0.05352098 |  0.3776550 | -0.7763228 | -0.2856730 |\n",
       "| 5 | 1 | 6.736214 | 5.065981 |  1.70665593 |  1.5999088 |  1.0570660 | -0.1410927 |\n",
       "| 6 | 1 | 4.928420 | 5.834367 | -2.62305054 |  0.7447885 |  0.2523461 | -0.6458310 |\n",
       "\n"
      ],
      "text/plain": [
       "  group y1       y2       y3          y4         y5         y6        \n",
       "1 1     4.707869 4.278837  2.11668049  1.5988311 -0.3116434 -0.7212232\n",
       "2 1     4.813089 3.943643  2.22508152 -1.3731751 -2.0235093 -0.5527398\n",
       "3 1     7.598728 7.490672  0.72267853  0.1228908 -0.3456590 -0.9274571\n",
       "4 1     7.707268 7.524177 -0.05352098  0.3776550 -0.7763228 -0.2856730\n",
       "5 1     6.736214 5.065981  1.70665593  1.5999088  1.0570660 -0.1410927\n",
       "6 1     4.928420 5.834367 -2.62305054  0.7447885  0.2523461 -0.6458310"
      ]
     },
     "metadata": {},
     "output_type": "display_data"
    },
    {
     "name": "stdout",
     "output_type": "stream",
     "text": [
      "[1] \"Number of groups in the data set: 5\"\n",
      "[1] \"Numer of variables in the data set: 6\"\n",
      "[1] \"Total number of samples in the data set: 650\"\n"
     ]
    }
   ],
   "source": [
    "# Load data \n",
    "data <- read.csv(\"/Users/alexwiigs/Documents/Code/STAT 553 Final/DataSet1.csv\")\n",
    "head(data)\n",
    "# shows the number of groups, variables and the total number of samples in the data\n",
    "num_groups <- max(data[,1])\n",
    "num_variables <- data |> select(-group) |> ncol()\n",
    "n <- nrow(data)\n",
    "print(paste(\"Number of groups in the data set:\", num_groups))\n",
    "print(paste(\"Numer of variables in the data set:\", num_variables ))\n",
    "print(paste(\"Total number of samples in the data set:\", n))"
   ]
  },
  {
   "cell_type": "code",
   "execution_count": 111,
   "metadata": {
    "vscode": {
     "languageId": "r"
    }
   },
   "outputs": [
    {
     "name": "stdout",
     "output_type": "stream",
     "text": [
      "[1] \"The number of samples in group: 1 110\"\n",
      "[1] \"The number of samples in group: 2 120\"\n",
      "[1] \"The number of samples in group: 3 130\"\n",
      "[1] \"The number of samples in group: 4 140\"\n",
      "[1] \"The number of samples in group: 5 150\"\n"
     ]
    }
   ],
   "source": [
    "# create function that gets number of samples in each group and print results\n",
    "ni <- function(i) { data |> filter(group == i) |> select(-group) |> nrow() }\n",
    "for (i in 1:num_groups) {print(paste(\"The number of samples in group:\",i, ni(i))) }"
   ]
  },
  {
   "cell_type": "markdown",
   "metadata": {},
   "source": [
    "Each group contains 10 more samples than the last. They are not of equal size."
   ]
  },
  {
   "cell_type": "markdown",
   "metadata": {},
   "source": [
    "**(a) Are the population covariance and matrices the same?**"
   ]
  },
  {
   "cell_type": "markdown",
   "metadata": {},
   "source": [
    "The groups in the data set above each represent a sample from five different populations with respective mean and variance parameters $\\mu_i$ and $\\Sigma_i$ for $i = 1,...,5$. \n",
    "\n",
    "In order to test the equality of $5$ multivariate populations described above, set up the following hypothesis:  \n",
    "\n",
    "$H_0: \\Sigma_1 = ... = \\Sigma_5$  \n",
    "$H_1: \\text{At least two of the variances are not equal}$  \n",
    "\n",
    "Box's M-test is an appropriate statstic to use to test the hypothesis. M can be calculated as\n",
    "$$M = \\frac{\\prod_{i=1}^k |S_i|^{(n_i-1)/2} } { |S_{pl}|^{ \\sum_{i=1}^k (n_i-1)/2 }} $$\n",
    "where\n",
    "$$S_{pl} = \\frac{\\sum_{i=1}^k (n_i-1)S_i}{ \\sum_{i=}^k n_i-k }= \\frac{\\textbf{E}}{v_{\\textbf{E}}}$$\n",
    "$S_i$ represents the sample covariance for group $i$, $n_i$ is the number of samples in group $i$ and $k$ is the total number of groups. $S_{pl}$ is the pooled covariance. functions that can calcuate these formulas are given below."
   ]
  },
  {
   "cell_type": "code",
   "execution_count": 112,
   "metadata": {
    "vscode": {
     "languageId": "r"
    }
   },
   "outputs": [],
   "source": [
    "Si <- function(i) { data |> filter(group == i) |> select(-group) |> cov() }\n",
    "Spl <- function(data) {\n",
    "    numerator = matrix(0, nrow = ncol(data[,-1]), ncol = ncol(data[,-1]))\n",
    "    for (i in 1:num_groups) { numerator = numerator + (ni(i) - 1) * Si(i) }\n",
    "    denominator = nrow(data) - num_groups\n",
    "    return(numerator / denominator)}\n",
    "M <- function(data) {\n",
    "    numerator = 1\n",
    "    exponent = 0\n",
    "    for (i in 1:num_groups) {numerator = numerator * det(Si(i))^( (ni(i) - 1) / 2 ) }\n",
    "    for (i in 1:num_groups) {exponent = exponent + (ni(i) - 1) / 2}\n",
    "    return( numerator / ( det(Spl(data))^exponent ) )}"
   ]
  },
  {
   "cell_type": "markdown",
   "metadata": {},
   "source": [
    "Box (1949, 1950) gave a $\\chi^2$ approximation for the distrubtion of $M$, which is:\n",
    "$$u = -2(1-c_1)\\ln(M) \\sim \\chi^2_{[\\frac{1}{2}(k-1)p(p+1)]}$$\n",
    "where \n",
    "$$c_1 = [\\sum_{i=1}^k \\frac{1}{n_i-1} - \\frac{1}{\\sum_{i=1}^k (n_1 - 1) }][ \\frac{2p^2 + 3p - 1}{6(p+1)(k-1)}]$$\n",
    "and $p$ is the number of variables."
   ]
  },
  {
   "cell_type": "code",
   "execution_count": 113,
   "metadata": {
    "vscode": {
     "languageId": "r"
    }
   },
   "outputs": [
    {
     "name": "stdout",
     "output_type": "stream",
     "text": [
      "[1] \"degrees of freedom for the test statistic approximation: 84\"\n"
     ]
    }
   ],
   "source": [
    "c1 <- function(data) {\n",
    "    term1 = 0\n",
    "    term2 = 0\n",
    "    for (i in 1:num_groups) {\n",
    "        term1 = term1 + 1 / (ni(i) -1)\n",
    "        term2 = term2 + (ni(i) -1)}\n",
    "    value <- (term1 - 1 / term2) *\n",
    "    (2 * num_variables^2 + 3 * num_variables - 1) / (6 * (num_variables + 1) * (num_groups - 1))\n",
    "    return(value)}\n",
    "df <- (num_groups - 1) * num_variables * ( num_variables + 1) / 2\n",
    "print(paste(\"degrees of freedom for the test statistic approximation:\", df))"
   ]
  },
  {
   "cell_type": "markdown",
   "metadata": {},
   "source": [
    "Thus, we will reject the null hypothesis in favor of the alternative if:\n",
    "$$u_{\\text{calculated}} \\geq \\chi^2_{\\alpha = 0.05, 84} "
   ]
  },
  {
   "cell_type": "code",
   "execution_count": 114,
   "metadata": {
    "vscode": {
     "languageId": "r"
    }
   },
   "outputs": [
    {
     "name": "stdout",
     "output_type": "stream",
     "text": [
      "[1] \"Test statstic: 87.2703235703816\"\n",
      "[1] \"Rejection Region: 106.394840242723\"\n",
      "[1] \"The calcualted p-value for our observed test statistic is: 0.381932930940052\"\n"
     ]
    }
   ],
   "source": [
    "# Calculating the test statstic and rejection region. \n",
    "u <- -2 * (1 - c1(data)) * log(M(data))\n",
    "rr <- qchisq(0.95, df)\n",
    "p_value <- 1 - pchisq(u, df)\n",
    "print(paste(\"Test statstic:\", u))\n",
    "print(paste(\"Rejection Region:\", rr))\n",
    "print(paste(\"The calcualted p-value for our observed test statistic is:\", p_value))"
   ]
  },
  {
   "cell_type": "markdown",
   "metadata": {},
   "source": [
    "Our calcualted test statstic, $u$ is not in the rejection region. Therefore we fail to reject the null hypothesis that the variances for the five group populations are different."
   ]
  },
  {
   "cell_type": "markdown",
   "metadata": {},
   "source": [
    "**(b) Are the population mean vectors the same?**"
   ]
  },
  {
   "cell_type": "markdown",
   "metadata": {},
   "source": [
    "In order to preform analysis on the different groups, it is important to first check whether the difference in the groups is statistically significant. We create a MANOVA model for this."
   ]
  },
  {
   "cell_type": "markdown",
   "metadata": {},
   "source": [
    "$$\\textbf{y}_{ij} = \\mu_i + \\epsilon_{ij}$$\n",
    "$i = 1, ..., 5$, $j = 1,..., n_i$\n",
    "$$\\epsilon_{ij} \\sim^{\\text{i.i.d}} N_p(0, \\Sigma )$$"
   ]
  },
  {
   "cell_type": "markdown",
   "metadata": {},
   "source": [
    "By writing $\\mu_i = \\mu + \\alpha_i$, where $\\mu$ is the overall mean vector, and $\\sum_{i=1}^5 \\alpha_i =0$ we can state our null and alternative hypothesis as follows:  \n",
    "  \n",
    "$H_0: \\alpha_1 = ... = \\alpha_5 = 0$.     \n",
    "$H_1:$ at least one $\\alpha_i$ is not zero."
   ]
  },
  {
   "cell_type": "markdown",
   "metadata": {},
   "source": [
    "The Wilks' test statistic can preform this hypothesis test. The test statstic is \n",
    "$$\\Lambda = \\frac{|E|}{|E+H|} $$\n",
    "where we will reject $H_0$ if $\\Lambda \\leq \\Lambda_{\\alpha, p, v_H, v_E}$. The matrix $E$ is a covariance matrix that represents the variance \"within\" the differnt groups and the matrix $H$ is a covariance matrix that repesents the variance \"between\" the each group and the overall average for all the groups. If $H$ is small relative to $E$, we will have little reason to reject the null hypothesis."
   ]
  },
  {
   "cell_type": "markdown",
   "metadata": {},
   "source": [
    "We calculate the \"between\" Matrix $H$ with the following theorem:\n",
    "$$H = n \\sum_{i=1}^k (\\bar{\\textbf{y}}_{i\\cdot} - \\bar{\\textbf{y}}_{\\cdot \\cdot} )(\\bar{\\textbf{y}}_{i\\cdot} - \\bar{\\textbf{y}}_{\\cdot \\cdot} )'$$"
   ]
  },
  {
   "cell_type": "code",
   "execution_count": 115,
   "metadata": {
    "vscode": {
     "languageId": "r"
    }
   },
   "outputs": [],
   "source": [
    "# Overall mean vector\n",
    "overall_mean <- data |> select(-group) |> colSums() / ( n )\n",
    "overall_mean <- overall_mean |> as.matrix()\n",
    "# Calculate matrix where the rows are mean vectors for each of the five groups.\n",
    "group_means <- data.frame()\n",
    "for (i in 1:5) {\n",
    "    temp_value <- data |> filter(group ==i) |> nrow()\n",
    "    calculation <- data |> filter(group == i) |> select(-group) |> colSums() / temp_value\n",
    "    group_means <- bind_rows(group_means, calculation)\n",
    "    } \n",
    "group_means <- group_means |> as.matrix()"
   ]
  },
  {
   "cell_type": "code",
   "execution_count": 116,
   "metadata": {
    "vscode": {
     "languageId": "r"
    }
   },
   "outputs": [
    {
     "data": {
      "text/html": [
       "<table class=\"dataframe\">\n",
       "<caption>A matrix: 6 × 6 of type dbl</caption>\n",
       "<thead>\n",
       "\t<tr><th></th><th scope=col>y1</th><th scope=col>y2</th><th scope=col>y3</th><th scope=col>y4</th><th scope=col>y5</th><th scope=col>y6</th></tr>\n",
       "</thead>\n",
       "<tbody>\n",
       "\t<tr><th scope=row>y1</th><td>25943.40</td><td>5165.60</td><td>29282.66</td><td>115.18</td><td> 14.79</td><td>-3.07</td></tr>\n",
       "\t<tr><th scope=row>y2</th><td> 5165.60</td><td>9957.73</td><td> 1464.52</td><td>-63.65</td><td>-44.85</td><td>67.41</td></tr>\n",
       "\t<tr><th scope=row>y3</th><td>29282.66</td><td>1464.52</td><td>39234.27</td><td>214.80</td><td>118.35</td><td> 4.02</td></tr>\n",
       "\t<tr><th scope=row>y4</th><td>  115.18</td><td> -63.65</td><td>  214.80</td><td>  8.62</td><td>  0.77</td><td>-2.39</td></tr>\n",
       "\t<tr><th scope=row>y5</th><td>   14.79</td><td> -44.85</td><td>  118.35</td><td>  0.77</td><td>  1.83</td><td> 0.60</td></tr>\n",
       "\t<tr><th scope=row>y6</th><td>   -3.07</td><td>  67.41</td><td>    4.02</td><td> -2.39</td><td>  0.60</td><td> 1.60</td></tr>\n",
       "</tbody>\n",
       "</table>\n"
      ],
      "text/latex": [
       "A matrix: 6 × 6 of type dbl\n",
       "\\begin{tabular}{r|llllll}\n",
       "  & y1 & y2 & y3 & y4 & y5 & y6\\\\\n",
       "\\hline\n",
       "\ty1 & 25943.40 & 5165.60 & 29282.66 & 115.18 &  14.79 & -3.07\\\\\n",
       "\ty2 &  5165.60 & 9957.73 &  1464.52 & -63.65 & -44.85 & 67.41\\\\\n",
       "\ty3 & 29282.66 & 1464.52 & 39234.27 & 214.80 & 118.35 &  4.02\\\\\n",
       "\ty4 &   115.18 &  -63.65 &   214.80 &   8.62 &   0.77 & -2.39\\\\\n",
       "\ty5 &    14.79 &  -44.85 &   118.35 &   0.77 &   1.83 &  0.60\\\\\n",
       "\ty6 &    -3.07 &   67.41 &     4.02 &  -2.39 &   0.60 &  1.60\\\\\n",
       "\\end{tabular}\n"
      ],
      "text/markdown": [
       "\n",
       "A matrix: 6 × 6 of type dbl\n",
       "\n",
       "| <!--/--> | y1 | y2 | y3 | y4 | y5 | y6 |\n",
       "|---|---|---|---|---|---|---|\n",
       "| y1 | 25943.40 | 5165.60 | 29282.66 | 115.18 |  14.79 | -3.07 |\n",
       "| y2 |  5165.60 | 9957.73 |  1464.52 | -63.65 | -44.85 | 67.41 |\n",
       "| y3 | 29282.66 | 1464.52 | 39234.27 | 214.80 | 118.35 |  4.02 |\n",
       "| y4 |   115.18 |  -63.65 |   214.80 |   8.62 |   0.77 | -2.39 |\n",
       "| y5 |    14.79 |  -44.85 |   118.35 |   0.77 |   1.83 |  0.60 |\n",
       "| y6 |    -3.07 |   67.41 |     4.02 |  -2.39 |   0.60 |  1.60 |\n",
       "\n"
      ],
      "text/plain": [
       "   y1       y2      y3       y4     y5     y6   \n",
       "y1 25943.40 5165.60 29282.66 115.18  14.79 -3.07\n",
       "y2  5165.60 9957.73  1464.52 -63.65 -44.85 67.41\n",
       "y3 29282.66 1464.52 39234.27 214.80 118.35  4.02\n",
       "y4   115.18  -63.65   214.80   8.62   0.77 -2.39\n",
       "y5    14.79  -44.85   118.35   0.77   1.83  0.60\n",
       "y6    -3.07   67.41     4.02  -2.39   0.60  1.60"
      ]
     },
     "metadata": {},
     "output_type": "display_data"
    }
   ],
   "source": [
    "# Calculate the H matrix\n",
    "H <- matrix(0, nrow = 6, ncol = 6)\n",
    "for (i in 1:5) {\n",
    "    ni <- data |> filter(group == i) |> select(-group) |> nrow()\n",
    "    H <- H + ni * ( as.matrix(group_means[i,]) - overall_mean ) %*% \n",
    "    t( as.matrix(group_means[i,]) - overall_mean )  }\n",
    "round(H,2)"
   ]
  },
  {
   "cell_type": "markdown",
   "metadata": {},
   "source": [
    "Our formula for the \"within\" matrix $E$ is:\n",
    "$$ E = \\sum_{i=1}^k \\sum_{j=1}^{n_i} (\\textbf{y}_{ij} - \\bar{ \\textbf{y} }_{i \\cdot} ) (\\textbf{y}_{ij} - \\bar{ \\textbf{y} }_{i\\cdot} )'$$ "
   ]
  },
  {
   "cell_type": "code",
   "execution_count": 117,
   "metadata": {
    "vscode": {
     "languageId": "r"
    }
   },
   "outputs": [
    {
     "data": {
      "text/html": [
       "<table class=\"dataframe\">\n",
       "<caption>A matrix: 6 × 6 of type dbl</caption>\n",
       "<thead>\n",
       "\t<tr><th></th><th scope=col>y1</th><th scope=col>y2</th><th scope=col>y3</th><th scope=col>y4</th><th scope=col>y5</th><th scope=col>y6</th></tr>\n",
       "</thead>\n",
       "<tbody>\n",
       "\t<tr><th scope=row>y1</th><td>1203.34</td><td> 563.79</td><td> 691.20</td><td> 14.37</td><td> -6.19</td><td> -4.71</td></tr>\n",
       "\t<tr><th scope=row>y2</th><td> 563.79</td><td>1304.08</td><td>-691.18</td><td> 27.51</td><td> -5.94</td><td>-29.81</td></tr>\n",
       "\t<tr><th scope=row>y3</th><td> 691.20</td><td>-691.18</td><td>2020.05</td><td>-61.92</td><td>-15.48</td><td> 11.81</td></tr>\n",
       "\t<tr><th scope=row>y4</th><td>  14.37</td><td>  27.51</td><td> -61.92</td><td>585.53</td><td> 32.29</td><td>-12.27</td></tr>\n",
       "\t<tr><th scope=row>y5</th><td>  -6.19</td><td>  -5.94</td><td> -15.48</td><td> 32.29</td><td>570.52</td><td> 22.14</td></tr>\n",
       "\t<tr><th scope=row>y6</th><td>  -4.71</td><td> -29.81</td><td>  11.81</td><td>-12.27</td><td> 22.14</td><td>315.86</td></tr>\n",
       "</tbody>\n",
       "</table>\n"
      ],
      "text/latex": [
       "A matrix: 6 × 6 of type dbl\n",
       "\\begin{tabular}{r|llllll}\n",
       "  & y1 & y2 & y3 & y4 & y5 & y6\\\\\n",
       "\\hline\n",
       "\ty1 & 1203.34 &  563.79 &  691.20 &  14.37 &  -6.19 &  -4.71\\\\\n",
       "\ty2 &  563.79 & 1304.08 & -691.18 &  27.51 &  -5.94 & -29.81\\\\\n",
       "\ty3 &  691.20 & -691.18 & 2020.05 & -61.92 & -15.48 &  11.81\\\\\n",
       "\ty4 &   14.37 &   27.51 &  -61.92 & 585.53 &  32.29 & -12.27\\\\\n",
       "\ty5 &   -6.19 &   -5.94 &  -15.48 &  32.29 & 570.52 &  22.14\\\\\n",
       "\ty6 &   -4.71 &  -29.81 &   11.81 & -12.27 &  22.14 & 315.86\\\\\n",
       "\\end{tabular}\n"
      ],
      "text/markdown": [
       "\n",
       "A matrix: 6 × 6 of type dbl\n",
       "\n",
       "| <!--/--> | y1 | y2 | y3 | y4 | y5 | y6 |\n",
       "|---|---|---|---|---|---|---|\n",
       "| y1 | 1203.34 |  563.79 |  691.20 |  14.37 |  -6.19 |  -4.71 |\n",
       "| y2 |  563.79 | 1304.08 | -691.18 |  27.51 |  -5.94 | -29.81 |\n",
       "| y3 |  691.20 | -691.18 | 2020.05 | -61.92 | -15.48 |  11.81 |\n",
       "| y4 |   14.37 |   27.51 |  -61.92 | 585.53 |  32.29 | -12.27 |\n",
       "| y5 |   -6.19 |   -5.94 |  -15.48 |  32.29 | 570.52 |  22.14 |\n",
       "| y6 |   -4.71 |  -29.81 |   11.81 | -12.27 |  22.14 | 315.86 |\n",
       "\n"
      ],
      "text/plain": [
       "   y1      y2      y3      y4     y5     y6    \n",
       "y1 1203.34  563.79  691.20  14.37  -6.19  -4.71\n",
       "y2  563.79 1304.08 -691.18  27.51  -5.94 -29.81\n",
       "y3  691.20 -691.18 2020.05 -61.92 -15.48  11.81\n",
       "y4   14.37   27.51  -61.92 585.53  32.29 -12.27\n",
       "y5   -6.19   -5.94  -15.48  32.29 570.52  22.14\n",
       "y6   -4.71  -29.81   11.81 -12.27  22.14 315.86"
      ]
     },
     "metadata": {},
     "output_type": "display_data"
    }
   ],
   "source": [
    "# Calcualte the E matrix\n",
    "E <- matrix(0, nrow = 6, ncol = 6)\n",
    "for (i in 1:5) {\n",
    "    for ( j in 1:nrow(filter(data, group == i))) {\n",
    "        y_ij <- data |> filter(group == i) |> select(-group) |> slice(j)\n",
    "        E <- E + (t(y_ij) - group_means[i,] ) %*% t(t(y_ij) - group_means[i,] ) }}\n",
    "round(E,2)"
   ]
  },
  {
   "cell_type": "markdown",
   "metadata": {},
   "source": [
    "Now that we have calculated the matrices we can caulate the test statistic."
   ]
  },
  {
   "cell_type": "code",
   "execution_count": 118,
   "metadata": {
    "vscode": {
     "languageId": "r"
    }
   },
   "outputs": [
    {
     "data": {
      "text/html": [
       "0.00055361287165637"
      ],
      "text/latex": [
       "0.00055361287165637"
      ],
      "text/markdown": [
       "0.00055361287165637"
      ],
      "text/plain": [
       "[1] 0.0005536129"
      ]
     },
     "metadata": {},
     "output_type": "display_data"
    }
   ],
   "source": [
    "Lambda <- det(E) / det( E + H)\n",
    "Lambda"
   ]
  },
  {
   "cell_type": "markdown",
   "metadata": {},
   "source": [
    "Using Roy's test Statstic:"
   ]
  },
  {
   "cell_type": "code",
   "execution_count": 119,
   "metadata": {
    "vscode": {
     "languageId": "r"
    }
   },
   "outputs": [
    {
     "data": {
      "text/plain": [
       "eigen() decomposition\n",
       "$values\n",
       "[1] 2.795345e+01 1.440113e+01 2.996200e+00 1.366330e-02 2.394548e-17\n",
       "[6] 4.185473e-18\n",
       "\n",
       "$vectors\n",
       "            [,1]         [,2]        [,3]         [,4]         [,5]\n",
       "[1,] -0.37920414 -0.609389486 -0.77091750 -0.003092889  0.026797271\n",
       "[2,] -0.46996577  0.694801095  0.08250642  0.010330432 -0.009396429\n",
       "[3,] -0.79363585  0.377619038  0.62199226 -0.002508665 -0.023395291\n",
       "[4,] -0.06263693  0.018975341  0.10147400  0.874695980  0.250666127\n",
       "[5,] -0.03098299  0.008280308  0.03852232 -0.110802559  0.766819936\n",
       "[6,] -0.02439659  0.053582908 -0.01495283 -0.471706645  0.589745668\n",
       "             [,6]\n",
       "[1,] -0.011705911\n",
       "[2,] -0.002253831\n",
       "[3,]  0.010938265\n",
       "[4,]  0.081280315\n",
       "[5,] -0.866183197\n",
       "[6,]  0.492806681\n"
      ]
     },
     "metadata": {},
     "output_type": "display_data"
    }
   ],
   "source": [
    "eigen(solve(E) %*% H)"
   ]
  },
  {
   "cell_type": "code",
   "execution_count": 120,
   "metadata": {
    "vscode": {
     "languageId": "r"
    }
   },
   "outputs": [
    {
     "data": {
      "text/html": [
       "0.965461801102574"
      ],
      "text/latex": [
       "0.965461801102574"
      ],
      "text/markdown": [
       "0.965461801102574"
      ],
      "text/plain": [
       "[1] 0.9654618"
      ]
     },
     "metadata": {},
     "output_type": "display_data"
    }
   ],
   "source": [
    "lambda_1 <- eigen(solve(E) %*% H)$values |> max()\n",
    "theta <- lambda_1 / (lambda_1 + 1)\n",
    "theta"
   ]
  },
  {
   "cell_type": "markdown",
   "metadata": {},
   "source": [
    "**(c)** Find discriminant functions and use the first two discriminant functions to show the data set."
   ]
  },
  {
   "cell_type": "code",
   "execution_count": 121,
   "metadata": {
    "vscode": {
     "languageId": "r"
    }
   },
   "outputs": [],
   "source": [
    "vectors <- eigen(solve(E) %*% H)$vectors\n",
    "values <- eigen(solve(E) %*% H )$values\n"
   ]
  }
 ],
 "metadata": {
  "kernelspec": {
   "display_name": "R",
   "language": "R",
   "name": "ir"
  },
  "language_info": {
   "codemirror_mode": "r",
   "file_extension": ".r",
   "mimetype": "text/x-r-source",
   "name": "R",
   "pygments_lexer": "r",
   "version": "4.3.1"
  }
 },
 "nbformat": 4,
 "nbformat_minor": 2
}
