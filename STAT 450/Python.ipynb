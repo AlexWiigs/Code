{
 "cells": [
  {
   "cell_type": "code",
   "execution_count": 4,
   "metadata": {},
   "outputs": [
    {
     "data": {
      "text/latex": [
       "$\\displaystyle x^{4}$"
      ],
      "text/plain": [
       "x**4"
      ]
     },
     "execution_count": 4,
     "metadata": {},
     "output_type": "execute_result"
    }
   ],
   "source": [
    "\n",
    "from sympy import symbols, integrate\n",
    "\n",
    "\n",
    "# Define symbols\n",
    "x, t = symbols('x t')\n",
    "\n",
    "# Define the PDF of X\n",
    "pdf_x = 4*t**3\n",
    "\n",
    "# Calculate the CDF of X by integrating the PDF from 0 to x\n",
    "cdf_x = integrate(pdf_x, (t, 0, x))\n",
    "\n",
    "# Display the CDF of X\n",
    "cdf_x\n"
   ]
  },
  {
   "cell_type": "code",
   "execution_count": 3,
   "metadata": {},
   "outputs": [
    {
     "data": {
      "text/plain": [
       "2396.81"
      ]
     },
     "execution_count": 3,
     "metadata": {},
     "output_type": "execute_result"
    }
   ],
   "source": [
    "# February Bills\n",
    "950 + 442.56 + 64.04 + 33.53 + 1.35 + 88.56 + 6.29 + 659.33 + 19.90 + 131.25"
   ]
  },
  {
   "cell_type": "code",
   "execution_count": 4,
   "metadata": {},
   "outputs": [
    {
     "data": {
      "text/plain": [
       "2793.29"
      ]
     },
     "execution_count": 4,
     "metadata": {},
     "output_type": "execute_result"
    }
   ],
   "source": [
    "# Febrauary Income\n",
    "1150 + 393.19 + 1250.10"
   ]
  },
  {
   "cell_type": "code",
   "execution_count": null,
   "metadata": {},
   "outputs": [],
   "source": []
  }
 ],
 "metadata": {
  "kernelspec": {
   "display_name": "Python 3",
   "language": "python",
   "name": "python3"
  },
  "language_info": {
   "codemirror_mode": {
    "name": "ipython",
    "version": 3
   },
   "file_extension": ".py",
   "mimetype": "text/x-python",
   "name": "python",
   "nbconvert_exporter": "python",
   "pygments_lexer": "ipython3",
   "version": "3.9.6"
  }
 },
 "nbformat": 4,
 "nbformat_minor": 2
}
