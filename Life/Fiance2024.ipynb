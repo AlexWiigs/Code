{
 "cells": [
  {
   "cell_type": "markdown",
   "metadata": {},
   "source": [
    "# February"
   ]
  },
  {
   "cell_type": "code",
   "execution_count": 12,
   "metadata": {},
   "outputs": [],
   "source": [
    "import pandas as pd\n",
    "import numpy as np"
   ]
  },
  {
   "cell_type": "code",
   "execution_count": 4,
   "metadata": {},
   "outputs": [],
   "source": [
    "Income = pd.DataFrame( {\"Income\": [1150, 393.19, 1250.10]})\n",
    "Bills = pd.DataFrame( {\"Bills\": [9650, 442.56, 64.04,33.53, 1.35, 88.56, 6.29, 659.33, 19.90, 131.25]})"
   ]
  },
  {
   "cell_type": "code",
   "execution_count": 1,
   "metadata": {},
   "outputs": [
    {
     "data": {
      "text/plain": [
       "627.44"
      ]
     },
     "execution_count": 1,
     "metadata": {},
     "output_type": "execute_result"
    }
   ],
   "source": [
    "# Week 3 (Monday 19th to Sunday 25th)\n",
    "week_three = 68.13 + 60.10 + 4.99 + 15.74 + 9.00 + 17.27 + 250.49 + 59.47 + 19.35 + 12.81 + 33.17 + 8.59 + 22.27 + 46.06 \n",
    "# Week 4 (Monday 26th to Thursday 29th)\n",
    "# week_four = "
   ]
  },
  {
   "cell_type": "code",
   "execution_count": null,
   "metadata": {},
   "outputs": [],
   "source": []
  }
 ],
 "metadata": {
  "kernelspec": {
   "display_name": "Python 3",
   "language": "python",
   "name": "python3"
  },
  "language_info": {
   "codemirror_mode": {
    "name": "ipython",
    "version": 3
   },
   "file_extension": ".py",
   "mimetype": "text/x-python",
   "name": "python",
   "nbconvert_exporter": "python",
   "pygments_lexer": "ipython3",
   "version": "3.9.6"
  }
 },
 "nbformat": 4,
 "nbformat_minor": 2
}
