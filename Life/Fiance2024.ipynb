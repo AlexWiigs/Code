{
 "cells": [
  {
   "cell_type": "markdown",
   "metadata": {},
   "source": [
    "# February"
   ]
  },
  {
   "cell_type": "code",
   "execution_count": 1,
   "metadata": {},
   "outputs": [
    {
     "name": "stderr",
     "output_type": "stream",
     "text": [
      "/var/folders/8z/0r4flbws2hg9zhxq_gn693740000gn/T/ipykernel_11005/2162656668.py:1: DeprecationWarning: \n",
      "Pyarrow will become a required dependency of pandas in the next major release of pandas (pandas 3.0),\n",
      "(to allow more performant data types, such as the Arrow string type, and better interoperability with other libraries)\n",
      "but was not found to be installed on your system.\n",
      "If this would cause problems for you,\n",
      "please provide us feedback at https://github.com/pandas-dev/pandas/issues/54466\n",
      "        \n",
      "  import pandas as pd\n"
     ]
    }
   ],
   "source": [
    "import pandas as pd\n",
    "import numpy as np"
   ]
  },
  {
   "cell_type": "code",
   "execution_count": 4,
   "metadata": {},
   "outputs": [],
   "source": [
    "Income = pd.DataFrame( {\"Income\": [1150, 393.19, 1250.10]})\n",
    "Bills = pd.DataFrame( {\"Bills\": [9650, 442.56, 64.04,33.53, 1.35, 88.56, 6.29, 659.33, 19.90, 131.25]})"
   ]
  },
  {
   "cell_type": "code",
   "execution_count": 1,
   "metadata": {},
   "outputs": [
    {
     "data": {
      "text/plain": [
       "627.44"
      ]
     },
     "execution_count": 1,
     "metadata": {},
     "output_type": "execute_result"
    }
   ],
   "source": [
    "# Week 3 (Monday 19th to Sunday 25th)\n",
    "week_three = 68.13 + 60.10 + 4.99 + 15.74 + 9.00 + 17.27 + 250.49 + 59.47 + 19.35 + 12.81 + 33.17 + 8.59 + 22.27 + 46.06 \n",
    "# Week 4 (Monday 26th to Thursday 29th)\n",
    "# week_four = "
   ]
  },
  {
   "cell_type": "markdown",
   "metadata": {},
   "source": [
    "# March"
   ]
  },
  {
   "cell_type": "code",
   "execution_count": 5,
   "metadata": {},
   "outputs": [
    {
     "data": {
      "text/plain": [
       "366.07"
      ]
     },
     "execution_count": 5,
     "metadata": {},
     "output_type": "execute_result"
    }
   ],
   "source": [
    "Week_One = 65.05 + 35.15 + 52.46 + 5.97 + 99.68 + 14.66 + 84.79 + 18.59 + 38.80\n",
    "Week_Two = 2.78 + 25.55 + 38.00 + 3.67 + 14.53 + 32.45 + 194.03 + 24.23 + 6.59 + 183.68\n",
    "Week_Three = 12 + 26.33 + 21 + 18 + 100 + 35 + 4.99 + 15.50 + 16.50 + 115.71 + 11.84 + 12.94 + 7.16 + 6.80 + 32.30 - 70\n",
    "Week_Three"
   ]
  },
  {
   "cell_type": "code",
   "execution_count": null,
   "metadata": {},
   "outputs": [],
   "source": []
  }
 ],
 "metadata": {
  "kernelspec": {
   "display_name": "Python 3",
   "language": "python",
   "name": "python3"
  },
  "language_info": {
   "codemirror_mode": {
    "name": "ipython",
    "version": 3
   },
   "file_extension": ".py",
   "mimetype": "text/x-python",
   "name": "python",
   "nbconvert_exporter": "python",
   "pygments_lexer": "ipython3",
   "version": "3.9.6"
  }
 },
 "nbformat": 4,
 "nbformat_minor": 2
}
