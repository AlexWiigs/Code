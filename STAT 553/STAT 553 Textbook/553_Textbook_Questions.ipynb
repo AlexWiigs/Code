{
 "cells": [
  {
   "cell_type": "code",
   "execution_count": 6,
   "metadata": {
    "vscode": {
     "languageId": "r"
    }
   },
   "outputs": [
    {
     "data": {
      "text/html": [
       "2"
      ],
      "text/latex": [
       "2"
      ],
      "text/markdown": [
       "2"
      ],
      "text/plain": [
       "[1] 2"
      ]
     },
     "metadata": {},
     "output_type": "display_data"
    }
   ],
   "source": [
    "# Question 2.15\n",
    "\n",
    "A <- matrix(c(5,2,3,4,-3,7,4,1,2), 3, 3)\n",
    "B <- matrix(c(1,0,1,0,1,2,1,0,3), 3, 3)\n",
    "det(B)"
   ]
  },
  {
   "cell_type": "code",
   "execution_count": 14,
   "metadata": {
    "vscode": {
     "languageId": "r"
    }
   },
   "outputs": [
    {
     "data": {
      "text/html": [
       "36"
      ],
      "text/latex": [
       "36"
      ],
      "text/markdown": [
       "36"
      ],
      "text/plain": [
       "[1] 36"
      ]
     },
     "metadata": {},
     "output_type": "display_data"
    },
    {
     "data": {
      "text/html": [
       "<table class=\"dataframe\">\n",
       "<caption>A matrix: 3 × 3 of type dbl</caption>\n",
       "<tbody>\n",
       "\t<tr><td>3</td><td>4.000000</td><td>3.000000</td></tr>\n",
       "\t<tr><td>4</td><td>8.000000</td><td>5.224745</td></tr>\n",
       "\t<tr><td>3</td><td>5.224745</td><td>8.062500</td></tr>\n",
       "</tbody>\n",
       "</table>\n"
      ],
      "text/latex": [
       "A matrix: 3 × 3 of type dbl\n",
       "\\begin{tabular}{lll}\n",
       "\t 3 & 4.000000 & 3.000000\\\\\n",
       "\t 4 & 8.000000 & 5.224745\\\\\n",
       "\t 3 & 5.224745 & 8.062500\\\\\n",
       "\\end{tabular}\n"
      ],
      "text/markdown": [
       "\n",
       "A matrix: 3 × 3 of type dbl\n",
       "\n",
       "| 3 | 4.000000 | 3.000000 |\n",
       "| 4 | 8.000000 | 5.224745 |\n",
       "| 3 | 5.224745 | 8.062500 |\n",
       "\n"
      ],
      "text/plain": [
       "     [,1] [,2]     [,3]    \n",
       "[1,] 3    4.000000 3.000000\n",
       "[2,] 4    8.000000 5.224745\n",
       "[3,] 3    5.224745 8.062500"
      ]
     },
     "metadata": {},
     "output_type": "display_data"
    }
   ],
   "source": [
    "# Question 2.16\n",
    "\n",
    "3 * (72 - 36) - 4 * (36 - 18)\n",
    "\n",
    "T <- matrix(c(sqrt(3), 0, 0, 4 / sqrt(3), sqrt(8 - 16/3), 0, 3 / sqrt(3), 2 / (8 - 16 /3), sqrt(9 - 3 - 4 /(8 - 16/3))), 3, 3)\n",
    "t(T) %*% T\n"
   ]
  },
  {
   "cell_type": "code",
   "execution_count": 17,
   "metadata": {
    "vscode": {
     "languageId": "r"
    }
   },
   "outputs": [
    {
     "data": {
      "text/html": [
       "<table class=\"dataframe\">\n",
       "<caption>A matrix: 3 × 3 of type dbl</caption>\n",
       "<tbody>\n",
       "\t<tr><td> 3</td><td>-5.000000e+00</td><td>-1.000000e+00</td></tr>\n",
       "\t<tr><td>-5</td><td> 1.300000e+01</td><td> 3.001531e-16</td></tr>\n",
       "\t<tr><td>-1</td><td> 3.001531e-16</td><td> 1.000000e+00</td></tr>\n",
       "</tbody>\n",
       "</table>\n"
      ],
      "text/latex": [
       "A matrix: 3 × 3 of type dbl\n",
       "\\begin{tabular}{lll}\n",
       "\t  3 & -5.000000e+00 & -1.000000e+00\\\\\n",
       "\t -5 &  1.300000e+01 &  3.001531e-16\\\\\n",
       "\t -1 &  3.001531e-16 &  1.000000e+00\\\\\n",
       "\\end{tabular}\n"
      ],
      "text/markdown": [
       "\n",
       "A matrix: 3 × 3 of type dbl\n",
       "\n",
       "|  3 | -5.000000e+00 | -1.000000e+00 |\n",
       "| -5 |  1.300000e+01 |  3.001531e-16 |\n",
       "| -1 |  3.001531e-16 |  1.000000e+00 |\n",
       "\n"
      ],
      "text/plain": [
       "     [,1] [,2]          [,3]         \n",
       "[1,]  3   -5.000000e+00 -1.000000e+00\n",
       "[2,] -5    1.300000e+01  3.001531e-16\n",
       "[3,] -1    3.001531e-16  1.000000e+00"
      ]
     },
     "metadata": {},
     "output_type": "display_data"
    }
   ],
   "source": [
    "# Question 2.17\n",
    "\n",
    "T <- matrix( c( sqrt(3), 0, 0, - 5/sqrt(3), sqrt(14/3), 0, -1/sqrt(3), -5/(3*sqrt(14/3)), sqrt(1- 75/126 - 1/3)), 3, 3)\n",
    "\n",
    "t(T) %*% T"
   ]
  },
  {
   "cell_type": "code",
   "execution_count": 20,
   "metadata": {
    "vscode": {
     "languageId": "r"
    }
   },
   "outputs": [
    {
     "data": {
      "text/html": [
       "<table class=\"dataframe\">\n",
       "<caption>A matrix: 3 × 3 of type dbl</caption>\n",
       "<tbody>\n",
       "\t<tr><td>0.4082483</td><td>-0.5773503</td><td>0.7071068</td></tr>\n",
       "\t<tr><td>0.8164966</td><td> 0.5773503</td><td>0.0000000</td></tr>\n",
       "\t<tr><td>0.4082483</td><td>-0.5773503</td><td>0.7071068</td></tr>\n",
       "</tbody>\n",
       "</table>\n"
      ],
      "text/latex": [
       "A matrix: 3 × 3 of type dbl\n",
       "\\begin{tabular}{lll}\n",
       "\t 0.4082483 & -0.5773503 & 0.7071068\\\\\n",
       "\t 0.8164966 &  0.5773503 & 0.0000000\\\\\n",
       "\t 0.4082483 & -0.5773503 & 0.7071068\\\\\n",
       "\\end{tabular}\n"
      ],
      "text/markdown": [
       "\n",
       "A matrix: 3 × 3 of type dbl\n",
       "\n",
       "| 0.4082483 | -0.5773503 | 0.7071068 |\n",
       "| 0.8164966 |  0.5773503 | 0.0000000 |\n",
       "| 0.4082483 | -0.5773503 | 0.7071068 |\n",
       "\n"
      ],
      "text/plain": [
       "     [,1]      [,2]       [,3]     \n",
       "[1,] 0.4082483 -0.5773503 0.7071068\n",
       "[2,] 0.8164966  0.5773503 0.0000000\n",
       "[3,] 0.4082483 -0.5773503 0.7071068"
      ]
     },
     "metadata": {},
     "output_type": "display_data"
    }
   ],
   "source": [
    "# 2.18\n",
    "C <- matrix(c( 1 / sqrt(6), 2 / sqrt(6), 1 / sqrt(6), -1/sqrt(3), 1/sqrt(3), -1/sqrt(3), 1/sqrt(2), 0, 1/sqrt(2)),3,3)\n",
    "C"
   ]
  },
  {
   "cell_type": "code",
   "execution_count": 21,
   "metadata": {
    "vscode": {
     "languageId": "r"
    }
   },
   "outputs": [
    {
     "data": {
      "text/html": [
       "<table class=\"dataframe\">\n",
       "<caption>A matrix: 3 × 1 of type dbl</caption>\n",
       "<tbody>\n",
       "\t<tr><td> 0.2357023</td></tr>\n",
       "\t<tr><td> 0.9428090</td></tr>\n",
       "\t<tr><td>-0.2357023</td></tr>\n",
       "</tbody>\n",
       "</table>\n"
      ],
      "text/latex": [
       "A matrix: 3 × 1 of type dbl\n",
       "\\begin{tabular}{l}\n",
       "\t  0.2357023\\\\\n",
       "\t  0.9428090\\\\\n",
       "\t -0.2357023\\\\\n",
       "\\end{tabular}\n"
      ],
      "text/markdown": [
       "\n",
       "A matrix: 3 × 1 of type dbl\n",
       "\n",
       "|  0.2357023 |\n",
       "|  0.9428090 |\n",
       "| -0.2357023 |\n",
       "\n"
      ],
      "text/plain": [
       "     [,1]      \n",
       "[1,]  0.2357023\n",
       "[2,]  0.9428090\n",
       "[3,] -0.2357023"
      ]
     },
     "metadata": {},
     "output_type": "display_data"
    }
   ],
   "source": [
    "# 2.19\n",
    "\n",
    "x_1 <- matrix(c(1/sqrt(18), 4/sqrt(18), -1/sqrt(18)), 3, 1)\n",
    "x_1"
   ]
  },
  {
   "cell_type": "code",
   "execution_count": 5,
   "metadata": {
    "vscode": {
     "languageId": "r"
    }
   },
   "outputs": [
    {
     "name": "stdout",
     "output_type": "stream",
     "text": [
      "     [,1] [,2]\n",
      "[1,]    2   -1\n",
      "[2,]   -1    2\n",
      "eigen() decomposition\n",
      "$values\n",
      "[1] 3 1\n",
      "\n",
      "$vectors\n",
      "           [,1]       [,2]\n",
      "[1,] -0.7071068 -0.7071068\n",
      "[2,]  0.7071068 -0.7071068\n",
      "\n"
     ]
    },
    {
     "data": {
      "text/html": [
       "0.707106781186547"
      ],
      "text/latex": [
       "0.707106781186547"
      ],
      "text/markdown": [
       "0.707106781186547"
      ],
      "text/plain": [
       "[1] 0.7071068"
      ]
     },
     "metadata": {},
     "output_type": "display_data"
    }
   ],
   "source": [
    "# Question 2.21 part a\n",
    "A = matrix(c(2, -1, -1, 2), 2, 2)\n",
    "print(A)\n",
    "print(eigen(A))\n",
    "1 / sqrt(2)"
   ]
  },
  {
   "cell_type": "code",
   "execution_count": 20,
   "metadata": {
    "vscode": {
     "languageId": "r"
    }
   },
   "outputs": [
    {
     "name": "stdout",
     "output_type": "stream",
     "text": [
      "     [,1] [,2]\n",
      "[1,] 0.75 0.00\n",
      "[2,] 0.00 0.25\n"
     ]
    }
   ],
   "source": [
    "# Question 2.21 part b\n",
    "# FIXME - Not correct\n",
    "C = matrix(c( -1 / sqrt(2), 1 / sqrt(2), -1 / sqrt(2), -1 / sqrt(2)), 2, 2)\n",
    "D12 = matrix(c(sqrt(3),0,0,sqrt(1)), 2, 2)\n",
    "A12 = C * D12 * t(C)\n",
    "print(A12 * A12)"
   ]
  },
  {
   "cell_type": "code",
   "execution_count": 2,
   "metadata": {
    "vscode": {
     "languageId": "r"
    }
   },
   "outputs": [
    {
     "name": "stdout",
     "output_type": "stream",
     "text": [
      "     [,1] [,2] [,3] [,4] [,5]\n",
      "[1,]    5    5    5    5    5\n",
      "[2,]    5    5    5    5    5\n",
      "[3,]    5    5    5    5    5\n",
      "[4,]    5    5    5    5    5\n",
      "[5,]    5    5    5    5    5\n",
      "eigen() decomposition\n",
      "$values\n",
      "[1] 2.500000e+01 7.105427e-15 2.775558e-16 1.387779e-16 9.016384e-34\n",
      "\n",
      "$vectors\n",
      "           [,1]       [,2]       [,3]       [,4]          [,5]\n",
      "[1,] -0.4472136  0.8944272  0.0000000  0.0000000  0.000000e+00\n",
      "[2,] -0.4472136 -0.2236068  0.7071068 -0.5000000 -4.976278e-17\n",
      "[3,] -0.4472136 -0.2236068  0.2357023  0.8333333 -1.658759e-17\n",
      "[4,] -0.4472136 -0.2236068 -0.4714045 -0.1666667 -7.071068e-01\n",
      "[5,] -0.4472136 -0.2236068 -0.4714045 -0.1666667  7.071068e-01\n",
      "\n"
     ]
    }
   ],
   "source": [
    "A = matrix(c(5,5,5,5,5,\n",
    "             5,5,5,5,5,\n",
    "             5,5,5,5,5,\n",
    "             5,5,5,5,5,\n",
    "             5,5,5,5,5), 5,5)\n",
    "print(A)\n",
    "print(eigen(A))"
   ]
  },
  {
   "cell_type": "markdown",
   "metadata": {},
   "source": [
    "# Chapter 3"
   ]
  },
  {
   "cell_type": "code",
   "execution_count": 13,
   "metadata": {
    "vscode": {
     "languageId": "r"
    }
   },
   "outputs": [
    {
     "data": {
      "text/html": [
       "<table class=\"dataframe\">\n",
       "<caption>A matrix: 10 × 3 of type dbl</caption>\n",
       "<tbody>\n",
       "\t<tr><td>35</td><td> 3.5</td><td>2.80</td></tr>\n",
       "\t<tr><td>35</td><td> 4.9</td><td>2.70</td></tr>\n",
       "\t<tr><td>40</td><td>30.0</td><td>4.38</td></tr>\n",
       "\t<tr><td>10</td><td> 2.8</td><td>3.21</td></tr>\n",
       "\t<tr><td> 6</td><td> 2.7</td><td>2.73</td></tr>\n",
       "\t<tr><td>20</td><td> 2.8</td><td>2.81</td></tr>\n",
       "\t<tr><td>35</td><td> 4.6</td><td>2.88</td></tr>\n",
       "\t<tr><td>35</td><td>10.9</td><td>2.90</td></tr>\n",
       "\t<tr><td>35</td><td> 8.0</td><td>3.28</td></tr>\n",
       "\t<tr><td>30</td><td> 1.6</td><td>3.20</td></tr>\n",
       "</tbody>\n",
       "</table>\n"
      ],
      "text/latex": [
       "A matrix: 10 × 3 of type dbl\n",
       "\\begin{tabular}{lll}\n",
       "\t 35 &  3.5 & 2.80\\\\\n",
       "\t 35 &  4.9 & 2.70\\\\\n",
       "\t 40 & 30.0 & 4.38\\\\\n",
       "\t 10 &  2.8 & 3.21\\\\\n",
       "\t  6 &  2.7 & 2.73\\\\\n",
       "\t 20 &  2.8 & 2.81\\\\\n",
       "\t 35 &  4.6 & 2.88\\\\\n",
       "\t 35 & 10.9 & 2.90\\\\\n",
       "\t 35 &  8.0 & 3.28\\\\\n",
       "\t 30 &  1.6 & 3.20\\\\\n",
       "\\end{tabular}\n"
      ],
      "text/markdown": [
       "\n",
       "A matrix: 10 × 3 of type dbl\n",
       "\n",
       "| 35 |  3.5 | 2.80 |\n",
       "| 35 |  4.9 | 2.70 |\n",
       "| 40 | 30.0 | 4.38 |\n",
       "| 10 |  2.8 | 3.21 |\n",
       "|  6 |  2.7 | 2.73 |\n",
       "| 20 |  2.8 | 2.81 |\n",
       "| 35 |  4.6 | 2.88 |\n",
       "| 35 | 10.9 | 2.90 |\n",
       "| 35 |  8.0 | 3.28 |\n",
       "| 30 |  1.6 | 3.20 |\n",
       "\n"
      ],
      "text/plain": [
       "      [,1] [,2] [,3]\n",
       " [1,] 35    3.5 2.80\n",
       " [2,] 35    4.9 2.70\n",
       " [3,] 40   30.0 4.38\n",
       " [4,] 10    2.8 3.21\n",
       " [5,]  6    2.7 2.73\n",
       " [6,] 20    2.8 2.81\n",
       " [7,] 35    4.6 2.88\n",
       " [8,] 35   10.9 2.90\n",
       " [9,] 35    8.0 3.28\n",
       "[10,] 30    1.6 3.20"
      ]
     },
     "metadata": {},
     "output_type": "display_data"
    },
    {
     "data": {
      "text/html": [
       "<table class=\"dataframe\">\n",
       "<caption>A matrix: 10 × 10 of type dbl</caption>\n",
       "<tbody>\n",
       "\t<tr><td>1</td><td>0</td><td>0</td><td>0</td><td>0</td><td>0</td><td>0</td><td>0</td><td>0</td><td>0</td></tr>\n",
       "\t<tr><td>0</td><td>1</td><td>0</td><td>0</td><td>0</td><td>0</td><td>0</td><td>0</td><td>0</td><td>0</td></tr>\n",
       "\t<tr><td>0</td><td>0</td><td>1</td><td>0</td><td>0</td><td>0</td><td>0</td><td>0</td><td>0</td><td>0</td></tr>\n",
       "\t<tr><td>0</td><td>0</td><td>0</td><td>1</td><td>0</td><td>0</td><td>0</td><td>0</td><td>0</td><td>0</td></tr>\n",
       "\t<tr><td>0</td><td>0</td><td>0</td><td>0</td><td>1</td><td>0</td><td>0</td><td>0</td><td>0</td><td>0</td></tr>\n",
       "\t<tr><td>0</td><td>0</td><td>0</td><td>0</td><td>0</td><td>1</td><td>0</td><td>0</td><td>0</td><td>0</td></tr>\n",
       "\t<tr><td>0</td><td>0</td><td>0</td><td>0</td><td>0</td><td>0</td><td>1</td><td>0</td><td>0</td><td>0</td></tr>\n",
       "\t<tr><td>0</td><td>0</td><td>0</td><td>0</td><td>0</td><td>0</td><td>0</td><td>1</td><td>0</td><td>0</td></tr>\n",
       "\t<tr><td>0</td><td>0</td><td>0</td><td>0</td><td>0</td><td>0</td><td>0</td><td>0</td><td>1</td><td>0</td></tr>\n",
       "\t<tr><td>0</td><td>0</td><td>0</td><td>0</td><td>0</td><td>0</td><td>0</td><td>0</td><td>0</td><td>1</td></tr>\n",
       "</tbody>\n",
       "</table>\n"
      ],
      "text/latex": [
       "A matrix: 10 × 10 of type dbl\n",
       "\\begin{tabular}{llllllllll}\n",
       "\t 1 & 0 & 0 & 0 & 0 & 0 & 0 & 0 & 0 & 0\\\\\n",
       "\t 0 & 1 & 0 & 0 & 0 & 0 & 0 & 0 & 0 & 0\\\\\n",
       "\t 0 & 0 & 1 & 0 & 0 & 0 & 0 & 0 & 0 & 0\\\\\n",
       "\t 0 & 0 & 0 & 1 & 0 & 0 & 0 & 0 & 0 & 0\\\\\n",
       "\t 0 & 0 & 0 & 0 & 1 & 0 & 0 & 0 & 0 & 0\\\\\n",
       "\t 0 & 0 & 0 & 0 & 0 & 1 & 0 & 0 & 0 & 0\\\\\n",
       "\t 0 & 0 & 0 & 0 & 0 & 0 & 1 & 0 & 0 & 0\\\\\n",
       "\t 0 & 0 & 0 & 0 & 0 & 0 & 0 & 1 & 0 & 0\\\\\n",
       "\t 0 & 0 & 0 & 0 & 0 & 0 & 0 & 0 & 1 & 0\\\\\n",
       "\t 0 & 0 & 0 & 0 & 0 & 0 & 0 & 0 & 0 & 1\\\\\n",
       "\\end{tabular}\n"
      ],
      "text/markdown": [
       "\n",
       "A matrix: 10 × 10 of type dbl\n",
       "\n",
       "| 1 | 0 | 0 | 0 | 0 | 0 | 0 | 0 | 0 | 0 |\n",
       "| 0 | 1 | 0 | 0 | 0 | 0 | 0 | 0 | 0 | 0 |\n",
       "| 0 | 0 | 1 | 0 | 0 | 0 | 0 | 0 | 0 | 0 |\n",
       "| 0 | 0 | 0 | 1 | 0 | 0 | 0 | 0 | 0 | 0 |\n",
       "| 0 | 0 | 0 | 0 | 1 | 0 | 0 | 0 | 0 | 0 |\n",
       "| 0 | 0 | 0 | 0 | 0 | 1 | 0 | 0 | 0 | 0 |\n",
       "| 0 | 0 | 0 | 0 | 0 | 0 | 1 | 0 | 0 | 0 |\n",
       "| 0 | 0 | 0 | 0 | 0 | 0 | 0 | 1 | 0 | 0 |\n",
       "| 0 | 0 | 0 | 0 | 0 | 0 | 0 | 0 | 1 | 0 |\n",
       "| 0 | 0 | 0 | 0 | 0 | 0 | 0 | 0 | 0 | 1 |\n",
       "\n"
      ],
      "text/plain": [
       "      [,1] [,2] [,3] [,4] [,5] [,6] [,7] [,8] [,9] [,10]\n",
       " [1,] 1    0    0    0    0    0    0    0    0    0    \n",
       " [2,] 0    1    0    0    0    0    0    0    0    0    \n",
       " [3,] 0    0    1    0    0    0    0    0    0    0    \n",
       " [4,] 0    0    0    1    0    0    0    0    0    0    \n",
       " [5,] 0    0    0    0    1    0    0    0    0    0    \n",
       " [6,] 0    0    0    0    0    1    0    0    0    0    \n",
       " [7,] 0    0    0    0    0    0    1    0    0    0    \n",
       " [8,] 0    0    0    0    0    0    0    1    0    0    \n",
       " [9,] 0    0    0    0    0    0    0    0    1    0    \n",
       "[10,] 0    0    0    0    0    0    0    0    0    1    "
      ]
     },
     "metadata": {},
     "output_type": "display_data"
    },
    {
     "data": {
      "text/html": [
       "<table class=\"dataframe\">\n",
       "<caption>A matrix: 10 × 10 of type dbl</caption>\n",
       "<tbody>\n",
       "\t<tr><td>0.1</td><td>0.1</td><td>0.1</td><td>0.1</td><td>0.1</td><td>0.1</td><td>0.1</td><td>0.1</td><td>0.1</td><td>0.1</td></tr>\n",
       "\t<tr><td>0.1</td><td>0.1</td><td>0.1</td><td>0.1</td><td>0.1</td><td>0.1</td><td>0.1</td><td>0.1</td><td>0.1</td><td>0.1</td></tr>\n",
       "\t<tr><td>0.1</td><td>0.1</td><td>0.1</td><td>0.1</td><td>0.1</td><td>0.1</td><td>0.1</td><td>0.1</td><td>0.1</td><td>0.1</td></tr>\n",
       "\t<tr><td>0.1</td><td>0.1</td><td>0.1</td><td>0.1</td><td>0.1</td><td>0.1</td><td>0.1</td><td>0.1</td><td>0.1</td><td>0.1</td></tr>\n",
       "\t<tr><td>0.1</td><td>0.1</td><td>0.1</td><td>0.1</td><td>0.1</td><td>0.1</td><td>0.1</td><td>0.1</td><td>0.1</td><td>0.1</td></tr>\n",
       "\t<tr><td>0.1</td><td>0.1</td><td>0.1</td><td>0.1</td><td>0.1</td><td>0.1</td><td>0.1</td><td>0.1</td><td>0.1</td><td>0.1</td></tr>\n",
       "\t<tr><td>0.1</td><td>0.1</td><td>0.1</td><td>0.1</td><td>0.1</td><td>0.1</td><td>0.1</td><td>0.1</td><td>0.1</td><td>0.1</td></tr>\n",
       "\t<tr><td>0.1</td><td>0.1</td><td>0.1</td><td>0.1</td><td>0.1</td><td>0.1</td><td>0.1</td><td>0.1</td><td>0.1</td><td>0.1</td></tr>\n",
       "\t<tr><td>0.1</td><td>0.1</td><td>0.1</td><td>0.1</td><td>0.1</td><td>0.1</td><td>0.1</td><td>0.1</td><td>0.1</td><td>0.1</td></tr>\n",
       "\t<tr><td>0.1</td><td>0.1</td><td>0.1</td><td>0.1</td><td>0.1</td><td>0.1</td><td>0.1</td><td>0.1</td><td>0.1</td><td>0.1</td></tr>\n",
       "</tbody>\n",
       "</table>\n"
      ],
      "text/latex": [
       "A matrix: 10 × 10 of type dbl\n",
       "\\begin{tabular}{llllllllll}\n",
       "\t 0.1 & 0.1 & 0.1 & 0.1 & 0.1 & 0.1 & 0.1 & 0.1 & 0.1 & 0.1\\\\\n",
       "\t 0.1 & 0.1 & 0.1 & 0.1 & 0.1 & 0.1 & 0.1 & 0.1 & 0.1 & 0.1\\\\\n",
       "\t 0.1 & 0.1 & 0.1 & 0.1 & 0.1 & 0.1 & 0.1 & 0.1 & 0.1 & 0.1\\\\\n",
       "\t 0.1 & 0.1 & 0.1 & 0.1 & 0.1 & 0.1 & 0.1 & 0.1 & 0.1 & 0.1\\\\\n",
       "\t 0.1 & 0.1 & 0.1 & 0.1 & 0.1 & 0.1 & 0.1 & 0.1 & 0.1 & 0.1\\\\\n",
       "\t 0.1 & 0.1 & 0.1 & 0.1 & 0.1 & 0.1 & 0.1 & 0.1 & 0.1 & 0.1\\\\\n",
       "\t 0.1 & 0.1 & 0.1 & 0.1 & 0.1 & 0.1 & 0.1 & 0.1 & 0.1 & 0.1\\\\\n",
       "\t 0.1 & 0.1 & 0.1 & 0.1 & 0.1 & 0.1 & 0.1 & 0.1 & 0.1 & 0.1\\\\\n",
       "\t 0.1 & 0.1 & 0.1 & 0.1 & 0.1 & 0.1 & 0.1 & 0.1 & 0.1 & 0.1\\\\\n",
       "\t 0.1 & 0.1 & 0.1 & 0.1 & 0.1 & 0.1 & 0.1 & 0.1 & 0.1 & 0.1\\\\\n",
       "\\end{tabular}\n"
      ],
      "text/markdown": [
       "\n",
       "A matrix: 10 × 10 of type dbl\n",
       "\n",
       "| 0.1 | 0.1 | 0.1 | 0.1 | 0.1 | 0.1 | 0.1 | 0.1 | 0.1 | 0.1 |\n",
       "| 0.1 | 0.1 | 0.1 | 0.1 | 0.1 | 0.1 | 0.1 | 0.1 | 0.1 | 0.1 |\n",
       "| 0.1 | 0.1 | 0.1 | 0.1 | 0.1 | 0.1 | 0.1 | 0.1 | 0.1 | 0.1 |\n",
       "| 0.1 | 0.1 | 0.1 | 0.1 | 0.1 | 0.1 | 0.1 | 0.1 | 0.1 | 0.1 |\n",
       "| 0.1 | 0.1 | 0.1 | 0.1 | 0.1 | 0.1 | 0.1 | 0.1 | 0.1 | 0.1 |\n",
       "| 0.1 | 0.1 | 0.1 | 0.1 | 0.1 | 0.1 | 0.1 | 0.1 | 0.1 | 0.1 |\n",
       "| 0.1 | 0.1 | 0.1 | 0.1 | 0.1 | 0.1 | 0.1 | 0.1 | 0.1 | 0.1 |\n",
       "| 0.1 | 0.1 | 0.1 | 0.1 | 0.1 | 0.1 | 0.1 | 0.1 | 0.1 | 0.1 |\n",
       "| 0.1 | 0.1 | 0.1 | 0.1 | 0.1 | 0.1 | 0.1 | 0.1 | 0.1 | 0.1 |\n",
       "| 0.1 | 0.1 | 0.1 | 0.1 | 0.1 | 0.1 | 0.1 | 0.1 | 0.1 | 0.1 |\n",
       "\n"
      ],
      "text/plain": [
       "      [,1] [,2] [,3] [,4] [,5] [,6] [,7] [,8] [,9] [,10]\n",
       " [1,] 0.1  0.1  0.1  0.1  0.1  0.1  0.1  0.1  0.1  0.1  \n",
       " [2,] 0.1  0.1  0.1  0.1  0.1  0.1  0.1  0.1  0.1  0.1  \n",
       " [3,] 0.1  0.1  0.1  0.1  0.1  0.1  0.1  0.1  0.1  0.1  \n",
       " [4,] 0.1  0.1  0.1  0.1  0.1  0.1  0.1  0.1  0.1  0.1  \n",
       " [5,] 0.1  0.1  0.1  0.1  0.1  0.1  0.1  0.1  0.1  0.1  \n",
       " [6,] 0.1  0.1  0.1  0.1  0.1  0.1  0.1  0.1  0.1  0.1  \n",
       " [7,] 0.1  0.1  0.1  0.1  0.1  0.1  0.1  0.1  0.1  0.1  \n",
       " [8,] 0.1  0.1  0.1  0.1  0.1  0.1  0.1  0.1  0.1  0.1  \n",
       " [9,] 0.1  0.1  0.1  0.1  0.1  0.1  0.1  0.1  0.1  0.1  \n",
       "[10,] 0.1  0.1  0.1  0.1  0.1  0.1  0.1  0.1  0.1  0.1  "
      ]
     },
     "metadata": {},
     "output_type": "display_data"
    }
   ],
   "source": [
    "# Question 3.10\n",
    "n = 10\n",
    "Y <- matrix(c(35,35,40,10,6,20,35,35,35,30,\n",
    "                 3.5,4.9,30,2.8,2.7,2.8,4.6,10.9,8,1.6,\n",
    "                 2.8,2.7,4.38,3.21,2.73,2.81,2.88,2.9,3.28,3.2), 10,3)\n",
    "I <- diag(10)\n",
    "C <- matrix(ncol = 10, nrow = 10)\n",
    "C[ , ] <- 1/n\n",
    "Y\n",
    "I\n",
    "C\n"
   ]
  },
  {
   "cell_type": "code",
   "execution_count": 15,
   "metadata": {
    "vscode": {
     "languageId": "r"
    }
   },
   "outputs": [
    {
     "data": {
      "text/html": [
       "<table class=\"dataframe\">\n",
       "<caption>A matrix: 3 × 3 of type dbl</caption>\n",
       "<tbody>\n",
       "\t<tr><td>140.544444</td><td>49.680000</td><td>1.9412222</td></tr>\n",
       "\t<tr><td> 49.680000</td><td>72.248444</td><td>3.6760889</td></tr>\n",
       "\t<tr><td>  1.941222</td><td> 3.676089</td><td>0.2501211</td></tr>\n",
       "</tbody>\n",
       "</table>\n"
      ],
      "text/latex": [
       "A matrix: 3 × 3 of type dbl\n",
       "\\begin{tabular}{lll}\n",
       "\t 140.544444 & 49.680000 & 1.9412222\\\\\n",
       "\t  49.680000 & 72.248444 & 3.6760889\\\\\n",
       "\t   1.941222 &  3.676089 & 0.2501211\\\\\n",
       "\\end{tabular}\n"
      ],
      "text/markdown": [
       "\n",
       "A matrix: 3 × 3 of type dbl\n",
       "\n",
       "| 140.544444 | 49.680000 | 1.9412222 |\n",
       "|  49.680000 | 72.248444 | 3.6760889 |\n",
       "|   1.941222 |  3.676089 | 0.2501211 |\n",
       "\n"
      ],
      "text/plain": [
       "     [,1]       [,2]      [,3]     \n",
       "[1,] 140.544444 49.680000 1.9412222\n",
       "[2,]  49.680000 72.248444 3.6760889\n",
       "[3,]   1.941222  3.676089 0.2501211"
      ]
     },
     "metadata": {},
     "output_type": "display_data"
    }
   ],
   "source": [
    "Sigma <- (n-1)^(-1) * (t(Y) %*% (I - C) %*% Y)\n",
    "Sigma"
   ]
  },
  {
   "cell_type": "markdown",
   "metadata": {},
   "source": [
    "# Chapter 5"
   ]
  },
  {
   "cell_type": "code",
   "execution_count": 5,
   "metadata": {
    "vscode": {
     "languageId": "r"
    }
   },
   "outputs": [
    {
     "data": {
      "text/html": [
       "5.99146454710798"
      ],
      "text/latex": [
       "5.99146454710798"
      ],
      "text/markdown": [
       "5.99146454710798"
      ],
      "text/plain": [
       "[1] 5.991465"
      ]
     },
     "metadata": {},
     "output_type": "display_data"
    }
   ],
   "source": [
    "qchisq(0.05, 2, lower.tail = FALSE)"
   ]
  },
  {
   "cell_type": "code",
   "execution_count": 9,
   "metadata": {
    "vscode": {
     "languageId": "r"
    }
   },
   "outputs": [
    {
     "data": {
      "text/html": [
       "-0.749533188057742"
      ],
      "text/latex": [
       "-0.749533188057742"
      ],
      "text/markdown": [
       "-0.749533188057742"
      ],
      "text/plain": [
       "[1] -0.7495332"
      ]
     },
     "metadata": {},
     "output_type": "display_data"
    }
   ],
   "source": [
    "(164.7-170)/ (sqrt(1000/20))"
   ]
  },
  {
   "cell_type": "code",
   "execution_count": 11,
   "metadata": {
    "vscode": {
     "languageId": "r"
    }
   },
   "outputs": [
    {
     "data": {
      "text/html": [
       "-1.95996398454005"
      ],
      "text/latex": [
       "-1.95996398454005"
      ],
      "text/markdown": [
       "-1.95996398454005"
      ],
      "text/plain": [
       "[1] -1.959964"
      ]
     },
     "metadata": {},
     "output_type": "display_data"
    }
   ],
   "source": [
    "qnorm(0.05/2)"
   ]
  },
  {
   "cell_type": "markdown",
   "metadata": {},
   "source": [
    "**Question 5.12**  \n",
    "Use the probe data in Table 3.6."
   ]
  },
  {
   "cell_type": "code",
   "execution_count": 3,
   "metadata": {
    "vscode": {
     "languageId": "r"
    }
   },
   "outputs": [
    {
     "data": {
      "text/html": [
       "<table class=\"dataframe\">\n",
       "<caption>A matrix: 11 × 5 of type dbl</caption>\n",
       "<tbody>\n",
       "\t<tr><td>51</td><td>36</td><td>50</td><td>35</td><td>42</td></tr>\n",
       "\t<tr><td>27</td><td>20</td><td>26</td><td>17</td><td>27</td></tr>\n",
       "\t<tr><td>37</td><td>22</td><td>41</td><td>37</td><td>30</td></tr>\n",
       "\t<tr><td>42</td><td>36</td><td>32</td><td>34</td><td>27</td></tr>\n",
       "\t<tr><td>27</td><td>18</td><td>33</td><td>14</td><td>29</td></tr>\n",
       "\t<tr><td>43</td><td>32</td><td>43</td><td>35</td><td>40</td></tr>\n",
       "\t<tr><td>41</td><td>22</td><td>36</td><td>25</td><td>38</td></tr>\n",
       "\t<tr><td>38</td><td>21</td><td>31</td><td>20</td><td>16</td></tr>\n",
       "\t<tr><td>36</td><td>23</td><td>27</td><td>25</td><td>28</td></tr>\n",
       "\t<tr><td>26</td><td>31</td><td>31</td><td>32</td><td>36</td></tr>\n",
       "\t<tr><td>29</td><td>20</td><td>25</td><td>26</td><td>25</td></tr>\n",
       "</tbody>\n",
       "</table>\n"
      ],
      "text/latex": [
       "A matrix: 11 × 5 of type dbl\n",
       "\\begin{tabular}{lllll}\n",
       "\t 51 & 36 & 50 & 35 & 42\\\\\n",
       "\t 27 & 20 & 26 & 17 & 27\\\\\n",
       "\t 37 & 22 & 41 & 37 & 30\\\\\n",
       "\t 42 & 36 & 32 & 34 & 27\\\\\n",
       "\t 27 & 18 & 33 & 14 & 29\\\\\n",
       "\t 43 & 32 & 43 & 35 & 40\\\\\n",
       "\t 41 & 22 & 36 & 25 & 38\\\\\n",
       "\t 38 & 21 & 31 & 20 & 16\\\\\n",
       "\t 36 & 23 & 27 & 25 & 28\\\\\n",
       "\t 26 & 31 & 31 & 32 & 36\\\\\n",
       "\t 29 & 20 & 25 & 26 & 25\\\\\n",
       "\\end{tabular}\n"
      ],
      "text/markdown": [
       "\n",
       "A matrix: 11 × 5 of type dbl\n",
       "\n",
       "| 51 | 36 | 50 | 35 | 42 |\n",
       "| 27 | 20 | 26 | 17 | 27 |\n",
       "| 37 | 22 | 41 | 37 | 30 |\n",
       "| 42 | 36 | 32 | 34 | 27 |\n",
       "| 27 | 18 | 33 | 14 | 29 |\n",
       "| 43 | 32 | 43 | 35 | 40 |\n",
       "| 41 | 22 | 36 | 25 | 38 |\n",
       "| 38 | 21 | 31 | 20 | 16 |\n",
       "| 36 | 23 | 27 | 25 | 28 |\n",
       "| 26 | 31 | 31 | 32 | 36 |\n",
       "| 29 | 20 | 25 | 26 | 25 |\n",
       "\n"
      ],
      "text/plain": [
       "      [,1] [,2] [,3] [,4] [,5]\n",
       " [1,] 51   36   50   35   42  \n",
       " [2,] 27   20   26   17   27  \n",
       " [3,] 37   22   41   37   30  \n",
       " [4,] 42   36   32   34   27  \n",
       " [5,] 27   18   33   14   29  \n",
       " [6,] 43   32   43   35   40  \n",
       " [7,] 41   22   36   25   38  \n",
       " [8,] 38   21   31   20   16  \n",
       " [9,] 36   23   27   25   28  \n",
       "[10,] 26   31   31   32   36  \n",
       "[11,] 29   20   25   26   25  "
      ]
     },
     "metadata": {},
     "output_type": "display_data"
    }
   ],
   "source": [
    "Y <- matrix(c(51,27,37,42,27,43,41,38,36,26,29,\n",
    "                 36,20,22,36,18,32,22,21,23,31,20,\n",
    "                 50,26,41,32,33,43,36,31,27,31,25,\n",
    "                 35,17,37,34,14,35,25,20,25,32,26,\n",
    "                 42,27,30,27,29,40,38,16,28,36,25), 11,5)\n",
    "Y\n"
   ]
  },
  {
   "cell_type": "markdown",
   "metadata": {},
   "source": [
    "a) Test $H_0: \\mu = (30,25,40,25,30)'$"
   ]
  },
  {
   "cell_type": "code",
   "execution_count": 41,
   "metadata": {
    "vscode": {
     "languageId": "r"
    }
   },
   "outputs": [
    {
     "data": {
      "text/html": [
       "<table class=\"dataframe\">\n",
       "<caption>A matrix: 1 × 1 of type dbl</caption>\n",
       "<tbody>\n",
       "\t<tr><td>85.3327</td></tr>\n",
       "</tbody>\n",
       "</table>\n"
      ],
      "text/latex": [
       "A matrix: 1 × 1 of type dbl\n",
       "\\begin{tabular}{l}\n",
       "\t 85.3327\\\\\n",
       "\\end{tabular}\n"
      ],
      "text/markdown": [
       "\n",
       "A matrix: 1 × 1 of type dbl\n",
       "\n",
       "| 85.3327 |\n",
       "\n"
      ],
      "text/plain": [
       "     [,1]   \n",
       "[1,] 85.3327"
      ]
     },
     "metadata": {},
     "output_type": "display_data"
    }
   ],
   "source": [
    "# Setup\n",
    "n = 11\n",
    "mu_0 <- matrix(c(30,25,40,25,30), 5,1)\n",
    "y_bar <- matrix(nrow = 5, ncol =1)\n",
    "for ( i in 1:5) {\n",
    "    y_bar[i,] <- sum(Y[,i] / n)\n",
    "}\n",
    "J <- matrix(nrow = 11, ncol = 11)\n",
    "J[,] = 1\n",
    "I <- diag(11)\n",
    "S <- (t(Y) %*% (I - (1/n) * J) %*% Y) / (n-1)\n",
    "\n",
    "# Test Statistic\n",
    "T2 <- n * t((y_bar - mu_0)) %*% solve(S) %*% (y_bar - mu_0)\n",
    "T2"
   ]
  },
  {
   "cell_type": "markdown",
   "metadata": {},
   "source": [
    "$85.33 > 36.56 \\text{ from Appendix A.7 } \\therefore$ reject $H_0$."
   ]
  },
  {
   "cell_type": "markdown",
   "metadata": {},
   "source": [
    "b) If null is rejected, test each variable seperately, using (5.3)"
   ]
  },
  {
   "cell_type": "code",
   "execution_count": 42,
   "metadata": {
    "vscode": {
     "languageId": "r"
    }
   },
   "outputs": [
    {
     "data": {
      "text/html": [
       "<table class=\"dataframe\">\n",
       "<caption>A matrix: 5 × 1 of type dbl</caption>\n",
       "<tbody>\n",
       "\t<tr><td> 0.31035455</td></tr>\n",
       "\t<tr><td> 0.03926549</td></tr>\n",
       "\t<tr><td>-0.32291883</td></tr>\n",
       "\t<tr><td> 0.11999366</td></tr>\n",
       "\t<tr><td> 0.04143191</td></tr>\n",
       "</tbody>\n",
       "</table>\n"
      ],
      "text/latex": [
       "A matrix: 5 × 1 of type dbl\n",
       "\\begin{tabular}{l}\n",
       "\t  0.31035455\\\\\n",
       "\t  0.03926549\\\\\n",
       "\t -0.32291883\\\\\n",
       "\t  0.11999366\\\\\n",
       "\t  0.04143191\\\\\n",
       "\\end{tabular}\n"
      ],
      "text/markdown": [
       "\n",
       "A matrix: 5 × 1 of type dbl\n",
       "\n",
       "|  0.31035455 |\n",
       "|  0.03926549 |\n",
       "| -0.32291883 |\n",
       "|  0.11999366 |\n",
       "|  0.04143191 |\n",
       "\n"
      ],
      "text/plain": [
       "     [,1]       \n",
       "[1,]  0.31035455\n",
       "[2,]  0.03926549\n",
       "[3,] -0.32291883\n",
       "[4,]  0.11999366\n",
       "[5,]  0.04143191"
      ]
     },
     "metadata": {},
     "output_type": "display_data"
    }
   ],
   "source": [
    "# Make a vector containing the 5 individual t-values.\n",
    "t <- matrix(nrow = 5, ncol =1)\n",
    "for (i in 1:5) {\n",
    "    t[i,] = (y_bar[i,] - mu_0[i,])  / (S[i,i] / sqrt(n))\n",
    "}\n",
    "t"
   ]
  },
  {
   "cell_type": "markdown",
   "metadata": {},
   "source": [
    "We fail to reject the null in every one of these cases."
   ]
  },
  {
   "cell_type": "markdown",
   "metadata": {},
   "source": [
    "**Question 5.13**  \n",
    "For the prove word data in Table 3.6, test $H_0: \\mu_1 = \\mu_2 = ... = \\mu_5$, using $T^2$ in (5.33).  \n",
    "Skipped for now."
   ]
  },
  {
   "cell_type": "markdown",
   "metadata": {},
   "source": [
    "**Question 5.14**  \n",
    "Use the ramus bone data in Table 3.7:"
   ]
  },
  {
   "cell_type": "code",
   "execution_count": 46,
   "metadata": {
    "vscode": {
     "languageId": "r"
    }
   },
   "outputs": [],
   "source": [
    "Y <- matrix(c(47.8,46.4,46.3,45.1,47.6,52.5,51.2,49.8,48.1,45.0,51.2,48.5,52.1,48.2,49.6,50.7,47.2,53.3,46.2,46.3,\n",
    "              48.8,47.3,46.8,45.3,48.5,53.2,53.0,50.0,50.8,47.0,51.4,49.2,52.8,48.9,50.4,51.7,47.7,54.6,47.5,47.6,\n",
    "              49.0,47.7,47.8,46.1,48.9,53.3,54.3,50.3,52.3,47.3,51.6,53.0,53.7,49.3,51.2,52.7,48.4,55.1,48.1,51.3,\n",
    "              49.7,48.4,48.5,47.2,49.3,53.7,54.5,52.7,54.4,48.3,51.9,55.5,55.0,49.8,51.8,53.3,49.5,55.3,48.4,51.8), nrow = 20, ncol =4)"
   ]
  },
  {
   "cell_type": "markdown",
   "metadata": {},
   "source": [
    "a) Test $H_0: \\mu = (48,49,50,51)'$."
   ]
  },
  {
   "cell_type": "code",
   "execution_count": 50,
   "metadata": {
    "vscode": {
     "languageId": "r"
    }
   },
   "outputs": [
    {
     "data": {
      "text/html": [
       "<table class=\"dataframe\">\n",
       "<caption>A matrix: 1 × 1 of type dbl</caption>\n",
       "<tbody>\n",
       "\t<tr><td>1.792636</td></tr>\n",
       "</tbody>\n",
       "</table>\n"
      ],
      "text/latex": [
       "A matrix: 1 × 1 of type dbl\n",
       "\\begin{tabular}{l}\n",
       "\t 1.792636\\\\\n",
       "\\end{tabular}\n"
      ],
      "text/markdown": [
       "\n",
       "A matrix: 1 × 1 of type dbl\n",
       "\n",
       "| 1.792636 |\n",
       "\n"
      ],
      "text/plain": [
       "     [,1]    \n",
       "[1,] 1.792636"
      ]
     },
     "metadata": {},
     "output_type": "display_data"
    }
   ],
   "source": [
    "# Calculations\n",
    "n <- 20\n",
    "mu_0 <- matrix(c(48,49,50,51), 4,1)\n",
    "y_hat <- matrix(nrow = 4, ncol =1)\n",
    "for (i in 1:4) {\n",
    "    y_hat[i,] = sum(Y[,i]) / n\n",
    "}\n",
    "J <- matrix(nrow = 20, ncol = 20)\n",
    "J[,] = 1\n",
    "I <- diag(20)\n",
    "S <- (t(Y) %*% (I - (1/n) * J) %*% Y) / (n-1)\n",
    "\n",
    "# Test Statistic\n",
    "T2 <- n * t((y_hat - mu_0)) %*% solve(S) %*% (y_hat - mu_0)\n",
    "T2"
   ]
  },
  {
   "cell_type": "markdown",
   "metadata": {},
   "source": [
    "b) If $H_0$ rejected, test each variable separately, using (5.3)"
   ]
  },
  {
   "cell_type": "markdown",
   "metadata": {},
   "source": [
    "Not significant."
   ]
  },
  {
   "cell_type": "markdown",
   "metadata": {},
   "source": [
    "**Question 5.15**  \n",
    "Skip for now, Profile Analysis."
   ]
  },
  {
   "cell_type": "markdown",
   "metadata": {},
   "source": [
    "**Question 5.16**  \n",
    "Four measurements were made on two species of flea beetles (Lubischew 1962). The tables were..."
   ]
  },
  {
   "cell_type": "code",
   "execution_count": 5,
   "metadata": {
    "vscode": {
     "languageId": "r"
    }
   },
   "outputs": [],
   "source": [
    "Haltica_Oleracea <- matrix(c(189,192,217,221,171,192,213,192,170,201,195,205,180,192,200,192,200,181,192,\n",
    "                             245,260,276,299,239,262,278,255,244,276,242,263,252,283,294,277,287,255,287,\n",
    "                             137,132,141,142,128,147,136,128,128,146,128,147,121,138,138,150,136,146,141,\n",
    "                             163,217,192,213,158,173,201,185,192,186,192,192,167,183,188,177,173,183,198), nrow = 19, ncol = 4)\n",
    "\n",
    "Haltica_Carduorum <- matrix(c(181,158,184,171,181,181,177,198,180,177,176,192,176,169,164,181,192,181,175,197,\n",
    "                              305,237,300,273,297,308,301,308,286,299,317,312,285,287,265,308,276,278,271,303,\n",
    "                              184,133,166,162,163,160,166,141,146,171,166,166,141,162,147,157,154,149,140,170,\n",
    "                              209,188,231,213,224,223,221,197,214,192,213,209,200,214,192,204,209,235,192,205), nrow = 20, ncol = 4)"
   ]
  },
  {
   "cell_type": "markdown",
   "metadata": {},
   "source": [
    "a) Test $H_0: \\mu_1 = \\mu_2$ using $T^2$."
   ]
  },
  {
   "cell_type": "code",
   "execution_count": 1,
   "metadata": {
    "vscode": {
     "languageId": "r"
    }
   },
   "outputs": [
    {
     "ename": "ERROR",
     "evalue": "Error in eval(expr, envir, enclos): object 'Haltica_Oleracea' not found\n",
     "output_type": "error",
     "traceback": [
      "Error in eval(expr, envir, enclos): object 'Haltica_Oleracea' not found\nTraceback:\n"
     ]
    }
   ],
   "source": [
    "# Preliminary Calculations\n",
    "\n",
    "n1 = 19\n",
    "n2 = 20\n",
    "J1 <- matrix(nrow = 19, ncol = 19)\n",
    "J2 <- matrix(nrow = 20, ncol = 20)\n",
    "J1[,] = 1\n",
    "J2[,] = 1\n",
    "I_19 <- diag(19)\n",
    "I_20 <- diag(20)\n",
    "mu1 <- matrix(nrow = 4, ncol = 1)\n",
    "for (i in 1:4) {\n",
    "    mu1[i,] = sum(Haltica_Oleracea[,i] / n1)\n",
    "}\n",
    "mu2 <- matrix(nrow = 4, ncol = 1)\n",
    "for (i in 1:4) {\n",
    "    mu2[i,] = sum(Haltica_Carduorum[,i] / n2)\n",
    "}\n",
    "\n",
    "S1 <- (t(Haltica_Oleracea) %*% (I_19 - (1 / n1) * J1) %*% Haltica_Oleracea) / (n1 -1)\n",
    "S2 <- (t(Haltica_Carduorum) %*% (I_20 - (1 / n2) * J2) %*% Haltica_Carduorum) / (n2 -1)\n",
    "Spl <- ((n1 - 1) * S1 + (n2 - 1) * S2) / (n1 + n2 - 2)\n",
    "\n",
    "# Test Statistic\n",
    "t_obs = (n1 * n2 / (n1 + n2)) * t(mu1 - mu2) %*% solve(Spl) %*% (mu1 - mu2)\n",
    "t_obs\n"
   ]
  },
  {
   "cell_type": "markdown",
   "metadata": {},
   "source": [
    "b) If the $T^2$-test in part a) rejects $H_0$, carry out a t-test on each variable, as in (5.15)."
   ]
  },
  {
   "cell_type": "code",
   "execution_count": 57,
   "metadata": {
    "vscode": {
     "languageId": "r"
    }
   },
   "outputs": [
    {
     "data": {
      "text/html": [
       "<table class=\"dataframe\">\n",
       "<caption>A matrix: 4 × 1 of type dbl</caption>\n",
       "<tbody>\n",
       "\t<tr><td> 3.887946</td></tr>\n",
       "\t<tr><td>-3.865239</td></tr>\n",
       "\t<tr><td>-5.691131</td></tr>\n",
       "\t<tr><td>-5.042625</td></tr>\n",
       "</tbody>\n",
       "</table>\n"
      ],
      "text/latex": [
       "A matrix: 4 × 1 of type dbl\n",
       "\\begin{tabular}{l}\n",
       "\t  3.887946\\\\\n",
       "\t -3.865239\\\\\n",
       "\t -5.691131\\\\\n",
       "\t -5.042625\\\\\n",
       "\\end{tabular}\n"
      ],
      "text/markdown": [
       "\n",
       "A matrix: 4 × 1 of type dbl\n",
       "\n",
       "|  3.887946 |\n",
       "| -3.865239 |\n",
       "| -5.691131 |\n",
       "| -5.042625 |\n",
       "\n"
      ],
      "text/plain": [
       "     [,1]     \n",
       "[1,]  3.887946\n",
       "[2,] -3.865239\n",
       "[3,] -5.691131\n",
       "[4,] -5.042625"
      ]
     },
     "metadata": {},
     "output_type": "display_data"
    }
   ],
   "source": [
    "S2pl <- matrix(nrow = 4, ncol = 1)\n",
    "for ( i in 1:4) {\n",
    "    S2pl[i,] = ( (n1-1) * S1[i,i] + (n2-1) * S2[i,i] ) / (n1 + n2 -2)\n",
    "}\n",
    " \n",
    "t <- matrix(nrow = 4, ncol = 1)\n",
    "for (i in 1:4) {\n",
    "    t[i,] = (mu1[i,] - mu2[i,]) / sqrt(S2pl[i,] * (1/n1 + 1/n2))\n",
    "}\n",
    "t"
   ]
  },
  {
   "cell_type": "markdown",
   "metadata": {},
   "source": [
    "c) Calculate the discriminant function coefficient vector $\\textbf{a} = \\textbf{S}_{pl}^{-1} (\\bar{\\textbf{y}}_1 - \\bar{\\textbf{y}}_2)$"
   ]
  },
  {
   "cell_type": "code",
   "execution_count": 62,
   "metadata": {
    "vscode": {
     "languageId": "r"
    }
   },
   "outputs": [
    {
     "data": {
      "text/html": [
       "<table class=\"dataframe\">\n",
       "<caption>A matrix: 4 × 1 of type dbl</caption>\n",
       "<tbody>\n",
       "\t<tr><td> 0.3452490</td></tr>\n",
       "\t<tr><td>-0.1303878</td></tr>\n",
       "\t<tr><td>-0.1064338</td></tr>\n",
       "\t<tr><td>-0.1433533</td></tr>\n",
       "</tbody>\n",
       "</table>\n"
      ],
      "text/latex": [
       "A matrix: 4 × 1 of type dbl\n",
       "\\begin{tabular}{l}\n",
       "\t  0.3452490\\\\\n",
       "\t -0.1303878\\\\\n",
       "\t -0.1064338\\\\\n",
       "\t -0.1433533\\\\\n",
       "\\end{tabular}\n"
      ],
      "text/markdown": [
       "\n",
       "A matrix: 4 × 1 of type dbl\n",
       "\n",
       "|  0.3452490 |\n",
       "| -0.1303878 |\n",
       "| -0.1064338 |\n",
       "| -0.1433533 |\n",
       "\n"
      ],
      "text/plain": [
       "     [,1]      \n",
       "[1,]  0.3452490\n",
       "[2,] -0.1303878\n",
       "[3,] -0.1064338\n",
       "[4,] -0.1433533"
      ]
     },
     "metadata": {},
     "output_type": "display_data"
    }
   ],
   "source": [
    "a <- solve(Spl) %*% (mu1 - mu2)\n",
    "x <- t(a) %*% t(Y)"
   ]
  },
  {
   "cell_type": "markdown",
   "metadata": {},
   "source": [
    "Define random variable $\\textbf{x} = \\textbf{a}'\\textbf{y}$, with $\\textbf{y} = (y_1,y_2,y_3,y_4)'$. Let $\\mu_x = E(x)$. Is $\\mu_x$ different for the two species? Use a test to state your conclusion."
   ]
  },
  {
   "cell_type": "code",
   "execution_count": null,
   "metadata": {
    "vscode": {
     "languageId": "r"
    }
   },
   "outputs": [],
   "source": []
  },
  {
   "cell_type": "markdown",
   "metadata": {},
   "source": [
    "**Question 5.21**  \n",
    "Each of 15 students wrote an informal and a formal essay Kramer (1972, p. 100). The variables recorded were the number of words and the number of verbs:  \n",
    "$y_1 =$ Number of words in the informal essay  \n",
    "$y_2 =$ Number of verbs in the informal essay  \n",
    "$x_1 =$ Number of words in the formal essay  \n",
    "$x_2 =$ Number of verbs in the formal essay"
   ]
  },
  {
   "cell_type": "code",
   "execution_count": 63,
   "metadata": {
    "vscode": {
     "languageId": "r"
    }
   },
   "outputs": [],
   "source": [
    "Informal <- matrix( c(148,159,144,103,121, 89,119,123, 76,217,148,151, 83,135,178,\n",
    "                       20, 24, 19, 18, 17, 11, 17, 13, 16, 29, 22, 21,  7, 20, 15), nrow = 15, ncol = 2)\n",
    "\n",
    "Formal <- matrix( c(137,164,224,208,178,128,154,158,102,214,209,151,123,161,175,\n",
    "                     15, 25, 27, 33, 24, 20, 18, 16, 21, 25, 24, 16, 13, 22, 23), nrow = 15, ncol = 2)"
   ]
  },
  {
   "cell_type": "markdown",
   "metadata": {},
   "source": [
    "a) Test $\\mu_d =0$."
   ]
  },
  {
   "cell_type": "code",
   "execution_count": 84,
   "metadata": {
    "vscode": {
     "languageId": "r"
    }
   },
   "outputs": [
    {
     "data": {
      "text/html": [
       "<table class=\"dataframe\">\n",
       "<caption>A matrix: 1 × 1 of type dbl</caption>\n",
       "<tbody>\n",
       "\t<tr><td>15.19123</td></tr>\n",
       "</tbody>\n",
       "</table>\n"
      ],
      "text/latex": [
       "A matrix: 1 × 1 of type dbl\n",
       "\\begin{tabular}{l}\n",
       "\t 15.19123\\\\\n",
       "\\end{tabular}\n"
      ],
      "text/markdown": [
       "\n",
       "A matrix: 1 × 1 of type dbl\n",
       "\n",
       "| 15.19123 |\n",
       "\n"
      ],
      "text/plain": [
       "     [,1]    \n",
       "[1,] 15.19123"
      ]
     },
     "metadata": {},
     "output_type": "display_data"
    }
   ],
   "source": [
    "# Preliminary Calculations\n",
    "n=15\n",
    "I <- diag(15)\n",
    "J <- matrix(nrow = 15, ncol = 15)\n",
    "J[,] = 1\n",
    "\n",
    "d <- matrix(nrow = 15, ncol =2)\n",
    "for (i in 1:2) {\n",
    "    for(j in 1:15) {\n",
    "        d[j,i] = Informal[j,i] - Formal[j,i]\n",
    "    }\n",
    "}\n",
    "d_bar <- matrix(c(sum(d[,1]/n), sum(d[,2]/n)), nrow = 2, ncol =1)\n",
    "S_d <- t(d) %*% (I - (1/n) * J) %*% d / (n-1)\n",
    "\n",
    "# Test Statistic\n",
    "T2_obs <- n * t(d_bar) %*% solve(S_d) %*% d_bar\n",
    "T2_obs\n",
    "\n",
    "\n"
   ]
  },
  {
   "cell_type": "code",
   "execution_count": 80,
   "metadata": {
    "vscode": {
     "languageId": "r"
    }
   },
   "outputs": [
    {
     "data": {
      "text/html": [
       "<table class=\"dataframe\">\n",
       "<caption>A matrix: 2 × 1 of type dbl</caption>\n",
       "<tbody>\n",
       "\t<tr><td>-32.800000</td></tr>\n",
       "\t<tr><td> -3.533333</td></tr>\n",
       "</tbody>\n",
       "</table>\n"
      ],
      "text/latex": [
       "A matrix: 2 × 1 of type dbl\n",
       "\\begin{tabular}{l}\n",
       "\t -32.800000\\\\\n",
       "\t  -3.533333\\\\\n",
       "\\end{tabular}\n"
      ],
      "text/markdown": [
       "\n",
       "A matrix: 2 × 1 of type dbl\n",
       "\n",
       "| -32.800000 |\n",
       "|  -3.533333 |\n",
       "\n"
      ],
      "text/plain": [
       "     [,1]      \n",
       "[1,] -32.800000\n",
       "[2,]  -3.533333"
      ]
     },
     "metadata": {},
     "output_type": "display_data"
    }
   ],
   "source": [
    "d_bar"
   ]
  },
  {
   "cell_type": "code",
   "execution_count": 79,
   "metadata": {
    "vscode": {
     "languageId": "r"
    }
   },
   "outputs": [
    {
     "data": {
      "text/html": [
       "<table class=\"dataframe\">\n",
       "<caption>A matrix: 15 × 2 of type dbl</caption>\n",
       "<tbody>\n",
       "\t<tr><td>  11</td><td>  5</td></tr>\n",
       "\t<tr><td>  -5</td><td> -1</td></tr>\n",
       "\t<tr><td> -80</td><td> -8</td></tr>\n",
       "\t<tr><td>-105</td><td>-15</td></tr>\n",
       "\t<tr><td> -57</td><td> -7</td></tr>\n",
       "\t<tr><td> -39</td><td> -9</td></tr>\n",
       "\t<tr><td> -35</td><td> -1</td></tr>\n",
       "\t<tr><td> -35</td><td> -3</td></tr>\n",
       "\t<tr><td> -26</td><td> -5</td></tr>\n",
       "\t<tr><td>   3</td><td>  4</td></tr>\n",
       "\t<tr><td> -61</td><td> -2</td></tr>\n",
       "\t<tr><td>   0</td><td>  5</td></tr>\n",
       "\t<tr><td> -40</td><td> -6</td></tr>\n",
       "\t<tr><td> -26</td><td> -2</td></tr>\n",
       "\t<tr><td>   3</td><td> -8</td></tr>\n",
       "</tbody>\n",
       "</table>\n"
      ],
      "text/latex": [
       "A matrix: 15 × 2 of type dbl\n",
       "\\begin{tabular}{ll}\n",
       "\t   11 &   5\\\\\n",
       "\t   -5 &  -1\\\\\n",
       "\t  -80 &  -8\\\\\n",
       "\t -105 & -15\\\\\n",
       "\t  -57 &  -7\\\\\n",
       "\t  -39 &  -9\\\\\n",
       "\t  -35 &  -1\\\\\n",
       "\t  -35 &  -3\\\\\n",
       "\t  -26 &  -5\\\\\n",
       "\t    3 &   4\\\\\n",
       "\t  -61 &  -2\\\\\n",
       "\t    0 &   5\\\\\n",
       "\t  -40 &  -6\\\\\n",
       "\t  -26 &  -2\\\\\n",
       "\t    3 &  -8\\\\\n",
       "\\end{tabular}\n"
      ],
      "text/markdown": [
       "\n",
       "A matrix: 15 × 2 of type dbl\n",
       "\n",
       "|   11 |   5 |\n",
       "|   -5 |  -1 |\n",
       "|  -80 |  -8 |\n",
       "| -105 | -15 |\n",
       "|  -57 |  -7 |\n",
       "|  -39 |  -9 |\n",
       "|  -35 |  -1 |\n",
       "|  -35 |  -3 |\n",
       "|  -26 |  -5 |\n",
       "|    3 |   4 |\n",
       "|  -61 |  -2 |\n",
       "|    0 |   5 |\n",
       "|  -40 |  -6 |\n",
       "|  -26 |  -2 |\n",
       "|    3 |  -8 |\n",
       "\n"
      ],
      "text/plain": [
       "      [,1] [,2]\n",
       " [1,]   11   5 \n",
       " [2,]   -5  -1 \n",
       " [3,]  -80  -8 \n",
       " [4,] -105 -15 \n",
       " [5,]  -57  -7 \n",
       " [6,]  -39  -9 \n",
       " [7,]  -35  -1 \n",
       " [8,]  -35  -3 \n",
       " [9,]  -26  -5 \n",
       "[10,]    3   4 \n",
       "[11,]  -61  -2 \n",
       "[12,]    0   5 \n",
       "[13,]  -40  -6 \n",
       "[14,]  -26  -2 \n",
       "[15,]    3  -8 "
      ]
     },
     "metadata": {},
     "output_type": "display_data"
    }
   ],
   "source": [
    "d"
   ]
  },
  {
   "cell_type": "markdown",
   "metadata": {},
   "source": [
    "# Chapter 6"
   ]
  },
  {
   "cell_type": "markdown",
   "metadata": {},
   "source": [
    "**Question 6.27**  \n",
    "Baten, Tack, and Baeder (1958) compared judges' scores on fish prepared by three methods. Twelve fish were cooked by each method, and several judges tasted fish samples and rated each on four variables:  \n",
    "  \n",
    "$y_1 =$ aroma,  \n",
    "$y_2 =$ flavor,  \n",
    "$y_3 =$ texture,  \n",
    "$y_4 =$ moisture  \n",
    "\n",
    "Each entry is an aveage score for the judges on that fish."
   ]
  },
  {
   "cell_type": "markdown",
   "metadata": {},
   "source": [
    "## Question 5 Chat GPT"
   ]
  },
  {
   "cell_type": "code",
   "execution_count": 2,
   "metadata": {
    "vscode": {
     "languageId": "r"
    }
   },
   "outputs": [],
   "source": [
    "simulate_type_I_error <- function(p, n) {\n",
    "  # Simulate the data under the null hypothesis\n",
    "  reject_LR <- 0\n",
    "  reject_u_prime <- 0\n",
    "  \n",
    "  for (i in 1:1000) {\n",
    "    Y <- matrix(rnorm(n*p), nrow=n)\n",
    "    S <- cov(Y)\n",
    "    \n",
    "    # Calculate test statistics\n",
    "    u <- p^2 * det(S) / (trace(S))^p\n",
    "    LR <- -2 * log(u) - n * log(u)\n",
    "    u_prime <- (n - 1 - (2*p^2 + p + 2) / 6*p) * log(u)\n",
    "\n",
    "    # Critical value for chi-squared distribution with p*(p+1)/2 df at 5% significance level\n",
    "    critical_val <- qchisq(0.95, p*(p+1)/2)\n",
    "\n",
    "    \n",
    "\n",
    "    if (LR > critical_val) {\n",
    "\n",
    "      reject_LR <- reject_LR + 1\n",
    "\n",
    "    }\n",
    "\n",
    "        if (u_prime > critical_val) {\n",
    "\n",
    "      reject_u_prime <- reject_u_prime + 1\n",
    "\n",
    "    }\n",
    "\n",
    "  }\n",
    "\n",
    "  \n",
    "\n",
    "  c(reject_LR/1000, reject_u_prime/1000)\n",
    "\n",
    "}"
   ]
  },
  {
   "cell_type": "code",
   "execution_count": 5,
   "metadata": {
    "vscode": {
     "languageId": "r"
    }
   },
   "outputs": [
    {
     "ename": "ERROR",
     "evalue": "Error in .primTrace(what): argument must be a function\n",
     "output_type": "error",
     "traceback": [
      "Error in .primTrace(what): argument must be a function\nTraceback:\n",
      "1. sapply(n_values, simulate_type_I_error(p, 10))",
      "2. match.fun(FUN)",
      "3. simulate_type_I_error(p, 10)",
      "4. trace(S)   # at line 11 of file <text>"
     ]
    }
   ],
   "source": [
    "p = 3\n",
    "\n",
    "n_values = c(10, 20, 30, 40, 500, 1000)\n",
    "\n",
    "results_a <- sapply(n_values, simulate_type_I_error(p, 10))"
   ]
  },
  {
   "cell_type": "code",
   "execution_count": null,
   "metadata": {
    "vscode": {
     "languageId": "r"
    }
   },
   "outputs": [],
   "source": []
  },
  {
   "cell_type": "markdown",
   "metadata": {},
   "source": [
    "# Chapter 8 "
   ]
  },
  {
   "cell_type": "markdown",
   "metadata": {},
   "source": [
    "**8.7** For the phsychological data in Table 5.1, the discriminant function coefficient vector was given in Example 5.5.  \n",
    "  \n",
    "**a)** Find the standardized coefficients."
   ]
  },
  {
   "cell_type": "code",
   "execution_count": 15,
   "metadata": {
    "vscode": {
     "languageId": "r"
    }
   },
   "outputs": [],
   "source": [
    "# 8,7\n",
    "males <- matrix(c(15,17,15,13,20,15,15,13,14,17,17,17,15,18,18,15,18,10,18,18,13,16,11,16,16,18,16,15,18,18,17,19,\n",
    "                  17,15,14,12,17,21,13,05,07,15,17,20,15,19,18,14,17,14,21,21,17,16,15,13,13,18,15,16,19,16,20,19,\n",
    "                  24,32,29,10,26,26,26,22,30,30,26,28,29,32,31,26,33,19,30,34,30,16,25,26,23,34,28,29,32,33,21,30,\n",
    "                  14,26,23,16,28,21,22,22,17,27,20,24,24,28,27,21,26,17,29,26,24,16,23,16,21,24,27,24,23,23,21,28),\n",
    "                  nrow = 32, ncol = 4)\n",
    "femal <- matrix(c(13,14,12,12,11,12,10,10,12,11,12,14,14,13,14,13,16,14,16,13,02,14,17,16,15,12,14,13,11,07,12,06,\n",
    "                  14,12,19,13,20,09,13,08,20,10,18,18,10,16,08,16,21,17,16,16,06,16,17,13,14,10,17,15,16,07,15,05,\n",
    "                  12,14,21,10,16,14,18,13,19,11,25,13,25,08,13,23,26,14,15,23,16,22,22,16,20,12,24,18,18,19,07,06,\n",
    "                  21,26,21,16,16,18,24,23,23,27,25,26,28,14,25,28,26,14,23,24,21,26,28,14,26,09,23,20,28,18,28,13),\n",
    "                  nrow = 32, ncol = 4)\n",
    "colnames(males) <- c(\"y1\", \"y2\", \"y3\", \"y4\")\n",
    "colnames(femal) <- c(\"y1\", \"y2\", \"y3\", \"y4\")\n",
    "n=32\n",
    "J <- function(n) {\n",
    "    matrix = matrix(1, nrow = n, ncol = n)\n",
    "    return(matrix)}"
   ]
  },
  {
   "cell_type": "markdown",
   "metadata": {},
   "source": [
    "$ z = \\textbf{a}'\\textbf{y}$  \n",
    "where $\\textbf{a} = \\textbf{S}_{pl}^{-1} (\\bar{\\textbf{y}_1} - \\bar{\\textbf{y}_2})$  \n",
    "$S = (n-1)^{-1} Y' (I - (1/n)J) Y$  \n",
    "$S_{pl} = \\frac{(n_1 - 1 )s_1^2 + (n_2 -  1)s_2^2}{n_1 + n_2 - 2}$ "
   ]
  },
  {
   "cell_type": "code",
   "execution_count": 24,
   "metadata": {
    "vscode": {
     "languageId": "r"
    }
   },
   "outputs": [
    {
     "data": {
      "text/html": [
       "<table class=\"dataframe\">\n",
       "<caption>A matrix: 1 × 32 of type dbl</caption>\n",
       "<tbody>\n",
       "\t<tr><td>0.3564512</td><td>0.4028941</td><td>0.3613887</td><td>0.1258607</td><td>0.3289938</td><td>0.2903616</td><td>0.332835</td><td>0.2922329</td><td>0.465798</td><td>0.3628375</td><td>...</td><td>0.2288354</td><td>0.4092363</td><td>0.3141888</td><td>0.4497317</td><td>0.3163051</td><td>0.3382836</td><td>0.423096</td><td>0.4578032</td><td>0.2546819</td><td>0.3595473</td></tr>\n",
       "</tbody>\n",
       "</table>\n"
      ],
      "text/latex": [
       "A matrix: 1 × 32 of type dbl\n",
       "\\begin{tabular}{lllllllllllllllllllll}\n",
       "\t 0.3564512 & 0.4028941 & 0.3613887 & 0.1258607 & 0.3289938 & 0.2903616 & 0.332835 & 0.2922329 & 0.465798 & 0.3628375 & ... & 0.2288354 & 0.4092363 & 0.3141888 & 0.4497317 & 0.3163051 & 0.3382836 & 0.423096 & 0.4578032 & 0.2546819 & 0.3595473\\\\\n",
       "\\end{tabular}\n"
      ],
      "text/markdown": [
       "\n",
       "A matrix: 1 × 32 of type dbl\n",
       "\n",
       "| 0.3564512 | 0.4028941 | 0.3613887 | 0.1258607 | 0.3289938 | 0.2903616 | 0.332835 | 0.2922329 | 0.465798 | 0.3628375 | ... | 0.2288354 | 0.4092363 | 0.3141888 | 0.4497317 | 0.3163051 | 0.3382836 | 0.423096 | 0.4578032 | 0.2546819 | 0.3595473 |\n",
       "\n"
      ],
      "text/plain": [
       "     [,1]      [,2]      [,3]      [,4]      [,5]      [,6]      [,7]    \n",
       "[1,] 0.3564512 0.4028941 0.3613887 0.1258607 0.3289938 0.2903616 0.332835\n",
       "     [,8]      [,9]     [,10]     [,11] [,12]     [,13]     [,14]     [,15]    \n",
       "[1,] 0.2922329 0.465798 0.3628375 ...   0.2288354 0.4092363 0.3141888 0.4497317\n",
       "     [,16]     [,17]     [,18]    [,19]     [,20]     [,21]    \n",
       "[1,] 0.3163051 0.3382836 0.423096 0.4578032 0.2546819 0.3595473"
      ]
     },
     "metadata": {},
     "output_type": "display_data"
    }
   ],
   "source": [
    "Smales <- t(males) %*% (diag(32) - (1/n) * J(32)) %*% males\n",
    "Sfemal <- t(femal) %*% (diag(32) - (1/n) * J(32)) %*% femal\n",
    "Spl <- ( (n-1) * Smales + (n-1) * Sfemal ) / ( n+n - 2)\n",
    "\n",
    "malesbar <- matrix(colSums(males)/n, nrow =4, ncol =1 )\n",
    "femalbar <- matrix(colSums(femal)/n, nrow = 4, ncol = 1)\n",
    "\n",
    "a <- solve(Spl) %*% (malesbar - femalbar)\n",
    "z1 <- t(a) %*% t(males)\n",
    "z1"
   ]
  },
  {
   "cell_type": "markdown",
   "metadata": {},
   "source": [
    "**b)** Calculate t-tests for the individual variables. "
   ]
  },
  {
   "cell_type": "markdown",
   "metadata": {},
   "source": [
    "**c)** Compare the results of a) and b) as tothe contribution of the variables to separation of the two groups."
   ]
  },
  {
   "cell_type": "markdown",
   "metadata": {},
   "source": [
    "**d)** Find the partial F for each vraiable, as in (8.26), and compare with the standardized coefficients."
   ]
  },
  {
   "cell_type": "markdown",
   "metadata": {},
   "source": []
  }
 ],
 "metadata": {
  "kernelspec": {
   "display_name": "R",
   "language": "R",
   "name": "ir"
  },
  "language_info": {
   "codemirror_mode": "r",
   "file_extension": ".r",
   "mimetype": "text/x-r-source",
   "name": "R",
   "pygments_lexer": "r",
   "version": "4.3.1"
  },
  "orig_nbformat": 4
 },
 "nbformat": 4,
 "nbformat_minor": 2
}
