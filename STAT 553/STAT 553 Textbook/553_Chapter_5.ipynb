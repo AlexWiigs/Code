{
 "cells": [
  {
   "cell_type": "markdown",
   "metadata": {},
   "source": [
    "# Chapter 5"
   ]
  },
  {
   "cell_type": "code",
   "execution_count": 10,
   "metadata": {
    "vscode": {
     "languageId": "r"
    }
   },
   "outputs": [
    {
     "data": {
      "text/html": [
       "<style>\n",
       ".list-inline {list-style: none; margin:0; padding: 0}\n",
       ".list-inline>li {display: inline-block}\n",
       ".list-inline>li:not(:last-child)::after {content: \"\\00b7\"; padding: 0 .5ex}\n",
       "</style>\n",
       "<ol class=list-inline><li>6</li><li>11.25</li></ol>\n"
      ],
      "text/latex": [
       "\\begin{enumerate*}\n",
       "\\item 6\n",
       "\\item 11.25\n",
       "\\end{enumerate*}\n"
      ],
      "text/markdown": [
       "1. 6\n",
       "2. 11.25\n",
       "\n",
       "\n"
      ],
      "text/plain": [
       "[1]  6.00 11.25"
      ]
     },
     "metadata": {},
     "output_type": "display_data"
    },
    {
     "data": {
      "text/html": [
       "<table class=\"dataframe\">\n",
       "<caption>A matrix: 1 × 1 of type dbl</caption>\n",
       "<tbody>\n",
       "\t<tr><td>0.06103286</td></tr>\n",
       "</tbody>\n",
       "</table>\n"
      ],
      "text/latex": [
       "A matrix: 1 × 1 of type dbl\n",
       "\\begin{tabular}{l}\n",
       "\t 0.06103286\\\\\n",
       "\\end{tabular}\n"
      ],
      "text/markdown": [
       "\n",
       "A matrix: 1 × 1 of type dbl\n",
       "\n",
       "| 0.06103286 |\n",
       "\n"
      ],
      "text/plain": [
       "     [,1]      \n",
       "[1,] 0.06103286"
      ]
     },
     "metadata": {},
     "output_type": "display_data"
    },
    {
     "data": {
      "text/html": [
       "<table class=\"dataframe\">\n",
       "<caption>A matrix: 1 × 1 of type dbl</caption>\n",
       "<tbody>\n",
       "\t<tr><td>0.0955958</td></tr>\n",
       "</tbody>\n",
       "</table>\n"
      ],
      "text/latex": [
       "A matrix: 1 × 1 of type dbl\n",
       "\\begin{tabular}{l}\n",
       "\t 0.0955958\\\\\n",
       "\\end{tabular}\n"
      ],
      "text/markdown": [
       "\n",
       "A matrix: 1 × 1 of type dbl\n",
       "\n",
       "| 0.0955958 |\n",
       "\n"
      ],
      "text/plain": [
       "     [,1]     \n",
       "[1,] 0.0955958"
      ]
     },
     "metadata": {},
     "output_type": "display_data"
    }
   ],
   "source": [
    "# Question 5.11\n",
    "mu <- matrix(c(6,11), nrow = 2)\n",
    "Y <- matrix(c(3,6,5,10,10,12,14,9), ncol = 2)\n",
    "ybar <- colSums(Y) / 4\n",
    "ybar\n",
    "S <- (t(Y) %*% Y - t(Y) %*% matrix(1, nrow = 4, ncol =4) %*% Y / 4) / 3\n",
    "\n",
    "# Test Statistic\n",
    "T2 <- 4 * t(ybar - mu ) %*% solve(S) %*% (ybar - mu)\n",
    "T2\n",
    "\n",
    "# T2 is chi-sqare with p-1 df?\n",
    "dchisq(T2, 3)"
   ]
  },
  {
   "cell_type": "markdown",
   "metadata": {},
   "source": [
    "The test statstic is within the rejection region. Thus we fail to reject the null hypothesis."
   ]
  },
  {
   "cell_type": "code",
   "execution_count": 51,
   "metadata": {
    "vscode": {
     "languageId": "r"
    }
   },
   "outputs": [
    {
     "data": {
      "text/html": [
       "<table class=\"dataframe\">\n",
       "<caption>A matrix: 1 × 1 of type dbl</caption>\n",
       "<tbody>\n",
       "\t<tr><td>85.3327</td></tr>\n",
       "</tbody>\n",
       "</table>\n"
      ],
      "text/latex": [
       "A matrix: 1 × 1 of type dbl\n",
       "\\begin{tabular}{l}\n",
       "\t 85.3327\\\\\n",
       "\\end{tabular}\n"
      ],
      "text/markdown": [
       "\n",
       "A matrix: 1 × 1 of type dbl\n",
       "\n",
       "| 85.3327 |\n",
       "\n"
      ],
      "text/plain": [
       "     [,1]   \n",
       "[1,] 85.3327"
      ]
     },
     "metadata": {},
     "output_type": "display_data"
    }
   ],
   "source": [
    "# Question 5.12\n",
    "probe <- as.matrix( read.table(\"/Users/alexwiigs/Documents/Code/STAT 553 Textbook/T3_6_PROBE.DAT\"))\n",
    "probe <- probe[,-1]\n",
    "# Test H0:\n",
    "mu <- as.matrix(c(30,25,40,25,30))\n",
    "ybar <- as.matrix(colSums(probe) / nrow(probe))\n",
    "S <- (t(probe) %*% probe - t(probe) %*% matrix(1, nrow = nrow(probe), ncol = nrow(probe)) %*% probe / nrow(probe) )/ (nrow(probe) - 1)\n",
    "# Test Statstic\n",
    "S2 <- cov(probe)\n",
    "nrow(probe) * t(ybar - mu) %*% solve(S2) %*% (ybar - mu)"
   ]
  }
 ],
 "metadata": {
  "kernelspec": {
   "display_name": "R",
   "language": "R",
   "name": "ir"
  },
  "language_info": {
   "codemirror_mode": "r",
   "file_extension": ".r",
   "mimetype": "text/x-r-source",
   "name": "R",
   "pygments_lexer": "r",
   "version": "4.3.1"
  }
 },
 "nbformat": 4,
 "nbformat_minor": 2
}
