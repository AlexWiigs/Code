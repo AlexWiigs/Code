{
 "cells": [
  {
   "cell_type": "code",
   "execution_count": 1,
   "metadata": {
    "vscode": {
     "languageId": "r"
    }
   },
   "outputs": [],
   "source": [
    "data <- read.table(file = \"T5_5_FBEETLES.DAT\")\n",
    "data <- data[,-1]\n",
    "colnames(data) = c(\"Group\", \"y1\", \"y2\", \"y3\", \"y4\")\n",
    "\n",
    "Haltica_Oleracea <- as.matrix(data[c(data[, 1] == 1), 1:5])\n",
    "Haltica_Oleracea <- Haltica_Oleracea[,-1]\n",
    "Haltica_Carduorum <- as.matrix(data[c(data[, 1] == 2), 1:5])\n",
    "Haltica_Carduorum <- Haltica_Carduorum[,-1]\n",
    "\n"
   ]
  },
  {
   "cell_type": "markdown",
   "metadata": {},
   "source": [
    "**a)** Test $H_0: \\mu_1 = \\mu_2$ using $T^2$. State your conclusion."
   ]
  },
  {
   "cell_type": "markdown",
   "metadata": {},
   "source": [
    "We have two samples:  \n",
    "  \n",
    "$\\text{Haltica Oleracea: } \\textbf{y}_{1,1}, \\textbf{y}_{1,2}, ... , \\textbf{y}_{1,19} \\sim N_4( \\mu_1, \\Sigma_1)$  \n",
    "$\\text{Haltica Carduorum: } \\textbf{y}_{2,1}, \\textbf{y}_{2,2}, ... , \\textbf{y}_{2,20} \\sim N_4( \\mu_2, \\Sigma_2)$  \n",
    "  \n",
    "With null and alternative hypothesis:  \n",
    " \n",
    "$H_0: \\mu_1 = \\mu_2$ and $H_1: \\mu_1 \\neq \\mu_2$  \n",
    "  \n",
    "and test statistic:\n",
    "$$T^2 = \\frac{n_1n_2}{n_1 + n_2} (\\bar{\\textbf{y}}_1 - \\bar{\\textbf{y}}_2)' S_{pl}^{-1} (\\bar{\\textbf{y}}_1 - \\bar{\\textbf{y}}_2) \\sim T^2_{p,n_1 + n_2 -2}$$  \n",
    "where\n",
    "$$ S_{pl} = \\frac{(n_1 - 1)S_1 + (n_2 -1)S_2}{n_1+n_2 -2}$$\n",
    "Calculating the oberserved test statistic we get:\n"
   ]
  },
  {
   "cell_type": "code",
   "execution_count": 2,
   "metadata": {
    "vscode": {
     "languageId": "r"
    }
   },
   "outputs": [
    {
     "data": {
      "text/html": [
       "<table class=\"dataframe\">\n",
       "<caption>A matrix: 1 × 1 of type dbl</caption>\n",
       "<tbody>\n",
       "\t<tr><td>133.4873</td></tr>\n",
       "</tbody>\n",
       "</table>\n"
      ],
      "text/latex": [
       "A matrix: 1 × 1 of type dbl\n",
       "\\begin{tabular}{l}\n",
       "\t 133.4873\\\\\n",
       "\\end{tabular}\n"
      ],
      "text/markdown": [
       "\n",
       "A matrix: 1 × 1 of type dbl\n",
       "\n",
       "| 133.4873 |\n",
       "\n"
      ],
      "text/plain": [
       "     [,1]    \n",
       "[1,] 133.4873"
      ]
     },
     "metadata": {},
     "output_type": "display_data"
    }
   ],
   "source": [
    "# Preliminary Calculations\n",
    "n1 = 19\n",
    "n2 = 20\n",
    "J <- function(n) {\n",
    "    matrix <- matrix(nrow = n, ncol = n)\n",
    "    matrix[,] = 1\n",
    "    return(matrix)}\n",
    "\n",
    "mu1 <- matrix(nrow = 4, ncol = 1)\n",
    "for (i in 1:4) {mu1[i,] = sum(Haltica_Oleracea[,i] / n1)}\n",
    "\n",
    "mu2 <- matrix(nrow = 4, ncol = 1)\n",
    "for (i in 1:4) {mu2[i,] = sum(Haltica_Carduorum[,i] / n2)}\n",
    "\n",
    "S1 <- (t(Haltica_Oleracea) %*% (diag(n1) - (1 / n1) * J(n1)) %*% Haltica_Oleracea) / (n1 -1)\n",
    "S2 <- (t(Haltica_Carduorum) %*% (diag(n2) - (1 / n2) * J(n2)) %*% Haltica_Carduorum) / (n2 -1)\n",
    "Spl <- ((n1 - 1) * S1 + (n2 - 1) * S2) / (n1 + n2 - 2)\n",
    "\n",
    "# Test Statistic\n",
    "T2_obs = (n1 * n2 / (n1 + n2)) * t(mu1 - mu2) %*% solve(Spl) %*% (mu1 - mu2)\n",
    "T2_obs"
   ]
  },
  {
   "cell_type": "markdown",
   "metadata": {},
   "source": [
    "Calculate the p-value by converting it into an F-statistic like so,"
   ]
  },
  {
   "cell_type": "code",
   "execution_count": 3,
   "metadata": {
    "vscode": {
     "languageId": "r"
    }
   },
   "outputs": [
    {
     "data": {
      "text/html": [
       "<table class=\"dataframe\">\n",
       "<caption>A matrix: 1 × 1 of type dbl</caption>\n",
       "<tbody>\n",
       "\t<tr><td>7.521799e-11</td></tr>\n",
       "</tbody>\n",
       "</table>\n"
      ],
      "text/latex": [
       "A matrix: 1 × 1 of type dbl\n",
       "\\begin{tabular}{l}\n",
       "\t 7.521799e-11\\\\\n",
       "\\end{tabular}\n"
      ],
      "text/markdown": [
       "\n",
       "A matrix: 1 × 1 of type dbl\n",
       "\n",
       "| 7.521799e-11 |\n",
       "\n"
      ],
      "text/plain": [
       "     [,1]        \n",
       "[1,] 7.521799e-11"
      ]
     },
     "metadata": {},
     "output_type": "display_data"
    }
   ],
   "source": [
    "pf((n1 + n2 - 4 -1) / ((n1 + n2 - 2)* 4) * T2_obs, 4, n1+n2-4-1, lower.tail = FALSE)"
   ]
  },
  {
   "cell_type": "markdown",
   "metadata": {},
   "source": [
    "We reject the null hypothesis in favour of the alternative."
   ]
  },
  {
   "cell_type": "markdown",
   "metadata": {},
   "source": [
    "**b)** Carry out a t-test on each variable and state your conclusion."
   ]
  },
  {
   "cell_type": "markdown",
   "metadata": {},
   "source": [
    "For each of the 4 variables being tested we have:  \n",
    "  \n",
    "$\\text{Haltica Oleracea: } y_{1,1}, y_{1,2}, ... , y_{1,19} \\sim N( \\mu_1, \\sigma^2_1)$  \n",
    "$\\text{Haltica Carduorum: } y_{2,1}, y_{2,2}, ... , y_{2,20} \\sim N( \\mu_2, \\sigma^2_2)$  \n",
    "\n",
    "With null and alternative hypothesis:  \n",
    " \n",
    "$H_0: \\mu_1 = \\mu_2$ and $H_1: \\mu_1 \\neq \\mu_2$  \n",
    "  \n",
    "and test statistic: \n",
    "$$t = \\frac{\\bar y_1 - \\bar y_2}{S_{pl} \\sqrt{1/n_1 + 1/n_2}} \\sim t_{n_1 + n_2 -2}$$\n",
    "where\n",
    "$$S^2_{pl} = \\frac{(n_1 - 1)s_1^2 + (n_2-1)s_2^2}{n_1+n_2-2}$$\n",
    "Calculating the observed test statistics and p-values for each of the 4 variables, we get:"
   ]
  },
  {
   "cell_type": "code",
   "execution_count": 4,
   "metadata": {
    "vscode": {
     "languageId": "r"
    }
   },
   "outputs": [
    {
     "data": {
      "text/html": [
       "<table class=\"dataframe\">\n",
       "<caption>A matrix: 4 × 2 of type dbl</caption>\n",
       "<thead>\n",
       "\t<tr><th></th><th scope=col>t-statistic</th><th scope=col>p-value</th></tr>\n",
       "</thead>\n",
       "<tbody>\n",
       "\t<tr><th scope=row>y1</th><td> 3.8879</td><td>4.049717e-04</td></tr>\n",
       "\t<tr><th scope=row>y2</th><td>-3.8652</td><td>4.326723e-04</td></tr>\n",
       "\t<tr><th scope=row>y3</th><td>-5.6911</td><td>1.645551e-06</td></tr>\n",
       "\t<tr><th scope=row>y4</th><td>-5.0426</td><td>1.236524e-05</td></tr>\n",
       "</tbody>\n",
       "</table>\n"
      ],
      "text/latex": [
       "A matrix: 4 × 2 of type dbl\n",
       "\\begin{tabular}{r|ll}\n",
       "  & t-statistic & p-value\\\\\n",
       "\\hline\n",
       "\ty1 &  3.8879 & 4.049717e-04\\\\\n",
       "\ty2 & -3.8652 & 4.326723e-04\\\\\n",
       "\ty3 & -5.6911 & 1.645551e-06\\\\\n",
       "\ty4 & -5.0426 & 1.236524e-05\\\\\n",
       "\\end{tabular}\n"
      ],
      "text/markdown": [
       "\n",
       "A matrix: 4 × 2 of type dbl\n",
       "\n",
       "| <!--/--> | t-statistic | p-value |\n",
       "|---|---|---|\n",
       "| y1 |  3.8879 | 4.049717e-04 |\n",
       "| y2 | -3.8652 | 4.326723e-04 |\n",
       "| y3 | -5.6911 | 1.645551e-06 |\n",
       "| y4 | -5.0426 | 1.236524e-05 |\n",
       "\n"
      ],
      "text/plain": [
       "   t-statistic p-value     \n",
       "y1  3.8879     4.049717e-04\n",
       "y2 -3.8652     4.326723e-04\n",
       "y3 -5.6911     1.645551e-06\n",
       "y4 -5.0426     1.236524e-05"
      ]
     },
     "metadata": {},
     "output_type": "display_data"
    }
   ],
   "source": [
    "S2pl <- matrix(nrow = 4, ncol = 1)\n",
    "for ( i in 1:4) {S2pl[i,] = ( (n1-1) * S1[i,i] + (n2-1) * S2[i,i] ) / (n1 + n2 -2)}\n",
    " \n",
    "t <- matrix(nrow = 4, ncol = 1)\n",
    "for (i in 1:4) {t[i,] = round((mu1[i,] - mu2[i,]) / sqrt(S2pl[i,] * (1/n1 + 1/n2)),4)}\n",
    "\n",
    "p <- matrix(nrow = 4, ncol =1)\n",
    "for (i in 1:4) { p[i,] = 2 * pt(abs(t[i,]), n1 + n2 - 2, lower.tail = FALSE) }\n",
    "\n",
    "table <- cbind(t,p)\n",
    "colnames(table) <- c(\"t-statistic\", \"p-value\")\n",
    "rownames(table) <- c(\"y1\",\"y2\",\"y3\",\"y4\")\n",
    "table"
   ]
  },
  {
   "cell_type": "markdown",
   "metadata": {},
   "source": [
    "We reject the null hypothesis for each variable when tested individually."
   ]
  },
  {
   "cell_type": "markdown",
   "metadata": {},
   "source": [
    "**c)** Compute vector $\\textbf{a} = \\textbf{S}_{pl}^{-1}(\\bar{\\textbf{y}}_1 - \\bar{\\textbf{y}}_2)$. Define random variable $ x = \\textbf{a}' \\textbf{y}$, with $\\textbf{y} = (y_1,y_2,y_3,y_4)'$. Let $\\mu_x = E(x)$. Is $\\mu_x$ different for the two species? Use a test to state your conclusion."
   ]
  },
  {
   "cell_type": "markdown",
   "metadata": {},
   "source": [
    "First calculate our vector $\\textbf{a}$:"
   ]
  },
  {
   "cell_type": "code",
   "execution_count": 5,
   "metadata": {
    "vscode": {
     "languageId": "r"
    }
   },
   "outputs": [
    {
     "data": {
      "text/html": [
       "<table class=\"dataframe\">\n",
       "<caption>A matrix: 4 × 1 of type dbl</caption>\n",
       "<tbody>\n",
       "\t<tr><th scope=row>y1</th><td> 0.3452</td></tr>\n",
       "\t<tr><th scope=row>y2</th><td>-0.1304</td></tr>\n",
       "\t<tr><th scope=row>y3</th><td>-0.1064</td></tr>\n",
       "\t<tr><th scope=row>y4</th><td>-0.1434</td></tr>\n",
       "</tbody>\n",
       "</table>\n"
      ],
      "text/latex": [
       "A matrix: 4 × 1 of type dbl\n",
       "\\begin{tabular}{r|l}\n",
       "\ty1 &  0.3452\\\\\n",
       "\ty2 & -0.1304\\\\\n",
       "\ty3 & -0.1064\\\\\n",
       "\ty4 & -0.1434\\\\\n",
       "\\end{tabular}\n"
      ],
      "text/markdown": [
       "\n",
       "A matrix: 4 × 1 of type dbl\n",
       "\n",
       "| y1 |  0.3452 |\n",
       "| y2 | -0.1304 |\n",
       "| y3 | -0.1064 |\n",
       "| y4 | -0.1434 |\n",
       "\n"
      ],
      "text/plain": [
       "   [,1]   \n",
       "y1  0.3452\n",
       "y2 -0.1304\n",
       "y3 -0.1064\n",
       "y4 -0.1434"
      ]
     },
     "metadata": {},
     "output_type": "display_data"
    }
   ],
   "source": [
    "a <- solve(Spl) %*% (mu1 - mu2)\n",
    "round(a,4)"
   ]
  },
  {
   "cell_type": "code",
   "execution_count": 6,
   "metadata": {
    "vscode": {
     "languageId": "r"
    }
   },
   "outputs": [
    {
     "data": {
      "text/html": [
       "<table class=\"dataframe\">\n",
       "<caption>A matrix: 1 × 1 of type dbl</caption>\n",
       "<tbody>\n",
       "\t<tr><td>133.4873</td></tr>\n",
       "</tbody>\n",
       "</table>\n"
      ],
      "text/latex": [
       "A matrix: 1 × 1 of type dbl\n",
       "\\begin{tabular}{l}\n",
       "\t 133.4873\\\\\n",
       "\\end{tabular}\n"
      ],
      "text/markdown": [
       "\n",
       "A matrix: 1 × 1 of type dbl\n",
       "\n",
       "| 133.4873 |\n",
       "\n"
      ],
      "text/plain": [
       "     [,1]    \n",
       "[1,] 133.4873"
      ]
     },
     "metadata": {},
     "output_type": "display_data"
    }
   ],
   "source": [
    "# Double Check\n",
    "((t(a)%*%mu1 - t(a)%*%mu2) / sqrt( (n1+n2)/(n1*n2)  * t(a) %*% Spl %*% a))^2"
   ]
  },
  {
   "cell_type": "markdown",
   "metadata": {},
   "source": [
    "$E(\\textbf{x}_1) = \\textbf{a}'E(\\bar{\\textbf{y}}_1) = -8.9554$"
   ]
  },
  {
   "cell_type": "code",
   "execution_count": 7,
   "metadata": {
    "vscode": {
     "languageId": "r"
    }
   },
   "outputs": [
    {
     "data": {
      "text/html": [
       "<table class=\"dataframe\">\n",
       "<caption>A matrix: 1 × 1 of type dbl</caption>\n",
       "<tbody>\n",
       "\t<tr><td>-8.9554</td></tr>\n",
       "</tbody>\n",
       "</table>\n"
      ],
      "text/latex": [
       "A matrix: 1 × 1 of type dbl\n",
       "\\begin{tabular}{l}\n",
       "\t -8.9554\\\\\n",
       "\\end{tabular}\n"
      ],
      "text/markdown": [
       "\n",
       "A matrix: 1 × 1 of type dbl\n",
       "\n",
       "| -8.9554 |\n",
       "\n"
      ],
      "text/plain": [
       "     [,1]   \n",
       "[1,] -8.9554"
      ]
     },
     "metadata": {},
     "output_type": "display_data"
    }
   ],
   "source": [
    "round(t(a) %*% mu1,4)"
   ]
  },
  {
   "cell_type": "markdown",
   "metadata": {},
   "source": [
    "$E(\\textbf{x}_2) = \\textbf{a}'E(\\bar{\\textbf{y}}_2) = -22.6554$"
   ]
  },
  {
   "cell_type": "code",
   "execution_count": 8,
   "metadata": {
    "vscode": {
     "languageId": "r"
    }
   },
   "outputs": [
    {
     "data": {
      "text/html": [
       "<table class=\"dataframe\">\n",
       "<caption>A matrix: 1 × 1 of type dbl</caption>\n",
       "<tbody>\n",
       "\t<tr><td>-22.6554</td></tr>\n",
       "</tbody>\n",
       "</table>\n"
      ],
      "text/latex": [
       "A matrix: 1 × 1 of type dbl\n",
       "\\begin{tabular}{l}\n",
       "\t -22.6554\\\\\n",
       "\\end{tabular}\n"
      ],
      "text/markdown": [
       "\n",
       "A matrix: 1 × 1 of type dbl\n",
       "\n",
       "| -22.6554 |\n",
       "\n"
      ],
      "text/plain": [
       "     [,1]    \n",
       "[1,] -22.6554"
      ]
     },
     "metadata": {},
     "output_type": "display_data"
    }
   ],
   "source": [
    "round(t(a) %*% mu2,4)"
   ]
  },
  {
   "cell_type": "markdown",
   "metadata": {},
   "source": [
    "For the 2 transformed variables being tested we have:  \n",
    "  \n",
    "$x_1: x_{1,1}, x_{1,2}, ... , x_{1,19} \\sim N( \\textbf{a}'\\mu_1, \\textbf{a}'\\textbf{S}_1 \\textbf{a})$  \n",
    "$x_2: x_{2,1}, x_{2,2}, ... , x_{2,19} \\sim N( \\textbf{a}'\\mu_2, \\textbf{a}'\\textbf{S}_2 \\textbf{a})$  \n",
    "\n",
    "With null and alternative hypothesis:  \n",
    " \n",
    "$H_0: \\mu_{x_1} = \\mu_{x_2}$ and $H_1: \\mu_{x_1} \\neq \\mu_{x_2}$  \n",
    "  \n",
    "and test statistic: \n",
    "$$t = \\frac{\\bar x_1 - \\bar x_2}{S_{pl} \\sqrt{1/n_1 + 1/n_2}} \\sim t_{n_1 + n_2 -2}$$\n",
    "where\n",
    "$$S^2_{pl} = \\frac{(n_1 - 1)\\textbf{a}'\\textbf{S}_1\\textbf{a} + (n_2-1)\\textbf{a}' \\textbf{S}_2 \\textbf{a}}{n_1+n_2-2}$$\n",
    "Calculating the observed test statistic we get:"
   ]
  },
  {
   "cell_type": "code",
   "execution_count": 9,
   "metadata": {
    "vscode": {
     "languageId": "r"
    }
   },
   "outputs": [
    {
     "data": {
      "text/html": [
       "<table class=\"dataframe\">\n",
       "<caption>A matrix: 1 × 1 of type dbl</caption>\n",
       "<tbody>\n",
       "\t<tr><td>11.55367</td></tr>\n",
       "</tbody>\n",
       "</table>\n"
      ],
      "text/latex": [
       "A matrix: 1 × 1 of type dbl\n",
       "\\begin{tabular}{l}\n",
       "\t 11.55367\\\\\n",
       "\\end{tabular}\n"
      ],
      "text/markdown": [
       "\n",
       "A matrix: 1 × 1 of type dbl\n",
       "\n",
       "| 11.55367 |\n",
       "\n"
      ],
      "text/plain": [
       "     [,1]    \n",
       "[1,] 11.55367"
      ]
     },
     "metadata": {},
     "output_type": "display_data"
    }
   ],
   "source": [
    "S2plx = ( (n1-1) * t(a) %*% S1 %*% a + (n2-1) * t(a) %*% S2 %*% a ) / (n1 + n2 -2)\n",
    "txobs = ( t(a) %*% mu1 - t(a) %*% mu2 ) / sqrt(S2plx * (1/n1 + 1/n2))\n",
    "txobs"
   ]
  },
  {
   "cell_type": "markdown",
   "metadata": {},
   "source": [
    "which gives p-value:"
   ]
  },
  {
   "cell_type": "code",
   "execution_count": 10,
   "metadata": {
    "vscode": {
     "languageId": "r"
    }
   },
   "outputs": [
    {
     "data": {
      "text/html": [
       "<table class=\"dataframe\">\n",
       "<caption>A matrix: 1 × 1 of type dbl</caption>\n",
       "<tbody>\n",
       "\t<tr><td>7.770049e-14</td></tr>\n",
       "</tbody>\n",
       "</table>\n"
      ],
      "text/latex": [
       "A matrix: 1 × 1 of type dbl\n",
       "\\begin{tabular}{l}\n",
       "\t 7.770049e-14\\\\\n",
       "\\end{tabular}\n"
      ],
      "text/markdown": [
       "\n",
       "A matrix: 1 × 1 of type dbl\n",
       "\n",
       "| 7.770049e-14 |\n",
       "\n"
      ],
      "text/plain": [
       "     [,1]        \n",
       "[1,] 7.770049e-14"
      ]
     },
     "metadata": {},
     "output_type": "display_data"
    }
   ],
   "source": [
    "px = 2 * pt(abs(txobs), n1 + n2 - 2, lower.tail = FALSE)\n",
    "px"
   ]
  },
  {
   "cell_type": "markdown",
   "metadata": {},
   "source": [
    "We reject the null hypothesis that $\\mu_x$ is the same for the two species."
   ]
  }
 ],
 "metadata": {
  "kernelspec": {
   "display_name": "R",
   "language": "R",
   "name": "ir"
  },
  "language_info": {
   "codemirror_mode": "r",
   "file_extension": ".r",
   "mimetype": "text/x-r-source",
   "name": "R",
   "pygments_lexer": "r",
   "version": "4.3.1"
  }
 },
 "nbformat": 4,
 "nbformat_minor": 2
}
