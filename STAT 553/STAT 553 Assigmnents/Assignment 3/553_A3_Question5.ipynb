{
 "cells": [
  {
   "cell_type": "code",
   "execution_count": 1,
   "metadata": {
    "vscode": {
     "languageId": "r"
    }
   },
   "outputs": [],
   "source": [
    "library(MASS)\n",
    "#Preliminary functions\n",
    "J <- function(n) {\n",
    "    matrix <- matrix(nrow = n, ncol = n)\n",
    "    matrix[,] = 1\n",
    "    return(matrix)}\n",
    "\n",
    "u <- function(p, S) {\n",
    "    calculation <- p^p * det(S) / (sum(diag(S)))^p\n",
    "    return(calculation)}\n",
    "\n",
    "uprime <- function(p, n, u) {\n",
    "    calculation <- -(n - 1 - (2 * p^2 + p + 2) / (6 * p)) * log(u)\n",
    "    return(calculation)}\n",
    "\n",
    "LR <- function(u,n) {\n",
    "    calculation <- -n * log(u)\n",
    "    return(calculation)}"
   ]
  },
  {
   "cell_type": "markdown",
   "metadata": {},
   "source": [
    "Conduct simulation studies to compare the probability of Type I error for the two test statistics: $-2\\ln(LR)$ and $u'$. Use 5% level of significance for the test and $\\sigma^2 = 1$ in the simulation.  \n",
    "\n",
    "We define an R function to generate all the following results, making use of the fact that our samples come from $N_p(\\textbf{0}, \\sigma^2 \\textbf{I})$, where $\\sigma^2 =1$. "
   ]
  },
  {
   "cell_type": "code",
   "execution_count": 2,
   "metadata": {
    "vscode": {
     "languageId": "r"
    }
   },
   "outputs": [],
   "source": [
    "# for 1000 desired samples and alpha = 0.05\n",
    "compare_function <- function(n,p) {\n",
    "    matrix = matrix(nrow = 1000, ncol = 2)\n",
    "    for (i in 1:1000){\n",
    "        sample = mvrnorm(n, matrix(0, nrow = p, ncol = 1), diag(p))\n",
    "        S = (1-n)^(-1) * ( t(sample) %*% (diag(n) - (1/n) * J(n) ) %*% sample )\n",
    "        matrix[i,1] = LR(u(p,S), n) > qchisq(0.95, df = p * (p+1)/2 - 1)\n",
    "        matrix[i,2] = uprime(p,n,u(p,S)) > qchisq(0.95, df = p * (p+1)/2 - 1)}\n",
    "    return(matrix(colMeans(matrix), nrow = 2, ncol = 1))}"
   ]
  },
  {
   "cell_type": "markdown",
   "metadata": {},
   "source": [
    "**a)** Report the results for $p=3$ and $n=10,20,30,40,500,1000$."
   ]
  },
  {
   "cell_type": "markdown",
   "metadata": {},
   "source": [
    "Table shows the approximate probability of Type I error for each case, based off 1000 simulated samples."
   ]
  },
  {
   "cell_type": "code",
   "execution_count": 3,
   "metadata": {
    "vscode": {
     "languageId": "r"
    }
   },
   "outputs": [
    {
     "data": {
      "text/html": [
       "<table class=\"dataframe\">\n",
       "<caption>A matrix: 2 × 6 of type dbl</caption>\n",
       "<thead>\n",
       "\t<tr><th></th><th scope=col>10</th><th scope=col>20</th><th scope=col>30</th><th scope=col>40</th><th scope=col>500</th><th scope=col>1000</th></tr>\n",
       "</thead>\n",
       "<tbody>\n",
       "\t<tr><th scope=row>Estimated Type I error for-nln(u):</th><td>0.123</td><td>0.074</td><td>0.054</td><td>0.055</td><td>0.059</td><td>0.042</td></tr>\n",
       "\t<tr><th scope=row>Estiamted Type I error for u':</th><td>0.047</td><td>0.043</td><td>0.041</td><td>0.044</td><td>0.058</td><td>0.042</td></tr>\n",
       "</tbody>\n",
       "</table>\n"
      ],
      "text/latex": [
       "A matrix: 2 × 6 of type dbl\n",
       "\\begin{tabular}{r|llllll}\n",
       "  & 10 & 20 & 30 & 40 & 500 & 1000\\\\\n",
       "\\hline\n",
       "\tEstimated Type I error for-nln(u): & 0.123 & 0.074 & 0.054 & 0.055 & 0.059 & 0.042\\\\\n",
       "\tEstiamted Type I error for u': & 0.047 & 0.043 & 0.041 & 0.044 & 0.058 & 0.042\\\\\n",
       "\\end{tabular}\n"
      ],
      "text/markdown": [
       "\n",
       "A matrix: 2 × 6 of type dbl\n",
       "\n",
       "| <!--/--> | 10 | 20 | 30 | 40 | 500 | 1000 |\n",
       "|---|---|---|---|---|---|---|\n",
       "| Estimated Type I error for-nln(u): | 0.123 | 0.074 | 0.054 | 0.055 | 0.059 | 0.042 |\n",
       "| Estiamted Type I error for u': | 0.047 | 0.043 | 0.041 | 0.044 | 0.058 | 0.042 |\n",
       "\n"
      ],
      "text/plain": [
       "                                   10    20    30    40    500   1000 \n",
       "Estimated Type I error for-nln(u): 0.123 0.074 0.054 0.055 0.059 0.042\n",
       "Estiamted Type I error for u':     0.047 0.043 0.041 0.044 0.058 0.042"
      ]
     },
     "metadata": {},
     "output_type": "display_data"
    }
   ],
   "source": [
    "set.seed(192)\n",
    "\n",
    "n = c(10,20,30,40,500,1000)\n",
    "p = 3\n",
    "Question_a <- matrix(nrow = 2, ncol = 6)\n",
    "for (i in 1:6) { Question_a[,i] = round(compare_function(n[i], p),4)}\n",
    "colnames(Question_a) <- n\n",
    "rownames(Question_a) <- c(\"Estimated Type I error for-nln(u):\", \"Estiamted Type I error for u':\")\n",
    "Question_a"
   ]
  },
  {
   "cell_type": "markdown",
   "metadata": {},
   "source": [
    "**b)** Report the results for $p=6$ and $n = 10,20,30,40,500,1000$."
   ]
  },
  {
   "cell_type": "markdown",
   "metadata": {},
   "source": [
    "Table shows the approximate probability of Type I error for each case, based off 1000 simulated samples."
   ]
  },
  {
   "cell_type": "code",
   "execution_count": 4,
   "metadata": {
    "vscode": {
     "languageId": "r"
    }
   },
   "outputs": [
    {
     "data": {
      "text/html": [
       "<table class=\"dataframe\">\n",
       "<caption>A matrix: 2 × 6 of type dbl</caption>\n",
       "<thead>\n",
       "\t<tr><th></th><th scope=col>10</th><th scope=col>20</th><th scope=col>30</th><th scope=col>40</th><th scope=col>500</th><th scope=col>1000</th></tr>\n",
       "</thead>\n",
       "<tbody>\n",
       "\t<tr><th scope=row>Estimated Type I error for-nln(u):</th><td>0.448</td><td>0.162</td><td>0.113</td><td>0.092</td><td>0.056</td><td>0.064</td></tr>\n",
       "\t<tr><th scope=row>Estiamted Type I error for u':</th><td>0.078</td><td>0.052</td><td>0.050</td><td>0.051</td><td>0.052</td><td>0.063</td></tr>\n",
       "</tbody>\n",
       "</table>\n"
      ],
      "text/latex": [
       "A matrix: 2 × 6 of type dbl\n",
       "\\begin{tabular}{r|llllll}\n",
       "  & 10 & 20 & 30 & 40 & 500 & 1000\\\\\n",
       "\\hline\n",
       "\tEstimated Type I error for-nln(u): & 0.448 & 0.162 & 0.113 & 0.092 & 0.056 & 0.064\\\\\n",
       "\tEstiamted Type I error for u': & 0.078 & 0.052 & 0.050 & 0.051 & 0.052 & 0.063\\\\\n",
       "\\end{tabular}\n"
      ],
      "text/markdown": [
       "\n",
       "A matrix: 2 × 6 of type dbl\n",
       "\n",
       "| <!--/--> | 10 | 20 | 30 | 40 | 500 | 1000 |\n",
       "|---|---|---|---|---|---|---|\n",
       "| Estimated Type I error for-nln(u): | 0.448 | 0.162 | 0.113 | 0.092 | 0.056 | 0.064 |\n",
       "| Estiamted Type I error for u': | 0.078 | 0.052 | 0.050 | 0.051 | 0.052 | 0.063 |\n",
       "\n"
      ],
      "text/plain": [
       "                                   10    20    30    40    500   1000 \n",
       "Estimated Type I error for-nln(u): 0.448 0.162 0.113 0.092 0.056 0.064\n",
       "Estiamted Type I error for u':     0.078 0.052 0.050 0.051 0.052 0.063"
      ]
     },
     "metadata": {},
     "output_type": "display_data"
    }
   ],
   "source": [
    "set.seed(192)\n",
    "\n",
    "n = c(10,20,30,40,500,1000)\n",
    "p = 6\n",
    "Question_b <- matrix(nrow = 2, ncol = 6)\n",
    "for (i in 1:6) { Question_b[,i] = round(compare_function(n[i], p),4)}\n",
    "colnames(Question_b) <- n\n",
    "rownames(Question_b) <- c(\"Estimated Type I error for-nln(u):\", \"Estiamted Type I error for u':\")\n",
    "Question_b"
   ]
  },
  {
   "cell_type": "markdown",
   "metadata": {},
   "source": [
    "**c)** Report the results for $n= 1000$ and $p = 2,5,8,10,20$."
   ]
  },
  {
   "cell_type": "markdown",
   "metadata": {},
   "source": [
    "Table shows the approximate probability of Type I error for each case, based off 1000 simulated samples."
   ]
  },
  {
   "cell_type": "code",
   "execution_count": 5,
   "metadata": {
    "vscode": {
     "languageId": "r"
    }
   },
   "outputs": [
    {
     "data": {
      "text/html": [
       "<table class=\"dataframe\">\n",
       "<caption>A matrix: 2 × 5 of type dbl</caption>\n",
       "<thead>\n",
       "\t<tr><th></th><th scope=col>2</th><th scope=col>5</th><th scope=col>8</th><th scope=col>10</th><th scope=col>20</th></tr>\n",
       "</thead>\n",
       "<tbody>\n",
       "\t<tr><th scope=row>Estimated Type I error for-nln(u):</th><td>0.04</td><td>0.043</td><td>0.058</td><td>0.059</td><td>0.051</td></tr>\n",
       "\t<tr><th scope=row>Estiamted Type I error for u':</th><td>0.04</td><td>0.042</td><td>0.057</td><td>0.057</td><td>0.043</td></tr>\n",
       "</tbody>\n",
       "</table>\n"
      ],
      "text/latex": [
       "A matrix: 2 × 5 of type dbl\n",
       "\\begin{tabular}{r|lllll}\n",
       "  & 2 & 5 & 8 & 10 & 20\\\\\n",
       "\\hline\n",
       "\tEstimated Type I error for-nln(u): & 0.04 & 0.043 & 0.058 & 0.059 & 0.051\\\\\n",
       "\tEstiamted Type I error for u': & 0.04 & 0.042 & 0.057 & 0.057 & 0.043\\\\\n",
       "\\end{tabular}\n"
      ],
      "text/markdown": [
       "\n",
       "A matrix: 2 × 5 of type dbl\n",
       "\n",
       "| <!--/--> | 2 | 5 | 8 | 10 | 20 |\n",
       "|---|---|---|---|---|---|\n",
       "| Estimated Type I error for-nln(u): | 0.04 | 0.043 | 0.058 | 0.059 | 0.051 |\n",
       "| Estiamted Type I error for u': | 0.04 | 0.042 | 0.057 | 0.057 | 0.043 |\n",
       "\n"
      ],
      "text/plain": [
       "                                   2    5     8     10    20   \n",
       "Estimated Type I error for-nln(u): 0.04 0.043 0.058 0.059 0.051\n",
       "Estiamted Type I error for u':     0.04 0.042 0.057 0.057 0.043"
      ]
     },
     "metadata": {},
     "output_type": "display_data"
    }
   ],
   "source": [
    "set.seed(192)\n",
    "\n",
    "n = 1000\n",
    "p = c(2,5,8,10,20)\n",
    "Question_c <- matrix(nrow = 2, ncol = 5)\n",
    "for (i in 1:5) { Question_c[,i] = round(compare_function(n, p[i]),4)}\n",
    "colnames(Question_c) <- p\n",
    "rownames(Question_c) <- c(\"Estimated Type I error for-nln(u):\", \"Estiamted Type I error for u':\")\n",
    "Question_c\n"
   ]
  },
  {
   "cell_type": "markdown",
   "metadata": {},
   "source": [
    "It appears that the improvement test statistic is more accurate for smaller $n$, but they even out as $n \\to \\infty$. Part c) suggests that as we increase $p$, the probability of type I error will increase if we maintain the sample size."
   ]
  },
  {
   "cell_type": "markdown",
   "metadata": {},
   "source": []
  }
 ],
 "metadata": {
  "kernelspec": {
   "display_name": "R",
   "language": "R",
   "name": "ir"
  },
  "language_info": {
   "codemirror_mode": "r",
   "file_extension": ".r",
   "mimetype": "text/x-r-source",
   "name": "R",
   "pygments_lexer": "r",
   "version": "4.3.1"
  }
 },
 "nbformat": 4,
 "nbformat_minor": 2
}
