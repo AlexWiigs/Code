{
 "cells": [
  {
   "cell_type": "markdown",
   "metadata": {},
   "source": [
    "**Question 2**  \n",
    "Each of 15 students wrote an informal and a formal essay Kramer (1972, p. 100). The variables recorded were the number of words and the number of verbs:  \n",
    "$x_1 =$ Number of words in the informal essay  \n",
    "$x_2 =$ Number of verbs in the informal essay  \n",
    "$y_1 =$ Number of words in the formal essay  \n",
    "$y_2 =$ Number of verbs in the formal essay"
   ]
  },
  {
   "cell_type": "code",
   "execution_count": 1,
   "metadata": {
    "vscode": {
     "languageId": "r"
    }
   },
   "outputs": [],
   "source": [
    "data <- read.table(file = \"/Users/alexwiigs/Documents/Code/STAT 553 Assigmnents/Assignment 3/T5_9_ESSAY.DAT\")\n",
    "data <- data[,-1]\n",
    "informal <- as.matrix(data[c(1,2)])\n",
    "formal <- as.matrix(data[c(3,4)])\n",
    "n <- 15\n",
    "colnames(informal) <- c(\"words\", \"verbs\")\n",
    "colnames(formal) <- c(\"words\", \"verbs\")"
   ]
  },
  {
   "cell_type": "markdown",
   "metadata": {},
   "source": [
    "Let $\\mu_x = (E(x_1), E(x_2))'$ and $\\mu_y = (E(y_1), E(y_2))'$"
   ]
  },
  {
   "cell_type": "code",
   "execution_count": 2,
   "metadata": {
    "vscode": {
     "languageId": "r"
    }
   },
   "outputs": [],
   "source": [
    "mu_x <- as.matrix(colSums(informal) / n)\n",
    "mu_y <- as.matrix(colSums(formal) / n)"
   ]
  },
  {
   "cell_type": "markdown",
   "metadata": {},
   "source": [
    "**a)** Test $H_0: \\mu_x = \\mu_y$ using $T^2$. State your conclusion."
   ]
  },
  {
   "cell_type": "markdown",
   "metadata": {},
   "source": [
    "We have two samples:  \n",
    "  \n",
    "$\\text{Informal Essays: } \\textbf{x}_1, \\textbf{x}_2,...,\\textbf{x}_{15} \\sim N_2(\\mu_x, \\Sigma_x)$  \n",
    "$\\text{Formal Essays: } \\textbf{y}_1, \\textbf{y}_2,...,\\textbf{y}_{15} \\sim N_2(\\mu_y, \\Sigma_y)$  \n",
    "  \n",
    "With null and alternative hypothesis:  \n",
    "$H_0: \\mu_x = \\mu_y$ and $H_1: \\mu_x \\neq \\mu_y$  \n",
    "  \n",
    "The two samples are not indipendent, so use paired t-test with test statistic:\n",
    "$$T^2 = n \\bar{\\textbf{d}}' \\textbf{S}_d^{-1} \\bar{\\textbf{d}}   \\sim T^2_{2,n-1}$$  \n",
    "\n",
    "where,  \n",
    "$\\textbf{d}_i = \\textbf{x}_i - \\textbf{y}_i$,  \n",
    "$\\bar{\\textbf{d}} = \\frac{1}{n}\\sum_{i=1}^{n} \\textbf{d}_i $,  \n",
    "$\\textbf{S}_d^{-1}$ is the covariance matrix for $\\textbf{d}_1, \\textbf{d}_2,...,\\textbf{d}_{n}$.  \n",
    "  \n",
    "Calculating the test statistic, we get:"
   ]
  },
  {
   "cell_type": "code",
   "execution_count": 3,
   "metadata": {
    "vscode": {
     "languageId": "r"
    }
   },
   "outputs": [
    {
     "data": {
      "text/html": [
       "'The calculated test statistic is 15.191234'"
      ],
      "text/latex": [
       "'The calculated test statistic is 15.191234'"
      ],
      "text/markdown": [
       "'The calculated test statistic is 15.191234'"
      ],
      "text/plain": [
       "[1] \"The calculated test statistic is 15.191234\""
      ]
     },
     "metadata": {},
     "output_type": "display_data"
    }
   ],
   "source": [
    "d <- informal - formal\n",
    "dbar <- colMeans(d)\n",
    "Sd <- t(d) %*% (diag(15) - (1/n) * matrix(rep(1), ncol = n, nrow =n)) %*% d / (n-1)\n",
    "\n",
    "# Test Statistic\n",
    "T2_obs <- n * t(dbar) %*% solve(Sd) %*% dbar\n",
    "sprintf(\"The calculated test statistic is %f\", T2_obs)\n"
   ]
  },
  {
   "cell_type": "markdown",
   "metadata": {},
   "source": [
    "Calculate the p-value by converting into an F-Statistic:"
   ]
  },
  {
   "cell_type": "code",
   "execution_count": 10,
   "metadata": {
    "vscode": {
     "languageId": "r"
    }
   },
   "outputs": [
    {
     "data": {
      "text/html": [
       "'The calculated p-value is 0.008427'"
      ],
      "text/latex": [
       "'The calculated p-value is 0.008427'"
      ],
      "text/markdown": [
       "'The calculated p-value is 0.008427'"
      ],
      "text/plain": [
       "[1] \"The calculated p-value is 0.008427\""
      ]
     },
     "metadata": {},
     "output_type": "display_data"
    }
   ],
   "source": [
    "p_value = pf( (n-2) / ((n-1)*2) * T2_obs, 2, 15-2, lower.tail = FALSE)\n",
    "sprintf(\"The calculated p-value is %f\", p_value)"
   ]
  },
  {
   "cell_type": "markdown",
   "metadata": {},
   "source": [
    "We should reject the null hypothesis in favour of the alternative."
   ]
  },
  {
   "cell_type": "markdown",
   "metadata": {},
   "source": [
    "**b)** Test $H_0: E(x_1) = E(y_1)$"
   ]
  },
  {
   "cell_type": "markdown",
   "metadata": {},
   "source": [
    "We have two samples:  \n",
    "  \n",
    "$\\text{Informal Words: } x_1, x_2,...,x_{15} \\sim N(\\mu_x, \\sigma^2_x)$  \n",
    "$\\text{Formal Words: } y_1, y_2,...,y_{15} \\sim N(\\mu_y, \\sigma^2_y)$  \n",
    "  \n",
    "With null and alternative hypothesis:  \n",
    "$H_0: \\mu_x = \\mu_y$ and $H_1: \\mu_x \\neq \\mu_y$  \n",
    "  \n",
    "The two samples are not indipendent, so use paired t-test with test statistic:\n",
    "$$t = \\frac{\\bar d}{s_d/ \\sqrt{n}} \\sim t_{n-1}$$  \n",
    "\n",
    "where,  \n",
    "$d_i = x_i - y_i$,  \n",
    "$\\bar{d} = \\frac{1}{n}\\sum_{i=1}^{n} d_i$,  \n",
    "$s^2_d$ is the sample variance for $d_1, d_2,...,d_{n}$.  \n",
    "  \n",
    "Calculating the test statistic, we get:"
   ]
  },
  {
   "cell_type": "code",
   "execution_count": 5,
   "metadata": {
    "vscode": {
     "languageId": "r"
    }
   },
   "outputs": [
    {
     "data": {
      "text/html": [
       "'The calculated test statistic is -3.837148'"
      ],
      "text/latex": [
       "'The calculated test statistic is -3.837148'"
      ],
      "text/markdown": [
       "'The calculated test statistic is -3.837148'"
      ],
      "text/plain": [
       "[1] \"The calculated test statistic is -3.837148\""
      ]
     },
     "metadata": {},
     "output_type": "display_data"
    }
   ],
   "source": [
    "d1 <- informal[,1] - formal[,1]\n",
    "d1bar <- sum(d1) / n\n",
    "S1 <- sum( (d1 - d1bar)^2) / (n-1)\n",
    "t1 <- d1bar / sqrt(S1 / n)\n",
    "\n",
    "sprintf(\"The calculated test statistic is %f\", t1)"
   ]
  },
  {
   "cell_type": "code",
   "execution_count": 6,
   "metadata": {
    "vscode": {
     "languageId": "r"
    }
   },
   "outputs": [
    {
     "data": {
      "text/html": [
       "'The calculated p-value is 0.001813'"
      ],
      "text/latex": [
       "'The calculated p-value is 0.001813'"
      ],
      "text/markdown": [
       "'The calculated p-value is 0.001813'"
      ],
      "text/plain": [
       "[1] \"The calculated p-value is 0.001813\""
      ]
     },
     "metadata": {},
     "output_type": "display_data"
    }
   ],
   "source": [
    "p_value1 = 2 * pt(abs(t1), n-1, lower.tail = FALSE)\n",
    "sprintf(\"The calculated p-value is %f\", p_value1)"
   ]
  },
  {
   "cell_type": "markdown",
   "metadata": {},
   "source": [
    "We should reject the null hypothesis in favour of the alternative."
   ]
  },
  {
   "cell_type": "markdown",
   "metadata": {},
   "source": [
    "**c)** Test $H_0: E(x_2) = E(y_2)$"
   ]
  },
  {
   "cell_type": "markdown",
   "metadata": {},
   "source": []
  },
  {
   "cell_type": "markdown",
   "metadata": {},
   "source": [
    "We have two samples:  \n",
    "  \n",
    "$\\text{Informal Verbs: } x_1, x_2,...,x_{15} \\sim N(\\mu_x, \\sigma^2_x)$  \n",
    "$\\text{Formal Verbs: } y_1, y_2,...,y_{15} \\sim N(\\mu_y, \\sigma^2_y)$  \n",
    "  \n",
    "With null and alternative hypothesis:  \n",
    "$H_0: \\mu_x = \\mu_y$ and $H_1: \\mu_x \\neq \\mu_y$  \n",
    "  \n",
    "The two samples are not indipendent, so use paired t-test with test statistic:\n",
    "$$t = \\frac{\\bar d}{s_d/ \\sqrt{n}} \\sim t_{n-1}$$  \n",
    "\n",
    "where,  \n",
    "$d_i = x_i - y_i$,  \n",
    "$\\bar{d} = \\frac{1}{n}\\sum_{i=1}^{n} d_i$,  \n",
    "$s^2_d$ is the sample variance for $d_1, d_2,...,d_{n}$.  \n",
    "  \n",
    "Calculating the test statistic, we get:"
   ]
  },
  {
   "cell_type": "code",
   "execution_count": 7,
   "metadata": {
    "vscode": {
     "languageId": "r"
    }
   },
   "outputs": [
    {
     "data": {
      "text/html": [
       "'The calculated test statistic is -2.436207'"
      ],
      "text/latex": [
       "'The calculated test statistic is -2.436207'"
      ],
      "text/markdown": [
       "'The calculated test statistic is -2.436207'"
      ],
      "text/plain": [
       "[1] \"The calculated test statistic is -2.436207\""
      ]
     },
     "metadata": {},
     "output_type": "display_data"
    }
   ],
   "source": [
    "d2 <- informal[,2] - formal[,2]\n",
    "d2bar <- sum(d2) / n\n",
    "S2 <- sum( (d2 - d2bar)^2) / (n-1)\n",
    "t2 <- d2bar / sqrt(S2 / n)\n",
    "\n",
    "sprintf(\"The calculated test statistic is %f\", t2)"
   ]
  },
  {
   "cell_type": "code",
   "execution_count": 8,
   "metadata": {
    "vscode": {
     "languageId": "r"
    }
   },
   "outputs": [
    {
     "data": {
      "text/html": [
       "'The calculated p-value is 0.028798'"
      ],
      "text/latex": [
       "'The calculated p-value is 0.028798'"
      ],
      "text/markdown": [
       "'The calculated p-value is 0.028798'"
      ],
      "text/plain": [
       "[1] \"The calculated p-value is 0.028798\""
      ]
     },
     "metadata": {},
     "output_type": "display_data"
    }
   ],
   "source": [
    "p_value2 = 2 * pt(abs(t2), n-1, lower.tail = FALSE)\n",
    "sprintf(\"The calculated p-value is %f\", p_value2)"
   ]
  },
  {
   "cell_type": "markdown",
   "metadata": {},
   "source": [
    "We should reject the null hypothesis in favour of the alternative."
   ]
  },
  {
   "cell_type": "markdown",
   "metadata": {},
   "source": [
    "**d)** State the assumptions for the tests in **a)** and **b)**."
   ]
  },
  {
   "cell_type": "markdown",
   "metadata": {},
   "source": [
    "Part a) assumes that the the sample was taken randomly, and are multivariate normal distributed with equal unknown covariance matrices. It does not assume that the two samples are indepdenent.  \n",
    "  \n",
    "Part b) assumes that the samples for number words are randomly sampled, and normally distributed with equal variances. It does not assume that the two samples are independent."
   ]
  }
 ],
 "metadata": {
  "kernelspec": {
   "display_name": "R",
   "language": "R",
   "name": "ir"
  },
  "language_info": {
   "codemirror_mode": "r",
   "file_extension": ".r",
   "mimetype": "text/x-r-source",
   "name": "R",
   "pygments_lexer": "r",
   "version": "4.3.1"
  }
 },
 "nbformat": 4,
 "nbformat_minor": 2
}
