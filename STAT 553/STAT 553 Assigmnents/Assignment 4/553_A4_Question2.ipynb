{
 "cells": [
  {
   "cell_type": "markdown",
   "metadata": {},
   "source": [
    "# Question 2"
   ]
  },
  {
   "cell_type": "markdown",
   "metadata": {},
   "source": [
    "Do a classification analysis on the fish data in Table 6.17 as follows. Assume $p_1=p_2=p_3$."
   ]
  },
  {
   "cell_type": "code",
   "execution_count": null,
   "metadata": {
    "vscode": {
     "languageId": "r"
    }
   },
   "outputs": [],
   "source": [
    "library(MASS)"
   ]
  },
  {
   "cell_type": "code",
   "execution_count": 2,
   "metadata": {
    "vscode": {
     "languageId": "r"
    }
   },
   "outputs": [
    {
     "data": {
      "text/html": [
       "<table class=\"dataframe\">\n",
       "<caption>A matrix: 5 × 36 of type dbl</caption>\n",
       "<tbody>\n",
       "\t<tr><th scope=row>Method</th><td>1.0</td><td>1.0</td><td>1.0</td><td>1.0</td><td>1.0</td><td>1.0</td><td>1.0</td><td>1</td><td>1.0</td><td>1.0</td><td>...</td><td>3.0</td><td>3.0</td><td>3.0</td><td>3.0</td><td>3.0</td><td>3.0</td><td>3.0</td><td>3.0</td><td>3.0</td><td>3.0</td></tr>\n",
       "\t<tr><th scope=row>Aroma</th><td>5.4</td><td>5.2</td><td>6.1</td><td>4.8</td><td>5.0</td><td>5.7</td><td>6.0</td><td>4</td><td>5.7</td><td>5.6</td><td>...</td><td>4.9</td><td>5.7</td><td>4.2</td><td>6.0</td><td>5.1</td><td>4.8</td><td>5.3</td><td>4.6</td><td>4.5</td><td>4.4</td></tr>\n",
       "\t<tr><th scope=row>flavor</th><td>6.0</td><td>6.5</td><td>5.9</td><td>5.0</td><td>5.7</td><td>6.1</td><td>6.0</td><td>5</td><td>5.4</td><td>5.2</td><td>...</td><td>5.1</td><td>5.2</td><td>4.6</td><td>5.3</td><td>5.2</td><td>4.6</td><td>5.4</td><td>4.4</td><td>4.0</td><td>4.2</td></tr>\n",
       "\t<tr><th scope=row>Texture</th><td>6.3</td><td>6.0</td><td>6.0</td><td>4.9</td><td>5.0</td><td>6.0</td><td>5.8</td><td>4</td><td>4.9</td><td>5.4</td><td>...</td><td>5.9</td><td>6.4</td><td>5.3</td><td>5.8</td><td>6.2</td><td>5.7</td><td>6.8</td><td>5.7</td><td>5.0</td><td>5.6</td></tr>\n",
       "\t<tr><th scope=row>Moisture</th><td>6.7</td><td>5.8</td><td>7.0</td><td>5.0</td><td>6.5</td><td>6.6</td><td>6.0</td><td>5</td><td>5.0</td><td>5.8</td><td>...</td><td>6.5</td><td>6.4</td><td>6.3</td><td>6.4</td><td>6.5</td><td>5.7</td><td>6.6</td><td>5.6</td><td>5.9</td><td>5.5</td></tr>\n",
       "</tbody>\n",
       "</table>\n"
      ],
      "text/latex": [
       "A matrix: 5 × 36 of type dbl\n",
       "\\begin{tabular}{r|lllllllllllllllllllll}\n",
       "\tMethod & 1.0 & 1.0 & 1.0 & 1.0 & 1.0 & 1.0 & 1.0 & 1 & 1.0 & 1.0 & ... & 3.0 & 3.0 & 3.0 & 3.0 & 3.0 & 3.0 & 3.0 & 3.0 & 3.0 & 3.0\\\\\n",
       "\tAroma & 5.4 & 5.2 & 6.1 & 4.8 & 5.0 & 5.7 & 6.0 & 4 & 5.7 & 5.6 & ... & 4.9 & 5.7 & 4.2 & 6.0 & 5.1 & 4.8 & 5.3 & 4.6 & 4.5 & 4.4\\\\\n",
       "\tflavor & 6.0 & 6.5 & 5.9 & 5.0 & 5.7 & 6.1 & 6.0 & 5 & 5.4 & 5.2 & ... & 5.1 & 5.2 & 4.6 & 5.3 & 5.2 & 4.6 & 5.4 & 4.4 & 4.0 & 4.2\\\\\n",
       "\tTexture & 6.3 & 6.0 & 6.0 & 4.9 & 5.0 & 6.0 & 5.8 & 4 & 4.9 & 5.4 & ... & 5.9 & 6.4 & 5.3 & 5.8 & 6.2 & 5.7 & 6.8 & 5.7 & 5.0 & 5.6\\\\\n",
       "\tMoisture & 6.7 & 5.8 & 7.0 & 5.0 & 6.5 & 6.6 & 6.0 & 5 & 5.0 & 5.8 & ... & 6.5 & 6.4 & 6.3 & 6.4 & 6.5 & 5.7 & 6.6 & 5.6 & 5.9 & 5.5\\\\\n",
       "\\end{tabular}\n"
      ],
      "text/markdown": [
       "\n",
       "A matrix: 5 × 36 of type dbl\n",
       "\n",
       "| Method | 1.0 | 1.0 | 1.0 | 1.0 | 1.0 | 1.0 | 1.0 | 1 | 1.0 | 1.0 | ... | 3.0 | 3.0 | 3.0 | 3.0 | 3.0 | 3.0 | 3.0 | 3.0 | 3.0 | 3.0 |\n",
       "| Aroma | 5.4 | 5.2 | 6.1 | 4.8 | 5.0 | 5.7 | 6.0 | 4 | 5.7 | 5.6 | ... | 4.9 | 5.7 | 4.2 | 6.0 | 5.1 | 4.8 | 5.3 | 4.6 | 4.5 | 4.4 |\n",
       "| flavor | 6.0 | 6.5 | 5.9 | 5.0 | 5.7 | 6.1 | 6.0 | 5 | 5.4 | 5.2 | ... | 5.1 | 5.2 | 4.6 | 5.3 | 5.2 | 4.6 | 5.4 | 4.4 | 4.0 | 4.2 |\n",
       "| Texture | 6.3 | 6.0 | 6.0 | 4.9 | 5.0 | 6.0 | 5.8 | 4 | 4.9 | 5.4 | ... | 5.9 | 6.4 | 5.3 | 5.8 | 6.2 | 5.7 | 6.8 | 5.7 | 5.0 | 5.6 |\n",
       "| Moisture | 6.7 | 5.8 | 7.0 | 5.0 | 6.5 | 6.6 | 6.0 | 5 | 5.0 | 5.8 | ... | 6.5 | 6.4 | 6.3 | 6.4 | 6.5 | 5.7 | 6.6 | 5.6 | 5.9 | 5.5 |\n",
       "\n"
      ],
      "text/plain": [
       "         [,1] [,2] [,3] [,4] [,5] [,6] [,7] [,8] [,9] [,10] [,11] [,12] [,13]\n",
       "Method   1.0  1.0  1.0  1.0  1.0  1.0  1.0  1    1.0  1.0   ...   3.0   3.0  \n",
       "Aroma    5.4  5.2  6.1  4.8  5.0  5.7  6.0  4    5.7  5.6   ...   4.9   5.7  \n",
       "flavor   6.0  6.5  5.9  5.0  5.7  6.1  6.0  5    5.4  5.2   ...   5.1   5.2  \n",
       "Texture  6.3  6.0  6.0  4.9  5.0  6.0  5.8  4    4.9  5.4   ...   5.9   6.4  \n",
       "Moisture 6.7  5.8  7.0  5.0  6.5  6.6  6.0  5    5.0  5.8   ...   6.5   6.4  \n",
       "         [,14] [,15] [,16] [,17] [,18] [,19] [,20] [,21]\n",
       "Method   3.0   3.0   3.0   3.0   3.0   3.0   3.0   3.0  \n",
       "Aroma    4.2   6.0   5.1   4.8   5.3   4.6   4.5   4.4  \n",
       "flavor   4.6   5.3   5.2   4.6   5.4   4.4   4.0   4.2  \n",
       "Texture  5.3   5.8   6.2   5.7   6.8   5.7   5.0   5.6  \n",
       "Moisture 6.3   6.4   6.5   5.7   6.6   5.6   5.9   5.5  "
      ]
     },
     "metadata": {},
     "output_type": "display_data"
    }
   ],
   "source": [
    "data <- read.table(file = \"/Users/alexwiigs/Documents/Code/STAT 553 Assigmnents/Assignment 4/T6_17_FISH.DAT\")\n",
    "colnames(data) = c(\"Method\", \"Aroma\", \"flavor\", \"Texture\", \"Moisture\")\n",
    "n <- 12\n",
    "k <- 3\n",
    "method1 <- as.matrix(data[c(data[,1] == 1), 2:5])\n",
    "method2 <- as.matrix(data[c(data[,1] == 2), 2:5])\n",
    "method3 <- as.matrix(data[c(data[,1] == 3), 2:5])\n",
    "method. <-cbind(colSums(data[c(data[,1] ==1), 2:5]),colSums(data[c(data[,1] ==2), 2:5]),colSums(data[c(data[,1] ==3), 2:5]))\n",
    "t(data)"
   ]
  },
  {
   "cell_type": "code",
   "execution_count": 3,
   "metadata": {
    "vscode": {
     "languageId": "r"
    }
   },
   "outputs": [
    {
     "data": {
      "text/html": [
       "<table class=\"dataframe\">\n",
       "<caption>A matrix: 4 × 4 of type dbl</caption>\n",
       "<thead>\n",
       "\t<tr><th scope=col>Aroma</th><th scope=col>flavor</th><th scope=col>Texture</th><th scope=col>Moisture</th></tr>\n",
       "</thead>\n",
       "<tbody>\n",
       "\t<tr><td>13.41</td><td>7.72</td><td> 8.67</td><td> 5.86</td></tr>\n",
       "\t<tr><td> 7.72</td><td>8.48</td><td> 7.53</td><td> 6.21</td></tr>\n",
       "\t<tr><td> 8.67</td><td>7.53</td><td>11.61</td><td> 7.04</td></tr>\n",
       "\t<tr><td> 5.86</td><td>6.21</td><td> 7.04</td><td>10.57</td></tr>\n",
       "</tbody>\n",
       "</table>\n"
      ],
      "text/latex": [
       "A matrix: 4 × 4 of type dbl\n",
       "\\begin{tabular}{llll}\n",
       " Aroma & flavor & Texture & Moisture\\\\\n",
       "\\hline\n",
       "\t 13.41 & 7.72 &  8.67 &  5.86\\\\\n",
       "\t  7.72 & 8.48 &  7.53 &  6.21\\\\\n",
       "\t  8.67 & 7.53 & 11.61 &  7.04\\\\\n",
       "\t  5.86 & 6.21 &  7.04 & 10.57\\\\\n",
       "\\end{tabular}\n"
      ],
      "text/markdown": [
       "\n",
       "A matrix: 4 × 4 of type dbl\n",
       "\n",
       "| Aroma | flavor | Texture | Moisture |\n",
       "|---|---|---|---|\n",
       "| 13.41 | 7.72 |  8.67 |  5.86 |\n",
       "|  7.72 | 8.48 |  7.53 |  6.21 |\n",
       "|  8.67 | 7.53 | 11.61 |  7.04 |\n",
       "|  5.86 | 6.21 |  7.04 | 10.57 |\n",
       "\n"
      ],
      "text/plain": [
       "     Aroma flavor Texture Moisture\n",
       "[1,] 13.41 7.72    8.67    5.86   \n",
       "[2,]  7.72 8.48    7.53    6.21   \n",
       "[3,]  8.67 7.53   11.61    7.04   \n",
       "[4,]  5.86 6.21    7.04   10.57   "
      ]
     },
     "metadata": {},
     "output_type": "display_data"
    }
   ],
   "source": [
    "E <- matrix(nrow = 4, ncol = 4)\n",
    "E[,] = 0\n",
    "for (i in 1:12) {E = E + method1[i,] %*% t(method1[i,]) + method2[i,] %*% t(method2[i,]) + method3[i,] %*% t(method3[i,])}\n",
    "E = E - (1/n) * (method.[,1] %*% t(method.[,1]) + method.[,2] %*% t(method.[,2]) + method.[,3] %*% t(method.[,3]))\n",
    "round(E,2)"
   ]
  },
  {
   "cell_type": "markdown",
   "metadata": {},
   "source": [
    "**a)** Find the classification table and the error rate using the linear classification functions (assuming $\\Sigma_1 = \\Sigma_2 = \\Sigma_3$)."
   ]
  },
  {
   "cell_type": "markdown",
   "metadata": {},
   "source": [
    "Using LM from MASS package:"
   ]
  },
  {
   "cell_type": "code",
   "execution_count": 4,
   "metadata": {
    "vscode": {
     "languageId": "r"
    }
   },
   "outputs": [
    {
     "name": "stdout",
     "output_type": "stream",
     "text": [
      "Rows: 36\n",
      "Columns: 5\n",
      "$ Method   \u001b[3m\u001b[90m<fct>\u001b[39m\u001b[23m 1, 1, 1, 1, 1, 1, 1, 1, 1, 1, 1, 1, 2, 2, 2, 2, 2, 2, 2, 2, 2~\n",
      "$ Aroma    \u001b[3m\u001b[90m<dbl>\u001b[39m\u001b[23m 5.4, 5.2, 6.1, 4.8, 5.0, 5.7, 6.0, 4.0, 5.7, 5.6, 5.8, 5.3, 5~\n",
      "$ flavor   \u001b[3m\u001b[90m<dbl>\u001b[39m\u001b[23m 6.0, 6.5, 5.9, 5.0, 5.7, 6.1, 6.0, 5.0, 5.4, 5.2, 6.1, 5.9, 5~\n",
      "$ Texture  \u001b[3m\u001b[90m<dbl>\u001b[39m\u001b[23m 6.3, 6.0, 6.0, 4.9, 5.0, 6.0, 5.8, 4.0, 4.9, 5.4, 5.2, 5.8, 5~\n",
      "$ Moisture \u001b[3m\u001b[90m<dbl>\u001b[39m\u001b[23m 6.7, 5.8, 7.0, 5.0, 6.5, 6.6, 6.0, 5.0, 5.0, 5.8, 6.4, 6.0, 6~\n"
     ]
    }
   ],
   "source": [
    "data$Method <- as.factor(data$Method)\n",
    "glimpse(data)"
   ]
  },
  {
   "cell_type": "code",
   "execution_count": 5,
   "metadata": {
    "vscode": {
     "languageId": "r"
    }
   },
   "outputs": [
    {
     "data": {
      "text/html": [
       "<style>\n",
       ".list-inline {list-style: none; margin:0; padding: 0}\n",
       ".list-inline>li {display: inline-block}\n",
       ".list-inline>li:not(:last-child)::after {content: \"\\00b7\"; padding: 0 .5ex}\n",
       "</style>\n",
       "<ol class=list-inline><li>'prior'</li><li>'counts'</li><li>'means'</li><li>'scaling'</li><li>'lev'</li><li>'svd'</li><li>'N'</li><li>'call'</li><li>'terms'</li><li>'xlevels'</li></ol>\n"
      ],
      "text/latex": [
       "\\begin{enumerate*}\n",
       "\\item 'prior'\n",
       "\\item 'counts'\n",
       "\\item 'means'\n",
       "\\item 'scaling'\n",
       "\\item 'lev'\n",
       "\\item 'svd'\n",
       "\\item 'N'\n",
       "\\item 'call'\n",
       "\\item 'terms'\n",
       "\\item 'xlevels'\n",
       "\\end{enumerate*}\n"
      ],
      "text/markdown": [
       "1. 'prior'\n",
       "2. 'counts'\n",
       "3. 'means'\n",
       "4. 'scaling'\n",
       "5. 'lev'\n",
       "6. 'svd'\n",
       "7. 'N'\n",
       "8. 'call'\n",
       "9. 'terms'\n",
       "10. 'xlevels'\n",
       "\n",
       "\n"
      ],
      "text/plain": [
       " [1] \"prior\"   \"counts\"  \"means\"   \"scaling\" \"lev\"     \"svd\"     \"N\"      \n",
       " [8] \"call\"    \"terms\"   \"xlevels\""
      ]
     },
     "metadata": {},
     "output_type": "display_data"
    },
    {
     "data": {
      "text/html": [
       "<style>\n",
       ".list-inline {list-style: none; margin:0; padding: 0}\n",
       ".list-inline>li {display: inline-block}\n",
       ".list-inline>li:not(:last-child)::after {content: \"\\00b7\"; padding: 0 .5ex}\n",
       "</style>\n",
       "<ol class=list-inline><li>'class'</li><li>'posterior'</li><li>'x'</li></ol>\n"
      ],
      "text/latex": [
       "\\begin{enumerate*}\n",
       "\\item 'class'\n",
       "\\item 'posterior'\n",
       "\\item 'x'\n",
       "\\end{enumerate*}\n"
      ],
      "text/markdown": [
       "1. 'class'\n",
       "2. 'posterior'\n",
       "3. 'x'\n",
       "\n",
       "\n"
      ],
      "text/plain": [
       "[1] \"class\"     \"posterior\" \"x\"        "
      ]
     },
     "metadata": {},
     "output_type": "display_data"
    }
   ],
   "source": [
    "lda_1 <- lda(Method ~ ., data =data)\n",
    "lda_pred1 <- predict(lda_1)\n",
    "names(lda_1)\n",
    "names(lda_pred1)"
   ]
  },
  {
   "cell_type": "code",
   "execution_count": 17,
   "metadata": {
    "vscode": {
     "languageId": "r"
    }
   },
   "outputs": [
    {
     "data": {
      "text/plain": [
       "         actual\n",
       "predicted  1  2  3\n",
       "        1  9  3  0\n",
       "        2  3  7  1\n",
       "        3  0  2 11"
      ]
     },
     "metadata": {},
     "output_type": "display_data"
    },
    {
     "data": {
      "text/html": [
       "'The calculated error rate is 0.250000'"
      ],
      "text/latex": [
       "'The calculated error rate is 0.250000'"
      ],
      "text/markdown": [
       "'The calculated error rate is 0.250000'"
      ],
      "text/plain": [
       "[1] \"The calculated error rate is 0.250000\""
      ]
     },
     "metadata": {},
     "output_type": "display_data"
    }
   ],
   "source": [
    "table(predicted = lda_pred1$class, actual = data$Method)\n",
    "er <- round(round(1 - mean(lda_pred1$class == data$Method),2),4)\n",
    "sprintf(\"The calculated error rate is %f\", round(er,2))"
   ]
  },
  {
   "cell_type": "markdown",
   "metadata": {},
   "source": [
    "**b)** Find the classification table and the error rate using quadratic classification functions (assuming population covariance matrices are not equal)."
   ]
  },
  {
   "cell_type": "code",
   "execution_count": 7,
   "metadata": {
    "vscode": {
     "languageId": "r"
    }
   },
   "outputs": [
    {
     "data": {
      "text/html": [
       "<style>\n",
       ".list-inline {list-style: none; margin:0; padding: 0}\n",
       ".list-inline>li {display: inline-block}\n",
       ".list-inline>li:not(:last-child)::after {content: \"\\00b7\"; padding: 0 .5ex}\n",
       "</style>\n",
       "<ol class=list-inline><li>'prior'</li><li>'counts'</li><li>'means'</li><li>'scaling'</li><li>'ldet'</li><li>'lev'</li><li>'N'</li><li>'call'</li><li>'terms'</li><li>'xlevels'</li></ol>\n"
      ],
      "text/latex": [
       "\\begin{enumerate*}\n",
       "\\item 'prior'\n",
       "\\item 'counts'\n",
       "\\item 'means'\n",
       "\\item 'scaling'\n",
       "\\item 'ldet'\n",
       "\\item 'lev'\n",
       "\\item 'N'\n",
       "\\item 'call'\n",
       "\\item 'terms'\n",
       "\\item 'xlevels'\n",
       "\\end{enumerate*}\n"
      ],
      "text/markdown": [
       "1. 'prior'\n",
       "2. 'counts'\n",
       "3. 'means'\n",
       "4. 'scaling'\n",
       "5. 'ldet'\n",
       "6. 'lev'\n",
       "7. 'N'\n",
       "8. 'call'\n",
       "9. 'terms'\n",
       "10. 'xlevels'\n",
       "\n",
       "\n"
      ],
      "text/plain": [
       " [1] \"prior\"   \"counts\"  \"means\"   \"scaling\" \"ldet\"    \"lev\"     \"N\"      \n",
       " [8] \"call\"    \"terms\"   \"xlevels\""
      ]
     },
     "metadata": {},
     "output_type": "display_data"
    },
    {
     "data": {
      "text/html": [
       "<style>\n",
       ".list-inline {list-style: none; margin:0; padding: 0}\n",
       ".list-inline>li {display: inline-block}\n",
       ".list-inline>li:not(:last-child)::after {content: \"\\00b7\"; padding: 0 .5ex}\n",
       "</style>\n",
       "<ol class=list-inline><li>'class'</li><li>'posterior'</li></ol>\n"
      ],
      "text/latex": [
       "\\begin{enumerate*}\n",
       "\\item 'class'\n",
       "\\item 'posterior'\n",
       "\\end{enumerate*}\n"
      ],
      "text/markdown": [
       "1. 'class'\n",
       "2. 'posterior'\n",
       "\n",
       "\n"
      ],
      "text/plain": [
       "[1] \"class\"     \"posterior\""
      ]
     },
     "metadata": {},
     "output_type": "display_data"
    }
   ],
   "source": [
    "qda_1 <- qda(Method ~ ., data =data)\n",
    "qda_pred1 <- predict(qda_1)\n",
    "names(qda_1)\n",
    "names(qda_pred1)"
   ]
  },
  {
   "cell_type": "code",
   "execution_count": 18,
   "metadata": {
    "vscode": {
     "languageId": "r"
    }
   },
   "outputs": [
    {
     "data": {
      "text/plain": [
       "         actual\n",
       "predicted  1  2  3\n",
       "        1 10  2  0\n",
       "        2  2  8  1\n",
       "        3  0  2 11"
      ]
     },
     "metadata": {},
     "output_type": "display_data"
    },
    {
     "data": {
      "text/html": [
       "'The calculated error rate is 0.190000'"
      ],
      "text/latex": [
       "'The calculated error rate is 0.190000'"
      ],
      "text/markdown": [
       "'The calculated error rate is 0.190000'"
      ],
      "text/plain": [
       "[1] \"The calculated error rate is 0.190000\""
      ]
     },
     "metadata": {},
     "output_type": "display_data"
    }
   ],
   "source": [
    "table(predicted = qda_pred1$class, actual = data$Method)\n",
    "er <- round(1 - mean(qda_pred1$class == data$Method),2)\n",
    "sprintf(\"The calculated error rate is %f\", round(er,2))"
   ]
  },
  {
   "cell_type": "markdown",
   "metadata": {},
   "source": [
    "**c)** Find the classification table and the error rate using the linear classification functions and the holdout method."
   ]
  },
  {
   "cell_type": "code",
   "execution_count": 9,
   "metadata": {
    "vscode": {
     "languageId": "r"
    }
   },
   "outputs": [
    {
     "data": {
      "text/html": [
       "<style>\n",
       ".list-inline {list-style: none; margin:0; padding: 0}\n",
       ".list-inline>li {display: inline-block}\n",
       ".list-inline>li:not(:last-child)::after {content: \"\\00b7\"; padding: 0 .5ex}\n",
       "</style>\n",
       "<ol class=list-inline><li>'class'</li><li>'posterior'</li><li>'terms'</li><li>'call'</li><li>'xlevels'</li></ol>\n"
      ],
      "text/latex": [
       "\\begin{enumerate*}\n",
       "\\item 'class'\n",
       "\\item 'posterior'\n",
       "\\item 'terms'\n",
       "\\item 'call'\n",
       "\\item 'xlevels'\n",
       "\\end{enumerate*}\n"
      ],
      "text/markdown": [
       "1. 'class'\n",
       "2. 'posterior'\n",
       "3. 'terms'\n",
       "4. 'call'\n",
       "5. 'xlevels'\n",
       "\n",
       "\n"
      ],
      "text/plain": [
       "[1] \"class\"     \"posterior\" \"terms\"     \"call\"      \"xlevels\"  "
      ]
     },
     "metadata": {},
     "output_type": "display_data"
    }
   ],
   "source": [
    "lda_2 <- lda(Method ~ ., data =data, CV = TRUE)\n",
    "# lda_pred2 <- predict(lda_2$class)\n",
    "names(lda_2)"
   ]
  },
  {
   "cell_type": "code",
   "execution_count": 19,
   "metadata": {
    "vscode": {
     "languageId": "r"
    }
   },
   "outputs": [
    {
     "data": {
      "text/plain": [
       "         actual\n",
       "predicted  1  2  3\n",
       "        1  7  4  0\n",
       "        2  5  5  1\n",
       "        3  0  3 11"
      ]
     },
     "metadata": {},
     "output_type": "display_data"
    },
    {
     "data": {
      "text/html": [
       "'The calculated error rate is 0.360000'"
      ],
      "text/latex": [
       "'The calculated error rate is 0.360000'"
      ],
      "text/markdown": [
       "'The calculated error rate is 0.360000'"
      ],
      "text/plain": [
       "[1] \"The calculated error rate is 0.360000\""
      ]
     },
     "metadata": {},
     "output_type": "display_data"
    }
   ],
   "source": [
    "table(predicted = lda_2$class, actual = data$Method)\n",
    "er <- round(1 - mean(lda_2$class == data$Method),2)\n",
    "sprintf(\"The calculated error rate is %f\", round(er,2))"
   ]
  },
  {
   "cell_type": "markdown",
   "metadata": {},
   "source": [
    "**d)** Find the classification table an the error rate using the quadratic classification functions and the holdout method."
   ]
  },
  {
   "cell_type": "code",
   "execution_count": 11,
   "metadata": {
    "vscode": {
     "languageId": "r"
    }
   },
   "outputs": [
    {
     "data": {
      "text/html": [
       "<style>\n",
       ".list-inline {list-style: none; margin:0; padding: 0}\n",
       ".list-inline>li {display: inline-block}\n",
       ".list-inline>li:not(:last-child)::after {content: \"\\00b7\"; padding: 0 .5ex}\n",
       "</style>\n",
       "<ol class=list-inline><li>'class'</li><li>'posterior'</li><li>'terms'</li><li>'call'</li><li>'xlevels'</li></ol>\n"
      ],
      "text/latex": [
       "\\begin{enumerate*}\n",
       "\\item 'class'\n",
       "\\item 'posterior'\n",
       "\\item 'terms'\n",
       "\\item 'call'\n",
       "\\item 'xlevels'\n",
       "\\end{enumerate*}\n"
      ],
      "text/markdown": [
       "1. 'class'\n",
       "2. 'posterior'\n",
       "3. 'terms'\n",
       "4. 'call'\n",
       "5. 'xlevels'\n",
       "\n",
       "\n"
      ],
      "text/plain": [
       "[1] \"class\"     \"posterior\" \"terms\"     \"call\"      \"xlevels\"  "
      ]
     },
     "metadata": {},
     "output_type": "display_data"
    }
   ],
   "source": [
    "qda_2 <- qda(Method ~ ., data =data, CV = TRUE)\n",
    "names(qda_2)"
   ]
  },
  {
   "cell_type": "code",
   "execution_count": 21,
   "metadata": {
    "vscode": {
     "languageId": "r"
    }
   },
   "outputs": [
    {
     "data": {
      "text/plain": [
       "         actual\n",
       "predicted 1 2 3\n",
       "        1 4 6 0\n",
       "        2 8 4 3\n",
       "        3 0 2 9"
      ]
     },
     "metadata": {},
     "output_type": "display_data"
    },
    {
     "data": {
      "text/html": [
       "'The calculated error rate is 0.530000'"
      ],
      "text/latex": [
       "'The calculated error rate is 0.530000'"
      ],
      "text/markdown": [
       "'The calculated error rate is 0.530000'"
      ],
      "text/plain": [
       "[1] \"The calculated error rate is 0.530000\""
      ]
     },
     "metadata": {},
     "output_type": "display_data"
    }
   ],
   "source": [
    "table(predicted = qda_2$class, actual = data$Method)\n",
    "er <- round(1 - mean(qda_2$class == data$Method),2)\n",
    "sprintf(\"The calculated error rate is %f\", round(er,2))"
   ]
  }
 ],
 "metadata": {
  "kernelspec": {
   "display_name": "R",
   "language": "R",
   "name": "ir"
  },
  "language_info": {
   "codemirror_mode": "r",
   "file_extension": ".r",
   "mimetype": "text/x-r-source",
   "name": "R",
   "pygments_lexer": "r",
   "version": "4.3.1"
  }
 },
 "nbformat": 4,
 "nbformat_minor": 2
}
