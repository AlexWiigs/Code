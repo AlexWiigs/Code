{
 "cells": [
  {
   "cell_type": "markdown",
   "metadata": {},
   "source": [
    "# Question 4\n",
    "## a)\n",
    "We have $ \\textbf{y} \\sim N_4( \\mu, \\Sigma)$ and $\\textbf{z} \\sim N_4(0,I_4)$, where\n",
    "$$\\mu = \\begin{pmatrix} 1 \\\\ 3 \\\\ 5 \\\\ 6 \\end{pmatrix}$$\n",
    "and \n",
    "$$\\Sigma = \\begin{pmatrix} 14 & 12 & 1 & 8 \\\\ 12 & 14 & 5 & 1 \\\\ 1 & 5 & 6 & -7 \\\\ 8 & 1 & -7 & 27 \\end{pmatrix}$$\n"
   ]
  },
  {
   "cell_type": "code",
   "execution_count": 9,
   "metadata": {
    "vscode": {
     "languageId": "r"
    }
   },
   "outputs": [],
   "source": [
    "Sigma <- matrix(c(14,12,1,8,12,14,5,1,1,5,6,-7,8,1,-7,27), ncol = 4)\n",
    "mu <- matrix(c(1,3,5,6))"
   ]
  },
  {
   "cell_type": "markdown",
   "metadata": {},
   "source": [
    "First notice that $(\\textbf{y} - \\mu) \\sim N_4(0, \\Sigma) \\implies (\\Sigma^{1/2})^{-1}(\\textbf{y} - \\mu) \\sim N_4(0, I_4) \\implies \\textbf{z} = (\\Sigma^{1/2})^{-1}(\\textbf{y}-\\mu)\\implies (\\Sigma^{1/2})\\textbf{z} + \\mu = \\textbf{y}$.  \n",
    "  \n",
    "So we have $A = \\Sigma^{1/2}$ and $b = \\mu$.  \n",
    "  \n",
    "We can calulcate $\\Sigma^{1/2}$ using spectral decomposition..."
   ]
  },
  {
   "cell_type": "code",
   "execution_count": 10,
   "metadata": {
    "vscode": {
     "languageId": "r"
    }
   },
   "outputs": [
    {
     "data": {
      "text/plain": [
       "eigen() decomposition\n",
       "$values\n",
       "[1] 33.6683933 24.1538739  2.8096607  0.3680721\n",
       "\n",
       "$vectors\n",
       "           [,1]       [,2]       [,3]        [,4]\n",
       "[1,] -0.5097713 -0.4314488  0.4748785  0.57312797\n",
       "[2,] -0.3197622 -0.6544947 -0.1248813 -0.67364199\n",
       "[3,]  0.1234259 -0.3902366 -0.7844396  0.46597851\n",
       "[4,] -0.7890827  0.4829120 -0.3788795 -0.02438923\n"
      ]
     },
     "metadata": {},
     "output_type": "display_data"
    },
    {
     "data": {
      "text/html": [
       "<table class=\"dataframe\">\n",
       "<caption>A matrix: 4 × 4 of type dbl</caption>\n",
       "<tbody>\n",
       "\t<tr><td>5.802447</td><td>0.000000</td><td>0.000000</td><td>0.0000000</td></tr>\n",
       "\t<tr><td>0.000000</td><td>4.914659</td><td>0.000000</td><td>0.0000000</td></tr>\n",
       "\t<tr><td>0.000000</td><td>0.000000</td><td>1.676204</td><td>0.0000000</td></tr>\n",
       "\t<tr><td>0.000000</td><td>0.000000</td><td>0.000000</td><td>0.6066895</td></tr>\n",
       "</tbody>\n",
       "</table>\n"
      ],
      "text/latex": [
       "A matrix: 4 × 4 of type dbl\n",
       "\\begin{tabular}{llll}\n",
       "\t 5.802447 & 0.000000 & 0.000000 & 0.0000000\\\\\n",
       "\t 0.000000 & 4.914659 & 0.000000 & 0.0000000\\\\\n",
       "\t 0.000000 & 0.000000 & 1.676204 & 0.0000000\\\\\n",
       "\t 0.000000 & 0.000000 & 0.000000 & 0.6066895\\\\\n",
       "\\end{tabular}\n"
      ],
      "text/markdown": [
       "\n",
       "A matrix: 4 × 4 of type dbl\n",
       "\n",
       "| 5.802447 | 0.000000 | 0.000000 | 0.0000000 |\n",
       "| 0.000000 | 4.914659 | 0.000000 | 0.0000000 |\n",
       "| 0.000000 | 0.000000 | 1.676204 | 0.0000000 |\n",
       "| 0.000000 | 0.000000 | 0.000000 | 0.6066895 |\n",
       "\n"
      ],
      "text/plain": [
       "     [,1]     [,2]     [,3]     [,4]     \n",
       "[1,] 5.802447 0.000000 0.000000 0.0000000\n",
       "[2,] 0.000000 4.914659 0.000000 0.0000000\n",
       "[3,] 0.000000 0.000000 1.676204 0.0000000\n",
       "[4,] 0.000000 0.000000 0.000000 0.6066895"
      ]
     },
     "metadata": {},
     "output_type": "display_data"
    },
    {
     "data": {
      "text/html": [
       "<table class=\"dataframe\">\n",
       "<caption>A matrix: 4 × 4 of type dbl</caption>\n",
       "<tbody>\n",
       "\t<tr><td> 3.000000e+00</td><td> 2.000000e+00</td><td>-1.141621e-15</td><td> 1.000000e+00</td></tr>\n",
       "\t<tr><td> 2.000000e+00</td><td> 3.000000e+00</td><td> 1.000000e+00</td><td>-2.774183e-16</td></tr>\n",
       "\t<tr><td>-1.226355e-15</td><td> 1.000000e+00</td><td> 2.000000e+00</td><td>-1.000000e+00</td></tr>\n",
       "\t<tr><td> 1.000000e+00</td><td>-2.837441e-16</td><td>-1.000000e+00</td><td> 5.000000e+00</td></tr>\n",
       "</tbody>\n",
       "</table>\n"
      ],
      "text/latex": [
       "A matrix: 4 × 4 of type dbl\n",
       "\\begin{tabular}{llll}\n",
       "\t  3.000000e+00 &  2.000000e+00 & -1.141621e-15 &  1.000000e+00\\\\\n",
       "\t  2.000000e+00 &  3.000000e+00 &  1.000000e+00 & -2.774183e-16\\\\\n",
       "\t -1.226355e-15 &  1.000000e+00 &  2.000000e+00 & -1.000000e+00\\\\\n",
       "\t  1.000000e+00 & -2.837441e-16 & -1.000000e+00 &  5.000000e+00\\\\\n",
       "\\end{tabular}\n"
      ],
      "text/markdown": [
       "\n",
       "A matrix: 4 × 4 of type dbl\n",
       "\n",
       "|  3.000000e+00 |  2.000000e+00 | -1.141621e-15 |  1.000000e+00 |\n",
       "|  2.000000e+00 |  3.000000e+00 |  1.000000e+00 | -2.774183e-16 |\n",
       "| -1.226355e-15 |  1.000000e+00 |  2.000000e+00 | -1.000000e+00 |\n",
       "|  1.000000e+00 | -2.837441e-16 | -1.000000e+00 |  5.000000e+00 |\n",
       "\n"
      ],
      "text/plain": [
       "     [,1]          [,2]          [,3]          [,4]         \n",
       "[1,]  3.000000e+00  2.000000e+00 -1.141621e-15  1.000000e+00\n",
       "[2,]  2.000000e+00  3.000000e+00  1.000000e+00 -2.774183e-16\n",
       "[3,] -1.226355e-15  1.000000e+00  2.000000e+00 -1.000000e+00\n",
       "[4,]  1.000000e+00 -2.837441e-16 -1.000000e+00  5.000000e+00"
      ]
     },
     "metadata": {},
     "output_type": "display_data"
    }
   ],
   "source": [
    "eigen(Sigma)\n",
    "values <- eigen(Sigma)$values\n",
    "vectors <- eigen(Sigma)$vectors\n",
    "D_sqrt = matrix(rep(0,length(Sigma)), ncol = 4)\n",
    "for (i in 1:4) {\n",
    "    D_sqrt[i,i] = sqrt(values[i])\n",
    "}\n",
    "D_sqrt\n",
    "\n",
    "Sigma_sqrt <- vectors %*% D_sqrt %*% t(vectors)\n",
    "Sigma_sqrt"
   ]
  },
  {
   "cell_type": "markdown",
   "metadata": {},
   "source": [
    "Thus, we have \n",
    "$$A = \\Sigma^{1/2} = \\begin{pmatrix} 3 & 2 & 0 & 1 \\\\ 2 & 3 & 1 & 0 \\\\ 0 & 1 & 2 & -1 \\\\ 1 & 0 & -1 & 5 \\end{pmatrix}$$\n",
    "and \n",
    "$$ b = \\mu = \\begin{pmatrix} 1 \\\\ 3 \\\\ 5 \\\\ 6 \\end{pmatrix} $$\n",
    "## b)\n",
    "We are given that $\\textbf{y} \\sim N_4(\\mu, \\Epsilon)$, therefore a random sample $\\textbf{y}_1,..., \\textbf{y}_n$ from the distribution of $\\textbf{y}$ will also be multivariate normal with $\\textbf{y}_1,..., \\textbf{y}_n \\sim N_4(\\mu, \\Sigma / n)$.\n",
    "## c)\n",
    "We can generate 100 sample mean vectors on size 55 like so..."
   ]
  },
  {
   "cell_type": "code",
   "execution_count": 11,
   "metadata": {
    "vscode": {
     "languageId": "r"
    }
   },
   "outputs": [
    {
     "data": {
      "text/html": [
       "<style>\n",
       ".list-inline {list-style: none; margin:0; padding: 0}\n",
       ".list-inline>li {display: inline-block}\n",
       ".list-inline>li:not(:last-child)::after {content: \"\\00b7\"; padding: 0 .5ex}\n",
       "</style>\n",
       "<ol class=list-inline><li>1.02934118556114</li><li>3.00196813402956</li><li>4.96389401352034</li><li>6.03722726374259</li></ol>\n"
      ],
      "text/latex": [
       "\\begin{enumerate*}\n",
       "\\item 1.02934118556114\n",
       "\\item 3.00196813402956\n",
       "\\item 4.96389401352034\n",
       "\\item 6.03722726374259\n",
       "\\end{enumerate*}\n"
      ],
      "text/markdown": [
       "1. 1.02934118556114\n",
       "2. 3.00196813402956\n",
       "3. 4.96389401352034\n",
       "4. 6.03722726374259\n",
       "\n",
       "\n"
      ],
      "text/plain": [
       "[1] 1.029341 3.001968 4.963894 6.037227"
      ]
     },
     "metadata": {},
     "output_type": "display_data"
    },
    {
     "data": {
      "text/html": [
       "<table class=\"dataframe\">\n",
       "<caption>A matrix: 4 × 4 of type dbl</caption>\n",
       "<tbody>\n",
       "\t<tr><td>0.19213799</td><td> 0.16754696</td><td> 0.01474956</td><td> 0.09220623</td></tr>\n",
       "\t<tr><td>0.16754696</td><td> 0.21925164</td><td> 0.09309206</td><td>-0.03771610</td></tr>\n",
       "\t<tr><td>0.01474956</td><td> 0.09309206</td><td> 0.11847257</td><td>-0.14837637</td></tr>\n",
       "\t<tr><td>0.09220623</td><td>-0.03771610</td><td>-0.14837637</td><td> 0.44744428</td></tr>\n",
       "</tbody>\n",
       "</table>\n"
      ],
      "text/latex": [
       "A matrix: 4 × 4 of type dbl\n",
       "\\begin{tabular}{llll}\n",
       "\t 0.19213799 &  0.16754696 &  0.01474956 &  0.09220623\\\\\n",
       "\t 0.16754696 &  0.21925164 &  0.09309206 & -0.03771610\\\\\n",
       "\t 0.01474956 &  0.09309206 &  0.11847257 & -0.14837637\\\\\n",
       "\t 0.09220623 & -0.03771610 & -0.14837637 &  0.44744428\\\\\n",
       "\\end{tabular}\n"
      ],
      "text/markdown": [
       "\n",
       "A matrix: 4 × 4 of type dbl\n",
       "\n",
       "| 0.19213799 |  0.16754696 |  0.01474956 |  0.09220623 |\n",
       "| 0.16754696 |  0.21925164 |  0.09309206 | -0.03771610 |\n",
       "| 0.01474956 |  0.09309206 |  0.11847257 | -0.14837637 |\n",
       "| 0.09220623 | -0.03771610 | -0.14837637 |  0.44744428 |\n",
       "\n"
      ],
      "text/plain": [
       "     [,1]       [,2]        [,3]        [,4]       \n",
       "[1,] 0.19213799  0.16754696  0.01474956  0.09220623\n",
       "[2,] 0.16754696  0.21925164  0.09309206 -0.03771610\n",
       "[3,] 0.01474956  0.09309206  0.11847257 -0.14837637\n",
       "[4,] 0.09220623 -0.03771610 -0.14837637  0.44744428"
      ]
     },
     "metadata": {},
     "output_type": "display_data"
    }
   ],
   "source": [
    "library(MASS)\n",
    "set.seed(1992)\n",
    "samples <- t(replicate(100, colMeans(mvrnorm(55, mu, Sigma))))\n",
    "\n",
    "y_bar <- colMeans(samples)\n",
    "y_bar\n",
    "cov(samples)"
   ]
  },
  {
   "cell_type": "markdown",
   "metadata": {},
   "source": [
    "Using the formula from part b), we would have."
   ]
  },
  {
   "cell_type": "code",
   "execution_count": 12,
   "metadata": {
    "vscode": {
     "languageId": "r"
    }
   },
   "outputs": [
    {
     "data": {
      "text/html": [
       "<table class=\"dataframe\">\n",
       "<caption>A matrix: 4 × 4 of type dbl</caption>\n",
       "<tbody>\n",
       "\t<tr><td>0.25454545</td><td>0.21818182</td><td> 0.01818182</td><td> 0.14545455</td></tr>\n",
       "\t<tr><td>0.21818182</td><td>0.25454545</td><td> 0.09090909</td><td> 0.01818182</td></tr>\n",
       "\t<tr><td>0.01818182</td><td>0.09090909</td><td> 0.10909091</td><td>-0.12727273</td></tr>\n",
       "\t<tr><td>0.14545455</td><td>0.01818182</td><td>-0.12727273</td><td> 0.49090909</td></tr>\n",
       "</tbody>\n",
       "</table>\n"
      ],
      "text/latex": [
       "A matrix: 4 × 4 of type dbl\n",
       "\\begin{tabular}{llll}\n",
       "\t 0.25454545 & 0.21818182 &  0.01818182 &  0.14545455\\\\\n",
       "\t 0.21818182 & 0.25454545 &  0.09090909 &  0.01818182\\\\\n",
       "\t 0.01818182 & 0.09090909 &  0.10909091 & -0.12727273\\\\\n",
       "\t 0.14545455 & 0.01818182 & -0.12727273 &  0.49090909\\\\\n",
       "\\end{tabular}\n"
      ],
      "text/markdown": [
       "\n",
       "A matrix: 4 × 4 of type dbl\n",
       "\n",
       "| 0.25454545 | 0.21818182 |  0.01818182 |  0.14545455 |\n",
       "| 0.21818182 | 0.25454545 |  0.09090909 |  0.01818182 |\n",
       "| 0.01818182 | 0.09090909 |  0.10909091 | -0.12727273 |\n",
       "| 0.14545455 | 0.01818182 | -0.12727273 |  0.49090909 |\n",
       "\n"
      ],
      "text/plain": [
       "     [,1]       [,2]       [,3]        [,4]       \n",
       "[1,] 0.25454545 0.21818182  0.01818182  0.14545455\n",
       "[2,] 0.21818182 0.25454545  0.09090909  0.01818182\n",
       "[3,] 0.01818182 0.09090909  0.10909091 -0.12727273\n",
       "[4,] 0.14545455 0.01818182 -0.12727273  0.49090909"
      ]
     },
     "metadata": {},
     "output_type": "display_data"
    }
   ],
   "source": [
    "y_bar_Sigma <- Sigma / 55\n",
    "y_bar_Sigma"
   ]
  },
  {
   "cell_type": "markdown",
   "metadata": {},
   "source": [
    "The calculated sample mean vector lines up almost exactly, and the covariance matrix are similar to part b)."
   ]
  },
  {
   "cell_type": "markdown",
   "metadata": {},
   "source": []
  }
 ],
 "metadata": {
  "kernelspec": {
   "display_name": "R",
   "language": "R",
   "name": "ir"
  },
  "language_info": {
   "codemirror_mode": "r",
   "file_extension": ".r",
   "mimetype": "text/x-r-source",
   "name": "R",
   "pygments_lexer": "r",
   "version": "4.3.1"
  }
 },
 "nbformat": 4,
 "nbformat_minor": 2
}
