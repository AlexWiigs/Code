{
 "cells": [
  {
   "cell_type": "markdown",
   "metadata": {},
   "source": [
    "# Question 1  \n",
    "  \n",
    "(10 Marks) Carry out a principal component analysis on the temperature data of Table 7.2. There are 11 variables and 46 obsevations. Use both $\\textbf{S}$ and $\\textbf{R}$."
   ]
  },
  {
   "cell_type": "code",
   "execution_count": 8,
   "metadata": {
    "vscode": {
     "languageId": "r"
    }
   },
   "outputs": [
    {
     "data": {
      "text/html": [
       "<table class=\"dataframe\">\n",
       "<caption>A matrix: 6 × 11 of type int</caption>\n",
       "<thead>\n",
       "\t<tr><th scope=col>Max Air Temp</th><th scope=col>Min Air Temp</th><th scope=col>Avg Air Temp</th><th scope=col>Max Soil Temp</th><th scope=col>Min Soil Temp</th><th scope=col>Avg Soil Temp</th><th scope=col>Max Humidity</th><th scope=col>Min Humidity</th><th scope=col>Avg Humidity</th><th scope=col>Total Wind</th><th scope=col>Evaporation</th></tr>\n",
       "</thead>\n",
       "<tbody>\n",
       "\t<tr><td>84</td><td>65</td><td>147</td><td>85</td><td>59</td><td>151</td><td>95</td><td>40</td><td>398</td><td>273</td><td>30</td></tr>\n",
       "\t<tr><td>84</td><td>65</td><td>149</td><td>86</td><td>61</td><td>159</td><td>94</td><td>28</td><td>345</td><td>140</td><td>34</td></tr>\n",
       "\t<tr><td>79</td><td>66</td><td>142</td><td>83</td><td>64</td><td>152</td><td>94</td><td>41</td><td>368</td><td>318</td><td>33</td></tr>\n",
       "\t<tr><td>81</td><td>67</td><td>147</td><td>83</td><td>65</td><td>158</td><td>94</td><td>50</td><td>406</td><td>282</td><td>26</td></tr>\n",
       "\t<tr><td>84</td><td>68</td><td>167</td><td>88</td><td>69</td><td>180</td><td>93</td><td>46</td><td>379</td><td>311</td><td>41</td></tr>\n",
       "\t<tr><td>74</td><td>66</td><td>131</td><td>77</td><td>67</td><td>147</td><td>96</td><td>73</td><td>478</td><td>446</td><td> 4</td></tr>\n",
       "</tbody>\n",
       "</table>\n"
      ],
      "text/latex": [
       "A matrix: 6 × 11 of type int\n",
       "\\begin{tabular}{lllllllllll}\n",
       " Max Air Temp & Min Air Temp & Avg Air Temp & Max Soil Temp & Min Soil Temp & Avg Soil Temp & Max Humidity & Min Humidity & Avg Humidity & Total Wind & Evaporation\\\\\n",
       "\\hline\n",
       "\t 84 & 65 & 147 & 85 & 59 & 151 & 95 & 40 & 398 & 273 & 30\\\\\n",
       "\t 84 & 65 & 149 & 86 & 61 & 159 & 94 & 28 & 345 & 140 & 34\\\\\n",
       "\t 79 & 66 & 142 & 83 & 64 & 152 & 94 & 41 & 368 & 318 & 33\\\\\n",
       "\t 81 & 67 & 147 & 83 & 65 & 158 & 94 & 50 & 406 & 282 & 26\\\\\n",
       "\t 84 & 68 & 167 & 88 & 69 & 180 & 93 & 46 & 379 & 311 & 41\\\\\n",
       "\t 74 & 66 & 131 & 77 & 67 & 147 & 96 & 73 & 478 & 446 &  4\\\\\n",
       "\\end{tabular}\n"
      ],
      "text/markdown": [
       "\n",
       "A matrix: 6 × 11 of type int\n",
       "\n",
       "| Max Air Temp | Min Air Temp | Avg Air Temp | Max Soil Temp | Min Soil Temp | Avg Soil Temp | Max Humidity | Min Humidity | Avg Humidity | Total Wind | Evaporation |\n",
       "|---|---|---|---|---|---|---|---|---|---|---|\n",
       "| 84 | 65 | 147 | 85 | 59 | 151 | 95 | 40 | 398 | 273 | 30 |\n",
       "| 84 | 65 | 149 | 86 | 61 | 159 | 94 | 28 | 345 | 140 | 34 |\n",
       "| 79 | 66 | 142 | 83 | 64 | 152 | 94 | 41 | 368 | 318 | 33 |\n",
       "| 81 | 67 | 147 | 83 | 65 | 158 | 94 | 50 | 406 | 282 | 26 |\n",
       "| 84 | 68 | 167 | 88 | 69 | 180 | 93 | 46 | 379 | 311 | 41 |\n",
       "| 74 | 66 | 131 | 77 | 67 | 147 | 96 | 73 | 478 | 446 |  4 |\n",
       "\n"
      ],
      "text/plain": [
       "     Max Air Temp Min Air Temp Avg Air Temp Max Soil Temp Min Soil Temp\n",
       "[1,] 84           65           147          85            59           \n",
       "[2,] 84           65           149          86            61           \n",
       "[3,] 79           66           142          83            64           \n",
       "[4,] 81           67           147          83            65           \n",
       "[5,] 84           68           167          88            69           \n",
       "[6,] 74           66           131          77            67           \n",
       "     Avg Soil Temp Max Humidity Min Humidity Avg Humidity Total Wind\n",
       "[1,] 151           95           40           398          273       \n",
       "[2,] 159           94           28           345          140       \n",
       "[3,] 152           94           41           368          318       \n",
       "[4,] 158           94           50           406          282       \n",
       "[5,] 180           93           46           379          311       \n",
       "[6,] 147           96           73           478          446       \n",
       "     Evaporation\n",
       "[1,] 30         \n",
       "[2,] 34         \n",
       "[3,] 33         \n",
       "[4,] 26         \n",
       "[5,] 41         \n",
       "[6,]  4         "
      ]
     },
     "metadata": {},
     "output_type": "display_data"
    }
   ],
   "source": [
    "data <- read.table(file = \"/Users/alexwiigs/Documents/Code/STAT 553 Assigmnents/Assignment 5/T7_2_TEMPERAT.DAT\")\n",
    "data <- as.matrix(data)\n",
    "colnames(data) <- c(\"Max Air Temp\", \"Min Air Temp\", \"Avg Air Temp\", \"Max Soil Temp\", \"Min Soil Temp\", \"Avg Soil Temp\", \"Max Humidity\", \"Min Humidity\", \"Avg Humidity\", \"Total Wind\", \"Evaporation\")\n",
    "head(data)\n",
    "n = 46"
   ]
  },
  {
   "cell_type": "markdown",
   "metadata": {},
   "source": [
    "a) Show the eigenvalues and percent of variance explained."
   ]
  },
  {
   "cell_type": "markdown",
   "metadata": {},
   "source": [
    "**Using $S$:**"
   ]
  },
  {
   "cell_type": "code",
   "execution_count": 40,
   "metadata": {
    "vscode": {
     "languageId": "r"
    }
   },
   "outputs": [
    {
     "data": {
      "text/html": [
       "<table class=\"dataframe\">\n",
       "<caption>A matrix: 11 × 11 of type dbl</caption>\n",
       "<tbody>\n",
       "\t<tr><td>  55.68</td><td> 16.49</td><td> 117.55</td><td> 26.98</td><td> 10.38</td><td>  97.73</td><td> -1.56</td><td> -42.36</td><td>-128.27</td><td> -209.10</td><td>  61.37</td></tr>\n",
       "\t<tr><td>  16.49</td><td> 10.86</td><td>  61.67</td><td> 14.03</td><td>  8.23</td><td>  56.48</td><td> -0.66</td><td> -10.80</td><td> -44.40</td><td>   14.93</td><td>  25.99</td></tr>\n",
       "\t<tr><td> 117.55</td><td> 61.67</td><td> 402.70</td><td> 92.95</td><td> 43.46</td><td> 365.27</td><td> -3.86</td><td>-106.89</td><td>-387.72</td><td> -294.55</td><td> 201.87</td></tr>\n",
       "\t<tr><td>  26.98</td><td> 14.03</td><td>  92.95</td><td> 25.66</td><td> 10.60</td><td>  92.81</td><td> -0.63</td><td> -26.67</td><td> -94.33</td><td>  -67.93</td><td>  53.61</td></tr>\n",
       "\t<tr><td>  10.38</td><td>  8.23</td><td>  43.46</td><td> 10.60</td><td> 13.44</td><td>  59.93</td><td> -0.54</td><td>   8.46</td><td>  -4.36</td><td>  224.58</td><td>  17.58</td></tr>\n",
       "\t<tr><td>  97.73</td><td> 56.48</td><td> 365.27</td><td> 92.81</td><td> 59.93</td><td> 438.25</td><td> -1.02</td><td> -59.94</td><td>-313.47</td><td>  386.82</td><td> 217.06</td></tr>\n",
       "\t<tr><td>  -1.56</td><td> -0.66</td><td>  -3.86</td><td> -0.63</td><td> -0.54</td><td>  -1.02</td><td>  1.45</td><td>   1.90</td><td>   9.97</td><td>  -26.38</td><td>  -3.24</td></tr>\n",
       "\t<tr><td> -42.36</td><td>-10.80</td><td>-106.89</td><td>-26.67</td><td>  8.46</td><td> -59.94</td><td>  1.90</td><td> 106.20</td><td> 271.65</td><td>  597.67</td><td> -96.85</td></tr>\n",
       "\t<tr><td>-128.27</td><td>-44.40</td><td>-387.72</td><td>-94.33</td><td> -4.36</td><td>-313.47</td><td>  9.97</td><td> 271.65</td><td> 885.63</td><td>  970.97</td><td>-355.39</td></tr>\n",
       "\t<tr><td>-209.10</td><td> 14.93</td><td>-294.55</td><td>-67.93</td><td>224.58</td><td> 386.82</td><td>-26.38</td><td> 597.67</td><td> 970.97</td><td>22227.16</td><td>  94.59</td></tr>\n",
       "\t<tr><td>  61.37</td><td> 25.99</td><td> 201.87</td><td> 53.61</td><td> 17.58</td><td> 217.06</td><td> -3.24</td><td> -96.85</td><td>-355.39</td><td>   94.59</td><td> 214.06</td></tr>\n",
       "</tbody>\n",
       "</table>\n"
      ],
      "text/latex": [
       "A matrix: 11 × 11 of type dbl\n",
       "\\begin{tabular}{lllllllllll}\n",
       "\t   55.68 &  16.49 &  117.55 &  26.98 &  10.38 &   97.73 &  -1.56 &  -42.36 & -128.27 &  -209.10 &   61.37\\\\\n",
       "\t   16.49 &  10.86 &   61.67 &  14.03 &   8.23 &   56.48 &  -0.66 &  -10.80 &  -44.40 &    14.93 &   25.99\\\\\n",
       "\t  117.55 &  61.67 &  402.70 &  92.95 &  43.46 &  365.27 &  -3.86 & -106.89 & -387.72 &  -294.55 &  201.87\\\\\n",
       "\t   26.98 &  14.03 &   92.95 &  25.66 &  10.60 &   92.81 &  -0.63 &  -26.67 &  -94.33 &   -67.93 &   53.61\\\\\n",
       "\t   10.38 &   8.23 &   43.46 &  10.60 &  13.44 &   59.93 &  -0.54 &    8.46 &   -4.36 &   224.58 &   17.58\\\\\n",
       "\t   97.73 &  56.48 &  365.27 &  92.81 &  59.93 &  438.25 &  -1.02 &  -59.94 & -313.47 &   386.82 &  217.06\\\\\n",
       "\t   -1.56 &  -0.66 &   -3.86 &  -0.63 &  -0.54 &   -1.02 &   1.45 &    1.90 &    9.97 &   -26.38 &   -3.24\\\\\n",
       "\t  -42.36 & -10.80 & -106.89 & -26.67 &   8.46 &  -59.94 &   1.90 &  106.20 &  271.65 &   597.67 &  -96.85\\\\\n",
       "\t -128.27 & -44.40 & -387.72 & -94.33 &  -4.36 & -313.47 &   9.97 &  271.65 &  885.63 &   970.97 & -355.39\\\\\n",
       "\t -209.10 &  14.93 & -294.55 & -67.93 & 224.58 &  386.82 & -26.38 &  597.67 &  970.97 & 22227.16 &   94.59\\\\\n",
       "\t   61.37 &  25.99 &  201.87 &  53.61 &  17.58 &  217.06 &  -3.24 &  -96.85 & -355.39 &    94.59 &  214.06\\\\\n",
       "\\end{tabular}\n"
      ],
      "text/markdown": [
       "\n",
       "A matrix: 11 × 11 of type dbl\n",
       "\n",
       "|   55.68 |  16.49 |  117.55 |  26.98 |  10.38 |   97.73 |  -1.56 |  -42.36 | -128.27 |  -209.10 |   61.37 |\n",
       "|   16.49 |  10.86 |   61.67 |  14.03 |   8.23 |   56.48 |  -0.66 |  -10.80 |  -44.40 |    14.93 |   25.99 |\n",
       "|  117.55 |  61.67 |  402.70 |  92.95 |  43.46 |  365.27 |  -3.86 | -106.89 | -387.72 |  -294.55 |  201.87 |\n",
       "|   26.98 |  14.03 |   92.95 |  25.66 |  10.60 |   92.81 |  -0.63 |  -26.67 |  -94.33 |   -67.93 |   53.61 |\n",
       "|   10.38 |   8.23 |   43.46 |  10.60 |  13.44 |   59.93 |  -0.54 |    8.46 |   -4.36 |   224.58 |   17.58 |\n",
       "|   97.73 |  56.48 |  365.27 |  92.81 |  59.93 |  438.25 |  -1.02 |  -59.94 | -313.47 |   386.82 |  217.06 |\n",
       "|   -1.56 |  -0.66 |   -3.86 |  -0.63 |  -0.54 |   -1.02 |   1.45 |    1.90 |    9.97 |   -26.38 |   -3.24 |\n",
       "|  -42.36 | -10.80 | -106.89 | -26.67 |   8.46 |  -59.94 |   1.90 |  106.20 |  271.65 |   597.67 |  -96.85 |\n",
       "| -128.27 | -44.40 | -387.72 | -94.33 |  -4.36 | -313.47 |   9.97 |  271.65 |  885.63 |   970.97 | -355.39 |\n",
       "| -209.10 |  14.93 | -294.55 | -67.93 | 224.58 |  386.82 | -26.38 |  597.67 |  970.97 | 22227.16 |   94.59 |\n",
       "|   61.37 |  25.99 |  201.87 |  53.61 |  17.58 |  217.06 |  -3.24 |  -96.85 | -355.39 |    94.59 |  214.06 |\n",
       "\n"
      ],
      "text/plain": [
       "      [,1]    [,2]   [,3]    [,4]   [,5]   [,6]    [,7]   [,8]    [,9]   \n",
       " [1,]   55.68  16.49  117.55  26.98  10.38   97.73  -1.56  -42.36 -128.27\n",
       " [2,]   16.49  10.86   61.67  14.03   8.23   56.48  -0.66  -10.80  -44.40\n",
       " [3,]  117.55  61.67  402.70  92.95  43.46  365.27  -3.86 -106.89 -387.72\n",
       " [4,]   26.98  14.03   92.95  25.66  10.60   92.81  -0.63  -26.67  -94.33\n",
       " [5,]   10.38   8.23   43.46  10.60  13.44   59.93  -0.54    8.46   -4.36\n",
       " [6,]   97.73  56.48  365.27  92.81  59.93  438.25  -1.02  -59.94 -313.47\n",
       " [7,]   -1.56  -0.66   -3.86  -0.63  -0.54   -1.02   1.45    1.90    9.97\n",
       " [8,]  -42.36 -10.80 -106.89 -26.67   8.46  -59.94   1.90  106.20  271.65\n",
       " [9,] -128.27 -44.40 -387.72 -94.33  -4.36 -313.47   9.97  271.65  885.63\n",
       "[10,] -209.10  14.93 -294.55 -67.93 224.58  386.82 -26.38  597.67  970.97\n",
       "[11,]   61.37  25.99  201.87  53.61  17.58  217.06  -3.24  -96.85 -355.39\n",
       "      [,10]    [,11]  \n",
       " [1,]  -209.10   61.37\n",
       " [2,]    14.93   25.99\n",
       " [3,]  -294.55  201.87\n",
       " [4,]   -67.93   53.61\n",
       " [5,]   224.58   17.58\n",
       " [6,]   386.82  217.06\n",
       " [7,]   -26.38   -3.24\n",
       " [8,]   597.67  -96.85\n",
       " [9,]   970.97 -355.39\n",
       "[10,] 22227.16   94.59\n",
       "[11,]    94.59  214.06"
      ]
     },
     "metadata": {},
     "output_type": "display_data"
    }
   ],
   "source": [
    "S <- unname(1/(n-1) * ( t(data) %*% data - t(data) %*% matrix(1, nrow= 46, ncol = 46) %*% data / n ) )\n",
    "round(S,2)"
   ]
  },
  {
   "cell_type": "markdown",
   "metadata": {},
   "source": [
    "Using $S$ we can calculate the percent of variance explained as..."
   ]
  },
  {
   "cell_type": "code",
   "execution_count": 39,
   "metadata": {
    "vscode": {
     "languageId": "r"
    }
   },
   "outputs": [
    {
     "data": {
      "text/html": [
       "<table class=\"dataframe\">\n",
       "<caption>A matrix: 2 × 11 of type dbl</caption>\n",
       "<tbody>\n",
       "\t<tr><th scope=row>Eigenvalues:</th><td>22303.4976</td><td>1590.6789</td><td>358.0457</td><td>63.3665</td><td>29.3270</td><td>17.1149</td><td>12.7478</td><td>2.8330</td><td>1.9069</td><td>0.8769</td><td>0.7028</td></tr>\n",
       "\t<tr><th scope=row>Variance Explained:</th><td>    0.9148</td><td>   0.0652</td><td>  0.0147</td><td> 0.0026</td><td> 0.0012</td><td> 0.0007</td><td> 0.0005</td><td>0.0001</td><td>0.0001</td><td>0.0000</td><td>0.0000</td></tr>\n",
       "</tbody>\n",
       "</table>\n"
      ],
      "text/latex": [
       "A matrix: 2 × 11 of type dbl\n",
       "\\begin{tabular}{r|lllllllllll}\n",
       "\tEigenvalues: & 22303.4976 & 1590.6789 & 358.0457 & 63.3665 & 29.3270 & 17.1149 & 12.7478 & 2.8330 & 1.9069 & 0.8769 & 0.7028\\\\\n",
       "\tVariance Explained: &     0.9148 &    0.0652 &   0.0147 &  0.0026 &  0.0012 &  0.0007 &  0.0005 & 0.0001 & 0.0001 & 0.0000 & 0.0000\\\\\n",
       "\\end{tabular}\n"
      ],
      "text/markdown": [
       "\n",
       "A matrix: 2 × 11 of type dbl\n",
       "\n",
       "| Eigenvalues: | 22303.4976 | 1590.6789 | 358.0457 | 63.3665 | 29.3270 | 17.1149 | 12.7478 | 2.8330 | 1.9069 | 0.8769 | 0.7028 |\n",
       "| Variance Explained: |     0.9148 |    0.0652 |   0.0147 |  0.0026 |  0.0012 |  0.0007 |  0.0005 | 0.0001 | 0.0001 | 0.0000 | 0.0000 |\n",
       "\n"
      ],
      "text/plain": [
       "                    [,1]       [,2]      [,3]     [,4]    [,5]    [,6]   \n",
       "Eigenvalues:        22303.4976 1590.6789 358.0457 63.3665 29.3270 17.1149\n",
       "Variance Explained:     0.9148    0.0652   0.0147  0.0026  0.0012  0.0007\n",
       "                    [,7]    [,8]   [,9]   [,10]  [,11] \n",
       "Eigenvalues:        12.7478 2.8330 1.9069 0.8769 0.7028\n",
       "Variance Explained:  0.0005 0.0001 0.0001 0.0000 0.0000"
      ]
     },
     "metadata": {},
     "output_type": "display_data"
    }
   ],
   "source": [
    "percentage = matrix(nrow = 1, ncol = 11)\n",
    "for (i in 1:11) { percentage[i] = eigen(S)$values[i] / sum(eigen(S)$values)  }\n",
    "displayS <- rbind(eigen(S)$values, percentage)\n",
    "row.names(displayS) <- c(\"Eigenvalues:\", \"Variance Explained:\")\n",
    "round(displayS,4)\n"
   ]
  },
  {
   "cell_type": "markdown",
   "metadata": {},
   "source": [
    "The first component accounts for about 91 percent and the variance. "
   ]
  },
  {
   "cell_type": "markdown",
   "metadata": {},
   "source": [
    "**Using $R$:**"
   ]
  },
  {
   "cell_type": "markdown",
   "metadata": {},
   "source": [
    "Calculating $R$ and repeating the same procedure above we get:"
   ]
  },
  {
   "cell_type": "code",
   "execution_count": 36,
   "metadata": {
    "vscode": {
     "languageId": "r"
    }
   },
   "outputs": [
    {
     "data": {
      "text/html": [
       "<table class=\"dataframe\">\n",
       "<caption>A matrix: 11 × 11 of type dbl</caption>\n",
       "<tbody>\n",
       "\t<tr><td> 1.00</td><td> 0.67</td><td> 0.79</td><td> 0.71</td><td> 0.38</td><td> 0.63</td><td>-0.17</td><td>-0.55</td><td>-0.58</td><td>-0.19</td><td> 0.56</td></tr>\n",
       "\t<tr><td> 0.67</td><td> 1.00</td><td> 0.93</td><td> 0.84</td><td> 0.68</td><td> 0.82</td><td>-0.17</td><td>-0.32</td><td>-0.45</td><td> 0.03</td><td> 0.54</td></tr>\n",
       "\t<tr><td> 0.79</td><td> 0.93</td><td> 1.00</td><td> 0.91</td><td> 0.59</td><td> 0.87</td><td>-0.16</td><td>-0.52</td><td>-0.65</td><td>-0.10</td><td> 0.69</td></tr>\n",
       "\t<tr><td> 0.71</td><td> 0.84</td><td> 0.91</td><td> 1.00</td><td> 0.57</td><td> 0.88</td><td>-0.10</td><td>-0.51</td><td>-0.63</td><td>-0.09</td><td> 0.72</td></tr>\n",
       "\t<tr><td> 0.38</td><td> 0.68</td><td> 0.59</td><td> 0.57</td><td> 1.00</td><td> 0.78</td><td>-0.12</td><td> 0.22</td><td>-0.04</td><td> 0.41</td><td> 0.33</td></tr>\n",
       "\t<tr><td> 0.63</td><td> 0.82</td><td> 0.87</td><td> 0.88</td><td> 0.78</td><td> 1.00</td><td>-0.04</td><td>-0.28</td><td>-0.50</td><td> 0.12</td><td> 0.71</td></tr>\n",
       "\t<tr><td>-0.17</td><td>-0.17</td><td>-0.16</td><td>-0.10</td><td>-0.12</td><td>-0.04</td><td> 1.00</td><td> 0.15</td><td> 0.28</td><td>-0.15</td><td>-0.18</td></tr>\n",
       "\t<tr><td>-0.55</td><td>-0.32</td><td>-0.52</td><td>-0.51</td><td> 0.22</td><td>-0.28</td><td> 0.15</td><td> 1.00</td><td> 0.89</td><td> 0.39</td><td>-0.64</td></tr>\n",
       "\t<tr><td>-0.58</td><td>-0.45</td><td>-0.65</td><td>-0.63</td><td>-0.04</td><td>-0.50</td><td> 0.28</td><td> 0.89</td><td> 1.00</td><td> 0.22</td><td>-0.82</td></tr>\n",
       "\t<tr><td>-0.19</td><td> 0.03</td><td>-0.10</td><td>-0.09</td><td> 0.41</td><td> 0.12</td><td>-0.15</td><td> 0.39</td><td> 0.22</td><td> 1.00</td><td> 0.04</td></tr>\n",
       "\t<tr><td> 0.56</td><td> 0.54</td><td> 0.69</td><td> 0.72</td><td> 0.33</td><td> 0.71</td><td>-0.18</td><td>-0.64</td><td>-0.82</td><td> 0.04</td><td> 1.00</td></tr>\n",
       "</tbody>\n",
       "</table>\n"
      ],
      "text/latex": [
       "A matrix: 11 × 11 of type dbl\n",
       "\\begin{tabular}{lllllllllll}\n",
       "\t  1.00 &  0.67 &  0.79 &  0.71 &  0.38 &  0.63 & -0.17 & -0.55 & -0.58 & -0.19 &  0.56\\\\\n",
       "\t  0.67 &  1.00 &  0.93 &  0.84 &  0.68 &  0.82 & -0.17 & -0.32 & -0.45 &  0.03 &  0.54\\\\\n",
       "\t  0.79 &  0.93 &  1.00 &  0.91 &  0.59 &  0.87 & -0.16 & -0.52 & -0.65 & -0.10 &  0.69\\\\\n",
       "\t  0.71 &  0.84 &  0.91 &  1.00 &  0.57 &  0.88 & -0.10 & -0.51 & -0.63 & -0.09 &  0.72\\\\\n",
       "\t  0.38 &  0.68 &  0.59 &  0.57 &  1.00 &  0.78 & -0.12 &  0.22 & -0.04 &  0.41 &  0.33\\\\\n",
       "\t  0.63 &  0.82 &  0.87 &  0.88 &  0.78 &  1.00 & -0.04 & -0.28 & -0.50 &  0.12 &  0.71\\\\\n",
       "\t -0.17 & -0.17 & -0.16 & -0.10 & -0.12 & -0.04 &  1.00 &  0.15 &  0.28 & -0.15 & -0.18\\\\\n",
       "\t -0.55 & -0.32 & -0.52 & -0.51 &  0.22 & -0.28 &  0.15 &  1.00 &  0.89 &  0.39 & -0.64\\\\\n",
       "\t -0.58 & -0.45 & -0.65 & -0.63 & -0.04 & -0.50 &  0.28 &  0.89 &  1.00 &  0.22 & -0.82\\\\\n",
       "\t -0.19 &  0.03 & -0.10 & -0.09 &  0.41 &  0.12 & -0.15 &  0.39 &  0.22 &  1.00 &  0.04\\\\\n",
       "\t  0.56 &  0.54 &  0.69 &  0.72 &  0.33 &  0.71 & -0.18 & -0.64 & -0.82 &  0.04 &  1.00\\\\\n",
       "\\end{tabular}\n"
      ],
      "text/markdown": [
       "\n",
       "A matrix: 11 × 11 of type dbl\n",
       "\n",
       "|  1.00 |  0.67 |  0.79 |  0.71 |  0.38 |  0.63 | -0.17 | -0.55 | -0.58 | -0.19 |  0.56 |\n",
       "|  0.67 |  1.00 |  0.93 |  0.84 |  0.68 |  0.82 | -0.17 | -0.32 | -0.45 |  0.03 |  0.54 |\n",
       "|  0.79 |  0.93 |  1.00 |  0.91 |  0.59 |  0.87 | -0.16 | -0.52 | -0.65 | -0.10 |  0.69 |\n",
       "|  0.71 |  0.84 |  0.91 |  1.00 |  0.57 |  0.88 | -0.10 | -0.51 | -0.63 | -0.09 |  0.72 |\n",
       "|  0.38 |  0.68 |  0.59 |  0.57 |  1.00 |  0.78 | -0.12 |  0.22 | -0.04 |  0.41 |  0.33 |\n",
       "|  0.63 |  0.82 |  0.87 |  0.88 |  0.78 |  1.00 | -0.04 | -0.28 | -0.50 |  0.12 |  0.71 |\n",
       "| -0.17 | -0.17 | -0.16 | -0.10 | -0.12 | -0.04 |  1.00 |  0.15 |  0.28 | -0.15 | -0.18 |\n",
       "| -0.55 | -0.32 | -0.52 | -0.51 |  0.22 | -0.28 |  0.15 |  1.00 |  0.89 |  0.39 | -0.64 |\n",
       "| -0.58 | -0.45 | -0.65 | -0.63 | -0.04 | -0.50 |  0.28 |  0.89 |  1.00 |  0.22 | -0.82 |\n",
       "| -0.19 |  0.03 | -0.10 | -0.09 |  0.41 |  0.12 | -0.15 |  0.39 |  0.22 |  1.00 |  0.04 |\n",
       "|  0.56 |  0.54 |  0.69 |  0.72 |  0.33 |  0.71 | -0.18 | -0.64 | -0.82 |  0.04 |  1.00 |\n",
       "\n"
      ],
      "text/plain": [
       "      [,1]  [,2]  [,3]  [,4]  [,5]  [,6]  [,7]  [,8]  [,9]  [,10] [,11]\n",
       " [1,]  1.00  0.67  0.79  0.71  0.38  0.63 -0.17 -0.55 -0.58 -0.19  0.56\n",
       " [2,]  0.67  1.00  0.93  0.84  0.68  0.82 -0.17 -0.32 -0.45  0.03  0.54\n",
       " [3,]  0.79  0.93  1.00  0.91  0.59  0.87 -0.16 -0.52 -0.65 -0.10  0.69\n",
       " [4,]  0.71  0.84  0.91  1.00  0.57  0.88 -0.10 -0.51 -0.63 -0.09  0.72\n",
       " [5,]  0.38  0.68  0.59  0.57  1.00  0.78 -0.12  0.22 -0.04  0.41  0.33\n",
       " [6,]  0.63  0.82  0.87  0.88  0.78  1.00 -0.04 -0.28 -0.50  0.12  0.71\n",
       " [7,] -0.17 -0.17 -0.16 -0.10 -0.12 -0.04  1.00  0.15  0.28 -0.15 -0.18\n",
       " [8,] -0.55 -0.32 -0.52 -0.51  0.22 -0.28  0.15  1.00  0.89  0.39 -0.64\n",
       " [9,] -0.58 -0.45 -0.65 -0.63 -0.04 -0.50  0.28  0.89  1.00  0.22 -0.82\n",
       "[10,] -0.19  0.03 -0.10 -0.09  0.41  0.12 -0.15  0.39  0.22  1.00  0.04\n",
       "[11,]  0.56  0.54  0.69  0.72  0.33  0.71 -0.18 -0.64 -0.82  0.04  1.00"
      ]
     },
     "metadata": {},
     "output_type": "display_data"
    }
   ],
   "source": [
    "D <- diag(sqrt(diag(S)))\n",
    "R <- solve(D) %*% S %*% solve(D)\n",
    "round(R,2)"
   ]
  },
  {
   "cell_type": "code",
   "execution_count": 38,
   "metadata": {
    "vscode": {
     "languageId": "r"
    }
   },
   "outputs": [
    {
     "data": {
      "text/html": [
       "<table class=\"dataframe\">\n",
       "<caption>A matrix: 2 × 11 of type dbl</caption>\n",
       "<tbody>\n",
       "\t<tr><th scope=row>Eigenvalues:</th><td>6.0202</td><td>2.1193</td><td>1.1303</td><td>0.7600</td><td>0.3554</td><td>0.2593</td><td>0.1221</td><td>0.1105</td><td>0.0598</td><td>0.0422</td><td>0.0209</td></tr>\n",
       "\t<tr><th scope=row>Variance Explained:</th><td>0.5473</td><td>0.1927</td><td>0.1028</td><td>0.0691</td><td>0.0323</td><td>0.0236</td><td>0.0111</td><td>0.0100</td><td>0.0054</td><td>0.0038</td><td>0.0019</td></tr>\n",
       "</tbody>\n",
       "</table>\n"
      ],
      "text/latex": [
       "A matrix: 2 × 11 of type dbl\n",
       "\\begin{tabular}{r|lllllllllll}\n",
       "\tEigenvalues: & 6.0202 & 2.1193 & 1.1303 & 0.7600 & 0.3554 & 0.2593 & 0.1221 & 0.1105 & 0.0598 & 0.0422 & 0.0209\\\\\n",
       "\tVariance Explained: & 0.5473 & 0.1927 & 0.1028 & 0.0691 & 0.0323 & 0.0236 & 0.0111 & 0.0100 & 0.0054 & 0.0038 & 0.0019\\\\\n",
       "\\end{tabular}\n"
      ],
      "text/markdown": [
       "\n",
       "A matrix: 2 × 11 of type dbl\n",
       "\n",
       "| Eigenvalues: | 6.0202 | 2.1193 | 1.1303 | 0.7600 | 0.3554 | 0.2593 | 0.1221 | 0.1105 | 0.0598 | 0.0422 | 0.0209 |\n",
       "| Variance Explained: | 0.5473 | 0.1927 | 0.1028 | 0.0691 | 0.0323 | 0.0236 | 0.0111 | 0.0100 | 0.0054 | 0.0038 | 0.0019 |\n",
       "\n"
      ],
      "text/plain": [
       "                    [,1]   [,2]   [,3]   [,4]   [,5]   [,6]   [,7]   [,8]  \n",
       "Eigenvalues:        6.0202 2.1193 1.1303 0.7600 0.3554 0.2593 0.1221 0.1105\n",
       "Variance Explained: 0.5473 0.1927 0.1028 0.0691 0.0323 0.0236 0.0111 0.0100\n",
       "                    [,9]   [,10]  [,11] \n",
       "Eigenvalues:        0.0598 0.0422 0.0209\n",
       "Variance Explained: 0.0054 0.0038 0.0019"
      ]
     },
     "metadata": {},
     "output_type": "display_data"
    }
   ],
   "source": [
    "percentage = matrix(nrow = 1, ncol = 11)\n",
    "for (i in 1:11) { percentage[i] = eigen(R)$values[i] / sum(eigen(R)$values)  }\n",
    "displayR <- rbind(eigen(R)$values, percentage)\n",
    "row.names(displayR) <- c(\"Eigenvalues:\", \"Variance Explained:\")\n",
    "round(displayR,4)"
   ]
  },
  {
   "cell_type": "markdown",
   "metadata": {},
   "source": [
    "The first component accounts for about 54% of the data and the second accounts for about 19%. This is a very different result than using $S$."
   ]
  },
  {
   "cell_type": "markdown",
   "metadata": {},
   "source": [
    "b) Based on the average eigenvalue, decide how many components to retain."
   ]
  },
  {
   "cell_type": "markdown",
   "metadata": {},
   "source": [
    "We calculate the average eigenvalue and include any components whose accompanying eigenvalues are above the average."
   ]
  },
  {
   "cell_type": "markdown",
   "metadata": {},
   "source": [
    "**Using $S$:**"
   ]
  },
  {
   "cell_type": "code",
   "execution_count": 43,
   "metadata": {
    "vscode": {
     "languageId": "r"
    }
   },
   "outputs": [
    {
     "data": {
      "text/html": [
       "2216.46"
      ],
      "text/latex": [
       "2216.46"
      ],
      "text/markdown": [
       "2216.46"
      ],
      "text/plain": [
       "[1] 2216.46"
      ]
     },
     "metadata": {},
     "output_type": "display_data"
    }
   ],
   "source": [
    "lambda_avg <- sum(eigen(S)$values) / 11\n",
    "round(lambda_avg,2)"
   ]
  },
  {
   "cell_type": "markdown",
   "metadata": {},
   "source": [
    "The average eigenvalue is $2216.46$. By the average eigenvalue guideline we should only include one component."
   ]
  },
  {
   "cell_type": "markdown",
   "metadata": {},
   "source": [
    "**Using $R$:**"
   ]
  },
  {
   "cell_type": "code",
   "execution_count": 46,
   "metadata": {
    "vscode": {
     "languageId": "r"
    }
   },
   "outputs": [
    {
     "data": {
      "text/html": [
       "1"
      ],
      "text/latex": [
       "1"
      ],
      "text/markdown": [
       "1"
      ],
      "text/plain": [
       "[1] 1"
      ]
     },
     "metadata": {},
     "output_type": "display_data"
    }
   ],
   "source": [
    "lambda_avg <- sum(eigen(R)$values) / 11\n",
    "round(lambda_avg,2)"
   ]
  },
  {
   "cell_type": "markdown",
   "metadata": {},
   "source": [
    "The average eigenvalue is $1$. By this guileline we should retain 3 components."
   ]
  },
  {
   "cell_type": "markdown",
   "metadata": {},
   "source": [
    "c) Can you interpret the components of $\\textbf{S}$?"
   ]
  },
  {
   "cell_type": "markdown",
   "metadata": {},
   "source": [
    "The components of $S$ can be interpreted as the natural axes of the swarm of points in the mass of data calculated. We have rotated the mass so that the center is at the origin and the new variables (components) will be uncorrelated. In the case of $S$, we see that the first two eiganvalues are significantly larger than the the rest, meaning they account for the vast majority of the variance in the observations. "
   ]
  },
  {
   "cell_type": "markdown",
   "metadata": {},
   "source": [
    "Principal components are not scale invariate. In the case of $S$, the swarm of points have been elongated around the first principal component, which likely represents the variable with a much larger variance than the rest. This is why our criteoren only included one component for $S$. In this case it might be better to use $R$."
   ]
  }
 ],
 "metadata": {
  "kernelspec": {
   "display_name": "R",
   "language": "R",
   "name": "ir"
  },
  "language_info": {
   "codemirror_mode": "r",
   "file_extension": ".r",
   "mimetype": "text/x-r-source",
   "name": "R",
   "pygments_lexer": "r",
   "version": "4.3.1"
  }
 },
 "nbformat": 4,
 "nbformat_minor": 2
}
