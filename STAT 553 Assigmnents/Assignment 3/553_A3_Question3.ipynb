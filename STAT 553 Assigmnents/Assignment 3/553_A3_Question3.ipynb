{
 "cells": [
  {
   "cell_type": "markdown",
   "metadata": {},
   "source": [
    "# Question 3:"
   ]
  },
  {
   "cell_type": "markdown",
   "metadata": {},
   "source": [
    "Baten, Tack, and Baeder (1958) compared judges' scores on fish prepared by three methods. Twelve fish were cooked by each method, and several judges tasted fish samples and rated each on four variables:  \n",
    "  \n",
    "$y_1 =$ aroma,  \n",
    "$y_2 =$ flavor,  \n",
    "$y_3 =$ texture,  \n",
    "$y_4 =$ moisture  \n",
    "  \n",
    "Each entry is an aveage score for the judges on that fish."
   ]
  },
  {
   "cell_type": "code",
   "execution_count": 2,
   "metadata": {
    "vscode": {
     "languageId": "r"
    }
   },
   "outputs": [],
   "source": [
    "data <- read.table(file = \"/Users/alexwiigs/Documents/Code/STAT 553 Assigmnents/Assignment 3/T6_17_FISH.DAT\")\n",
    "colnames(data) = c(\"Method\", \"Aroma\", \"flavor\", \"Texture\", \"Moisture\")\n",
    "method1 <- as.matrix(data[c(data[,1] == 1), 2:5])\n",
    "method2 <- as.matrix(data[c(data[,1] == 2), 2:5])\n",
    "method3 <- as.matrix(data[c(data[,1] == 3), 2:5])"
   ]
  },
  {
   "cell_type": "markdown",
   "metadata": {},
   "source": [
    "### a) Compare the three methods using MANOVA tests (Wilks' and Roy's tests)."
   ]
  },
  {
   "cell_type": "markdown",
   "metadata": {},
   "source": [
    "First, calculate the necessesary calculations:"
   ]
  },
  {
   "cell_type": "code",
   "execution_count": 3,
   "metadata": {
    "vscode": {
     "languageId": "r"
    }
   },
   "outputs": [],
   "source": [
    "# Preliminary Calculations for H\n",
    "method1. <- matrix(nrow =4, ncol =1)\n",
    "for (i in 1:4) { method1.[i,] = sum(method1[,i]) }\n",
    "method2. <- matrix(nrow =4, ncol =1)\n",
    "for (i in 1:4) { method2.[i,] = sum(method2[,i]) }\n",
    "method3. <- matrix(nrow =4, ncol =1)\n",
    "for (i in 1:4) { method3.[i,] = sum(method3[,i]) }\n",
    "method.. <- matrix(nrow =4, ncol =1)\n",
    "for (i in 1:4) { method..[i,] = sum(method1[,i]) + sum(method2[,i]) + sum(method3[,i]) }\n",
    "n = 12\n",
    "k = 3"
   ]
  },
  {
   "cell_type": "code",
   "execution_count": 4,
   "metadata": {
    "vscode": {
     "languageId": "r"
    }
   },
   "outputs": [
    {
     "data": {
      "text/html": [
       "<table class=\"dataframe\">\n",
       "<caption>A matrix: 4 × 1 of type dbl</caption>\n",
       "<tbody>\n",
       "\t<tr><td>64.6</td></tr>\n",
       "\t<tr><td>68.8</td></tr>\n",
       "\t<tr><td>65.3</td></tr>\n",
       "\t<tr><td>71.8</td></tr>\n",
       "</tbody>\n",
       "</table>\n"
      ],
      "text/latex": [
       "A matrix: 4 × 1 of type dbl\n",
       "\\begin{tabular}{l}\n",
       "\t 64.6\\\\\n",
       "\t 68.8\\\\\n",
       "\t 65.3\\\\\n",
       "\t 71.8\\\\\n",
       "\\end{tabular}\n"
      ],
      "text/markdown": [
       "\n",
       "A matrix: 4 × 1 of type dbl\n",
       "\n",
       "| 64.6 |\n",
       "| 68.8 |\n",
       "| 65.3 |\n",
       "| 71.8 |\n",
       "\n"
      ],
      "text/plain": [
       "     [,1]\n",
       "[1,] 64.6\n",
       "[2,] 68.8\n",
       "[3,] 65.3\n",
       "[4,] 71.8"
      ]
     },
     "metadata": {},
     "output_type": "display_data"
    }
   ],
   "source": [
    "method1."
   ]
  },
  {
   "cell_type": "code",
   "execution_count": 20,
   "metadata": {
    "vscode": {
     "languageId": "r"
    }
   },
   "outputs": [
    {
     "data": {
      "text/html": [
       "<table class=\"dataframe\">\n",
       "<caption>A matrix: 4 × 4 of type dbl</caption>\n",
       "<tbody>\n",
       "\t<tr><td> 1.0506</td><td> 2.1733</td><td>-1.3756</td><td>-0.7603</td></tr>\n",
       "\t<tr><td> 2.1733</td><td> 4.8800</td><td>-2.3733</td><td>-1.2567</td></tr>\n",
       "\t<tr><td>-1.3756</td><td>-2.3733</td><td> 2.3822</td><td> 1.3844</td></tr>\n",
       "\t<tr><td>-0.7603</td><td>-1.2567</td><td> 1.3844</td><td> 0.8106</td></tr>\n",
       "</tbody>\n",
       "</table>\n"
      ],
      "text/latex": [
       "A matrix: 4 × 4 of type dbl\n",
       "\\begin{tabular}{llll}\n",
       "\t  1.0506 &  2.1733 & -1.3756 & -0.7603\\\\\n",
       "\t  2.1733 &  4.8800 & -2.3733 & -1.2567\\\\\n",
       "\t -1.3756 & -2.3733 &  2.3822 &  1.3844\\\\\n",
       "\t -0.7603 & -1.2567 &  1.3844 &  0.8106\\\\\n",
       "\\end{tabular}\n"
      ],
      "text/markdown": [
       "\n",
       "A matrix: 4 × 4 of type dbl\n",
       "\n",
       "|  1.0506 |  2.1733 | -1.3756 | -0.7603 |\n",
       "|  2.1733 |  4.8800 | -2.3733 | -1.2567 |\n",
       "| -1.3756 | -2.3733 |  2.3822 |  1.3844 |\n",
       "| -0.7603 | -1.2567 |  1.3844 |  0.8106 |\n",
       "\n"
      ],
      "text/plain": [
       "     [,1]    [,2]    [,3]    [,4]   \n",
       "[1,]  1.0506  2.1733 -1.3756 -0.7603\n",
       "[2,]  2.1733  4.8800 -2.3733 -1.2567\n",
       "[3,] -1.3756 -2.3733  2.3822  1.3844\n",
       "[4,] -0.7603 -1.2567  1.3844  0.8106"
      ]
     },
     "metadata": {},
     "output_type": "display_data"
    }
   ],
   "source": [
    "# H matrix Calculations\n",
    "H <- (1/n) * ( method1. %*% t(method1.) + method2. %*% t(method2.) + method3. %*% t(method3.) ) - ( 1 / (k * n) ) * ( method.. %*% t(method..) )\n",
    "round(H,4)"
   ]
  },
  {
   "cell_type": "code",
   "execution_count": 21,
   "metadata": {
    "vscode": {
     "languageId": "r"
    }
   },
   "outputs": [
    {
     "data": {
      "text/html": [
       "<table class=\"dataframe\">\n",
       "<caption>A matrix: 4 × 4 of type dbl</caption>\n",
       "<thead>\n",
       "\t<tr><th scope=col>Aroma</th><th scope=col>flavor</th><th scope=col>Texture</th><th scope=col>Moisture</th></tr>\n",
       "</thead>\n",
       "<tbody>\n",
       "\t<tr><td>13.4083</td><td>7.7233</td><td> 8.6750</td><td> 5.8642</td></tr>\n",
       "\t<tr><td> 7.7233</td><td>8.4800</td><td> 7.5267</td><td> 6.2133</td></tr>\n",
       "\t<tr><td> 8.6750</td><td>7.5267</td><td>11.6075</td><td> 7.0375</td></tr>\n",
       "\t<tr><td> 5.8642</td><td>6.2133</td><td> 7.0375</td><td>10.5658</td></tr>\n",
       "</tbody>\n",
       "</table>\n"
      ],
      "text/latex": [
       "A matrix: 4 × 4 of type dbl\n",
       "\\begin{tabular}{llll}\n",
       " Aroma & flavor & Texture & Moisture\\\\\n",
       "\\hline\n",
       "\t 13.4083 & 7.7233 &  8.6750 &  5.8642\\\\\n",
       "\t  7.7233 & 8.4800 &  7.5267 &  6.2133\\\\\n",
       "\t  8.6750 & 7.5267 & 11.6075 &  7.0375\\\\\n",
       "\t  5.8642 & 6.2133 &  7.0375 & 10.5658\\\\\n",
       "\\end{tabular}\n"
      ],
      "text/markdown": [
       "\n",
       "A matrix: 4 × 4 of type dbl\n",
       "\n",
       "| Aroma | flavor | Texture | Moisture |\n",
       "|---|---|---|---|\n",
       "| 13.4083 | 7.7233 |  8.6750 |  5.8642 |\n",
       "|  7.7233 | 8.4800 |  7.5267 |  6.2133 |\n",
       "|  8.6750 | 7.5267 | 11.6075 |  7.0375 |\n",
       "|  5.8642 | 6.2133 |  7.0375 | 10.5658 |\n",
       "\n"
      ],
      "text/plain": [
       "     Aroma   flavor Texture Moisture\n",
       "[1,] 13.4083 7.7233  8.6750  5.8642 \n",
       "[2,]  7.7233 8.4800  7.5267  6.2133 \n",
       "[3,]  8.6750 7.5267 11.6075  7.0375 \n",
       "[4,]  5.8642 6.2133  7.0375 10.5658 "
      ]
     },
     "metadata": {},
     "output_type": "display_data"
    }
   ],
   "source": [
    "# E matrix Calculations\n",
    "E <- matrix(nrow = 4, ncol = 4)\n",
    "E[,] = 0\n",
    "for (i in 1:12) {E = E + method1[i,] %*% t(method1[i,]) + method2[i,] %*% t(method2[i,]) + method3[i,] %*% t(method3[i,])}\n",
    "E = E - (1/n) * (method1. %*% t(method1.) + method2. %*% t(method2.) + method3. %*% t(method3.))\n",
    "round(E,4)"
   ]
  },
  {
   "cell_type": "markdown",
   "metadata": {},
   "source": [
    "**Wilk's Test Statistic**"
   ]
  },
  {
   "cell_type": "markdown",
   "metadata": {},
   "source": [
    "For the scores on fish prepared in three different methods, we have have:  \n",
    "$H_0: \\mu_1 = \\mu_2 = \\mu_3$,  \n",
    "$H_1:$ Some $\\mu_i$ does not equal the others.  \n",
    "\n",
    "\n",
    "The test statistic to be calculated will be: $$\\Lambda = \\frac{|E|}{|E+H|} \\sim \\Lambda_{p = 4, v_H = 2, v_E = 33}$$  \n",
    "Calculating our test statistic we have:\n"
   ]
  },
  {
   "cell_type": "code",
   "execution_count": 22,
   "metadata": {
    "vscode": {
     "languageId": "r"
    }
   },
   "outputs": [
    {
     "data": {
      "text/html": [
       "'The calculated Wilks Test Statistic is 0.224487.'"
      ],
      "text/latex": [
       "'The calculated Wilks Test Statistic is 0.224487.'"
      ],
      "text/markdown": [
       "'The calculated Wilks Test Statistic is 0.224487.'"
      ],
      "text/plain": [
       "[1] \"The calculated Wilks Test Statistic is 0.224487.\""
      ]
     },
     "metadata": {},
     "output_type": "display_data"
    }
   ],
   "source": [
    "# Wilk's Test Statistic\n",
    "Lambda_obs <- det(E) / det(E + H )\n",
    "sprintf(\"The calculated Wilks Test Statistic is %f.\", Lambda_obs)"
   ]
  },
  {
   "cell_type": "markdown",
   "metadata": {},
   "source": [
    "Table A.9 in Methods of Multivariate Analysis provides the critical value $$\\Lambda_{\\alpha = 0.05, p=4, v_H=2,v_E = 33}  \\approx .580$$  \n",
    "Our observed test statistic is lower than the critcal value, therefore we reject the null hypothesis that there is no difference in the scores based on the different cooking methods."
   ]
  },
  {
   "cell_type": "markdown",
   "metadata": {},
   "source": [
    "Since $v_H = 2$, we can calculate the p-value by transferring into an F-statistic, like so:"
   ]
  },
  {
   "cell_type": "code",
   "execution_count": 23,
   "metadata": {
    "vscode": {
     "languageId": "r"
    }
   },
   "outputs": [
    {
     "data": {
      "text/html": [
       "1.60877077077055e-07"
      ],
      "text/latex": [
       "1.60877077077055e-07"
      ],
      "text/markdown": [
       "1.60877077077055e-07"
      ],
      "text/plain": [
       "[1] 1.608771e-07"
      ]
     },
     "metadata": {},
     "output_type": "display_data"
    }
   ],
   "source": [
    "pf((1-sqrt(Lambda_obs)) / sqrt(Lambda_obs) * (33 - 4 + 1)/4, 8, 2 * (33-4 +1), lower.tail = FALSE)"
   ]
  },
  {
   "cell_type": "markdown",
   "metadata": {},
   "source": [
    "Again, we reject the null hypoethesis."
   ]
  },
  {
   "cell_type": "markdown",
   "metadata": {},
   "source": [
    "**Roy's Test Statistic**"
   ]
  },
  {
   "cell_type": "markdown",
   "metadata": {},
   "source": [
    "For the scores on fish prepared in three different methods, we have have:  \n",
    "$H_0: \\mu_1 = \\mu_2 = \\mu_3$,  \n",
    "$H_1:$ Some $\\mu_i$ does not equal the others.  \n",
    "\n",
    "The test statistic to be calculated will be: $$\\theta = \\frac{\\lambda_1}{1 + \\lambda_1} \\sim \\theta_{s=2, m=1, N=14}$$  \n",
    "where $\\lambda_1$ is the greatest eigenvalue of $E^{-1} H$.  \n",
    "\n",
    "Calculating our test statistic we have:"
   ]
  },
  {
   "cell_type": "code",
   "execution_count": 24,
   "metadata": {
    "vscode": {
     "languageId": "r"
    }
   },
   "outputs": [
    {
     "data": {
      "text/html": [
       "'The calculated Roys Test Statistic is 0.746930.'"
      ],
      "text/latex": [
       "'The calculated Roys Test Statistic is 0.746930.'"
      ],
      "text/markdown": [
       "'The calculated Roys Test Statistic is 0.746930.'"
      ],
      "text/plain": [
       "[1] \"The calculated Roys Test Statistic is 0.746930.\""
      ]
     },
     "metadata": {},
     "output_type": "display_data"
    }
   ],
   "source": [
    "# Roy's Test Statistic\n",
    "eigenvalues <- eigen( solve(E) %*% H)$values\n",
    "theta <- max(eigenvalues) / (1 + max(eigenvalues))\n",
    "sprintf(\"The calculated Roys Test Statistic is %f.\", theta)\n",
    "\n"
   ]
  },
  {
   "cell_type": "markdown",
   "metadata": {},
   "source": [
    "Table A.10 in Methods of Multivariate Analysis provides the critical value\n",
    "$$\\theta_{\\alpha = 0.05, s=2,m=1,N=14} \\approx .348"
   ]
  },
  {
   "cell_type": "markdown",
   "metadata": {},
   "source": [
    "Our observed test statistic is greater than the critical value, so we reject the null hypothesis. "
   ]
  },
  {
   "cell_type": "markdown",
   "metadata": {},
   "source": [
    "We can estimate the upper bound F statistic to estimate the p-value like so: (using 6.21 in Methods of Multivariate Analysis)"
   ]
  },
  {
   "cell_type": "code",
   "execution_count": 25,
   "metadata": {
    "vscode": {
     "languageId": "r"
    }
   },
   "outputs": [
    {
     "data": {
      "text/html": [
       "5.06339312138669e-08"
      ],
      "text/latex": [
       "5.06339312138669e-08"
      ],
      "text/markdown": [
       "5.06339312138669e-08"
      ],
      "text/plain": [
       "[1] 5.063393e-08"
      ]
     },
     "metadata": {},
     "output_type": "display_data"
    }
   ],
   "source": [
    "pf((33-4-1)* max(eigenvalues) / 4, 4, 33-4-1, lower.tail = FALSE)"
   ]
  },
  {
   "cell_type": "markdown",
   "metadata": {},
   "source": [
    "We reject the Null hypothesis."
   ]
  },
  {
   "cell_type": "markdown",
   "metadata": {},
   "source": [
    "b) What assumptions do you need to perform the tests in part a)?"
   ]
  },
  {
   "cell_type": "markdown",
   "metadata": {},
   "source": [
    "For both Wilks' Test and Roy's Test we assume:  \n",
    "1. The data within each group has a multivariate normal distribution.\n",
    "2. The populations have the same covariance matrices (homogeneity).\n",
    "3. The observations are independent.\n",
    "4. The observations are drawn randomly from the population."
   ]
  },
  {
   "cell_type": "markdown",
   "metadata": {},
   "source": [
    "c) If we multiply the scores for $y_1$ by 2 and multiply the scores for $y_2$ by 3, then we perform the MANOVA tests to compare the three methods. Are the observed test statistics the same as the in part a)? Can you derive a general result?"
   ]
  },
  {
   "cell_type": "code",
   "execution_count": 26,
   "metadata": {
    "vscode": {
     "languageId": "r"
    }
   },
   "outputs": [],
   "source": [
    "# redefine variables\n",
    "method1alt <- cbind(2*method1[,1], 3*method1[,2], method1[,3], method1[,4])\n",
    "method2alt <- cbind(2*method2[,1], 3*method2[,2], method2[,3], method2[,4])\n",
    "method3alt <- cbind(2*method3[,1], 3*method3[,2], method3[,3], method3[,4])\n",
    "\n",
    "method1alt. <- matrix(nrow =4, ncol =1)\n",
    "for (i in 1:4) { method1alt.[i,] = sum(method1alt[,i]) }\n",
    "method2alt. <- matrix(nrow =4, ncol =1)\n",
    "for (i in 1:4) { method2alt.[i,] = sum(method2alt[,i]) }\n",
    "method3alt. <- matrix(nrow =4, ncol =1)\n",
    "for (i in 1:4) { method3alt.[i,] = sum(method3alt[,i]) }\n",
    "methodalt.. <- matrix(nrow =4, ncol =1)\n",
    "for (i in 1:4) { methodalt..[i,] = sum(method1alt[,i]) + sum(method2alt[,i]) + sum(method3alt[,i]) }\n",
    "n = 12\n",
    "k = 3"
   ]
  },
  {
   "cell_type": "code",
   "execution_count": 27,
   "metadata": {
    "vscode": {
     "languageId": "r"
    }
   },
   "outputs": [],
   "source": [
    "# alternative H\n",
    "Halt <- (1/n) * ( method1alt. %*% t(method1alt.) + method2alt. %*% t(method2alt.) + method3alt. %*% t(method3alt.) ) - ( 1 / (k * n) ) * ( methodalt.. %*% t(methodalt..) )"
   ]
  },
  {
   "cell_type": "code",
   "execution_count": 28,
   "metadata": {
    "vscode": {
     "languageId": "r"
    }
   },
   "outputs": [],
   "source": [
    "# alternative E\n",
    "Ealt <- matrix(nrow = 4, ncol = 4)\n",
    "Ealt[,] = 0\n",
    "for (i in 1:12) {Ealt = Ealt + method1alt[i,] %*% t(method1alt[i,]) + method2alt[i,] %*% t(method2alt[i,]) + method3alt[i,] %*% t(method3alt[i,])}\n",
    "Ealt = Ealt - (1/n) * (method1alt. %*% t(method1alt.) + method2alt. %*% t(method2alt.) + method3alt. %*% t(method3alt.))"
   ]
  },
  {
   "cell_type": "code",
   "execution_count": 29,
   "metadata": {
    "vscode": {
     "languageId": "r"
    }
   },
   "outputs": [
    {
     "data": {
      "text/html": [
       "'The calculated Wilks Test Statistic is 0.224487.'"
      ],
      "text/latex": [
       "'The calculated Wilks Test Statistic is 0.224487.'"
      ],
      "text/markdown": [
       "'The calculated Wilks Test Statistic is 0.224487.'"
      ],
      "text/plain": [
       "[1] \"The calculated Wilks Test Statistic is 0.224487.\""
      ]
     },
     "metadata": {},
     "output_type": "display_data"
    }
   ],
   "source": [
    "# Alternative Wilks' Statistic.\n",
    "Lambda_alt <- det(Ealt) / det(Ealt + Halt )\n",
    "sprintf(\"The calculated Wilks Test Statistic is %f.\", Lambda_alt)"
   ]
  },
  {
   "cell_type": "code",
   "execution_count": 30,
   "metadata": {
    "vscode": {
     "languageId": "r"
    }
   },
   "outputs": [
    {
     "data": {
      "text/html": [
       "'The calculated Roys Test Statistic is 0.746930.'"
      ],
      "text/latex": [
       "'The calculated Roys Test Statistic is 0.746930.'"
      ],
      "text/markdown": [
       "'The calculated Roys Test Statistic is 0.746930.'"
      ],
      "text/plain": [
       "[1] \"The calculated Roys Test Statistic is 0.746930.\""
      ]
     },
     "metadata": {},
     "output_type": "display_data"
    }
   ],
   "source": [
    "# Roy's Test Statistic\n",
    "eigenvaluesalt <- eigen( solve(Ealt) %*% Halt)$values\n",
    "thetaalt <- max(eigenvaluesalt) / (1 + max(eigenvaluesalt))\n",
    "sprintf(\"The calculated Roys Test Statistic is %f.\", thetaalt)"
   ]
  },
  {
   "cell_type": "markdown",
   "metadata": {},
   "source": [
    "Both Test Statistics are unchanged given the the transformation of the two variables. We conclude that scaling the variables does not change the test statstics for the MANOVA results. "
   ]
  }
 ],
 "metadata": {
  "kernelspec": {
   "display_name": "R",
   "language": "R",
   "name": "ir"
  },
  "language_info": {
   "codemirror_mode": "r",
   "file_extension": ".r",
   "mimetype": "text/x-r-source",
   "name": "R",
   "pygments_lexer": "r",
   "version": "4.3.1"
  }
 },
 "nbformat": 4,
 "nbformat_minor": 2
}
