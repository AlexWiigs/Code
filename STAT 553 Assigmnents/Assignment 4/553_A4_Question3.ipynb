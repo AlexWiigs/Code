{
 "cells": [
  {
   "cell_type": "markdown",
   "metadata": {},
   "source": [
    "# Question 3"
   ]
  },
  {
   "cell_type": "markdown",
   "metadata": {},
   "source": [
    "Using the diabetes data of Table 3.5, do the following:"
   ]
  },
  {
   "cell_type": "code",
   "execution_count": 2,
   "metadata": {
    "vscode": {
     "languageId": "r"
    }
   },
   "outputs": [
    {
     "data": {
      "text/html": [
       "<table class=\"dataframe\">\n",
       "<caption>A matrix: 5 × 46 of type dbl</caption>\n",
       "<tbody>\n",
       "\t<tr><th scope=row>y1</th><td>  0.81</td><td>  0.95</td><td>  0.94</td><td>  1.04</td><td>  1</td><td>  0.76</td><td>  0.91</td><td>  1.1</td><td>  0.99</td><td>  0.78</td><td>...</td><td>  1.17</td><td>  0.85</td><td>  0.97</td><td>  1</td><td>  1</td><td>  0.89</td><td>  0.98</td><td>  0.78</td><td>  0.74</td><td>  0.91</td></tr>\n",
       "\t<tr><th scope=row>y2</th><td> 80.00</td><td> 97.00</td><td>105.00</td><td> 90.00</td><td> 90</td><td> 86.00</td><td>100.00</td><td> 85.0</td><td> 97.00</td><td> 97.00</td><td>...</td><td>100.00</td><td> 78.00</td><td>106.00</td><td> 98</td><td>102</td><td> 90.00</td><td> 94.00</td><td> 80.00</td><td> 93.00</td><td> 86.00</td></tr>\n",
       "\t<tr><th scope=row>x1</th><td>356.00</td><td>289.00</td><td>319.00</td><td>356.00</td><td>323</td><td>381.00</td><td>350.00</td><td>301.0</td><td>379.00</td><td>296.00</td><td>...</td><td>367.00</td><td>335.00</td><td>396.00</td><td>277</td><td>378</td><td>360.00</td><td>291.00</td><td>269.00</td><td>318.00</td><td>328.00</td></tr>\n",
       "\t<tr><th scope=row>x2</th><td>124.00</td><td>117.00</td><td>143.00</td><td>199.00</td><td>240</td><td>157.00</td><td>221.00</td><td>186.0</td><td>142.00</td><td>131.00</td><td>...</td><td>182.00</td><td>241.00</td><td>128.00</td><td>222</td><td>165</td><td>282.00</td><td> 94.00</td><td>121.00</td><td> 73.00</td><td>106.00</td></tr>\n",
       "\t<tr><th scope=row>x3</th><td> 55.00</td><td> 76.00</td><td>105.00</td><td>108.00</td><td>143</td><td>165.00</td><td>119.00</td><td>105.0</td><td> 98.00</td><td> 94.00</td><td>...</td><td> 54.00</td><td>175.00</td><td> 80.00</td><td>186</td><td>117</td><td>160.00</td><td> 71.00</td><td> 29.00</td><td> 42.00</td><td> 56.00</td></tr>\n",
       "</tbody>\n",
       "</table>\n"
      ],
      "text/latex": [
       "A matrix: 5 × 46 of type dbl\n",
       "\\begin{tabular}{r|lllllllllllllllllllll}\n",
       "\ty1 &   0.81 &   0.95 &   0.94 &   1.04 &   1 &   0.76 &   0.91 &   1.1 &   0.99 &   0.78 & ... &   1.17 &   0.85 &   0.97 &   1 &   1 &   0.89 &   0.98 &   0.78 &   0.74 &   0.91\\\\\n",
       "\ty2 &  80.00 &  97.00 & 105.00 &  90.00 &  90 &  86.00 & 100.00 &  85.0 &  97.00 &  97.00 & ... & 100.00 &  78.00 & 106.00 &  98 & 102 &  90.00 &  94.00 &  80.00 &  93.00 &  86.00\\\\\n",
       "\tx1 & 356.00 & 289.00 & 319.00 & 356.00 & 323 & 381.00 & 350.00 & 301.0 & 379.00 & 296.00 & ... & 367.00 & 335.00 & 396.00 & 277 & 378 & 360.00 & 291.00 & 269.00 & 318.00 & 328.00\\\\\n",
       "\tx2 & 124.00 & 117.00 & 143.00 & 199.00 & 240 & 157.00 & 221.00 & 186.0 & 142.00 & 131.00 & ... & 182.00 & 241.00 & 128.00 & 222 & 165 & 282.00 &  94.00 & 121.00 &  73.00 & 106.00\\\\\n",
       "\tx3 &  55.00 &  76.00 & 105.00 & 108.00 & 143 & 165.00 & 119.00 & 105.0 &  98.00 &  94.00 & ... &  54.00 & 175.00 &  80.00 & 186 & 117 & 160.00 &  71.00 &  29.00 &  42.00 &  56.00\\\\\n",
       "\\end{tabular}\n"
      ],
      "text/markdown": [
       "\n",
       "A matrix: 5 × 46 of type dbl\n",
       "\n",
       "| y1 |   0.81 |   0.95 |   0.94 |   1.04 |   1 |   0.76 |   0.91 |   1.1 |   0.99 |   0.78 | ... |   1.17 |   0.85 |   0.97 |   1 |   1 |   0.89 |   0.98 |   0.78 |   0.74 |   0.91 |\n",
       "| y2 |  80.00 |  97.00 | 105.00 |  90.00 |  90 |  86.00 | 100.00 |  85.0 |  97.00 |  97.00 | ... | 100.00 |  78.00 | 106.00 |  98 | 102 |  90.00 |  94.00 |  80.00 |  93.00 |  86.00 |\n",
       "| x1 | 356.00 | 289.00 | 319.00 | 356.00 | 323 | 381.00 | 350.00 | 301.0 | 379.00 | 296.00 | ... | 367.00 | 335.00 | 396.00 | 277 | 378 | 360.00 | 291.00 | 269.00 | 318.00 | 328.00 |\n",
       "| x2 | 124.00 | 117.00 | 143.00 | 199.00 | 240 | 157.00 | 221.00 | 186.0 | 142.00 | 131.00 | ... | 182.00 | 241.00 | 128.00 | 222 | 165 | 282.00 |  94.00 | 121.00 |  73.00 | 106.00 |\n",
       "| x3 |  55.00 |  76.00 | 105.00 | 108.00 | 143 | 165.00 | 119.00 | 105.0 |  98.00 |  94.00 | ... |  54.00 | 175.00 |  80.00 | 186 | 117 | 160.00 |  71.00 |  29.00 |  42.00 |  56.00 |\n",
       "\n"
      ],
      "text/plain": [
       "   [,1]   [,2]   [,3]   [,4]   [,5] [,6]   [,7]   [,8]  [,9]   [,10]  [,11]\n",
       "y1   0.81   0.95   0.94   1.04   1    0.76   0.91   1.1   0.99   0.78 ...  \n",
       "y2  80.00  97.00 105.00  90.00  90   86.00 100.00  85.0  97.00  97.00 ...  \n",
       "x1 356.00 289.00 319.00 356.00 323  381.00 350.00 301.0 379.00 296.00 ...  \n",
       "x2 124.00 117.00 143.00 199.00 240  157.00 221.00 186.0 142.00 131.00 ...  \n",
       "x3  55.00  76.00 105.00 108.00 143  165.00 119.00 105.0  98.00  94.00 ...  \n",
       "   [,12]  [,13]  [,14]  [,15] [,16] [,17]  [,18]  [,19]  [,20]  [,21] \n",
       "y1   1.17   0.85   0.97   1     1     0.89   0.98   0.78   0.74   0.91\n",
       "y2 100.00  78.00 106.00  98   102    90.00  94.00  80.00  93.00  86.00\n",
       "x1 367.00 335.00 396.00 277   378   360.00 291.00 269.00 318.00 328.00\n",
       "x2 182.00 241.00 128.00 222   165   282.00  94.00 121.00  73.00 106.00\n",
       "x3  54.00 175.00  80.00 186   117   160.00  71.00  29.00  42.00  56.00"
      ]
     },
     "metadata": {},
     "output_type": "display_data"
    }
   ],
   "source": [
    "data <- read.table(file = \"/Users/alexwiigs/Documents/Code/STAT 553 Textbook/T3_5_DIABETES.DAT\")\n",
    "data <- data[, -1]\n",
    "colnames(data) <- c(\"y1\",\"y2\",\"x1\",\"x2\",\"x3\")\n",
    "t(data)"
   ]
  },
  {
   "cell_type": "code",
   "execution_count": 3,
   "metadata": {
    "vscode": {
     "languageId": "r"
    }
   },
   "outputs": [
    {
     "data": {
      "text/html": [
       "<table class=\"dataframe\">\n",
       "<caption>A matrix: 1 × 3 of type dbl</caption>\n",
       "<thead>\n",
       "\t<tr><th scope=col>n</th><th scope=col>p</th><th scope=col>q</th></tr>\n",
       "</thead>\n",
       "<tbody>\n",
       "\t<tr><td>46</td><td>2</td><td>3</td></tr>\n",
       "</tbody>\n",
       "</table>\n"
      ],
      "text/latex": [
       "A matrix: 1 × 3 of type dbl\n",
       "\\begin{tabular}{lll}\n",
       " n & p & q\\\\\n",
       "\\hline\n",
       "\t 46 & 2 & 3\\\\\n",
       "\\end{tabular}\n"
      ],
      "text/markdown": [
       "\n",
       "A matrix: 1 × 3 of type dbl\n",
       "\n",
       "| n | p | q |\n",
       "|---|---|---|\n",
       "| 46 | 2 | 3 |\n",
       "\n"
      ],
      "text/plain": [
       "     n  p q\n",
       "[1,] 46 2 3"
      ]
     },
     "metadata": {},
     "output_type": "display_data"
    }
   ],
   "source": [
    "info <- as.matrix(c(46,2,3))\n",
    "rownames(info) <- c(\"n\",\"p\",\"q\")\n",
    "t(info)"
   ]
  },
  {
   "cell_type": "markdown",
   "metadata": {},
   "source": [
    "**a)** Find the least squares estimate for the regression of $(y_1,y_2)$ on $(x_1,x_2,x_3)$. Write out the fitted models for $y_1$ and $y_2$."
   ]
  },
  {
   "cell_type": "markdown",
   "metadata": {},
   "source": [
    "First we must create the $\\textbf{X}$ matrix and $\\textbf{y}$ vector."
   ]
  },
  {
   "cell_type": "code",
   "execution_count": 4,
   "metadata": {
    "vscode": {
     "languageId": "r"
    }
   },
   "outputs": [
    {
     "data": {
      "text/html": [
       "<style>\n",
       ".list-inline {list-style: none; margin:0; padding: 0}\n",
       ".list-inline>li {display: inline-block}\n",
       ".list-inline>li:not(:last-child)::after {content: \"\\00b7\"; padding: 0 .5ex}\n",
       "</style>\n",
       "<ol class=list-inline><li>92</li><li>8</li></ol>\n"
      ],
      "text/latex": [
       "\\begin{enumerate*}\n",
       "\\item 92\n",
       "\\item 8\n",
       "\\end{enumerate*}\n"
      ],
      "text/markdown": [
       "1. 92\n",
       "2. 8\n",
       "\n",
       "\n"
      ],
      "text/plain": [
       "[1] 92  8"
      ]
     },
     "metadata": {},
     "output_type": "display_data"
    },
    {
     "data": {
      "text/html": [
       "<table class=\"dataframe\">\n",
       "<caption>A matrix: 8 × 92 of type dbl</caption>\n",
       "<tbody>\n",
       "\t<tr><td>  1</td><td>  0</td><td>  1</td><td>  0</td><td>  1</td><td>  0</td><td>  1</td><td>  0</td><td>  1</td><td>  0</td><td>...</td><td>  1</td><td>  0</td><td>  1</td><td>  0</td><td>  1</td><td>  0</td><td>  1</td><td>  0</td><td>  1</td><td>  0</td></tr>\n",
       "\t<tr><td>356</td><td>  0</td><td>289</td><td>  0</td><td>319</td><td>  0</td><td>356</td><td>  0</td><td>323</td><td>  0</td><td>...</td><td>360</td><td>  0</td><td>291</td><td>  0</td><td>269</td><td>  0</td><td>318</td><td>  0</td><td>328</td><td>  0</td></tr>\n",
       "\t<tr><td>124</td><td>  0</td><td>117</td><td>  0</td><td>143</td><td>  0</td><td>199</td><td>  0</td><td>240</td><td>  0</td><td>...</td><td>282</td><td>  0</td><td> 94</td><td>  0</td><td>121</td><td>  0</td><td> 73</td><td>  0</td><td>106</td><td>  0</td></tr>\n",
       "\t<tr><td> 55</td><td>  0</td><td> 76</td><td>  0</td><td>105</td><td>  0</td><td>108</td><td>  0</td><td>143</td><td>  0</td><td>...</td><td>160</td><td>  0</td><td> 71</td><td>  0</td><td> 29</td><td>  0</td><td> 42</td><td>  0</td><td> 56</td><td>  0</td></tr>\n",
       "\t<tr><td>  0</td><td>  1</td><td>  0</td><td>  1</td><td>  0</td><td>  1</td><td>  0</td><td>  1</td><td>  0</td><td>  1</td><td>...</td><td>  0</td><td>  1</td><td>  0</td><td>  1</td><td>  0</td><td>  1</td><td>  0</td><td>  1</td><td>  0</td><td>  1</td></tr>\n",
       "\t<tr><td>  0</td><td>356</td><td>  0</td><td>289</td><td>  0</td><td>319</td><td>  0</td><td>356</td><td>  0</td><td>323</td><td>...</td><td>  0</td><td>360</td><td>  0</td><td>291</td><td>  0</td><td>269</td><td>  0</td><td>318</td><td>  0</td><td>328</td></tr>\n",
       "\t<tr><td>  0</td><td>124</td><td>  0</td><td>117</td><td>  0</td><td>143</td><td>  0</td><td>199</td><td>  0</td><td>240</td><td>...</td><td>  0</td><td>282</td><td>  0</td><td> 94</td><td>  0</td><td>121</td><td>  0</td><td> 73</td><td>  0</td><td>106</td></tr>\n",
       "\t<tr><td>  0</td><td> 55</td><td>  0</td><td> 76</td><td>  0</td><td>105</td><td>  0</td><td>108</td><td>  0</td><td>143</td><td>...</td><td>  0</td><td>160</td><td>  0</td><td> 71</td><td>  0</td><td> 29</td><td>  0</td><td> 42</td><td>  0</td><td> 56</td></tr>\n",
       "</tbody>\n",
       "</table>\n"
      ],
      "text/latex": [
       "A matrix: 8 × 92 of type dbl\n",
       "\\begin{tabular}{lllllllllllllllllllll}\n",
       "\t   1 &   0 &   1 &   0 &   1 &   0 &   1 &   0 &   1 &   0 & ... &   1 &   0 &   1 &   0 &   1 &   0 &   1 &   0 &   1 &   0\\\\\n",
       "\t 356 &   0 & 289 &   0 & 319 &   0 & 356 &   0 & 323 &   0 & ... & 360 &   0 & 291 &   0 & 269 &   0 & 318 &   0 & 328 &   0\\\\\n",
       "\t 124 &   0 & 117 &   0 & 143 &   0 & 199 &   0 & 240 &   0 & ... & 282 &   0 &  94 &   0 & 121 &   0 &  73 &   0 & 106 &   0\\\\\n",
       "\t  55 &   0 &  76 &   0 & 105 &   0 & 108 &   0 & 143 &   0 & ... & 160 &   0 &  71 &   0 &  29 &   0 &  42 &   0 &  56 &   0\\\\\n",
       "\t   0 &   1 &   0 &   1 &   0 &   1 &   0 &   1 &   0 &   1 & ... &   0 &   1 &   0 &   1 &   0 &   1 &   0 &   1 &   0 &   1\\\\\n",
       "\t   0 & 356 &   0 & 289 &   0 & 319 &   0 & 356 &   0 & 323 & ... &   0 & 360 &   0 & 291 &   0 & 269 &   0 & 318 &   0 & 328\\\\\n",
       "\t   0 & 124 &   0 & 117 &   0 & 143 &   0 & 199 &   0 & 240 & ... &   0 & 282 &   0 &  94 &   0 & 121 &   0 &  73 &   0 & 106\\\\\n",
       "\t   0 &  55 &   0 &  76 &   0 & 105 &   0 & 108 &   0 & 143 & ... &   0 & 160 &   0 &  71 &   0 &  29 &   0 &  42 &   0 &  56\\\\\n",
       "\\end{tabular}\n"
      ],
      "text/markdown": [
       "\n",
       "A matrix: 8 × 92 of type dbl\n",
       "\n",
       "|   1 |   0 |   1 |   0 |   1 |   0 |   1 |   0 |   1 |   0 | ... |   1 |   0 |   1 |   0 |   1 |   0 |   1 |   0 |   1 |   0 |\n",
       "| 356 |   0 | 289 |   0 | 319 |   0 | 356 |   0 | 323 |   0 | ... | 360 |   0 | 291 |   0 | 269 |   0 | 318 |   0 | 328 |   0 |\n",
       "| 124 |   0 | 117 |   0 | 143 |   0 | 199 |   0 | 240 |   0 | ... | 282 |   0 |  94 |   0 | 121 |   0 |  73 |   0 | 106 |   0 |\n",
       "|  55 |   0 |  76 |   0 | 105 |   0 | 108 |   0 | 143 |   0 | ... | 160 |   0 |  71 |   0 |  29 |   0 |  42 |   0 |  56 |   0 |\n",
       "|   0 |   1 |   0 |   1 |   0 |   1 |   0 |   1 |   0 |   1 | ... |   0 |   1 |   0 |   1 |   0 |   1 |   0 |   1 |   0 |   1 |\n",
       "|   0 | 356 |   0 | 289 |   0 | 319 |   0 | 356 |   0 | 323 | ... |   0 | 360 |   0 | 291 |   0 | 269 |   0 | 318 |   0 | 328 |\n",
       "|   0 | 124 |   0 | 117 |   0 | 143 |   0 | 199 |   0 | 240 | ... |   0 | 282 |   0 |  94 |   0 | 121 |   0 |  73 |   0 | 106 |\n",
       "|   0 |  55 |   0 |  76 |   0 | 105 |   0 | 108 |   0 | 143 | ... |   0 | 160 |   0 |  71 |   0 |  29 |   0 |  42 |   0 |  56 |\n",
       "\n"
      ],
      "text/plain": [
       "     [,1] [,2] [,3] [,4] [,5] [,6] [,7] [,8] [,9] [,10] [,11] [,12] [,13] [,14]\n",
       "[1,]   1    0    1    0    1    0    1    0    1    0   ...     1     0     1  \n",
       "[2,] 356    0  289    0  319    0  356    0  323    0   ...   360     0   291  \n",
       "[3,] 124    0  117    0  143    0  199    0  240    0   ...   282     0    94  \n",
       "[4,]  55    0   76    0  105    0  108    0  143    0   ...   160     0    71  \n",
       "[5,]   0    1    0    1    0    1    0    1    0    1   ...     0     1     0  \n",
       "[6,]   0  356    0  289    0  319    0  356    0  323   ...     0   360     0  \n",
       "[7,]   0  124    0  117    0  143    0  199    0  240   ...     0   282     0  \n",
       "[8,]   0   55    0   76    0  105    0  108    0  143   ...     0   160     0  \n",
       "     [,15] [,16] [,17] [,18] [,19] [,20] [,21]\n",
       "[1,]   0     1     0     1     0     1     0  \n",
       "[2,]   0   269     0   318     0   328     0  \n",
       "[3,]   0   121     0    73     0   106     0  \n",
       "[4,]   0    29     0    42     0    56     0  \n",
       "[5,]   1     0     1     0     1     0     1  \n",
       "[6,] 291     0   269     0   318     0   328  \n",
       "[7,]  94     0   121     0    73     0   106  \n",
       "[8,]  71     0    29     0    42     0    56  "
      ]
     },
     "metadata": {},
     "output_type": "display_data"
    }
   ],
   "source": [
    "# X matrix\n",
    "Xblock <- function(i) {\n",
    "    row1 <- as.numeric( unname( cbind( matrix(1), data[i, 3:5], matrix(0, ncol = info[\"q\",] + 1)    ) ) )\n",
    "    row2 <- as.numeric( unname( cbind( matrix(0, ncol = (info[\"q\",] + 1) ), matrix(1), data[i, 3:5] ) ) )\n",
    "    return(rbind(row1,row2))}\n",
    "\n",
    "X <- Xblock(1)\n",
    "for (i in 2:info[\"n\",]) {X <- unname( rbind(X, Xblock(i) ) ) }\n",
    "dim(X)\n",
    "t(X)"
   ]
  },
  {
   "cell_type": "code",
   "execution_count": 11,
   "metadata": {
    "vscode": {
     "languageId": "r"
    }
   },
   "outputs": [
    {
     "data": {
      "text/html": [
       "<style>\n",
       ".list-inline {list-style: none; margin:0; padding: 0}\n",
       ".list-inline>li {display: inline-block}\n",
       ".list-inline>li:not(:last-child)::after {content: \"\\00b7\"; padding: 0 .5ex}\n",
       "</style>\n",
       "<ol class=list-inline><li>92</li><li>1</li></ol>\n"
      ],
      "text/latex": [
       "\\begin{enumerate*}\n",
       "\\item 92\n",
       "\\item 1\n",
       "\\end{enumerate*}\n"
      ],
      "text/markdown": [
       "1. 92\n",
       "2. 1\n",
       "\n",
       "\n"
      ],
      "text/plain": [
       "[1] 92  1"
      ]
     },
     "metadata": {},
     "output_type": "display_data"
    }
   ],
   "source": [
    "# y vector\n",
    "yblock <- function(i) {block = rbind(data[i,\"y1\"],data[i,\"y2\"])}\n",
    "\n",
    "y <- yblock(1)\n",
    "for (i in 2:info[\"n\",]) { y <- rbind(y, yblock(i)) }\n",
    "dim(y)"
   ]
  },
  {
   "cell_type": "markdown",
   "metadata": {},
   "source": [
    "The LSE for the regression is: \n",
    "$$ \\hat{\\beta}_{LS} = ( \\textbf{X}' \\textbf{X} )^{-1} \\textbf{X}' \\textbf{y}$$"
   ]
  },
  {
   "cell_type": "markdown",
   "metadata": {},
   "source": [
    "We calculate the coefficients to be..."
   ]
  },
  {
   "cell_type": "code",
   "execution_count": 6,
   "metadata": {
    "vscode": {
     "languageId": "r"
    }
   },
   "outputs": [
    {
     "data": {
      "text/html": [
       "<table class=\"dataframe\">\n",
       "<caption>A matrix: 1 × 8 of type dbl</caption>\n",
       "<tbody>\n",
       "\t<tr><td>0.6264</td><td>9e-04</td><td>-0.001</td><td>0.0015</td><td>83.2425</td><td>0.0287</td><td>-0.0127</td><td>-0.0044</td></tr>\n",
       "</tbody>\n",
       "</table>\n"
      ],
      "text/latex": [
       "A matrix: 1 × 8 of type dbl\n",
       "\\begin{tabular}{llllllll}\n",
       "\t 0.6264 & 9e-04 & -0.001 & 0.0015 & 83.2425 & 0.0287 & -0.0127 & -0.0044\\\\\n",
       "\\end{tabular}\n"
      ],
      "text/markdown": [
       "\n",
       "A matrix: 1 × 8 of type dbl\n",
       "\n",
       "| 0.6264 | 9e-04 | -0.001 | 0.0015 | 83.2425 | 0.0287 | -0.0127 | -0.0044 |\n",
       "\n"
      ],
      "text/plain": [
       "     [,1]   [,2]  [,3]   [,4]   [,5]    [,6]   [,7]    [,8]   \n",
       "[1,] 0.6264 9e-04 -0.001 0.0015 83.2425 0.0287 -0.0127 -0.0044"
      ]
     },
     "metadata": {},
     "output_type": "display_data"
    }
   ],
   "source": [
    "B <- matrix(solve( t(X) %*% X ) %*% t(X) %*% y)\n",
    "round(t(B),4)"
   ]
  },
  {
   "cell_type": "markdown",
   "metadata": {},
   "source": [
    "**b)** Compute the estimate of $\\Sigma$, the covariance matrix of $y_1$ and $y_2$.   \n",
    "\n",
    "We have:\n",
    "$$ \\hat{\\textbf{y}} = x \\hat \\beta_{LS} = \\begin{pmatrix} \\hat{\\textbf{y}}_1 \\\\ \\vdots \\\\ \\hat{\\textbf{y}}_n \\end{pmatrix}$$\n",
    "$$\\textbf{y} - \\hat{\\textbf{y}} = \\begin{pmatrix}\\textbf{y}_1 - \\hat{\\textbf{y}}_1 \\\\ \\vdots \\\\\\textbf{y}_n - \\hat{\\textbf{y}}_n \\end{pmatrix} = \\begin{pmatrix} \\textbf{e}_1 \\\\ \\vdots \\\\ \\textbf{e}_n \\end{pmatrix} $$\n",
    "So we compute $\\hat \\Sigma$ as:\n",
    "$$\\hat \\Sigma = \\frac{\\sum_{i=1}^n \\textbf{e}_i \\textbf{e}_i'}{n-q-1}$$"
   ]
  },
  {
   "cell_type": "code",
   "execution_count": 12,
   "metadata": {
    "vscode": {
     "languageId": "r"
    }
   },
   "outputs": [
    {
     "data": {
      "text/html": [
       "<table class=\"dataframe\">\n",
       "<caption>A matrix: 2 × 2 of type dbl</caption>\n",
       "<tbody>\n",
       "\t<tr><td>0.01285864</td><td> 0.2146721</td></tr>\n",
       "\t<tr><td>0.21467207</td><td>74.3673179</td></tr>\n",
       "</tbody>\n",
       "</table>\n"
      ],
      "text/latex": [
       "A matrix: 2 × 2 of type dbl\n",
       "\\begin{tabular}{ll}\n",
       "\t 0.01285864 &  0.2146721\\\\\n",
       "\t 0.21467207 & 74.3673179\\\\\n",
       "\\end{tabular}\n"
      ],
      "text/markdown": [
       "\n",
       "A matrix: 2 × 2 of type dbl\n",
       "\n",
       "| 0.01285864 |  0.2146721 |\n",
       "| 0.21467207 | 74.3673179 |\n",
       "\n"
      ],
      "text/plain": [
       "     [,1]       [,2]      \n",
       "[1,] 0.01285864  0.2146721\n",
       "[2,] 0.21467207 74.3673179"
      ]
     },
     "metadata": {},
     "output_type": "display_data"
    }
   ],
   "source": [
    "# Calculate estimated covariance matrix of y1,y2\n",
    "Epsilon <- (rbind(data[1,1], data[1,2]) - Xblock(1) %*% B) %*% t(rbind(data[1,1], data[1,2]) - Xblock(1) %*% B)\n",
    "for (i in 2:info[\"n\",]) { Epsilon <- Epsilon + (rbind(data[i,1], data[i,2]) - Xblock(i) %*% B) %*% t(rbind(data[i,1], data[i,2]) - Xblock(i) %*% B) }\n",
    "Epsilon <- Epsilon / 42\n",
    "unname(Epsilon)"
   ]
  },
  {
   "cell_type": "markdown",
   "metadata": {},
   "source": [
    "**c)** Using the estimate of $\\Sigma$ in part b), find the estimated standard errors of the least squares estimates in a)."
   ]
  },
  {
   "cell_type": "markdown",
   "metadata": {},
   "source": [
    "The standard error for $y_1 = \\sqrt{\\Sigma_{11}}$"
   ]
  },
  {
   "cell_type": "code",
   "execution_count": 8,
   "metadata": {
    "vscode": {
     "languageId": "r"
    }
   },
   "outputs": [
    {
     "data": {
      "text/html": [
       "0.1134"
      ],
      "text/latex": [
       "0.1134"
      ],
      "text/markdown": [
       "0.1134"
      ],
      "text/plain": [
       "[1] 0.1134"
      ]
     },
     "metadata": {},
     "output_type": "display_data"
    }
   ],
   "source": [
    "round(sqrt(Epsilon[1,1]),4)"
   ]
  },
  {
   "cell_type": "markdown",
   "metadata": {},
   "source": [
    "The standard error for $y_2 = \\sqrt{\\Sigma_{22}}$"
   ]
  },
  {
   "cell_type": "code",
   "execution_count": 9,
   "metadata": {
    "vscode": {
     "languageId": "r"
    }
   },
   "outputs": [
    {
     "data": {
      "text/html": [
       "8.6236"
      ],
      "text/latex": [
       "8.6236"
      ],
      "text/markdown": [
       "8.6236"
      ],
      "text/plain": [
       "[1] 8.6236"
      ]
     },
     "metadata": {},
     "output_type": "display_data"
    }
   ],
   "source": [
    "round(sqrt(Epsilon[2,2]),4)"
   ]
  },
  {
   "cell_type": "markdown",
   "metadata": {},
   "source": [
    "**Double Check Calculations using lm plugin:**"
   ]
  },
  {
   "cell_type": "code",
   "execution_count": 10,
   "metadata": {
    "vscode": {
     "languageId": "r"
    }
   },
   "outputs": [
    {
     "data": {
      "text/plain": [
       "Response data[, 1] :\n",
       "\n",
       "Call:\n",
       "lm(formula = `data[, 1]` ~ x1 + x2 + x3, data = data)\n",
       "\n",
       "Residuals:\n",
       "      Min        1Q    Median        3Q       Max \n",
       "-0.308182 -0.073001  0.006621  0.048729  0.303786 \n",
       "\n",
       "Coefficients:\n",
       "              Estimate Std. Error t value Pr(>|t|)    \n",
       "(Intercept)  0.6263903  0.1757270   3.565 0.000925 ***\n",
       "x1           0.0009082  0.0005252   1.729 0.091077 .  \n",
       "x2          -0.0009557  0.0004141  -2.308 0.025993 *  \n",
       "x3           0.0014897  0.0004250   3.505 0.001100 ** \n",
       "---\n",
       "Signif. codes:  0 '***' 0.001 '**' 0.01 '*' 0.05 '.' 0.1 ' ' 1\n",
       "\n",
       "Residual standard error: 0.1134 on 42 degrees of freedom\n",
       "Multiple R-squared:  0.2583,\tAdjusted R-squared:  0.2054 \n",
       "F-statistic: 4.877 on 3 and 42 DF,  p-value: 0.005341\n",
       "\n",
       "\n",
       "Response data[, 2] :\n",
       "\n",
       "Call:\n",
       "lm(formula = `data[, 2]` ~ x1 + x2 + x3, data = data)\n",
       "\n",
       "Residuals:\n",
       "     Min       1Q   Median       3Q      Max \n",
       "-21.4731  -4.7612   0.5168   7.2208  14.8842 \n",
       "\n",
       "Coefficients:\n",
       "             Estimate Std. Error t value Pr(>|t|)    \n",
       "(Intercept) 83.242541  13.363864   6.229 1.86e-07 ***\n",
       "x1           0.028701   0.039938   0.719    0.476    \n",
       "x2          -0.012724   0.031491  -0.404    0.688    \n",
       "x3          -0.004406   0.032323  -0.136    0.892    \n",
       "---\n",
       "Signif. codes:  0 '***' 0.001 '**' 0.01 '*' 0.05 '.' 0.1 ' ' 1\n",
       "\n",
       "Residual standard error: 8.624 on 42 degrees of freedom\n",
       "Multiple R-squared:  0.01629,\tAdjusted R-squared:  -0.05397 \n",
       "F-statistic: 0.2318 on 3 and 42 DF,  p-value: 0.8737\n",
       "\n"
      ]
     },
     "metadata": {},
     "output_type": "display_data"
    }
   ],
   "source": [
    "mlr <- lm( cbind(data[,1], data[,2]) ~ x1 + x2 + x3, data)\n",
    "summary(mlr)"
   ]
  },
  {
   "cell_type": "markdown",
   "metadata": {},
   "source": [
    "Values match lm output, as expected."
   ]
  }
 ],
 "metadata": {
  "kernelspec": {
   "display_name": "R",
   "language": "R",
   "name": "ir"
  },
  "language_info": {
   "codemirror_mode": "r",
   "file_extension": ".r",
   "mimetype": "text/x-r-source",
   "name": "R",
   "pygments_lexer": "r",
   "version": "4.3.1"
  }
 },
 "nbformat": 4,
 "nbformat_minor": 2
}
