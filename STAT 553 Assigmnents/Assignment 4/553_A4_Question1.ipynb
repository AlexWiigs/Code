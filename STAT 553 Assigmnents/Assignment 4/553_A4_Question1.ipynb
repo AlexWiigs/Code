{
 "cells": [
  {
   "cell_type": "markdown",
   "metadata": {},
   "source": [
    "# Question 1"
   ]
  },
  {
   "cell_type": "markdown",
   "metadata": {},
   "source": [
    "Baten, Tack, and Baeder (1958) compared judges' scores on fish prepared by three methods. Twelve fish were cooked by each method, and several judges tasted fish samples and rated each on four variables:  \n",
    "  \n",
    "$y_1 =$ aroma,  \n",
    "$y_2 =$ flavor,  \n",
    "$y_3 =$ texture,  \n",
    "$y_4 =$ moisture  \n",
    "  \n",
    "Each entry is an average score for the judges on that fish."
   ]
  },
  {
   "cell_type": "code",
   "execution_count": 1,
   "metadata": {
    "vscode": {
     "languageId": "r"
    }
   },
   "outputs": [
    {
     "data": {
      "text/html": [
       "<table class=\"dataframe\">\n",
       "<caption>A matrix: 5 × 36 of type dbl</caption>\n",
       "<tbody>\n",
       "\t<tr><th scope=row>Method</th><td>1.0</td><td>1.0</td><td>1.0</td><td>1.0</td><td>1.0</td><td>1.0</td><td>1.0</td><td>1</td><td>1.0</td><td>1.0</td><td>...</td><td>3.0</td><td>3.0</td><td>3.0</td><td>3.0</td><td>3.0</td><td>3.0</td><td>3.0</td><td>3.0</td><td>3.0</td><td>3.0</td></tr>\n",
       "\t<tr><th scope=row>Aroma</th><td>5.4</td><td>5.2</td><td>6.1</td><td>4.8</td><td>5.0</td><td>5.7</td><td>6.0</td><td>4</td><td>5.7</td><td>5.6</td><td>...</td><td>4.9</td><td>5.7</td><td>4.2</td><td>6.0</td><td>5.1</td><td>4.8</td><td>5.3</td><td>4.6</td><td>4.5</td><td>4.4</td></tr>\n",
       "\t<tr><th scope=row>flavor</th><td>6.0</td><td>6.5</td><td>5.9</td><td>5.0</td><td>5.7</td><td>6.1</td><td>6.0</td><td>5</td><td>5.4</td><td>5.2</td><td>...</td><td>5.1</td><td>5.2</td><td>4.6</td><td>5.3</td><td>5.2</td><td>4.6</td><td>5.4</td><td>4.4</td><td>4.0</td><td>4.2</td></tr>\n",
       "\t<tr><th scope=row>Texture</th><td>6.3</td><td>6.0</td><td>6.0</td><td>4.9</td><td>5.0</td><td>6.0</td><td>5.8</td><td>4</td><td>4.9</td><td>5.4</td><td>...</td><td>5.9</td><td>6.4</td><td>5.3</td><td>5.8</td><td>6.2</td><td>5.7</td><td>6.8</td><td>5.7</td><td>5.0</td><td>5.6</td></tr>\n",
       "\t<tr><th scope=row>Moisture</th><td>6.7</td><td>5.8</td><td>7.0</td><td>5.0</td><td>6.5</td><td>6.6</td><td>6.0</td><td>5</td><td>5.0</td><td>5.8</td><td>...</td><td>6.5</td><td>6.4</td><td>6.3</td><td>6.4</td><td>6.5</td><td>5.7</td><td>6.6</td><td>5.6</td><td>5.9</td><td>5.5</td></tr>\n",
       "</tbody>\n",
       "</table>\n"
      ],
      "text/latex": [
       "A matrix: 5 × 36 of type dbl\n",
       "\\begin{tabular}{r|lllllllllllllllllllll}\n",
       "\tMethod & 1.0 & 1.0 & 1.0 & 1.0 & 1.0 & 1.0 & 1.0 & 1 & 1.0 & 1.0 & ... & 3.0 & 3.0 & 3.0 & 3.0 & 3.0 & 3.0 & 3.0 & 3.0 & 3.0 & 3.0\\\\\n",
       "\tAroma & 5.4 & 5.2 & 6.1 & 4.8 & 5.0 & 5.7 & 6.0 & 4 & 5.7 & 5.6 & ... & 4.9 & 5.7 & 4.2 & 6.0 & 5.1 & 4.8 & 5.3 & 4.6 & 4.5 & 4.4\\\\\n",
       "\tflavor & 6.0 & 6.5 & 5.9 & 5.0 & 5.7 & 6.1 & 6.0 & 5 & 5.4 & 5.2 & ... & 5.1 & 5.2 & 4.6 & 5.3 & 5.2 & 4.6 & 5.4 & 4.4 & 4.0 & 4.2\\\\\n",
       "\tTexture & 6.3 & 6.0 & 6.0 & 4.9 & 5.0 & 6.0 & 5.8 & 4 & 4.9 & 5.4 & ... & 5.9 & 6.4 & 5.3 & 5.8 & 6.2 & 5.7 & 6.8 & 5.7 & 5.0 & 5.6\\\\\n",
       "\tMoisture & 6.7 & 5.8 & 7.0 & 5.0 & 6.5 & 6.6 & 6.0 & 5 & 5.0 & 5.8 & ... & 6.5 & 6.4 & 6.3 & 6.4 & 6.5 & 5.7 & 6.6 & 5.6 & 5.9 & 5.5\\\\\n",
       "\\end{tabular}\n"
      ],
      "text/markdown": [
       "\n",
       "A matrix: 5 × 36 of type dbl\n",
       "\n",
       "| Method | 1.0 | 1.0 | 1.0 | 1.0 | 1.0 | 1.0 | 1.0 | 1 | 1.0 | 1.0 | ... | 3.0 | 3.0 | 3.0 | 3.0 | 3.0 | 3.0 | 3.0 | 3.0 | 3.0 | 3.0 |\n",
       "| Aroma | 5.4 | 5.2 | 6.1 | 4.8 | 5.0 | 5.7 | 6.0 | 4 | 5.7 | 5.6 | ... | 4.9 | 5.7 | 4.2 | 6.0 | 5.1 | 4.8 | 5.3 | 4.6 | 4.5 | 4.4 |\n",
       "| flavor | 6.0 | 6.5 | 5.9 | 5.0 | 5.7 | 6.1 | 6.0 | 5 | 5.4 | 5.2 | ... | 5.1 | 5.2 | 4.6 | 5.3 | 5.2 | 4.6 | 5.4 | 4.4 | 4.0 | 4.2 |\n",
       "| Texture | 6.3 | 6.0 | 6.0 | 4.9 | 5.0 | 6.0 | 5.8 | 4 | 4.9 | 5.4 | ... | 5.9 | 6.4 | 5.3 | 5.8 | 6.2 | 5.7 | 6.8 | 5.7 | 5.0 | 5.6 |\n",
       "| Moisture | 6.7 | 5.8 | 7.0 | 5.0 | 6.5 | 6.6 | 6.0 | 5 | 5.0 | 5.8 | ... | 6.5 | 6.4 | 6.3 | 6.4 | 6.5 | 5.7 | 6.6 | 5.6 | 5.9 | 5.5 |\n",
       "\n"
      ],
      "text/plain": [
       "         [,1] [,2] [,3] [,4] [,5] [,6] [,7] [,8] [,9] [,10] [,11] [,12] [,13]\n",
       "Method   1.0  1.0  1.0  1.0  1.0  1.0  1.0  1    1.0  1.0   ...   3.0   3.0  \n",
       "Aroma    5.4  5.2  6.1  4.8  5.0  5.7  6.0  4    5.7  5.6   ...   4.9   5.7  \n",
       "flavor   6.0  6.5  5.9  5.0  5.7  6.1  6.0  5    5.4  5.2   ...   5.1   5.2  \n",
       "Texture  6.3  6.0  6.0  4.9  5.0  6.0  5.8  4    4.9  5.4   ...   5.9   6.4  \n",
       "Moisture 6.7  5.8  7.0  5.0  6.5  6.6  6.0  5    5.0  5.8   ...   6.5   6.4  \n",
       "         [,14] [,15] [,16] [,17] [,18] [,19] [,20] [,21]\n",
       "Method   3.0   3.0   3.0   3.0   3.0   3.0   3.0   3.0  \n",
       "Aroma    4.2   6.0   5.1   4.8   5.3   4.6   4.5   4.4  \n",
       "flavor   4.6   5.3   5.2   4.6   5.4   4.4   4.0   4.2  \n",
       "Texture  5.3   5.8   6.2   5.7   6.8   5.7   5.0   5.6  \n",
       "Moisture 6.3   6.4   6.5   5.7   6.6   5.6   5.9   5.5  "
      ]
     },
     "metadata": {},
     "output_type": "display_data"
    }
   ],
   "source": [
    "data <- read.table(file = \"/Users/alexwiigs/Documents/Code/STAT 553 Assigmnents/Assignment 4/T6_17_FISH.DAT\")\n",
    "colnames(data) = c(\"Method\", \"Aroma\", \"flavor\", \"Texture\", \"Moisture\")\n",
    "n <- 12\n",
    "k <- 3\n",
    "method1 <- as.matrix(data[c(data[,1] == 1), 2:5])\n",
    "method2 <- as.matrix(data[c(data[,1] == 2), 2:5])\n",
    "method3 <- as.matrix(data[c(data[,1] == 3), 2:5])\n",
    "t(data)"
   ]
  },
  {
   "cell_type": "markdown",
   "metadata": {},
   "source": [
    "## Final exam follow along"
   ]
  },
  {
   "cell_type": "code",
   "execution_count": null,
   "metadata": {
    "vscode": {
     "languageId": "r"
    }
   },
   "outputs": [],
   "source": [
    "overall_mean <- as.matrix(colSums(data[,-1]) / (n * ni))"
   ]
  },
  {
   "cell_type": "markdown",
   "metadata": {},
   "source": [
    "## Back to the assignment"
   ]
  },
  {
   "cell_type": "markdown",
   "metadata": {},
   "source": [
    "Calculate the necessary H and E matrices:"
   ]
  },
  {
   "cell_type": "code",
   "execution_count": 3,
   "metadata": {
    "vscode": {
     "languageId": "r"
    }
   },
   "outputs": [
    {
     "data": {
      "text/html": [
       "<table class=\"dataframe\">\n",
       "<caption>A matrix: 4 × 4 of type dbl</caption>\n",
       "<thead>\n",
       "\t<tr><th scope=col>Aroma</th><th scope=col>flavor</th><th scope=col>Texture</th><th scope=col>Moisture</th></tr>\n",
       "</thead>\n",
       "<tbody>\n",
       "\t<tr><td> 1.05</td><td> 2.17</td><td>-1.38</td><td>-0.76</td></tr>\n",
       "\t<tr><td> 2.17</td><td> 4.88</td><td>-2.37</td><td>-1.26</td></tr>\n",
       "\t<tr><td>-1.38</td><td>-2.37</td><td> 2.38</td><td> 1.38</td></tr>\n",
       "\t<tr><td>-0.76</td><td>-1.26</td><td> 1.38</td><td> 0.81</td></tr>\n",
       "</tbody>\n",
       "</table>\n"
      ],
      "text/latex": [
       "A matrix: 4 × 4 of type dbl\n",
       "\\begin{tabular}{llll}\n",
       " Aroma & flavor & Texture & Moisture\\\\\n",
       "\\hline\n",
       "\t  1.05 &  2.17 & -1.38 & -0.76\\\\\n",
       "\t  2.17 &  4.88 & -2.37 & -1.26\\\\\n",
       "\t -1.38 & -2.37 &  2.38 &  1.38\\\\\n",
       "\t -0.76 & -1.26 &  1.38 &  0.81\\\\\n",
       "\\end{tabular}\n"
      ],
      "text/markdown": [
       "\n",
       "A matrix: 4 × 4 of type dbl\n",
       "\n",
       "| Aroma | flavor | Texture | Moisture |\n",
       "|---|---|---|---|\n",
       "|  1.05 |  2.17 | -1.38 | -0.76 |\n",
       "|  2.17 |  4.88 | -2.37 | -1.26 |\n",
       "| -1.38 | -2.37 |  2.38 |  1.38 |\n",
       "| -0.76 | -1.26 |  1.38 |  0.81 |\n",
       "\n"
      ],
      "text/plain": [
       "     Aroma flavor Texture Moisture\n",
       "[1,]  1.05  2.17  -1.38   -0.76   \n",
       "[2,]  2.17  4.88  -2.37   -1.26   \n",
       "[3,] -1.38 -2.37   2.38    1.38   \n",
       "[4,] -0.76 -1.26   1.38    0.81   "
      ]
     },
     "metadata": {},
     "output_type": "display_data"
    }
   ],
   "source": [
    "method. <-cbind(colSums(data[c(data[,1] ==1), 2:5]),colSums(data[c(data[,1] ==2), 2:5]),colSums(data[c(data[,1] ==3), 2:5]))\n",
    "method.. <- matrix(rowSums(method.), nrow =4, ncol =1)\n",
    "\n",
    "H <- (1/n) * (method.[,1] %*% t(method.[,1]) + method.[,2] %*% t(method.[,2]) + method.[,3] %*% t(method.[,3])) - (1 / (k *n) * method.. %*% t(method..) )\n",
    "round(H,2)\n"
   ]
  },
  {
   "cell_type": "code",
   "execution_count": 4,
   "metadata": {
    "vscode": {
     "languageId": "r"
    }
   },
   "outputs": [
    {
     "data": {
      "text/html": [
       "<table class=\"dataframe\">\n",
       "<caption>A matrix: 4 × 4 of type dbl</caption>\n",
       "<thead>\n",
       "\t<tr><th scope=col>Aroma</th><th scope=col>flavor</th><th scope=col>Texture</th><th scope=col>Moisture</th></tr>\n",
       "</thead>\n",
       "<tbody>\n",
       "\t<tr><td>13.41</td><td>7.72</td><td> 8.67</td><td> 5.86</td></tr>\n",
       "\t<tr><td> 7.72</td><td>8.48</td><td> 7.53</td><td> 6.21</td></tr>\n",
       "\t<tr><td> 8.67</td><td>7.53</td><td>11.61</td><td> 7.04</td></tr>\n",
       "\t<tr><td> 5.86</td><td>6.21</td><td> 7.04</td><td>10.57</td></tr>\n",
       "</tbody>\n",
       "</table>\n"
      ],
      "text/latex": [
       "A matrix: 4 × 4 of type dbl\n",
       "\\begin{tabular}{llll}\n",
       " Aroma & flavor & Texture & Moisture\\\\\n",
       "\\hline\n",
       "\t 13.41 & 7.72 &  8.67 &  5.86\\\\\n",
       "\t  7.72 & 8.48 &  7.53 &  6.21\\\\\n",
       "\t  8.67 & 7.53 & 11.61 &  7.04\\\\\n",
       "\t  5.86 & 6.21 &  7.04 & 10.57\\\\\n",
       "\\end{tabular}\n"
      ],
      "text/markdown": [
       "\n",
       "A matrix: 4 × 4 of type dbl\n",
       "\n",
       "| Aroma | flavor | Texture | Moisture |\n",
       "|---|---|---|---|\n",
       "| 13.41 | 7.72 |  8.67 |  5.86 |\n",
       "|  7.72 | 8.48 |  7.53 |  6.21 |\n",
       "|  8.67 | 7.53 | 11.61 |  7.04 |\n",
       "|  5.86 | 6.21 |  7.04 | 10.57 |\n",
       "\n"
      ],
      "text/plain": [
       "     Aroma flavor Texture Moisture\n",
       "[1,] 13.41 7.72    8.67    5.86   \n",
       "[2,]  7.72 8.48    7.53    6.21   \n",
       "[3,]  8.67 7.53   11.61    7.04   \n",
       "[4,]  5.86 6.21    7.04   10.57   "
      ]
     },
     "metadata": {},
     "output_type": "display_data"
    }
   ],
   "source": [
    "E <- matrix(nrow = 4, ncol = 4)\n",
    "E[,] = 0\n",
    "for (i in 1:12) {E = E + method1[i,] %*% t(method1[i,]) + method2[i,] %*% t(method2[i,]) + method3[i,] %*% t(method3[i,])}\n",
    "E = E - (1/n) * (method.[,1] %*% t(method.[,1]) + method.[,2] %*% t(method.[,2]) + method.[,3] %*% t(method.[,3]))\n",
    "round(E,2)"
   ]
  },
  {
   "cell_type": "markdown",
   "metadata": {},
   "source": [
    "**a)** Find linear discriminat functions."
   ]
  },
  {
   "cell_type": "markdown",
   "metadata": {},
   "source": [
    "$\\textbf{E}^{-1} \\textbf{H}$ is not symmetric, so we calculate the eigenvectors of the symmetric matrix $(\\textbf{U}^{-1})'\\textbf{H} \\textbf{U}^{-1}$, whose eigenvalues are the same as $\\textbf{E}^{-1} \\textbf{H}$, where $\\textbf{E} = \\textbf{U}'\\textbf{U}$ is the cholesky factoriazation of $\\textbf{E}$."
   ]
  },
  {
   "cell_type": "code",
   "execution_count": 5,
   "metadata": {
    "vscode": {
     "languageId": "r"
    }
   },
   "outputs": [
    {
     "data": {
      "text/plain": [
       "eigen() decomposition\n",
       "$values\n",
       "[1] 2.951475e+00 1.273244e-01 3.694152e-14 3.894773e-15\n",
       "\n",
       "$vectors\n",
       "           [,1]         [,2]       [,3]        [,4]\n",
       "[1,] -0.1629303 -0.001276861  0.5562488  0.81488606\n",
       "[2,] -0.4432661 -0.868333598 -0.2151256  0.05685841\n",
       "[3,]  0.8223397 -0.492125634  0.2840017 -0.03021274\n",
       "[4,]  0.3173740  0.061704881 -0.7507671  0.57603387\n"
      ]
     },
     "metadata": {},
     "output_type": "display_data"
    }
   ],
   "source": [
    "library(Matrix)\n",
    "U <- chol(E)\n",
    "eigens <- eigen( t(solve(U)) %*% H %*% solve(U) )\n",
    "eigens"
   ]
  },
  {
   "cell_type": "markdown",
   "metadata": {},
   "source": [
    "if $\\textbf{b}$ is an eigenvector of $(\\textbf{U}^{-1})'\\textbf{H} \\textbf{U}^{-1}$, then $\\textbf{a} = \\textbf{U}^{-1}\\textbf{b}$ is an eigenvector of $\\textbf{E}^{-1}\\textbf{H}$. we have two nonzero eigenvalues, so from the two accompanying eigenvectors we obtain our discriminant functions."
   ]
  },
  {
   "cell_type": "code",
   "execution_count": 6,
   "metadata": {
    "vscode": {
     "languageId": "r"
    }
   },
   "outputs": [
    {
     "data": {
      "text/html": [
       "<table class=\"dataframe\">\n",
       "<caption>A matrix: 2 × 4 of type dbl</caption>\n",
       "<tbody>\n",
       "\t<tr><th scope=row>a1'</th><td> 0.021</td><td>0.533</td><td>-0.347</td><td>-0.135</td></tr>\n",
       "\t<tr><th scope=row>a2'</th><td>-0.317</td><td>0.298</td><td> 0.243</td><td>-0.026</td></tr>\n",
       "</tbody>\n",
       "</table>\n"
      ],
      "text/latex": [
       "A matrix: 2 × 4 of type dbl\n",
       "\\begin{tabular}{r|llll}\n",
       "\ta1' &  0.021 & 0.533 & -0.347 & -0.135\\\\\n",
       "\ta2' & -0.317 & 0.298 &  0.243 & -0.026\\\\\n",
       "\\end{tabular}\n"
      ],
      "text/markdown": [
       "\n",
       "A matrix: 2 × 4 of type dbl\n",
       "\n",
       "| a1' |  0.021 | 0.533 | -0.347 | -0.135 |\n",
       "| a2' | -0.317 | 0.298 |  0.243 | -0.026 |\n",
       "\n"
      ],
      "text/plain": [
       "    [,1]   [,2]  [,3]   [,4]  \n",
       "a1'  0.021 0.533 -0.347 -0.135\n",
       "a2' -0.317 0.298  0.243 -0.026"
      ]
     },
     "metadata": {},
     "output_type": "display_data"
    }
   ],
   "source": [
    "a <- unname( cbind( -solve(U) %*% eigens$vectors[,1], -solve(U) %*% eigens$vectors[,2]) )\n",
    "colnames(a) <- c(\"a1'\", \"a2'\")\n",
    "t(round(a,3))"
   ]
  },
  {
   "cell_type": "markdown",
   "metadata": {},
   "source": [
    "where $$z_i = \\textbf{a}_i' \\textbf{y}$$"
   ]
  },
  {
   "cell_type": "markdown",
   "metadata": {},
   "source": [
    "**b)** Find the relative importance of each discriminant function."
   ]
  },
  {
   "cell_type": "markdown",
   "metadata": {},
   "source": [
    "The realtive importance of each discriminant function is found with the formula:\n",
    "$$\\frac{\\lambda_i}{\\sum_{j=1}^s \\lambda_j}$$\n",
    "where $\\lambda_i$ is the eigenvalue of the accompanying discriminant function."
   ]
  },
  {
   "cell_type": "code",
   "execution_count": 7,
   "metadata": {
    "vscode": {
     "languageId": "r"
    }
   },
   "outputs": [
    {
     "data": {
      "text/html": [
       "<table class=\"dataframe\">\n",
       "<caption>A matrix: 1 × 2 of type dbl</caption>\n",
       "<thead>\n",
       "\t<tr><th></th><th scope=col>z1</th><th scope=col>z2</th></tr>\n",
       "</thead>\n",
       "<tbody>\n",
       "\t<tr><th scope=row>Relative Importance:</th><td>0.9586</td><td>0.0414</td></tr>\n",
       "</tbody>\n",
       "</table>\n"
      ],
      "text/latex": [
       "A matrix: 1 × 2 of type dbl\n",
       "\\begin{tabular}{r|ll}\n",
       "  & z1 & z2\\\\\n",
       "\\hline\n",
       "\tRelative Importance: & 0.9586 & 0.0414\\\\\n",
       "\\end{tabular}\n"
      ],
      "text/markdown": [
       "\n",
       "A matrix: 1 × 2 of type dbl\n",
       "\n",
       "| <!--/--> | z1 | z2 |\n",
       "|---|---|---|\n",
       "| Relative Importance: | 0.9586 | 0.0414 |\n",
       "\n"
      ],
      "text/plain": [
       "                     z1     z2    \n",
       "Relative Importance: 0.9586 0.0414"
      ]
     },
     "metadata": {},
     "output_type": "display_data"
    }
   ],
   "source": [
    "Importance <- cbind(eigens$values[1] / ( eigens$values[1] + eigens$values[2] ), eigens$values[2] / ( eigens$values[1] + eigens$values[2] ) )\n",
    "colnames(Importance) <- c(\"z1\", \"z2\")\n",
    "rownames(Importance) <- c(\"Relative Importance:\")\n",
    "round(Importance,4)\n"
   ]
  },
  {
   "cell_type": "markdown",
   "metadata": {},
   "source": [
    "We see that $z_1$ accounts for about 96% of the group differences, while $z_2$ accounts for about 4%."
   ]
  },
  {
   "cell_type": "markdown",
   "metadata": {},
   "source": [
    "**c)** Plot the first two disciminant functions to show the group separation for three methods. "
   ]
  },
  {
   "cell_type": "code",
   "execution_count": 8,
   "metadata": {
    "vscode": {
     "languageId": "r"
    }
   },
   "outputs": [
    {
     "data": {
      "image/png": "[encoded data removed]",
      "text/plain": [
       "plot without title"
      ]
     },
     "metadata": {
      "image/png": {
       "height": 420,
       "width": 420
      }
     },
     "output_type": "display_data"
    }
   ],
   "source": [
    "z1 <- t(a[,1]) %*% t(data[,-1])\n",
    "z2 <- t(a[,2]) %*% t(data[,-1])\n",
    "plot(z1,z2, col = data$Method )"
   ]
  },
  {
   "cell_type": "markdown",
   "metadata": {},
   "source": [
    "Plotting shows group seperation (marked by different colours) and the graph shows what we would expect given the group importance of each discriminant function."
   ]
  }
 ],
 "metadata": {
  "kernelspec": {
   "display_name": "R",
   "language": "R",
   "name": "ir"
  },
  "language_info": {
   "codemirror_mode": "r",
   "file_extension": ".r",
   "mimetype": "text/x-r-source",
   "name": "R",
   "pygments_lexer": "r",
   "version": "4.3.1"
  }
 },
 "nbformat": 4,
 "nbformat_minor": 2
}
