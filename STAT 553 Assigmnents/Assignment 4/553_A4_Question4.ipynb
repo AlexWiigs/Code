{
 "cells": [
  {
   "cell_type": "markdown",
   "metadata": {},
   "source": [
    "# Question 4"
   ]
  },
  {
   "cell_type": "markdown",
   "metadata": {},
   "source": [
    "Consider discriminant analysis for several groups. Let $\\textbf{E}$ and $\\textbf{H}$ be the \"within\" and \"between\" matrices respectively. The discriminant functions are obtained using the eigenvectors of $\\textbf{E}^{-1} \\textbf{H}$."
   ]
  },
  {
   "cell_type": "markdown",
   "metadata": {},
   "source": [
    "**a)** Show that the eigenvalues of $\\textbf{E}^{-1} \\textbf{H}$ are the same as those of $\\textbf{E}^{-1/2} \\textbf{H} \\textbf{E}^{-1/2}$."
   ]
  },
  {
   "cell_type": "markdown",
   "metadata": {},
   "source": [
    "Let $\\lambda$ be any eigenvalue of $\\textbf{E}^{-1/2} \\textbf{H} \\textbf{E}^{-1/2}$. There must exist an accompanying eigevector $\\textbf{a}$ such that:  \n",
    "$$ \\textbf{E}^{-1/2} \\textbf{H} \\textbf{E}^{-1/2} \\textbf{a} = \\lambda \\textbf{a}$$\n",
    "Applying some matrix operations we see that:\n",
    "$$\\textbf{E}^{1/2} \\textbf{E}^{-1/2} \\textbf{H} \\textbf{E}^{-1/2} \\textbf{a} = \\lambda \\textbf{E}^{-1/2} \\textbf{a}$$\n",
    "$$ \\implies \\textbf{E}^{-1} \\textbf{H}  \\tilde{\\textbf{a}} = \\lambda \\tilde{\\textbf{a}} $$  \n",
    "\n",
    "Where $\\tilde{\\textbf{a}} = \\textbf{E}^{-1/2} \\textbf{a}$ is an eigenvector of $\\textbf{E}^{-1} \\textbf{H}$ and we retain the eigenvalue $\\lambda$, as desired. Since we chose $\\lambda$ arbitrarily we conclude that the eigenvalues of $\\textbf{E}^{-1} \\textbf{H}$ and $\\textbf{E}^{-1/2} \\textbf{H} \\textbf{E}^{-1/2}$ are the same."
   ]
  },
  {
   "cell_type": "markdown",
   "metadata": {},
   "source": [
    "**b)** Let $A = (\\textbf{a}_1,...,\\textbf{a}_s)$ Are the columns of A orthogonal?"
   ]
  },
  {
   "cell_type": "markdown",
   "metadata": {},
   "source": [
    "In order for the columns of $A$ to be orthoghonal it must be that case that they are normalised and mutually exclusive. implying:  \n",
    "$$a'_ia_i = 1$$\n",
    "and \n",
    "$$a'_i a_j = 0$$\n",
    "The eigenvectors of a $n\\times n$ normalized symmetric matrix are mutually orthogonal and have this quality. The discriminant functions are uncorrelated but are not orthogonal because $\\textbf{E}^{-1}\\textbf{H}$ is not symmetric. Therefore the columns of $\\textbf{A}$ are not orthogonal.  \n",
    "*See page 289 of Methods of Multivariate Analysis, Rencher*"
   ]
  }
 ],
 "metadata": {
  "kernelspec": {
   "display_name": "R",
   "language": "R",
   "name": "ir"
  },
  "language_info": {
   "name": "R"
  }
 },
 "nbformat": 4,
 "nbformat_minor": 2
}
